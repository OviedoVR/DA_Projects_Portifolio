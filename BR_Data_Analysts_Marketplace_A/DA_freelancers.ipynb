{
  "nbformat": 4,
  "nbformat_minor": 0,
  "metadata": {
    "colab": {
      "name": "DA_freelancers.ipynb",
      "provenance": []
    },
    "kernelspec": {
      "name": "python3",
      "display_name": "Python 3"
    },
    "language_info": {
      "name": "python"
    }
  },
  "cells": [
    {
      "cell_type": "markdown",
      "source": [
        "# **Imports**"
      ],
      "metadata": {
        "id": "1fuAUG5qZzOF"
      }
    },
    {
      "cell_type": "code",
      "execution_count": null,
      "metadata": {
        "id": "A4CGKPnlZwga"
      },
      "outputs": [],
      "source": [
        "import numpy as np\n",
        "import pandas as pd\n",
        "import matplotlib.pyplot as plt\n",
        "import seaborn as sns\n",
        "from IPython import display\n",
        "display.set_matplotlib_formats('svg')\n",
        "from pylab import *\n",
        "rc('axes', lw=1.5)"
      ]
    },
    {
      "cell_type": "markdown",
      "source": [
        "# **Data collection**"
      ],
      "metadata": {
        "id": "i5_zqRLHZ822"
      }
    },
    {
      "cell_type": "code",
      "source": [
        "google_seet_id = '1CqpZYPeQSv3BS9qB4wZauha1I8XB8ZVCVZ8w7O4bXmU'\n",
        "workseet_name = 'Raw'\n",
        "\n",
        "# Google Sheets shared by URL\n",
        "URL = 'https://docs.google.com/spreadsheets/d/{0}/gviz/tq?tqx=out:csv&sheet={1}'.format(\n",
        "\tgoogle_seet_id,\n",
        "\tworkseet_name\n",
        ")\n",
        "\n",
        "dataset = pd.read_csv(URL)\n",
        "dataset.head()"
      ],
      "metadata": {
        "colab": {
          "base_uri": "https://localhost:8080/",
          "height": 206
        },
        "id": "CdWDEYcgaW4F",
        "outputId": "d55b7080-c408-427a-90e5-2e250ad17142"
      },
      "execution_count": null,
      "outputs": [
        {
          "output_type": "execute_result",
          "data": {
            "text/plain": [
              "  Professional_ID Hourly_rate Amount_earned Client_satisfaction Top_rated\n",
              "0              #1      $40,00       $300,00                 NaN        no\n",
              "1              #2      $10,00     $8.000,00                100%       yes\n",
              "2              #3      $30,00    $10.000,00                100%       yes\n",
              "3              #4      $15,00       $300,00                 NaN        no\n",
              "4              #5       $5,00        $20,00                 NaN        no"
            ],
            "text/html": [
              "\n",
              "  <div id=\"df-a08f7132-9bf7-4364-ab98-87714d58e0ca\">\n",
              "    <div class=\"colab-df-container\">\n",
              "      <div>\n",
              "<style scoped>\n",
              "    .dataframe tbody tr th:only-of-type {\n",
              "        vertical-align: middle;\n",
              "    }\n",
              "\n",
              "    .dataframe tbody tr th {\n",
              "        vertical-align: top;\n",
              "    }\n",
              "\n",
              "    .dataframe thead th {\n",
              "        text-align: right;\n",
              "    }\n",
              "</style>\n",
              "<table border=\"1\" class=\"dataframe\">\n",
              "  <thead>\n",
              "    <tr style=\"text-align: right;\">\n",
              "      <th></th>\n",
              "      <th>Professional_ID</th>\n",
              "      <th>Hourly_rate</th>\n",
              "      <th>Amount_earned</th>\n",
              "      <th>Client_satisfaction</th>\n",
              "      <th>Top_rated</th>\n",
              "    </tr>\n",
              "  </thead>\n",
              "  <tbody>\n",
              "    <tr>\n",
              "      <th>0</th>\n",
              "      <td>#1</td>\n",
              "      <td>$40,00</td>\n",
              "      <td>$300,00</td>\n",
              "      <td>NaN</td>\n",
              "      <td>no</td>\n",
              "    </tr>\n",
              "    <tr>\n",
              "      <th>1</th>\n",
              "      <td>#2</td>\n",
              "      <td>$10,00</td>\n",
              "      <td>$8.000,00</td>\n",
              "      <td>100%</td>\n",
              "      <td>yes</td>\n",
              "    </tr>\n",
              "    <tr>\n",
              "      <th>2</th>\n",
              "      <td>#3</td>\n",
              "      <td>$30,00</td>\n",
              "      <td>$10.000,00</td>\n",
              "      <td>100%</td>\n",
              "      <td>yes</td>\n",
              "    </tr>\n",
              "    <tr>\n",
              "      <th>3</th>\n",
              "      <td>#4</td>\n",
              "      <td>$15,00</td>\n",
              "      <td>$300,00</td>\n",
              "      <td>NaN</td>\n",
              "      <td>no</td>\n",
              "    </tr>\n",
              "    <tr>\n",
              "      <th>4</th>\n",
              "      <td>#5</td>\n",
              "      <td>$5,00</td>\n",
              "      <td>$20,00</td>\n",
              "      <td>NaN</td>\n",
              "      <td>no</td>\n",
              "    </tr>\n",
              "  </tbody>\n",
              "</table>\n",
              "</div>\n",
              "      <button class=\"colab-df-convert\" onclick=\"convertToInteractive('df-a08f7132-9bf7-4364-ab98-87714d58e0ca')\"\n",
              "              title=\"Convert this dataframe to an interactive table.\"\n",
              "              style=\"display:none;\">\n",
              "        \n",
              "  <svg xmlns=\"http://www.w3.org/2000/svg\" height=\"24px\"viewBox=\"0 0 24 24\"\n",
              "       width=\"24px\">\n",
              "    <path d=\"M0 0h24v24H0V0z\" fill=\"none\"/>\n",
              "    <path d=\"M18.56 5.44l.94 2.06.94-2.06 2.06-.94-2.06-.94-.94-2.06-.94 2.06-2.06.94zm-11 1L8.5 8.5l.94-2.06 2.06-.94-2.06-.94L8.5 2.5l-.94 2.06-2.06.94zm10 10l.94 2.06.94-2.06 2.06-.94-2.06-.94-.94-2.06-.94 2.06-2.06.94z\"/><path d=\"M17.41 7.96l-1.37-1.37c-.4-.4-.92-.59-1.43-.59-.52 0-1.04.2-1.43.59L10.3 9.45l-7.72 7.72c-.78.78-.78 2.05 0 2.83L4 21.41c.39.39.9.59 1.41.59.51 0 1.02-.2 1.41-.59l7.78-7.78 2.81-2.81c.8-.78.8-2.07 0-2.86zM5.41 20L4 18.59l7.72-7.72 1.47 1.35L5.41 20z\"/>\n",
              "  </svg>\n",
              "      </button>\n",
              "      \n",
              "  <style>\n",
              "    .colab-df-container {\n",
              "      display:flex;\n",
              "      flex-wrap:wrap;\n",
              "      gap: 12px;\n",
              "    }\n",
              "\n",
              "    .colab-df-convert {\n",
              "      background-color: #E8F0FE;\n",
              "      border: none;\n",
              "      border-radius: 50%;\n",
              "      cursor: pointer;\n",
              "      display: none;\n",
              "      fill: #1967D2;\n",
              "      height: 32px;\n",
              "      padding: 0 0 0 0;\n",
              "      width: 32px;\n",
              "    }\n",
              "\n",
              "    .colab-df-convert:hover {\n",
              "      background-color: #E2EBFA;\n",
              "      box-shadow: 0px 1px 2px rgba(60, 64, 67, 0.3), 0px 1px 3px 1px rgba(60, 64, 67, 0.15);\n",
              "      fill: #174EA6;\n",
              "    }\n",
              "\n",
              "    [theme=dark] .colab-df-convert {\n",
              "      background-color: #3B4455;\n",
              "      fill: #D2E3FC;\n",
              "    }\n",
              "\n",
              "    [theme=dark] .colab-df-convert:hover {\n",
              "      background-color: #434B5C;\n",
              "      box-shadow: 0px 1px 3px 1px rgba(0, 0, 0, 0.15);\n",
              "      filter: drop-shadow(0px 1px 2px rgba(0, 0, 0, 0.3));\n",
              "      fill: #FFFFFF;\n",
              "    }\n",
              "  </style>\n",
              "\n",
              "      <script>\n",
              "        const buttonEl =\n",
              "          document.querySelector('#df-a08f7132-9bf7-4364-ab98-87714d58e0ca button.colab-df-convert');\n",
              "        buttonEl.style.display =\n",
              "          google.colab.kernel.accessAllowed ? 'block' : 'none';\n",
              "\n",
              "        async function convertToInteractive(key) {\n",
              "          const element = document.querySelector('#df-a08f7132-9bf7-4364-ab98-87714d58e0ca');\n",
              "          const dataTable =\n",
              "            await google.colab.kernel.invokeFunction('convertToInteractive',\n",
              "                                                     [key], {});\n",
              "          if (!dataTable) return;\n",
              "\n",
              "          const docLinkHtml = 'Like what you see? Visit the ' +\n",
              "            '<a target=\"_blank\" href=https://colab.research.google.com/notebooks/data_table.ipynb>data table notebook</a>'\n",
              "            + ' to learn more about interactive tables.';\n",
              "          element.innerHTML = '';\n",
              "          dataTable['output_type'] = 'display_data';\n",
              "          await google.colab.output.renderOutput(dataTable, element);\n",
              "          const docLink = document.createElement('div');\n",
              "          docLink.innerHTML = docLinkHtml;\n",
              "          element.appendChild(docLink);\n",
              "        }\n",
              "      </script>\n",
              "    </div>\n",
              "  </div>\n",
              "  "
            ]
          },
          "metadata": {},
          "execution_count": 113
        }
      ]
    },
    {
      "cell_type": "markdown",
      "source": [
        "# **Data Manipulation**"
      ],
      "metadata": {
        "id": "QPd8pavlbMNy"
      }
    },
    {
      "cell_type": "code",
      "source": [
        "dataset.info()"
      ],
      "metadata": {
        "colab": {
          "base_uri": "https://localhost:8080/"
        },
        "id": "0B2ki2-FbM2n",
        "outputId": "6bdcecf5-95db-491d-db24-27b66caa3d50"
      },
      "execution_count": null,
      "outputs": [
        {
          "output_type": "stream",
          "name": "stdout",
          "text": [
            "<class 'pandas.core.frame.DataFrame'>\n",
            "RangeIndex: 101 entries, 0 to 100\n",
            "Data columns (total 5 columns):\n",
            " #   Column               Non-Null Count  Dtype \n",
            "---  ------               --------------  ----- \n",
            " 0   Professional_ID      101 non-null    object\n",
            " 1   Hourly_rate          101 non-null    object\n",
            " 2   Amount_earned        101 non-null    object\n",
            " 3   Client_satisfaction  31 non-null     object\n",
            " 4   Top_rated            101 non-null    object\n",
            "dtypes: object(5)\n",
            "memory usage: 4.1+ KB\n"
          ]
        }
      ]
    },
    {
      "cell_type": "markdown",
      "source": [
        "# **Data Manipulation**"
      ],
      "metadata": {
        "id": "pFgtXzIQbHof"
      }
    },
    {
      "cell_type": "code",
      "source": [
        "dataset.isna().sum() / len(dataset) * 100"
      ],
      "metadata": {
        "colab": {
          "base_uri": "https://localhost:8080/"
        },
        "id": "DfBYg1dfbFM_",
        "outputId": "3b9bd109-1b87-47f8-8e44-21ce008fe8ea"
      },
      "execution_count": null,
      "outputs": [
        {
          "output_type": "execute_result",
          "data": {
            "text/plain": [
              "Professional_ID         0.000000\n",
              "Hourly_rate             0.000000\n",
              "Amount_earned           0.000000\n",
              "Client_satisfaction    69.306931\n",
              "Top_rated               0.000000\n",
              "dtype: float64"
            ]
          },
          "metadata": {},
          "execution_count": 115
        }
      ]
    },
    {
      "cell_type": "markdown",
      "source": [
        "> **Client staisfaction information has 69% of missing data, what is highly relevant**."
      ],
      "metadata": {
        "id": "EQU7k3UYbpps"
      }
    },
    {
      "cell_type": "markdown",
      "source": [
        "## **Data wrangling**"
      ],
      "metadata": {
        "id": "sb3kv5Lzb0i3"
      }
    },
    {
      "cell_type": "code",
      "source": [
        "dataset.head(3)"
      ],
      "metadata": {
        "colab": {
          "base_uri": "https://localhost:8080/",
          "height": 143
        },
        "id": "hWxGRiK-b0KF",
        "outputId": "2cf3eae8-0e00-4e73-d294-171f99df15a8"
      },
      "execution_count": null,
      "outputs": [
        {
          "output_type": "execute_result",
          "data": {
            "text/plain": [
              "  Professional_ID Hourly_rate Amount_earned Client_satisfaction Top_rated\n",
              "0              #1      $40,00       $300,00                 NaN        no\n",
              "1              #2      $10,00     $8.000,00                100%       yes\n",
              "2              #3      $30,00    $10.000,00                100%       yes"
            ],
            "text/html": [
              "\n",
              "  <div id=\"df-30a714b4-99d5-456f-b060-6d935ee718df\">\n",
              "    <div class=\"colab-df-container\">\n",
              "      <div>\n",
              "<style scoped>\n",
              "    .dataframe tbody tr th:only-of-type {\n",
              "        vertical-align: middle;\n",
              "    }\n",
              "\n",
              "    .dataframe tbody tr th {\n",
              "        vertical-align: top;\n",
              "    }\n",
              "\n",
              "    .dataframe thead th {\n",
              "        text-align: right;\n",
              "    }\n",
              "</style>\n",
              "<table border=\"1\" class=\"dataframe\">\n",
              "  <thead>\n",
              "    <tr style=\"text-align: right;\">\n",
              "      <th></th>\n",
              "      <th>Professional_ID</th>\n",
              "      <th>Hourly_rate</th>\n",
              "      <th>Amount_earned</th>\n",
              "      <th>Client_satisfaction</th>\n",
              "      <th>Top_rated</th>\n",
              "    </tr>\n",
              "  </thead>\n",
              "  <tbody>\n",
              "    <tr>\n",
              "      <th>0</th>\n",
              "      <td>#1</td>\n",
              "      <td>$40,00</td>\n",
              "      <td>$300,00</td>\n",
              "      <td>NaN</td>\n",
              "      <td>no</td>\n",
              "    </tr>\n",
              "    <tr>\n",
              "      <th>1</th>\n",
              "      <td>#2</td>\n",
              "      <td>$10,00</td>\n",
              "      <td>$8.000,00</td>\n",
              "      <td>100%</td>\n",
              "      <td>yes</td>\n",
              "    </tr>\n",
              "    <tr>\n",
              "      <th>2</th>\n",
              "      <td>#3</td>\n",
              "      <td>$30,00</td>\n",
              "      <td>$10.000,00</td>\n",
              "      <td>100%</td>\n",
              "      <td>yes</td>\n",
              "    </tr>\n",
              "  </tbody>\n",
              "</table>\n",
              "</div>\n",
              "      <button class=\"colab-df-convert\" onclick=\"convertToInteractive('df-30a714b4-99d5-456f-b060-6d935ee718df')\"\n",
              "              title=\"Convert this dataframe to an interactive table.\"\n",
              "              style=\"display:none;\">\n",
              "        \n",
              "  <svg xmlns=\"http://www.w3.org/2000/svg\" height=\"24px\"viewBox=\"0 0 24 24\"\n",
              "       width=\"24px\">\n",
              "    <path d=\"M0 0h24v24H0V0z\" fill=\"none\"/>\n",
              "    <path d=\"M18.56 5.44l.94 2.06.94-2.06 2.06-.94-2.06-.94-.94-2.06-.94 2.06-2.06.94zm-11 1L8.5 8.5l.94-2.06 2.06-.94-2.06-.94L8.5 2.5l-.94 2.06-2.06.94zm10 10l.94 2.06.94-2.06 2.06-.94-2.06-.94-.94-2.06-.94 2.06-2.06.94z\"/><path d=\"M17.41 7.96l-1.37-1.37c-.4-.4-.92-.59-1.43-.59-.52 0-1.04.2-1.43.59L10.3 9.45l-7.72 7.72c-.78.78-.78 2.05 0 2.83L4 21.41c.39.39.9.59 1.41.59.51 0 1.02-.2 1.41-.59l7.78-7.78 2.81-2.81c.8-.78.8-2.07 0-2.86zM5.41 20L4 18.59l7.72-7.72 1.47 1.35L5.41 20z\"/>\n",
              "  </svg>\n",
              "      </button>\n",
              "      \n",
              "  <style>\n",
              "    .colab-df-container {\n",
              "      display:flex;\n",
              "      flex-wrap:wrap;\n",
              "      gap: 12px;\n",
              "    }\n",
              "\n",
              "    .colab-df-convert {\n",
              "      background-color: #E8F0FE;\n",
              "      border: none;\n",
              "      border-radius: 50%;\n",
              "      cursor: pointer;\n",
              "      display: none;\n",
              "      fill: #1967D2;\n",
              "      height: 32px;\n",
              "      padding: 0 0 0 0;\n",
              "      width: 32px;\n",
              "    }\n",
              "\n",
              "    .colab-df-convert:hover {\n",
              "      background-color: #E2EBFA;\n",
              "      box-shadow: 0px 1px 2px rgba(60, 64, 67, 0.3), 0px 1px 3px 1px rgba(60, 64, 67, 0.15);\n",
              "      fill: #174EA6;\n",
              "    }\n",
              "\n",
              "    [theme=dark] .colab-df-convert {\n",
              "      background-color: #3B4455;\n",
              "      fill: #D2E3FC;\n",
              "    }\n",
              "\n",
              "    [theme=dark] .colab-df-convert:hover {\n",
              "      background-color: #434B5C;\n",
              "      box-shadow: 0px 1px 3px 1px rgba(0, 0, 0, 0.15);\n",
              "      filter: drop-shadow(0px 1px 2px rgba(0, 0, 0, 0.3));\n",
              "      fill: #FFFFFF;\n",
              "    }\n",
              "  </style>\n",
              "\n",
              "      <script>\n",
              "        const buttonEl =\n",
              "          document.querySelector('#df-30a714b4-99d5-456f-b060-6d935ee718df button.colab-df-convert');\n",
              "        buttonEl.style.display =\n",
              "          google.colab.kernel.accessAllowed ? 'block' : 'none';\n",
              "\n",
              "        async function convertToInteractive(key) {\n",
              "          const element = document.querySelector('#df-30a714b4-99d5-456f-b060-6d935ee718df');\n",
              "          const dataTable =\n",
              "            await google.colab.kernel.invokeFunction('convertToInteractive',\n",
              "                                                     [key], {});\n",
              "          if (!dataTable) return;\n",
              "\n",
              "          const docLinkHtml = 'Like what you see? Visit the ' +\n",
              "            '<a target=\"_blank\" href=https://colab.research.google.com/notebooks/data_table.ipynb>data table notebook</a>'\n",
              "            + ' to learn more about interactive tables.';\n",
              "          element.innerHTML = '';\n",
              "          dataTable['output_type'] = 'display_data';\n",
              "          await google.colab.output.renderOutput(dataTable, element);\n",
              "          const docLink = document.createElement('div');\n",
              "          docLink.innerHTML = docLinkHtml;\n",
              "          element.appendChild(docLink);\n",
              "        }\n",
              "      </script>\n",
              "    </div>\n",
              "  </div>\n",
              "  "
            ]
          },
          "metadata": {},
          "execution_count": 116
        }
      ]
    },
    {
      "cell_type": "markdown",
      "source": [
        "> **Eliminating special characters**"
      ],
      "metadata": {
        "id": "vKiXwDtacKzr"
      }
    },
    {
      "cell_type": "code",
      "source": [
        "dataset['Professional_ID'] = dataset['Professional_ID'].apply(lambda value: value.replace('#', ''))\n",
        "dataset['Hourly_rate'] = dataset['Hourly_rate'].apply(lambda value: value.replace('$', '').replace(',','.'))\n",
        "dataset['Amount_earned'] = dataset['Amount_earned'].apply(lambda value: value.replace('$', '').replace('.','').replace(',','.'))\n",
        "dataset.drop('Client_satisfaction', axis=1, inplace=True)"
      ],
      "metadata": {
        "id": "Uwt95JPLb6cb"
      },
      "execution_count": null,
      "outputs": []
    },
    {
      "cell_type": "markdown",
      "source": [
        "> **Checking**"
      ],
      "metadata": {
        "id": "wQ9CpCIvdFfL"
      }
    },
    {
      "cell_type": "code",
      "source": [
        "dataset.head(3)"
      ],
      "metadata": {
        "colab": {
          "base_uri": "https://localhost:8080/",
          "height": 143
        },
        "id": "RGXeNfirdH8C",
        "outputId": "0bb59115-b7fb-45bb-9f1b-878e9503486d"
      },
      "execution_count": null,
      "outputs": [
        {
          "output_type": "execute_result",
          "data": {
            "text/plain": [
              "  Professional_ID Hourly_rate Amount_earned Top_rated\n",
              "0               1       40.00        300.00        no\n",
              "1               2       10.00       8000.00       yes\n",
              "2               3       30.00      10000.00       yes"
            ],
            "text/html": [
              "\n",
              "  <div id=\"df-6abc6e9c-668d-414a-9803-417df45a9a9e\">\n",
              "    <div class=\"colab-df-container\">\n",
              "      <div>\n",
              "<style scoped>\n",
              "    .dataframe tbody tr th:only-of-type {\n",
              "        vertical-align: middle;\n",
              "    }\n",
              "\n",
              "    .dataframe tbody tr th {\n",
              "        vertical-align: top;\n",
              "    }\n",
              "\n",
              "    .dataframe thead th {\n",
              "        text-align: right;\n",
              "    }\n",
              "</style>\n",
              "<table border=\"1\" class=\"dataframe\">\n",
              "  <thead>\n",
              "    <tr style=\"text-align: right;\">\n",
              "      <th></th>\n",
              "      <th>Professional_ID</th>\n",
              "      <th>Hourly_rate</th>\n",
              "      <th>Amount_earned</th>\n",
              "      <th>Top_rated</th>\n",
              "    </tr>\n",
              "  </thead>\n",
              "  <tbody>\n",
              "    <tr>\n",
              "      <th>0</th>\n",
              "      <td>1</td>\n",
              "      <td>40.00</td>\n",
              "      <td>300.00</td>\n",
              "      <td>no</td>\n",
              "    </tr>\n",
              "    <tr>\n",
              "      <th>1</th>\n",
              "      <td>2</td>\n",
              "      <td>10.00</td>\n",
              "      <td>8000.00</td>\n",
              "      <td>yes</td>\n",
              "    </tr>\n",
              "    <tr>\n",
              "      <th>2</th>\n",
              "      <td>3</td>\n",
              "      <td>30.00</td>\n",
              "      <td>10000.00</td>\n",
              "      <td>yes</td>\n",
              "    </tr>\n",
              "  </tbody>\n",
              "</table>\n",
              "</div>\n",
              "      <button class=\"colab-df-convert\" onclick=\"convertToInteractive('df-6abc6e9c-668d-414a-9803-417df45a9a9e')\"\n",
              "              title=\"Convert this dataframe to an interactive table.\"\n",
              "              style=\"display:none;\">\n",
              "        \n",
              "  <svg xmlns=\"http://www.w3.org/2000/svg\" height=\"24px\"viewBox=\"0 0 24 24\"\n",
              "       width=\"24px\">\n",
              "    <path d=\"M0 0h24v24H0V0z\" fill=\"none\"/>\n",
              "    <path d=\"M18.56 5.44l.94 2.06.94-2.06 2.06-.94-2.06-.94-.94-2.06-.94 2.06-2.06.94zm-11 1L8.5 8.5l.94-2.06 2.06-.94-2.06-.94L8.5 2.5l-.94 2.06-2.06.94zm10 10l.94 2.06.94-2.06 2.06-.94-2.06-.94-.94-2.06-.94 2.06-2.06.94z\"/><path d=\"M17.41 7.96l-1.37-1.37c-.4-.4-.92-.59-1.43-.59-.52 0-1.04.2-1.43.59L10.3 9.45l-7.72 7.72c-.78.78-.78 2.05 0 2.83L4 21.41c.39.39.9.59 1.41.59.51 0 1.02-.2 1.41-.59l7.78-7.78 2.81-2.81c.8-.78.8-2.07 0-2.86zM5.41 20L4 18.59l7.72-7.72 1.47 1.35L5.41 20z\"/>\n",
              "  </svg>\n",
              "      </button>\n",
              "      \n",
              "  <style>\n",
              "    .colab-df-container {\n",
              "      display:flex;\n",
              "      flex-wrap:wrap;\n",
              "      gap: 12px;\n",
              "    }\n",
              "\n",
              "    .colab-df-convert {\n",
              "      background-color: #E8F0FE;\n",
              "      border: none;\n",
              "      border-radius: 50%;\n",
              "      cursor: pointer;\n",
              "      display: none;\n",
              "      fill: #1967D2;\n",
              "      height: 32px;\n",
              "      padding: 0 0 0 0;\n",
              "      width: 32px;\n",
              "    }\n",
              "\n",
              "    .colab-df-convert:hover {\n",
              "      background-color: #E2EBFA;\n",
              "      box-shadow: 0px 1px 2px rgba(60, 64, 67, 0.3), 0px 1px 3px 1px rgba(60, 64, 67, 0.15);\n",
              "      fill: #174EA6;\n",
              "    }\n",
              "\n",
              "    [theme=dark] .colab-df-convert {\n",
              "      background-color: #3B4455;\n",
              "      fill: #D2E3FC;\n",
              "    }\n",
              "\n",
              "    [theme=dark] .colab-df-convert:hover {\n",
              "      background-color: #434B5C;\n",
              "      box-shadow: 0px 1px 3px 1px rgba(0, 0, 0, 0.15);\n",
              "      filter: drop-shadow(0px 1px 2px rgba(0, 0, 0, 0.3));\n",
              "      fill: #FFFFFF;\n",
              "    }\n",
              "  </style>\n",
              "\n",
              "      <script>\n",
              "        const buttonEl =\n",
              "          document.querySelector('#df-6abc6e9c-668d-414a-9803-417df45a9a9e button.colab-df-convert');\n",
              "        buttonEl.style.display =\n",
              "          google.colab.kernel.accessAllowed ? 'block' : 'none';\n",
              "\n",
              "        async function convertToInteractive(key) {\n",
              "          const element = document.querySelector('#df-6abc6e9c-668d-414a-9803-417df45a9a9e');\n",
              "          const dataTable =\n",
              "            await google.colab.kernel.invokeFunction('convertToInteractive',\n",
              "                                                     [key], {});\n",
              "          if (!dataTable) return;\n",
              "\n",
              "          const docLinkHtml = 'Like what you see? Visit the ' +\n",
              "            '<a target=\"_blank\" href=https://colab.research.google.com/notebooks/data_table.ipynb>data table notebook</a>'\n",
              "            + ' to learn more about interactive tables.';\n",
              "          element.innerHTML = '';\n",
              "          dataTable['output_type'] = 'display_data';\n",
              "          await google.colab.output.renderOutput(dataTable, element);\n",
              "          const docLink = document.createElement('div');\n",
              "          docLink.innerHTML = docLinkHtml;\n",
              "          element.appendChild(docLink);\n",
              "        }\n",
              "      </script>\n",
              "    </div>\n",
              "  </div>\n",
              "  "
            ]
          },
          "metadata": {},
          "execution_count": 118
        }
      ]
    },
    {
      "cell_type": "markdown",
      "source": [
        "> **Evaluating the type of each feature**"
      ],
      "metadata": {
        "id": "khrV2VcGdrAu"
      }
    },
    {
      "cell_type": "code",
      "source": [
        "dataset.info()"
      ],
      "metadata": {
        "colab": {
          "base_uri": "https://localhost:8080/"
        },
        "id": "FcqVo7jhdYke",
        "outputId": "fd3c5a86-eaa7-45a2-acb9-62b9d9e2f6db"
      },
      "execution_count": null,
      "outputs": [
        {
          "output_type": "stream",
          "name": "stdout",
          "text": [
            "<class 'pandas.core.frame.DataFrame'>\n",
            "RangeIndex: 101 entries, 0 to 100\n",
            "Data columns (total 4 columns):\n",
            " #   Column           Non-Null Count  Dtype \n",
            "---  ------           --------------  ----- \n",
            " 0   Professional_ID  101 non-null    object\n",
            " 1   Hourly_rate      101 non-null    object\n",
            " 2   Amount_earned    101 non-null    object\n",
            " 3   Top_rated        101 non-null    object\n",
            "dtypes: object(4)\n",
            "memory usage: 3.3+ KB\n"
          ]
        }
      ]
    },
    {
      "cell_type": "markdown",
      "source": [
        "> **As Hourly_rate, and Amount_earned are wrongly classified as objects/strings, it is needed to convert their data types**"
      ],
      "metadata": {
        "id": "hBdIZ75Edv5r"
      }
    },
    {
      "cell_type": "code",
      "source": [
        "dataset['Hourly_rate'] = dataset['Hourly_rate'].astype('float')\n",
        "dataset['Amount_earned'] = dataset['Amount_earned'].astype('float')"
      ],
      "metadata": {
        "id": "Gy8EvT4eeJKT"
      },
      "execution_count": null,
      "outputs": []
    },
    {
      "cell_type": "markdown",
      "source": [
        "> **Checking**"
      ],
      "metadata": {
        "id": "xDQ40uR3e55k"
      }
    },
    {
      "cell_type": "code",
      "source": [
        "dataset.info()"
      ],
      "metadata": {
        "colab": {
          "base_uri": "https://localhost:8080/"
        },
        "id": "UQENMrdpe7YJ",
        "outputId": "03a3c3c4-f305-4c6b-b21d-985e56395fdf"
      },
      "execution_count": null,
      "outputs": [
        {
          "output_type": "stream",
          "name": "stdout",
          "text": [
            "<class 'pandas.core.frame.DataFrame'>\n",
            "RangeIndex: 101 entries, 0 to 100\n",
            "Data columns (total 4 columns):\n",
            " #   Column           Non-Null Count  Dtype  \n",
            "---  ------           --------------  -----  \n",
            " 0   Professional_ID  101 non-null    object \n",
            " 1   Hourly_rate      101 non-null    float64\n",
            " 2   Amount_earned    101 non-null    float64\n",
            " 3   Top_rated        101 non-null    object \n",
            "dtypes: float64(2), object(2)\n",
            "memory usage: 3.3+ KB\n"
          ]
        }
      ]
    },
    {
      "cell_type": "markdown",
      "source": [
        "## **Data Analysis & Visualization**"
      ],
      "metadata": {
        "id": "kiaR0bF0fB4a"
      }
    },
    {
      "cell_type": "code",
      "source": [
        "dataset.describe(include='all').T"
      ],
      "metadata": {
        "colab": {
          "base_uri": "https://localhost:8080/",
          "height": 175
        },
        "id": "sFlUxvQ_fxxv",
        "outputId": "c561b75b-0e1c-48a0-b87a-7058d4bffd8f"
      },
      "execution_count": null,
      "outputs": [
        {
          "output_type": "execute_result",
          "data": {
            "text/plain": [
              "                 count unique  top freq         mean         std  min    25%  \\\n",
              "Professional_ID    101    101    1    1          NaN         NaN  NaN    NaN   \n",
              "Hourly_rate      101.0    NaN  NaN  NaN    30.888614   24.654778  3.0   18.0   \n",
              "Amount_earned    101.0    NaN  NaN  NaN  7008.960396  23695.8389  5.0  100.0   \n",
              "Top_rated          101      2   no   92          NaN         NaN  NaN    NaN   \n",
              "\n",
              "                   50%     75%       max  \n",
              "Professional_ID    NaN     NaN       NaN  \n",
              "Hourly_rate       20.0    40.0     200.0  \n",
              "Amount_earned    500.0  3000.0  200000.0  \n",
              "Top_rated          NaN     NaN       NaN  "
            ],
            "text/html": [
              "\n",
              "  <div id=\"df-73cd4d5d-24fb-48a5-a28c-b54b8b20e1df\">\n",
              "    <div class=\"colab-df-container\">\n",
              "      <div>\n",
              "<style scoped>\n",
              "    .dataframe tbody tr th:only-of-type {\n",
              "        vertical-align: middle;\n",
              "    }\n",
              "\n",
              "    .dataframe tbody tr th {\n",
              "        vertical-align: top;\n",
              "    }\n",
              "\n",
              "    .dataframe thead th {\n",
              "        text-align: right;\n",
              "    }\n",
              "</style>\n",
              "<table border=\"1\" class=\"dataframe\">\n",
              "  <thead>\n",
              "    <tr style=\"text-align: right;\">\n",
              "      <th></th>\n",
              "      <th>count</th>\n",
              "      <th>unique</th>\n",
              "      <th>top</th>\n",
              "      <th>freq</th>\n",
              "      <th>mean</th>\n",
              "      <th>std</th>\n",
              "      <th>min</th>\n",
              "      <th>25%</th>\n",
              "      <th>50%</th>\n",
              "      <th>75%</th>\n",
              "      <th>max</th>\n",
              "    </tr>\n",
              "  </thead>\n",
              "  <tbody>\n",
              "    <tr>\n",
              "      <th>Professional_ID</th>\n",
              "      <td>101</td>\n",
              "      <td>101</td>\n",
              "      <td>1</td>\n",
              "      <td>1</td>\n",
              "      <td>NaN</td>\n",
              "      <td>NaN</td>\n",
              "      <td>NaN</td>\n",
              "      <td>NaN</td>\n",
              "      <td>NaN</td>\n",
              "      <td>NaN</td>\n",
              "      <td>NaN</td>\n",
              "    </tr>\n",
              "    <tr>\n",
              "      <th>Hourly_rate</th>\n",
              "      <td>101.0</td>\n",
              "      <td>NaN</td>\n",
              "      <td>NaN</td>\n",
              "      <td>NaN</td>\n",
              "      <td>30.888614</td>\n",
              "      <td>24.654778</td>\n",
              "      <td>3.0</td>\n",
              "      <td>18.0</td>\n",
              "      <td>20.0</td>\n",
              "      <td>40.0</td>\n",
              "      <td>200.0</td>\n",
              "    </tr>\n",
              "    <tr>\n",
              "      <th>Amount_earned</th>\n",
              "      <td>101.0</td>\n",
              "      <td>NaN</td>\n",
              "      <td>NaN</td>\n",
              "      <td>NaN</td>\n",
              "      <td>7008.960396</td>\n",
              "      <td>23695.8389</td>\n",
              "      <td>5.0</td>\n",
              "      <td>100.0</td>\n",
              "      <td>500.0</td>\n",
              "      <td>3000.0</td>\n",
              "      <td>200000.0</td>\n",
              "    </tr>\n",
              "    <tr>\n",
              "      <th>Top_rated</th>\n",
              "      <td>101</td>\n",
              "      <td>2</td>\n",
              "      <td>no</td>\n",
              "      <td>92</td>\n",
              "      <td>NaN</td>\n",
              "      <td>NaN</td>\n",
              "      <td>NaN</td>\n",
              "      <td>NaN</td>\n",
              "      <td>NaN</td>\n",
              "      <td>NaN</td>\n",
              "      <td>NaN</td>\n",
              "    </tr>\n",
              "  </tbody>\n",
              "</table>\n",
              "</div>\n",
              "      <button class=\"colab-df-convert\" onclick=\"convertToInteractive('df-73cd4d5d-24fb-48a5-a28c-b54b8b20e1df')\"\n",
              "              title=\"Convert this dataframe to an interactive table.\"\n",
              "              style=\"display:none;\">\n",
              "        \n",
              "  <svg xmlns=\"http://www.w3.org/2000/svg\" height=\"24px\"viewBox=\"0 0 24 24\"\n",
              "       width=\"24px\">\n",
              "    <path d=\"M0 0h24v24H0V0z\" fill=\"none\"/>\n",
              "    <path d=\"M18.56 5.44l.94 2.06.94-2.06 2.06-.94-2.06-.94-.94-2.06-.94 2.06-2.06.94zm-11 1L8.5 8.5l.94-2.06 2.06-.94-2.06-.94L8.5 2.5l-.94 2.06-2.06.94zm10 10l.94 2.06.94-2.06 2.06-.94-2.06-.94-.94-2.06-.94 2.06-2.06.94z\"/><path d=\"M17.41 7.96l-1.37-1.37c-.4-.4-.92-.59-1.43-.59-.52 0-1.04.2-1.43.59L10.3 9.45l-7.72 7.72c-.78.78-.78 2.05 0 2.83L4 21.41c.39.39.9.59 1.41.59.51 0 1.02-.2 1.41-.59l7.78-7.78 2.81-2.81c.8-.78.8-2.07 0-2.86zM5.41 20L4 18.59l7.72-7.72 1.47 1.35L5.41 20z\"/>\n",
              "  </svg>\n",
              "      </button>\n",
              "      \n",
              "  <style>\n",
              "    .colab-df-container {\n",
              "      display:flex;\n",
              "      flex-wrap:wrap;\n",
              "      gap: 12px;\n",
              "    }\n",
              "\n",
              "    .colab-df-convert {\n",
              "      background-color: #E8F0FE;\n",
              "      border: none;\n",
              "      border-radius: 50%;\n",
              "      cursor: pointer;\n",
              "      display: none;\n",
              "      fill: #1967D2;\n",
              "      height: 32px;\n",
              "      padding: 0 0 0 0;\n",
              "      width: 32px;\n",
              "    }\n",
              "\n",
              "    .colab-df-convert:hover {\n",
              "      background-color: #E2EBFA;\n",
              "      box-shadow: 0px 1px 2px rgba(60, 64, 67, 0.3), 0px 1px 3px 1px rgba(60, 64, 67, 0.15);\n",
              "      fill: #174EA6;\n",
              "    }\n",
              "\n",
              "    [theme=dark] .colab-df-convert {\n",
              "      background-color: #3B4455;\n",
              "      fill: #D2E3FC;\n",
              "    }\n",
              "\n",
              "    [theme=dark] .colab-df-convert:hover {\n",
              "      background-color: #434B5C;\n",
              "      box-shadow: 0px 1px 3px 1px rgba(0, 0, 0, 0.15);\n",
              "      filter: drop-shadow(0px 1px 2px rgba(0, 0, 0, 0.3));\n",
              "      fill: #FFFFFF;\n",
              "    }\n",
              "  </style>\n",
              "\n",
              "      <script>\n",
              "        const buttonEl =\n",
              "          document.querySelector('#df-73cd4d5d-24fb-48a5-a28c-b54b8b20e1df button.colab-df-convert');\n",
              "        buttonEl.style.display =\n",
              "          google.colab.kernel.accessAllowed ? 'block' : 'none';\n",
              "\n",
              "        async function convertToInteractive(key) {\n",
              "          const element = document.querySelector('#df-73cd4d5d-24fb-48a5-a28c-b54b8b20e1df');\n",
              "          const dataTable =\n",
              "            await google.colab.kernel.invokeFunction('convertToInteractive',\n",
              "                                                     [key], {});\n",
              "          if (!dataTable) return;\n",
              "\n",
              "          const docLinkHtml = 'Like what you see? Visit the ' +\n",
              "            '<a target=\"_blank\" href=https://colab.research.google.com/notebooks/data_table.ipynb>data table notebook</a>'\n",
              "            + ' to learn more about interactive tables.';\n",
              "          element.innerHTML = '';\n",
              "          dataTable['output_type'] = 'display_data';\n",
              "          await google.colab.output.renderOutput(dataTable, element);\n",
              "          const docLink = document.createElement('div');\n",
              "          docLink.innerHTML = docLinkHtml;\n",
              "          element.appendChild(docLink);\n",
              "        }\n",
              "      </script>\n",
              "    </div>\n",
              "  </div>\n",
              "  "
            ]
          },
          "metadata": {},
          "execution_count": 122
        }
      ]
    },
    {
      "cell_type": "markdown",
      "source": [
        "> **1.   How many Brazilian DAs are in such the marketplace?**\n"
      ],
      "metadata": {
        "id": "7RsAskanfJ5E"
      }
    },
    {
      "cell_type": "code",
      "source": [
        "BR_DAs = dataset['Professional_ID'].count()\n",
        "print(f'There are {BR_DAs} Brazilian DAs active in the A freelancing marketplace.')"
      ],
      "metadata": {
        "colab": {
          "base_uri": "https://localhost:8080/"
        },
        "id": "WrMUKNz6fE7n",
        "outputId": "d22aeb8a-d223-4634-d1df-55aff27380fe"
      },
      "execution_count": null,
      "outputs": [
        {
          "output_type": "stream",
          "name": "stdout",
          "text": [
            "There are 101 Brazilian DAs active in the A freelancing marketplace.\n"
          ]
        }
      ]
    },
    {
      "cell_type": "markdown",
      "source": [
        "> **2.   How much does the Brazilian DAs can earn in the marketplace?**\n"
      ],
      "metadata": {
        "id": "Rb3IHLLmfsJr"
      }
    },
    {
      "cell_type": "code",
      "source": [
        "dataset['Amount_earned'].describe().T"
      ],
      "metadata": {
        "colab": {
          "base_uri": "https://localhost:8080/"
        },
        "id": "_vcaXypdfwJU",
        "outputId": "bb975e3a-0f84-4cf0-dd1c-ed9a9323143b"
      },
      "execution_count": null,
      "outputs": [
        {
          "output_type": "execute_result",
          "data": {
            "text/plain": [
              "count       101.000000\n",
              "mean       7008.960396\n",
              "std       23695.838900\n",
              "min           5.000000\n",
              "25%         100.000000\n",
              "50%         500.000000\n",
              "75%        3000.000000\n",
              "max      200000.000000\n",
              "Name: Amount_earned, dtype: float64"
            ]
          },
          "metadata": {},
          "execution_count": 124
        }
      ]
    },
    {
      "cell_type": "code",
      "source": [
        "top_rated = dataset.query('Top_rated == \"yes\"')\n",
        "non_top_rated = dataset.query('Top_rated == \"no\"')"
      ],
      "metadata": {
        "id": "gTb7jdeWmrYB"
      },
      "execution_count": null,
      "outputs": []
    },
    {
      "cell_type": "code",
      "source": [
        "top_rated['Amount_earned'].describe().T"
      ],
      "metadata": {
        "colab": {
          "base_uri": "https://localhost:8080/"
        },
        "id": "zo10zVkdnKp_",
        "outputId": "6a4ca9a8-05b7-418d-a4a8-5cdf6f03cc11"
      },
      "execution_count": null,
      "outputs": [
        {
          "output_type": "execute_result",
          "data": {
            "text/plain": [
              "count         9.000000\n",
              "mean      47666.666667\n",
              "std       64822.835483\n",
              "min        1000.000000\n",
              "25%       10000.000000\n",
              "50%       20000.000000\n",
              "75%       50000.000000\n",
              "max      200000.000000\n",
              "Name: Amount_earned, dtype: float64"
            ]
          },
          "metadata": {},
          "execution_count": 126
        }
      ]
    },
    {
      "cell_type": "code",
      "source": [
        "top_rated_earnied_range = top_rated['Amount_earned'].max() - top_rated['Amount_earned'].min()\n",
        "top_rated_earnied_range"
      ],
      "metadata": {
        "colab": {
          "base_uri": "https://localhost:8080/"
        },
        "id": "VzCZRs00DmKV",
        "outputId": "2bb91223-a154-45bb-876a-d95eac444a25"
      },
      "execution_count": null,
      "outputs": [
        {
          "output_type": "execute_result",
          "data": {
            "text/plain": [
              "199000.0"
            ]
          },
          "metadata": {},
          "execution_count": 127
        }
      ]
    },
    {
      "cell_type": "code",
      "source": [
        "non_top_rated['Amount_earned'].describe().T"
      ],
      "metadata": {
        "colab": {
          "base_uri": "https://localhost:8080/"
        },
        "id": "vUhXuGifnOse",
        "outputId": "cf293abf-7238-4d6a-a63c-e910da44b17b"
      },
      "execution_count": null,
      "outputs": [
        {
          "output_type": "execute_result",
          "data": {
            "text/plain": [
              "count       92.000000\n",
              "mean      3031.576087\n",
              "std       8254.492281\n",
              "min          5.000000\n",
              "25%        100.000000\n",
              "50%        400.000000\n",
              "75%       2000.000000\n",
              "max      60000.000000\n",
              "Name: Amount_earned, dtype: float64"
            ]
          },
          "metadata": {},
          "execution_count": 128
        }
      ]
    },
    {
      "cell_type": "markdown",
      "source": [
        "\n",
        "*   Brazilian  DAs earn in average: **U$D 124.76**\n",
        "\n",
        "*   Standard deviation: **U$D 185.65**\n",
        "\n",
        "*   Confidence interval (95%): **U$D**\n",
        "\n",
        "\n",
        "\n",
        "\n"
      ],
      "metadata": {
        "id": "4HQ834SkgYxZ"
      }
    },
    {
      "cell_type": "code",
      "source": [
        "sns.set_style('darkgrid')\n",
        "plt.figure(figsize=(5,5))\n",
        "sns.boxplot(x='Top_rated', y = 'Amount_earned', width=0.25, data = dataset)\n",
        "plt.axhline(400,ls='dashed',color='b')\n",
        "plt.text(0.25,400, 'U$D 400', color = 'b', weight='bold')\n",
        "plt.title('Minimum amount earned by Brazilian DA freelancers at marketplace A', weight='bold')\n",
        "plt.xlabel('Top Rated Freelancer', weight='bold')\n",
        "plt.ylabel('Earned more than (U$D)', weight='bold')\n",
        "#plt.yticks([])\n",
        "plt.yticks(np.arange(0, 220000, 20000));\n",
        "plt.grid(alpha=0.20)"
      ],
      "metadata": {
        "colab": {
          "base_uri": "https://localhost:8080/",
          "height": 464
        },
        "id": "3XTlqMDShbnb",
        "outputId": "3079cd9f-7f3d-45df-edc3-ede5fe2326a3"
      },
      "execution_count": null,
      "outputs": [
        {
          "output_type": "display_data",
          "data": {
            "text/plain": [
              "<Figure size 360x360 with 1 Axes>"
            ],
            "image/svg+xml": "<?xml version=\"1.0\" encoding=\"utf-8\" standalone=\"no\"?>\n<!DOCTYPE svg PUBLIC \"-//W3C//DTD SVG 1.1//EN\"\n  \"http://www.w3.org/Graphics/SVG/1.1/DTD/svg11.dtd\">\n<!-- Created with matplotlib (https://matplotlib.org/) -->\n<svg height=\"331.674375pt\" version=\"1.1\" viewBox=\"0 0 491.86125 331.674375\" width=\"491.86125pt\" xmlns=\"http://www.w3.org/2000/svg\" xmlns:xlink=\"http://www.w3.org/1999/xlink\">\n <defs>\n  <style type=\"text/css\">\n*{stroke-linecap:butt;stroke-linejoin:round;}\n  </style>\n </defs>\n <g id=\"figure_1\">\n  <g id=\"patch_1\">\n   <path d=\"M 0 331.674375 \nL 491.86125 331.674375 \nL 491.86125 0 \nL 0 0 \nz\n\" style=\"fill:#ffffff;\"/>\n  </g>\n  <g id=\"axes_1\">\n   <g id=\"patch_2\">\n    <path d=\"M 106.430625 294.118125 \nL 385.430625 294.118125 \nL 385.430625 22.318125 \nL 106.430625 22.318125 \nz\n\" style=\"fill:#eaeaf2;\"/>\n   </g>\n   <g id=\"matplotlib.axis_1\">\n    <g id=\"xtick_1\">\n     <g id=\"line2d_1\">\n      <path clip-path=\"url(#p2b9b3cc173)\" d=\"M 176.180625 294.118125 \nL 176.180625 22.318125 \n\" style=\"fill:none;stroke:#ffffff;stroke-linecap:round;stroke-opacity:0.2;stroke-width:0.8;\"/>\n     </g>\n     <g id=\"text_1\">\n      <!-- no -->\n      <defs>\n       <path d=\"M 54.890625 33.015625 \nL 54.890625 0 \nL 45.90625 0 \nL 45.90625 32.71875 \nQ 45.90625 40.484375 42.875 44.328125 \nQ 39.84375 48.1875 33.796875 48.1875 \nQ 26.515625 48.1875 22.3125 43.546875 \nQ 18.109375 38.921875 18.109375 30.90625 \nL 18.109375 0 \nL 9.078125 0 \nL 9.078125 54.6875 \nL 18.109375 54.6875 \nL 18.109375 46.1875 \nQ 21.34375 51.125 25.703125 53.5625 \nQ 30.078125 56 35.796875 56 \nQ 45.21875 56 50.046875 50.171875 \nQ 54.890625 44.34375 54.890625 33.015625 \nz\n\" id=\"DejaVuSans-110\"/>\n       <path d=\"M 30.609375 48.390625 \nQ 23.390625 48.390625 19.1875 42.75 \nQ 14.984375 37.109375 14.984375 27.296875 \nQ 14.984375 17.484375 19.15625 11.84375 \nQ 23.34375 6.203125 30.609375 6.203125 \nQ 37.796875 6.203125 41.984375 11.859375 \nQ 46.1875 17.53125 46.1875 27.296875 \nQ 46.1875 37.015625 41.984375 42.703125 \nQ 37.796875 48.390625 30.609375 48.390625 \nz\nM 30.609375 56 \nQ 42.328125 56 49.015625 48.375 \nQ 55.71875 40.765625 55.71875 27.296875 \nQ 55.71875 13.875 49.015625 6.21875 \nQ 42.328125 -1.421875 30.609375 -1.421875 \nQ 18.84375 -1.421875 12.171875 6.21875 \nQ 5.515625 13.875 5.515625 27.296875 \nQ 5.515625 40.765625 12.171875 48.375 \nQ 18.84375 56 30.609375 56 \nz\n\" id=\"DejaVuSans-111\"/>\n      </defs>\n      <g style=\"fill:#262626;\" transform=\"translate(169.9525 308.716563)scale(0.1 -0.1)\">\n       <use xlink:href=\"#DejaVuSans-110\"/>\n       <use x=\"63.378906\" xlink:href=\"#DejaVuSans-111\"/>\n      </g>\n     </g>\n    </g>\n    <g id=\"xtick_2\">\n     <g id=\"line2d_2\">\n      <path clip-path=\"url(#p2b9b3cc173)\" d=\"M 315.680625 294.118125 \nL 315.680625 22.318125 \n\" style=\"fill:none;stroke:#ffffff;stroke-linecap:round;stroke-opacity:0.2;stroke-width:0.8;\"/>\n     </g>\n     <g id=\"text_2\">\n      <!-- yes -->\n      <defs>\n       <path d=\"M 32.171875 -5.078125 \nQ 28.375 -14.84375 24.75 -17.8125 \nQ 21.140625 -20.796875 15.09375 -20.796875 \nL 7.90625 -20.796875 \nL 7.90625 -13.28125 \nL 13.1875 -13.28125 \nQ 16.890625 -13.28125 18.9375 -11.515625 \nQ 21 -9.765625 23.484375 -3.21875 \nL 25.09375 0.875 \nL 2.984375 54.6875 \nL 12.5 54.6875 \nL 29.59375 11.921875 \nL 46.6875 54.6875 \nL 56.203125 54.6875 \nz\n\" id=\"DejaVuSans-121\"/>\n       <path d=\"M 56.203125 29.59375 \nL 56.203125 25.203125 \nL 14.890625 25.203125 \nQ 15.484375 15.921875 20.484375 11.0625 \nQ 25.484375 6.203125 34.421875 6.203125 \nQ 39.59375 6.203125 44.453125 7.46875 \nQ 49.3125 8.734375 54.109375 11.28125 \nL 54.109375 2.78125 \nQ 49.265625 0.734375 44.1875 -0.34375 \nQ 39.109375 -1.421875 33.890625 -1.421875 \nQ 20.796875 -1.421875 13.15625 6.1875 \nQ 5.515625 13.8125 5.515625 26.8125 \nQ 5.515625 40.234375 12.765625 48.109375 \nQ 20.015625 56 32.328125 56 \nQ 43.359375 56 49.78125 48.890625 \nQ 56.203125 41.796875 56.203125 29.59375 \nz\nM 47.21875 32.234375 \nQ 47.125 39.59375 43.09375 43.984375 \nQ 39.0625 48.390625 32.421875 48.390625 \nQ 24.90625 48.390625 20.390625 44.140625 \nQ 15.875 39.890625 15.1875 32.171875 \nz\n\" id=\"DejaVuSans-101\"/>\n       <path d=\"M 44.28125 53.078125 \nL 44.28125 44.578125 \nQ 40.484375 46.53125 36.375 47.5 \nQ 32.28125 48.484375 27.875 48.484375 \nQ 21.1875 48.484375 17.84375 46.4375 \nQ 14.5 44.390625 14.5 40.28125 \nQ 14.5 37.15625 16.890625 35.375 \nQ 19.28125 33.59375 26.515625 31.984375 \nL 29.59375 31.296875 \nQ 39.15625 29.25 43.1875 25.515625 \nQ 47.21875 21.78125 47.21875 15.09375 \nQ 47.21875 7.46875 41.1875 3.015625 \nQ 35.15625 -1.421875 24.609375 -1.421875 \nQ 20.21875 -1.421875 15.453125 -0.5625 \nQ 10.6875 0.296875 5.421875 2 \nL 5.421875 11.28125 \nQ 10.40625 8.6875 15.234375 7.390625 \nQ 20.0625 6.109375 24.8125 6.109375 \nQ 31.15625 6.109375 34.5625 8.28125 \nQ 37.984375 10.453125 37.984375 14.40625 \nQ 37.984375 18.0625 35.515625 20.015625 \nQ 33.0625 21.96875 24.703125 23.78125 \nL 21.578125 24.515625 \nQ 13.234375 26.265625 9.515625 29.90625 \nQ 5.8125 33.546875 5.8125 39.890625 \nQ 5.8125 47.609375 11.28125 51.796875 \nQ 16.75 56 26.8125 56 \nQ 31.78125 56 36.171875 55.265625 \nQ 40.578125 54.546875 44.28125 53.078125 \nz\n\" id=\"DejaVuSans-115\"/>\n      </defs>\n      <g style=\"fill:#262626;\" transform=\"translate(307.04 308.716563)scale(0.1 -0.1)\">\n       <use xlink:href=\"#DejaVuSans-121\"/>\n       <use x=\"59.179688\" xlink:href=\"#DejaVuSans-101\"/>\n       <use x=\"120.703125\" xlink:href=\"#DejaVuSans-115\"/>\n      </g>\n     </g>\n    </g>\n    <g id=\"text_3\">\n     <!-- Top Rated Freelancer -->\n     <defs>\n      <path d=\"M 0.484375 72.90625 \nL 67.671875 72.90625 \nL 67.671875 58.6875 \nL 43.5 58.6875 \nL 43.5 0 \nL 24.703125 0 \nL 24.703125 58.6875 \nL 0.484375 58.6875 \nz\n\" id=\"DejaVuSans-Bold-84\"/>\n      <path d=\"M 34.421875 43.5 \nQ 28.609375 43.5 25.5625 39.328125 \nQ 22.515625 35.15625 22.515625 27.296875 \nQ 22.515625 19.4375 25.5625 15.25 \nQ 28.609375 11.078125 34.421875 11.078125 \nQ 40.140625 11.078125 43.15625 15.25 \nQ 46.1875 19.4375 46.1875 27.296875 \nQ 46.1875 35.15625 43.15625 39.328125 \nQ 40.140625 43.5 34.421875 43.5 \nz\nM 34.421875 56 \nQ 48.53125 56 56.46875 48.375 \nQ 64.40625 40.765625 64.40625 27.296875 \nQ 64.40625 13.8125 56.46875 6.1875 \nQ 48.53125 -1.421875 34.421875 -1.421875 \nQ 20.265625 -1.421875 12.28125 6.1875 \nQ 4.296875 13.8125 4.296875 27.296875 \nQ 4.296875 40.765625 12.28125 48.375 \nQ 20.265625 56 34.421875 56 \nz\n\" id=\"DejaVuSans-Bold-111\"/>\n      <path d=\"M 25.875 7.90625 \nL 25.875 -20.796875 \nL 8.40625 -20.796875 \nL 8.40625 54.6875 \nL 25.875 54.6875 \nL 25.875 46.6875 \nQ 29.5 51.46875 33.890625 53.734375 \nQ 38.28125 56 44 56 \nQ 54.109375 56 60.59375 47.96875 \nQ 67.09375 39.9375 67.09375 27.296875 \nQ 67.09375 14.65625 60.59375 6.609375 \nQ 54.109375 -1.421875 44 -1.421875 \nQ 38.28125 -1.421875 33.890625 0.84375 \nQ 29.5 3.125 25.875 7.90625 \nz\nM 37.5 43.3125 \nQ 31.890625 43.3125 28.875 39.1875 \nQ 25.875 35.0625 25.875 27.296875 \nQ 25.875 19.53125 28.875 15.40625 \nQ 31.890625 11.28125 37.5 11.28125 \nQ 43.109375 11.28125 46.0625 15.375 \nQ 49.03125 19.484375 49.03125 27.296875 \nQ 49.03125 35.109375 46.0625 39.203125 \nQ 43.109375 43.3125 37.5 43.3125 \nz\n\" id=\"DejaVuSans-Bold-112\"/>\n      <path id=\"DejaVuSans-Bold-32\"/>\n      <path d=\"M 35.890625 40.578125 \nQ 41.796875 40.578125 44.359375 42.765625 \nQ 46.921875 44.96875 46.921875 50 \nQ 46.921875 54.984375 44.359375 57.125 \nQ 41.796875 59.28125 35.890625 59.28125 \nL 27.984375 59.28125 \nL 27.984375 40.578125 \nz\nM 27.984375 27.59375 \nL 27.984375 0 \nL 9.1875 0 \nL 9.1875 72.90625 \nL 37.890625 72.90625 \nQ 52.296875 72.90625 59 68.0625 \nQ 65.71875 63.234375 65.71875 52.78125 \nQ 65.71875 45.5625 62.21875 40.921875 \nQ 58.734375 36.28125 51.703125 34.078125 \nQ 55.5625 33.203125 58.609375 30.09375 \nQ 61.671875 27 64.796875 20.703125 \nL 75 0 \nL 54.984375 0 \nL 46.09375 18.109375 \nQ 43.40625 23.578125 40.640625 25.578125 \nQ 37.890625 27.59375 33.296875 27.59375 \nz\n\" id=\"DejaVuSans-Bold-82\"/>\n      <path d=\"M 32.90625 24.609375 \nQ 27.4375 24.609375 24.671875 22.75 \nQ 21.921875 20.90625 21.921875 17.28125 \nQ 21.921875 13.96875 24.140625 12.078125 \nQ 26.375 10.203125 30.328125 10.203125 \nQ 35.25 10.203125 38.625 13.734375 \nQ 42 17.28125 42 22.609375 \nL 42 24.609375 \nz\nM 59.625 31.203125 \nL 59.625 0 \nL 42 0 \nL 42 8.109375 \nQ 38.484375 3.125 34.078125 0.84375 \nQ 29.6875 -1.421875 23.390625 -1.421875 \nQ 14.890625 -1.421875 9.59375 3.53125 \nQ 4.296875 8.5 4.296875 16.40625 \nQ 4.296875 26.03125 10.90625 30.515625 \nQ 17.53125 35.015625 31.6875 35.015625 \nL 42 35.015625 \nL 42 36.375 \nQ 42 40.53125 38.71875 42.453125 \nQ 35.453125 44.390625 28.515625 44.390625 \nQ 22.90625 44.390625 18.0625 43.265625 \nQ 13.234375 42.140625 9.078125 39.890625 \nL 9.078125 53.21875 \nQ 14.703125 54.59375 20.359375 55.296875 \nQ 26.03125 56 31.6875 56 \nQ 46.484375 56 53.046875 50.171875 \nQ 59.625 44.34375 59.625 31.203125 \nz\n\" id=\"DejaVuSans-Bold-97\"/>\n      <path d=\"M 27.484375 70.21875 \nL 27.484375 54.6875 \nL 45.515625 54.6875 \nL 45.515625 42.1875 \nL 27.484375 42.1875 \nL 27.484375 19 \nQ 27.484375 15.1875 29 13.84375 \nQ 30.515625 12.5 35.015625 12.5 \nL 44 12.5 \nL 44 0 \nL 29 0 \nQ 18.65625 0 14.328125 4.3125 \nQ 10.015625 8.640625 10.015625 19 \nL 10.015625 42.1875 \nL 1.3125 42.1875 \nL 1.3125 54.6875 \nL 10.015625 54.6875 \nL 10.015625 70.21875 \nz\n\" id=\"DejaVuSans-Bold-116\"/>\n      <path d=\"M 62.984375 27.484375 \nL 62.984375 22.515625 \nL 22.125 22.515625 \nQ 22.75 16.359375 26.5625 13.28125 \nQ 30.375 10.203125 37.203125 10.203125 \nQ 42.71875 10.203125 48.5 11.84375 \nQ 54.296875 13.484375 60.40625 16.796875 \nL 60.40625 3.328125 \nQ 54.203125 0.984375 48 -0.21875 \nQ 41.796875 -1.421875 35.59375 -1.421875 \nQ 20.75 -1.421875 12.515625 6.125 \nQ 4.296875 13.671875 4.296875 27.296875 \nQ 4.296875 40.671875 12.375 48.328125 \nQ 20.453125 56 34.625 56 \nQ 47.515625 56 55.25 48.234375 \nQ 62.984375 40.484375 62.984375 27.484375 \nz\nM 45.015625 33.296875 \nQ 45.015625 38.28125 42.109375 41.328125 \nQ 39.203125 44.390625 34.515625 44.390625 \nQ 29.4375 44.390625 26.265625 41.53125 \nQ 23.09375 38.671875 22.3125 33.296875 \nz\n\" id=\"DejaVuSans-Bold-101\"/>\n      <path d=\"M 45.609375 46.6875 \nL 45.609375 75.984375 \nL 63.1875 75.984375 \nL 63.1875 0 \nL 45.609375 0 \nL 45.609375 7.90625 \nQ 42 3.078125 37.640625 0.828125 \nQ 33.296875 -1.421875 27.59375 -1.421875 \nQ 17.484375 -1.421875 10.984375 6.609375 \nQ 4.5 14.65625 4.5 27.296875 \nQ 4.5 39.9375 10.984375 47.96875 \nQ 17.484375 56 27.59375 56 \nQ 33.25 56 37.625 53.734375 \nQ 42 51.46875 45.609375 46.6875 \nz\nM 34.078125 11.28125 \nQ 39.703125 11.28125 42.65625 15.375 \nQ 45.609375 19.484375 45.609375 27.296875 \nQ 45.609375 35.109375 42.65625 39.203125 \nQ 39.703125 43.3125 34.078125 43.3125 \nQ 28.515625 43.3125 25.5625 39.203125 \nQ 22.609375 35.109375 22.609375 27.296875 \nQ 22.609375 19.484375 25.5625 15.375 \nQ 28.515625 11.28125 34.078125 11.28125 \nz\n\" id=\"DejaVuSans-Bold-100\"/>\n      <path d=\"M 9.1875 72.90625 \nL 59.90625 72.90625 \nL 59.90625 58.6875 \nL 27.984375 58.6875 \nL 27.984375 45.125 \nL 58.015625 45.125 \nL 58.015625 30.90625 \nL 27.984375 30.90625 \nL 27.984375 0 \nL 9.1875 0 \nz\n\" id=\"DejaVuSans-Bold-70\"/>\n      <path d=\"M 49.03125 39.796875 \nQ 46.734375 40.875 44.453125 41.375 \nQ 42.1875 41.890625 39.890625 41.890625 \nQ 33.15625 41.890625 29.515625 37.5625 \nQ 25.875 33.25 25.875 25.203125 \nL 25.875 0 \nL 8.40625 0 \nL 8.40625 54.6875 \nL 25.875 54.6875 \nL 25.875 45.703125 \nQ 29.25 51.078125 33.609375 53.53125 \nQ 37.984375 56 44.09375 56 \nQ 44.96875 56 45.984375 55.921875 \nQ 47.015625 55.859375 48.96875 55.609375 \nz\n\" id=\"DejaVuSans-Bold-114\"/>\n      <path d=\"M 8.40625 75.984375 \nL 25.875 75.984375 \nL 25.875 0 \nL 8.40625 0 \nz\n\" id=\"DejaVuSans-Bold-108\"/>\n      <path d=\"M 63.375 33.296875 \nL 63.375 0 \nL 45.796875 0 \nL 45.796875 5.421875 \nL 45.796875 25.484375 \nQ 45.796875 32.5625 45.484375 35.25 \nQ 45.171875 37.9375 44.390625 39.203125 \nQ 43.359375 40.921875 41.59375 41.875 \nQ 39.84375 42.828125 37.59375 42.828125 \nQ 32.125 42.828125 29 38.59375 \nQ 25.875 34.375 25.875 26.90625 \nL 25.875 0 \nL 8.40625 0 \nL 8.40625 54.6875 \nL 25.875 54.6875 \nL 25.875 46.6875 \nQ 29.828125 51.46875 34.265625 53.734375 \nQ 38.71875 56 44.09375 56 \nQ 53.5625 56 58.46875 50.1875 \nQ 63.375 44.390625 63.375 33.296875 \nz\n\" id=\"DejaVuSans-Bold-110\"/>\n      <path d=\"M 52.59375 52.984375 \nL 52.59375 38.71875 \nQ 49.03125 41.15625 45.4375 42.328125 \nQ 41.84375 43.5 37.984375 43.5 \nQ 30.671875 43.5 26.59375 39.234375 \nQ 22.515625 34.96875 22.515625 27.296875 \nQ 22.515625 19.625 26.59375 15.34375 \nQ 30.671875 11.078125 37.984375 11.078125 \nQ 42.09375 11.078125 45.78125 12.296875 \nQ 49.46875 13.53125 52.59375 15.921875 \nL 52.59375 1.609375 \nQ 48.484375 0.09375 44.265625 -0.65625 \nQ 40.046875 -1.421875 35.796875 -1.421875 \nQ 21 -1.421875 12.640625 6.171875 \nQ 4.296875 13.765625 4.296875 27.296875 \nQ 4.296875 40.828125 12.640625 48.40625 \nQ 21 56 35.796875 56 \nQ 40.09375 56 44.265625 55.25 \nQ 48.4375 54.5 52.59375 52.984375 \nz\n\" id=\"DejaVuSans-Bold-99\"/>\n     </defs>\n     <g style=\"fill:#262626;\" transform=\"translate(186.288437 322.394687)scale(0.1 -0.1)\">\n      <use xlink:href=\"#DejaVuSans-Bold-84\"/>\n      <use x=\"54.962891\" xlink:href=\"#DejaVuSans-Bold-111\"/>\n      <use x=\"123.664062\" xlink:href=\"#DejaVuSans-Bold-112\"/>\n      <use x=\"195.246094\" xlink:href=\"#DejaVuSans-Bold-32\"/>\n      <use x=\"230.060547\" xlink:href=\"#DejaVuSans-Bold-82\"/>\n      <use x=\"307.0625\" xlink:href=\"#DejaVuSans-Bold-97\"/>\n      <use x=\"374.542969\" xlink:href=\"#DejaVuSans-Bold-116\"/>\n      <use x=\"422.345703\" xlink:href=\"#DejaVuSans-Bold-101\"/>\n      <use x=\"490.167969\" xlink:href=\"#DejaVuSans-Bold-100\"/>\n      <use x=\"561.75\" xlink:href=\"#DejaVuSans-Bold-32\"/>\n      <use x=\"596.564453\" xlink:href=\"#DejaVuSans-Bold-70\"/>\n      <use x=\"658.5\" xlink:href=\"#DejaVuSans-Bold-114\"/>\n      <use x=\"707.816406\" xlink:href=\"#DejaVuSans-Bold-101\"/>\n      <use x=\"775.638672\" xlink:href=\"#DejaVuSans-Bold-101\"/>\n      <use x=\"843.460938\" xlink:href=\"#DejaVuSans-Bold-108\"/>\n      <use x=\"877.738281\" xlink:href=\"#DejaVuSans-Bold-97\"/>\n      <use x=\"945.21875\" xlink:href=\"#DejaVuSans-Bold-110\"/>\n      <use x=\"1016.410156\" xlink:href=\"#DejaVuSans-Bold-99\"/>\n      <use x=\"1075.6875\" xlink:href=\"#DejaVuSans-Bold-101\"/>\n      <use x=\"1143.509766\" xlink:href=\"#DejaVuSans-Bold-114\"/>\n     </g>\n    </g>\n   </g>\n   <g id=\"matplotlib.axis_2\">\n    <g id=\"ytick_1\">\n     <g id=\"line2d_3\">\n      <path clip-path=\"url(#p2b9b3cc173)\" d=\"M 106.430625 281.769757 \nL 385.430625 281.769757 \n\" style=\"fill:none;stroke:#ffffff;stroke-linecap:round;stroke-opacity:0.2;stroke-width:0.8;\"/>\n     </g>\n     <g id=\"text_4\">\n      <!-- 0 -->\n      <defs>\n       <path d=\"M 31.78125 66.40625 \nQ 24.171875 66.40625 20.328125 58.90625 \nQ 16.5 51.421875 16.5 36.375 \nQ 16.5 21.390625 20.328125 13.890625 \nQ 24.171875 6.390625 31.78125 6.390625 \nQ 39.453125 6.390625 43.28125 13.890625 \nQ 47.125 21.390625 47.125 36.375 \nQ 47.125 51.421875 43.28125 58.90625 \nQ 39.453125 66.40625 31.78125 66.40625 \nz\nM 31.78125 74.21875 \nQ 44.046875 74.21875 50.515625 64.515625 \nQ 56.984375 54.828125 56.984375 36.375 \nQ 56.984375 17.96875 50.515625 8.265625 \nQ 44.046875 -1.421875 31.78125 -1.421875 \nQ 19.53125 -1.421875 13.0625 8.265625 \nQ 6.59375 17.96875 6.59375 36.375 \nQ 6.59375 54.828125 13.0625 64.515625 \nQ 19.53125 74.21875 31.78125 74.21875 \nz\n\" id=\"DejaVuSans-48\"/>\n      </defs>\n      <g style=\"fill:#262626;\" transform=\"translate(93.068125 285.568976)scale(0.1 -0.1)\">\n       <use xlink:href=\"#DejaVuSans-48\"/>\n      </g>\n     </g>\n    </g>\n    <g id=\"ytick_2\">\n     <g id=\"line2d_4\">\n      <path clip-path=\"url(#p2b9b3cc173)\" d=\"M 106.430625 257.060048 \nL 385.430625 257.060048 \n\" style=\"fill:none;stroke:#ffffff;stroke-linecap:round;stroke-opacity:0.2;stroke-width:0.8;\"/>\n     </g>\n     <g id=\"text_5\">\n      <!-- 20000 -->\n      <defs>\n       <path d=\"M 19.1875 8.296875 \nL 53.609375 8.296875 \nL 53.609375 0 \nL 7.328125 0 \nL 7.328125 8.296875 \nQ 12.9375 14.109375 22.625 23.890625 \nQ 32.328125 33.6875 34.8125 36.53125 \nQ 39.546875 41.84375 41.421875 45.53125 \nQ 43.3125 49.21875 43.3125 52.78125 \nQ 43.3125 58.59375 39.234375 62.25 \nQ 35.15625 65.921875 28.609375 65.921875 \nQ 23.96875 65.921875 18.8125 64.3125 \nQ 13.671875 62.703125 7.8125 59.421875 \nL 7.8125 69.390625 \nQ 13.765625 71.78125 18.9375 73 \nQ 24.125 74.21875 28.421875 74.21875 \nQ 39.75 74.21875 46.484375 68.546875 \nQ 53.21875 62.890625 53.21875 53.421875 \nQ 53.21875 48.921875 51.53125 44.890625 \nQ 49.859375 40.875 45.40625 35.40625 \nQ 44.1875 33.984375 37.640625 27.21875 \nQ 31.109375 20.453125 19.1875 8.296875 \nz\n\" id=\"DejaVuSans-50\"/>\n      </defs>\n      <g style=\"fill:#262626;\" transform=\"translate(67.618125 260.859267)scale(0.1 -0.1)\">\n       <use xlink:href=\"#DejaVuSans-50\"/>\n       <use x=\"63.623047\" xlink:href=\"#DejaVuSans-48\"/>\n       <use x=\"127.246094\" xlink:href=\"#DejaVuSans-48\"/>\n       <use x=\"190.869141\" xlink:href=\"#DejaVuSans-48\"/>\n       <use x=\"254.492188\" xlink:href=\"#DejaVuSans-48\"/>\n      </g>\n     </g>\n    </g>\n    <g id=\"ytick_3\">\n     <g id=\"line2d_5\">\n      <path clip-path=\"url(#p2b9b3cc173)\" d=\"M 106.430625 232.35034 \nL 385.430625 232.35034 \n\" style=\"fill:none;stroke:#ffffff;stroke-linecap:round;stroke-opacity:0.2;stroke-width:0.8;\"/>\n     </g>\n     <g id=\"text_6\">\n      <!-- 40000 -->\n      <defs>\n       <path d=\"M 37.796875 64.3125 \nL 12.890625 25.390625 \nL 37.796875 25.390625 \nz\nM 35.203125 72.90625 \nL 47.609375 72.90625 \nL 47.609375 25.390625 \nL 58.015625 25.390625 \nL 58.015625 17.1875 \nL 47.609375 17.1875 \nL 47.609375 0 \nL 37.796875 0 \nL 37.796875 17.1875 \nL 4.890625 17.1875 \nL 4.890625 26.703125 \nz\n\" id=\"DejaVuSans-52\"/>\n      </defs>\n      <g style=\"fill:#262626;\" transform=\"translate(67.618125 236.149558)scale(0.1 -0.1)\">\n       <use xlink:href=\"#DejaVuSans-52\"/>\n       <use x=\"63.623047\" xlink:href=\"#DejaVuSans-48\"/>\n       <use x=\"127.246094\" xlink:href=\"#DejaVuSans-48\"/>\n       <use x=\"190.869141\" xlink:href=\"#DejaVuSans-48\"/>\n       <use x=\"254.492188\" xlink:href=\"#DejaVuSans-48\"/>\n      </g>\n     </g>\n    </g>\n    <g id=\"ytick_4\">\n     <g id=\"line2d_6\">\n      <path clip-path=\"url(#p2b9b3cc173)\" d=\"M 106.430625 207.640631 \nL 385.430625 207.640631 \n\" style=\"fill:none;stroke:#ffffff;stroke-linecap:round;stroke-opacity:0.2;stroke-width:0.8;\"/>\n     </g>\n     <g id=\"text_7\">\n      <!-- 60000 -->\n      <defs>\n       <path d=\"M 33.015625 40.375 \nQ 26.375 40.375 22.484375 35.828125 \nQ 18.609375 31.296875 18.609375 23.390625 \nQ 18.609375 15.53125 22.484375 10.953125 \nQ 26.375 6.390625 33.015625 6.390625 \nQ 39.65625 6.390625 43.53125 10.953125 \nQ 47.40625 15.53125 47.40625 23.390625 \nQ 47.40625 31.296875 43.53125 35.828125 \nQ 39.65625 40.375 33.015625 40.375 \nz\nM 52.59375 71.296875 \nL 52.59375 62.3125 \nQ 48.875 64.0625 45.09375 64.984375 \nQ 41.3125 65.921875 37.59375 65.921875 \nQ 27.828125 65.921875 22.671875 59.328125 \nQ 17.53125 52.734375 16.796875 39.40625 \nQ 19.671875 43.65625 24.015625 45.921875 \nQ 28.375 48.1875 33.59375 48.1875 \nQ 44.578125 48.1875 50.953125 41.515625 \nQ 57.328125 34.859375 57.328125 23.390625 \nQ 57.328125 12.15625 50.6875 5.359375 \nQ 44.046875 -1.421875 33.015625 -1.421875 \nQ 20.359375 -1.421875 13.671875 8.265625 \nQ 6.984375 17.96875 6.984375 36.375 \nQ 6.984375 53.65625 15.1875 63.9375 \nQ 23.390625 74.21875 37.203125 74.21875 \nQ 40.921875 74.21875 44.703125 73.484375 \nQ 48.484375 72.75 52.59375 71.296875 \nz\n\" id=\"DejaVuSans-54\"/>\n      </defs>\n      <g style=\"fill:#262626;\" transform=\"translate(67.618125 211.43985)scale(0.1 -0.1)\">\n       <use xlink:href=\"#DejaVuSans-54\"/>\n       <use x=\"63.623047\" xlink:href=\"#DejaVuSans-48\"/>\n       <use x=\"127.246094\" xlink:href=\"#DejaVuSans-48\"/>\n       <use x=\"190.869141\" xlink:href=\"#DejaVuSans-48\"/>\n       <use x=\"254.492188\" xlink:href=\"#DejaVuSans-48\"/>\n      </g>\n     </g>\n    </g>\n    <g id=\"ytick_5\">\n     <g id=\"line2d_7\">\n      <path clip-path=\"url(#p2b9b3cc173)\" d=\"M 106.430625 182.930922 \nL 385.430625 182.930922 \n\" style=\"fill:none;stroke:#ffffff;stroke-linecap:round;stroke-opacity:0.2;stroke-width:0.8;\"/>\n     </g>\n     <g id=\"text_8\">\n      <!-- 80000 -->\n      <defs>\n       <path d=\"M 31.78125 34.625 \nQ 24.75 34.625 20.71875 30.859375 \nQ 16.703125 27.09375 16.703125 20.515625 \nQ 16.703125 13.921875 20.71875 10.15625 \nQ 24.75 6.390625 31.78125 6.390625 \nQ 38.8125 6.390625 42.859375 10.171875 \nQ 46.921875 13.96875 46.921875 20.515625 \nQ 46.921875 27.09375 42.890625 30.859375 \nQ 38.875 34.625 31.78125 34.625 \nz\nM 21.921875 38.8125 \nQ 15.578125 40.375 12.03125 44.71875 \nQ 8.5 49.078125 8.5 55.328125 \nQ 8.5 64.0625 14.71875 69.140625 \nQ 20.953125 74.21875 31.78125 74.21875 \nQ 42.671875 74.21875 48.875 69.140625 \nQ 55.078125 64.0625 55.078125 55.328125 \nQ 55.078125 49.078125 51.53125 44.71875 \nQ 48 40.375 41.703125 38.8125 \nQ 48.828125 37.15625 52.796875 32.3125 \nQ 56.78125 27.484375 56.78125 20.515625 \nQ 56.78125 9.90625 50.3125 4.234375 \nQ 43.84375 -1.421875 31.78125 -1.421875 \nQ 19.734375 -1.421875 13.25 4.234375 \nQ 6.78125 9.90625 6.78125 20.515625 \nQ 6.78125 27.484375 10.78125 32.3125 \nQ 14.796875 37.15625 21.921875 38.8125 \nz\nM 18.3125 54.390625 \nQ 18.3125 48.734375 21.84375 45.5625 \nQ 25.390625 42.390625 31.78125 42.390625 \nQ 38.140625 42.390625 41.71875 45.5625 \nQ 45.3125 48.734375 45.3125 54.390625 \nQ 45.3125 60.0625 41.71875 63.234375 \nQ 38.140625 66.40625 31.78125 66.40625 \nQ 25.390625 66.40625 21.84375 63.234375 \nQ 18.3125 60.0625 18.3125 54.390625 \nz\n\" id=\"DejaVuSans-56\"/>\n      </defs>\n      <g style=\"fill:#262626;\" transform=\"translate(67.618125 186.730141)scale(0.1 -0.1)\">\n       <use xlink:href=\"#DejaVuSans-56\"/>\n       <use x=\"63.623047\" xlink:href=\"#DejaVuSans-48\"/>\n       <use x=\"127.246094\" xlink:href=\"#DejaVuSans-48\"/>\n       <use x=\"190.869141\" xlink:href=\"#DejaVuSans-48\"/>\n       <use x=\"254.492188\" xlink:href=\"#DejaVuSans-48\"/>\n      </g>\n     </g>\n    </g>\n    <g id=\"ytick_6\">\n     <g id=\"line2d_8\">\n      <path clip-path=\"url(#p2b9b3cc173)\" d=\"M 106.430625 158.221214 \nL 385.430625 158.221214 \n\" style=\"fill:none;stroke:#ffffff;stroke-linecap:round;stroke-opacity:0.2;stroke-width:0.8;\"/>\n     </g>\n     <g id=\"text_9\">\n      <!-- 100000 -->\n      <defs>\n       <path d=\"M 12.40625 8.296875 \nL 28.515625 8.296875 \nL 28.515625 63.921875 \nL 10.984375 60.40625 \nL 10.984375 69.390625 \nL 28.421875 72.90625 \nL 38.28125 72.90625 \nL 38.28125 8.296875 \nL 54.390625 8.296875 \nL 54.390625 0 \nL 12.40625 0 \nz\n\" id=\"DejaVuSans-49\"/>\n      </defs>\n      <g style=\"fill:#262626;\" transform=\"translate(61.255625 162.020432)scale(0.1 -0.1)\">\n       <use xlink:href=\"#DejaVuSans-49\"/>\n       <use x=\"63.623047\" xlink:href=\"#DejaVuSans-48\"/>\n       <use x=\"127.246094\" xlink:href=\"#DejaVuSans-48\"/>\n       <use x=\"190.869141\" xlink:href=\"#DejaVuSans-48\"/>\n       <use x=\"254.492188\" xlink:href=\"#DejaVuSans-48\"/>\n       <use x=\"318.115234\" xlink:href=\"#DejaVuSans-48\"/>\n      </g>\n     </g>\n    </g>\n    <g id=\"ytick_7\">\n     <g id=\"line2d_9\">\n      <path clip-path=\"url(#p2b9b3cc173)\" d=\"M 106.430625 133.511505 \nL 385.430625 133.511505 \n\" style=\"fill:none;stroke:#ffffff;stroke-linecap:round;stroke-opacity:0.2;stroke-width:0.8;\"/>\n     </g>\n     <g id=\"text_10\">\n      <!-- 120000 -->\n      <g style=\"fill:#262626;\" transform=\"translate(61.255625 137.310724)scale(0.1 -0.1)\">\n       <use xlink:href=\"#DejaVuSans-49\"/>\n       <use x=\"63.623047\" xlink:href=\"#DejaVuSans-50\"/>\n       <use x=\"127.246094\" xlink:href=\"#DejaVuSans-48\"/>\n       <use x=\"190.869141\" xlink:href=\"#DejaVuSans-48\"/>\n       <use x=\"254.492188\" xlink:href=\"#DejaVuSans-48\"/>\n       <use x=\"318.115234\" xlink:href=\"#DejaVuSans-48\"/>\n      </g>\n     </g>\n    </g>\n    <g id=\"ytick_8\">\n     <g id=\"line2d_10\">\n      <path clip-path=\"url(#p2b9b3cc173)\" d=\"M 106.430625 108.801796 \nL 385.430625 108.801796 \n\" style=\"fill:none;stroke:#ffffff;stroke-linecap:round;stroke-opacity:0.2;stroke-width:0.8;\"/>\n     </g>\n     <g id=\"text_11\">\n      <!-- 140000 -->\n      <g style=\"fill:#262626;\" transform=\"translate(61.255625 112.601015)scale(0.1 -0.1)\">\n       <use xlink:href=\"#DejaVuSans-49\"/>\n       <use x=\"63.623047\" xlink:href=\"#DejaVuSans-52\"/>\n       <use x=\"127.246094\" xlink:href=\"#DejaVuSans-48\"/>\n       <use x=\"190.869141\" xlink:href=\"#DejaVuSans-48\"/>\n       <use x=\"254.492188\" xlink:href=\"#DejaVuSans-48\"/>\n       <use x=\"318.115234\" xlink:href=\"#DejaVuSans-48\"/>\n      </g>\n     </g>\n    </g>\n    <g id=\"ytick_9\">\n     <g id=\"line2d_11\">\n      <path clip-path=\"url(#p2b9b3cc173)\" d=\"M 106.430625 84.092088 \nL 385.430625 84.092088 \n\" style=\"fill:none;stroke:#ffffff;stroke-linecap:round;stroke-opacity:0.2;stroke-width:0.8;\"/>\n     </g>\n     <g id=\"text_12\">\n      <!-- 160000 -->\n      <g style=\"fill:#262626;\" transform=\"translate(61.255625 87.891307)scale(0.1 -0.1)\">\n       <use xlink:href=\"#DejaVuSans-49\"/>\n       <use x=\"63.623047\" xlink:href=\"#DejaVuSans-54\"/>\n       <use x=\"127.246094\" xlink:href=\"#DejaVuSans-48\"/>\n       <use x=\"190.869141\" xlink:href=\"#DejaVuSans-48\"/>\n       <use x=\"254.492188\" xlink:href=\"#DejaVuSans-48\"/>\n       <use x=\"318.115234\" xlink:href=\"#DejaVuSans-48\"/>\n      </g>\n     </g>\n    </g>\n    <g id=\"ytick_10\">\n     <g id=\"line2d_12\">\n      <path clip-path=\"url(#p2b9b3cc173)\" d=\"M 106.430625 59.382379 \nL 385.430625 59.382379 \n\" style=\"fill:none;stroke:#ffffff;stroke-linecap:round;stroke-opacity:0.2;stroke-width:0.8;\"/>\n     </g>\n     <g id=\"text_13\">\n      <!-- 180000 -->\n      <g style=\"fill:#262626;\" transform=\"translate(61.255625 63.181598)scale(0.1 -0.1)\">\n       <use xlink:href=\"#DejaVuSans-49\"/>\n       <use x=\"63.623047\" xlink:href=\"#DejaVuSans-56\"/>\n       <use x=\"127.246094\" xlink:href=\"#DejaVuSans-48\"/>\n       <use x=\"190.869141\" xlink:href=\"#DejaVuSans-48\"/>\n       <use x=\"254.492188\" xlink:href=\"#DejaVuSans-48\"/>\n       <use x=\"318.115234\" xlink:href=\"#DejaVuSans-48\"/>\n      </g>\n     </g>\n    </g>\n    <g id=\"ytick_11\">\n     <g id=\"line2d_13\">\n      <path clip-path=\"url(#p2b9b3cc173)\" d=\"M 106.430625 34.67267 \nL 385.430625 34.67267 \n\" style=\"fill:none;stroke:#ffffff;stroke-linecap:round;stroke-opacity:0.2;stroke-width:0.8;\"/>\n     </g>\n     <g id=\"text_14\">\n      <!-- 200000 -->\n      <g style=\"fill:#262626;\" transform=\"translate(61.255625 38.471889)scale(0.1 -0.1)\">\n       <use xlink:href=\"#DejaVuSans-50\"/>\n       <use x=\"63.623047\" xlink:href=\"#DejaVuSans-48\"/>\n       <use x=\"127.246094\" xlink:href=\"#DejaVuSans-48\"/>\n       <use x=\"190.869141\" xlink:href=\"#DejaVuSans-48\"/>\n       <use x=\"254.492188\" xlink:href=\"#DejaVuSans-48\"/>\n       <use x=\"318.115234\" xlink:href=\"#DejaVuSans-48\"/>\n      </g>\n     </g>\n    </g>\n    <g id=\"text_15\">\n     <!-- Earned more than (U$D) -->\n     <defs>\n      <path d=\"M 9.1875 72.90625 \nL 59.90625 72.90625 \nL 59.90625 58.6875 \nL 27.984375 58.6875 \nL 27.984375 45.125 \nL 58.015625 45.125 \nL 58.015625 30.90625 \nL 27.984375 30.90625 \nL 27.984375 14.203125 \nL 60.984375 14.203125 \nL 60.984375 0 \nL 9.1875 0 \nz\n\" id=\"DejaVuSans-Bold-69\"/>\n      <path d=\"M 59.078125 45.609375 \nQ 62.40625 50.6875 66.96875 53.34375 \nQ 71.53125 56 77 56 \nQ 86.421875 56 91.359375 50.1875 \nQ 96.296875 44.390625 96.296875 33.296875 \nL 96.296875 0 \nL 78.71875 0 \nL 78.71875 28.515625 \nQ 78.765625 29.15625 78.78125 29.828125 \nQ 78.8125 30.515625 78.8125 31.78125 \nQ 78.8125 37.59375 77.09375 40.203125 \nQ 75.390625 42.828125 71.578125 42.828125 \nQ 66.609375 42.828125 63.890625 38.71875 \nQ 61.1875 34.625 61.078125 26.859375 \nL 61.078125 0 \nL 43.5 0 \nL 43.5 28.515625 \nQ 43.5 37.59375 41.9375 40.203125 \nQ 40.375 42.828125 36.375 42.828125 \nQ 31.34375 42.828125 28.609375 38.703125 \nQ 25.875 34.578125 25.875 26.90625 \nL 25.875 0 \nL 8.296875 0 \nL 8.296875 54.6875 \nL 25.875 54.6875 \nL 25.875 46.6875 \nQ 29.109375 51.3125 33.28125 53.65625 \nQ 37.453125 56 42.484375 56 \nQ 48.140625 56 52.484375 53.265625 \nQ 56.84375 50.53125 59.078125 45.609375 \nz\n\" id=\"DejaVuSans-Bold-109\"/>\n      <path d=\"M 63.375 33.296875 \nL 63.375 0 \nL 45.796875 0 \nL 45.796875 5.421875 \nL 45.796875 25.390625 \nQ 45.796875 32.5625 45.484375 35.25 \nQ 45.171875 37.9375 44.390625 39.203125 \nQ 43.359375 40.921875 41.59375 41.875 \nQ 39.84375 42.828125 37.59375 42.828125 \nQ 32.125 42.828125 29 38.59375 \nQ 25.875 34.375 25.875 26.90625 \nL 25.875 0 \nL 8.40625 0 \nL 8.40625 75.984375 \nL 25.875 75.984375 \nL 25.875 46.6875 \nQ 29.828125 51.46875 34.265625 53.734375 \nQ 38.71875 56 44.09375 56 \nQ 53.5625 56 58.46875 50.1875 \nQ 63.375 44.390625 63.375 33.296875 \nz\n\" id=\"DejaVuSans-Bold-104\"/>\n      <path d=\"M 37.703125 -13.1875 \nL 23.1875 -13.1875 \nQ 15.71875 -1.125 12.15625 9.734375 \nQ 8.59375 20.609375 8.59375 31.296875 \nQ 8.59375 42 12.171875 52.953125 \nQ 15.765625 63.921875 23.1875 75.875 \nL 37.703125 75.875 \nQ 31.453125 64.3125 28.328125 53.25 \nQ 25.203125 42.1875 25.203125 31.390625 \nQ 25.203125 20.609375 28.296875 9.515625 \nQ 31.390625 -1.5625 37.703125 -13.1875 \nz\n\" id=\"DejaVuSans-Bold-40\"/>\n      <path d=\"M 9.1875 72.90625 \nL 27.984375 72.90625 \nL 27.984375 29.203125 \nQ 27.984375 20.171875 30.9375 16.28125 \nQ 33.890625 12.40625 40.578125 12.40625 \nQ 47.3125 12.40625 50.265625 16.28125 \nQ 53.21875 20.171875 53.21875 29.203125 \nL 53.21875 72.90625 \nL 72.015625 72.90625 \nL 72.015625 29.203125 \nQ 72.015625 13.71875 64.25 6.140625 \nQ 56.5 -1.421875 40.578125 -1.421875 \nQ 24.703125 -1.421875 16.9375 6.140625 \nQ 9.1875 13.71875 9.1875 29.203125 \nz\n\" id=\"DejaVuSans-Bold-85\"/>\n      <path d=\"M 38.8125 -14.703125 \nL 30.90625 -14.703125 \nL 30.859375 0 \nQ 24.75 0.25 19.03125 1.359375 \nQ 13.328125 2.484375 7.90625 4.5 \nL 7.90625 17.28125 \nQ 13.53125 14.40625 19.265625 12.859375 \nQ 25 11.328125 30.90625 11.140625 \nL 30.90625 26.3125 \nL 29.296875 26.609375 \nQ 17.625 28.65625 12.71875 33.046875 \nQ 7.8125 37.453125 7.8125 45.703125 \nQ 7.8125 54.4375 13.796875 59.34375 \nQ 19.78125 64.265625 30.859375 64.703125 \nL 30.90625 75.984375 \nL 38.8125 75.984375 \nL 38.8125 64.890625 \nQ 43.703125 64.5 48.578125 63.671875 \nQ 53.46875 62.84375 58.40625 61.53125 \nL 58.40625 49.125 \nQ 53.515625 51.171875 48.625 52.3125 \nQ 43.75 53.46875 38.8125 53.71875 \nL 38.8125 39.703125 \nL 40.375 39.40625 \nQ 52.78125 37.453125 57.78125 32.890625 \nQ 62.796875 28.328125 62.796875 19.390625 \nQ 62.796875 10.40625 56.828125 5.59375 \nQ 50.875 0.78125 38.8125 0.09375 \nz\nM 30.90625 40.828125 \nL 30.90625 53.5625 \nQ 27.4375 53.375 25.359375 51.6875 \nQ 23.296875 50 23.296875 47.40625 \nQ 23.296875 44.53125 25.1875 42.890625 \nQ 27.09375 41.265625 30.90625 40.828125 \nz\nM 38.8125 24.90625 \nL 38.8125 11.328125 \nQ 43.0625 11.375 45.1875 12.984375 \nQ 47.3125 14.59375 47.3125 17.828125 \nQ 47.3125 21.140625 45.359375 22.78125 \nQ 43.40625 24.421875 38.8125 24.90625 \nz\n\" id=\"DejaVuSans-Bold-36\"/>\n      <path d=\"M 27.984375 58.6875 \nL 27.984375 14.203125 \nL 34.71875 14.203125 \nQ 46.234375 14.203125 52.3125 19.921875 \nQ 58.40625 25.640625 58.40625 36.53125 \nQ 58.40625 47.359375 52.34375 53.015625 \nQ 46.296875 58.6875 34.71875 58.6875 \nz\nM 9.1875 72.90625 \nL 29 72.90625 \nQ 45.609375 72.90625 53.734375 70.53125 \nQ 61.859375 68.171875 67.671875 62.5 \nQ 72.796875 57.5625 75.28125 51.109375 \nQ 77.78125 44.671875 77.78125 36.53125 \nQ 77.78125 28.265625 75.28125 21.796875 \nQ 72.796875 15.328125 67.671875 10.40625 \nQ 61.8125 4.734375 53.609375 2.359375 \nQ 45.40625 0 29 0 \nL 9.1875 0 \nz\n\" id=\"DejaVuSans-Bold-68\"/>\n      <path d=\"M 8.015625 -13.1875 \nQ 14.265625 -1.5625 17.390625 9.515625 \nQ 20.515625 20.609375 20.515625 31.390625 \nQ 20.515625 42.1875 17.390625 53.25 \nQ 14.265625 64.3125 8.015625 75.875 \nL 22.515625 75.875 \nQ 29.9375 63.921875 33.515625 52.953125 \nQ 37.109375 42 37.109375 31.296875 \nQ 37.109375 20.609375 33.546875 9.734375 \nQ 29.984375 -1.125 22.515625 -13.1875 \nz\n\" id=\"DejaVuSans-Bold-41\"/>\n     </defs>\n     <g style=\"fill:#262626;\" transform=\"translate(55.175937 226.870469)rotate(-90)scale(0.1 -0.1)\">\n      <use xlink:href=\"#DejaVuSans-Bold-69\"/>\n      <use x=\"68.310547\" xlink:href=\"#DejaVuSans-Bold-97\"/>\n      <use x=\"135.791016\" xlink:href=\"#DejaVuSans-Bold-114\"/>\n      <use x=\"185.107422\" xlink:href=\"#DejaVuSans-Bold-110\"/>\n      <use x=\"256.298828\" xlink:href=\"#DejaVuSans-Bold-101\"/>\n      <use x=\"324.121094\" xlink:href=\"#DejaVuSans-Bold-100\"/>\n      <use x=\"395.703125\" xlink:href=\"#DejaVuSans-Bold-32\"/>\n      <use x=\"430.517578\" xlink:href=\"#DejaVuSans-Bold-109\"/>\n      <use x=\"534.716797\" xlink:href=\"#DejaVuSans-Bold-111\"/>\n      <use x=\"603.417969\" xlink:href=\"#DejaVuSans-Bold-114\"/>\n      <use x=\"652.734375\" xlink:href=\"#DejaVuSans-Bold-101\"/>\n      <use x=\"720.556641\" xlink:href=\"#DejaVuSans-Bold-32\"/>\n      <use x=\"755.371094\" xlink:href=\"#DejaVuSans-Bold-116\"/>\n      <use x=\"803.173828\" xlink:href=\"#DejaVuSans-Bold-104\"/>\n      <use x=\"874.365234\" xlink:href=\"#DejaVuSans-Bold-97\"/>\n      <use x=\"941.845703\" xlink:href=\"#DejaVuSans-Bold-110\"/>\n      <use x=\"1013.037109\" xlink:href=\"#DejaVuSans-Bold-32\"/>\n      <use x=\"1047.851562\" xlink:href=\"#DejaVuSans-Bold-40\"/>\n      <use x=\"1093.554688\" xlink:href=\"#DejaVuSans-Bold-85\"/>\n      <use x=\"1174.755859\" xlink:href=\"#DejaVuSans-Bold-36\"/>\n      <use x=\"1244.335938\" xlink:href=\"#DejaVuSans-Bold-68\"/>\n      <use x=\"1327.34375\" xlink:href=\"#DejaVuSans-Bold-41\"/>\n     </g>\n    </g>\n   </g>\n   <g id=\"patch_3\">\n    <path clip-path=\"url(#p2b9b3cc173)\" d=\"M 158.743125 281.646208 \nL 193.618125 281.646208 \nL 193.618125 279.298786 \nL 158.743125 279.298786 \nL 158.743125 281.646208 \nz\n\" style=\"fill:#3274a1;stroke:#3f3f3f;stroke-linejoin:miter;stroke-width:1.5;\"/>\n   </g>\n   <g id=\"patch_4\">\n    <path clip-path=\"url(#p2b9b3cc173)\" d=\"M 298.243125 269.414903 \nL 333.118125 269.414903 \nL 333.118125 219.995485 \nL 298.243125 219.995485 \nL 298.243125 269.414903 \nz\n\" style=\"fill:#e1812c;stroke:#3f3f3f;stroke-linejoin:miter;stroke-width:1.5;\"/>\n   </g>\n   <g id=\"line2d_14\">\n    <path clip-path=\"url(#p2b9b3cc173)\" d=\"M 176.180625 281.646208 \nL 176.180625 281.76358 \n\" style=\"fill:none;stroke:#3f3f3f;stroke-linecap:round;stroke-width:1.5;\"/>\n   </g>\n   <g id=\"line2d_15\">\n    <path clip-path=\"url(#p2b9b3cc173)\" d=\"M 176.180625 279.298786 \nL 176.180625 276.827815 \n\" style=\"fill:none;stroke:#3f3f3f;stroke-linecap:round;stroke-width:1.5;\"/>\n   </g>\n   <g id=\"line2d_16\">\n    <path clip-path=\"url(#p2b9b3cc173)\" d=\"M 167.461875 281.76358 \nL 184.899375 281.76358 \n\" style=\"fill:none;stroke:#3f3f3f;stroke-linecap:round;stroke-width:1.5;\"/>\n   </g>\n   <g id=\"line2d_17\">\n    <path clip-path=\"url(#p2b9b3cc173)\" d=\"M 167.461875 276.827815 \nL 184.899375 276.827815 \n\" style=\"fill:none;stroke:#3f3f3f;stroke-linecap:round;stroke-width:1.5;\"/>\n   </g>\n   <g id=\"line2d_18\">\n    <defs>\n     <path d=\"M -0 3.535534 \nL 2.12132 0 \nL -0 -3.535534 \nL -2.12132 -0 \nz\n\" id=\"m212fa1c33e\" style=\"stroke:#3f3f3f;stroke-linejoin:miter;\"/>\n    </defs>\n    <g clip-path=\"url(#p2b9b3cc173)\">\n     <use style=\"fill:#3f3f3f;stroke:#3f3f3f;stroke-linejoin:miter;\" x=\"176.180625\" xlink:href=\"#m212fa1c33e\" y=\"275.59233\"/>\n     <use style=\"fill:#3f3f3f;stroke:#3f3f3f;stroke-linejoin:miter;\" x=\"176.180625\" xlink:href=\"#m212fa1c33e\" y=\"269.414903\"/>\n     <use style=\"fill:#3f3f3f;stroke:#3f3f3f;stroke-linejoin:miter;\" x=\"176.180625\" xlink:href=\"#m212fa1c33e\" y=\"244.705194\"/>\n     <use style=\"fill:#3f3f3f;stroke:#3f3f3f;stroke-linejoin:miter;\" x=\"176.180625\" xlink:href=\"#m212fa1c33e\" y=\"275.59233\"/>\n     <use style=\"fill:#3f3f3f;stroke:#3f3f3f;stroke-linejoin:miter;\" x=\"176.180625\" xlink:href=\"#m212fa1c33e\" y=\"274.356844\"/>\n     <use style=\"fill:#3f3f3f;stroke:#3f3f3f;stroke-linejoin:miter;\" x=\"176.180625\" xlink:href=\"#m212fa1c33e\" y=\"269.414903\"/>\n     <use style=\"fill:#3f3f3f;stroke:#3f3f3f;stroke-linejoin:miter;\" x=\"176.180625\" xlink:href=\"#m212fa1c33e\" y=\"269.414903\"/>\n     <use style=\"fill:#3f3f3f;stroke:#3f3f3f;stroke-linejoin:miter;\" x=\"176.180625\" xlink:href=\"#m212fa1c33e\" y=\"275.59233\"/>\n     <use style=\"fill:#3f3f3f;stroke:#3f3f3f;stroke-linejoin:miter;\" x=\"176.180625\" xlink:href=\"#m212fa1c33e\" y=\"269.414903\"/>\n     <use style=\"fill:#3f3f3f;stroke:#3f3f3f;stroke-linejoin:miter;\" x=\"176.180625\" xlink:href=\"#m212fa1c33e\" y=\"274.356844\"/>\n     <use style=\"fill:#3f3f3f;stroke:#3f3f3f;stroke-linejoin:miter;\" x=\"176.180625\" xlink:href=\"#m212fa1c33e\" y=\"269.414903\"/>\n     <use style=\"fill:#3f3f3f;stroke:#3f3f3f;stroke-linejoin:miter;\" x=\"176.180625\" xlink:href=\"#m212fa1c33e\" y=\"269.414903\"/>\n     <use style=\"fill:#3f3f3f;stroke:#3f3f3f;stroke-linejoin:miter;\" x=\"176.180625\" xlink:href=\"#m212fa1c33e\" y=\"269.414903\"/>\n     <use style=\"fill:#3f3f3f;stroke:#3f3f3f;stroke-linejoin:miter;\" x=\"176.180625\" xlink:href=\"#m212fa1c33e\" y=\"207.640631\"/>\n     <use style=\"fill:#3f3f3f;stroke:#3f3f3f;stroke-linejoin:miter;\" x=\"176.180625\" xlink:href=\"#m212fa1c33e\" y=\"232.35034\"/>\n    </g>\n   </g>\n   <g id=\"line2d_19\">\n    <path clip-path=\"url(#p2b9b3cc173)\" d=\"M 315.680625 269.414903 \nL 315.680625 280.534272 \n\" style=\"fill:none;stroke:#3f3f3f;stroke-linecap:round;stroke-width:1.5;\"/>\n   </g>\n   <g id=\"line2d_20\">\n    <path clip-path=\"url(#p2b9b3cc173)\" d=\"M 315.680625 219.995485 \nL 315.680625 158.221214 \n\" style=\"fill:none;stroke:#3f3f3f;stroke-linecap:round;stroke-width:1.5;\"/>\n   </g>\n   <g id=\"line2d_21\">\n    <path clip-path=\"url(#p2b9b3cc173)\" d=\"M 306.961875 280.534272 \nL 324.399375 280.534272 \n\" style=\"fill:none;stroke:#3f3f3f;stroke-linecap:round;stroke-width:1.5;\"/>\n   </g>\n   <g id=\"line2d_22\">\n    <path clip-path=\"url(#p2b9b3cc173)\" d=\"M 306.961875 158.221214 \nL 324.399375 158.221214 \n\" style=\"fill:none;stroke:#3f3f3f;stroke-linecap:round;stroke-width:1.5;\"/>\n   </g>\n   <g id=\"line2d_23\">\n    <g clip-path=\"url(#p2b9b3cc173)\">\n     <use style=\"fill:#3f3f3f;stroke:#3f3f3f;stroke-linejoin:miter;\" x=\"315.680625\" xlink:href=\"#m212fa1c33e\" y=\"34.67267\"/>\n    </g>\n   </g>\n   <g id=\"line2d_24\">\n    <path clip-path=\"url(#p2b9b3cc173)\" d=\"M 106.430625 281.275563 \nL 385.430625 281.275563 \n\" style=\"fill:none;stroke:#0000ff;stroke-dasharray:5.55,2.4;stroke-dashoffset:0;stroke-width:1.5;\"/>\n   </g>\n   <g id=\"line2d_25\">\n    <path clip-path=\"url(#p2b9b3cc173)\" d=\"M 158.743125 281.275563 \nL 193.618125 281.275563 \n\" style=\"fill:none;stroke:#3f3f3f;stroke-linecap:round;stroke-width:1.5;\"/>\n   </g>\n   <g id=\"line2d_26\">\n    <path clip-path=\"url(#p2b9b3cc173)\" d=\"M 298.243125 257.060048 \nL 333.118125 257.060048 \n\" style=\"fill:none;stroke:#3f3f3f;stroke-linecap:round;stroke-width:1.5;\"/>\n   </g>\n   <g id=\"patch_5\">\n    <path d=\"M 106.430625 294.118125 \nL 106.430625 22.318125 \n\" style=\"fill:none;stroke:#ffffff;stroke-linecap:square;stroke-linejoin:miter;stroke-width:1.5;\"/>\n   </g>\n   <g id=\"patch_6\">\n    <path d=\"M 385.430625 294.118125 \nL 385.430625 22.318125 \n\" style=\"fill:none;stroke:#ffffff;stroke-linecap:square;stroke-linejoin:miter;stroke-width:1.5;\"/>\n   </g>\n   <g id=\"patch_7\">\n    <path d=\"M 106.430625 294.118125 \nL 385.430625 294.118125 \n\" style=\"fill:none;stroke:#ffffff;stroke-linecap:square;stroke-linejoin:miter;stroke-width:1.5;\"/>\n   </g>\n   <g id=\"patch_8\">\n    <path d=\"M 106.430625 22.318125 \nL 385.430625 22.318125 \n\" style=\"fill:none;stroke:#ffffff;stroke-linecap:square;stroke-linejoin:miter;stroke-width:1.5;\"/>\n   </g>\n   <g id=\"text_16\">\n    <!-- U$D 400 -->\n    <defs>\n     <path d=\"M 36.8125 57.421875 \nL 16.21875 26.90625 \nL 36.8125 26.90625 \nz\nM 33.6875 72.90625 \nL 54.59375 72.90625 \nL 54.59375 26.90625 \nL 64.984375 26.90625 \nL 64.984375 13.28125 \nL 54.59375 13.28125 \nL 54.59375 0 \nL 36.8125 0 \nL 36.8125 13.28125 \nL 4.5 13.28125 \nL 4.5 29.390625 \nz\n\" id=\"DejaVuSans-Bold-52\"/>\n     <path d=\"M 46 36.53125 \nQ 46 50.203125 43.4375 55.78125 \nQ 40.875 61.375 34.8125 61.375 \nQ 28.765625 61.375 26.171875 55.78125 \nQ 23.578125 50.203125 23.578125 36.53125 \nQ 23.578125 22.703125 26.171875 17.03125 \nQ 28.765625 11.375 34.8125 11.375 \nQ 40.828125 11.375 43.40625 17.03125 \nQ 46 22.703125 46 36.53125 \nz\nM 64.796875 36.375 \nQ 64.796875 18.265625 56.984375 8.421875 \nQ 49.171875 -1.421875 34.8125 -1.421875 \nQ 20.40625 -1.421875 12.59375 8.421875 \nQ 4.78125 18.265625 4.78125 36.375 \nQ 4.78125 54.546875 12.59375 64.375 \nQ 20.40625 74.21875 34.8125 74.21875 \nQ 49.171875 74.21875 56.984375 64.375 \nQ 64.796875 54.546875 64.796875 36.375 \nz\n\" id=\"DejaVuSans-Bold-48\"/>\n    </defs>\n    <g style=\"fill:#0000ff;\" transform=\"translate(211.055625 281.275563)scale(0.1 -0.1)\">\n     <use xlink:href=\"#DejaVuSans-Bold-85\"/>\n     <use x=\"81.201172\" xlink:href=\"#DejaVuSans-Bold-36\"/>\n     <use x=\"150.78125\" xlink:href=\"#DejaVuSans-Bold-68\"/>\n     <use x=\"233.789062\" xlink:href=\"#DejaVuSans-Bold-32\"/>\n     <use x=\"268.603516\" xlink:href=\"#DejaVuSans-Bold-52\"/>\n     <use x=\"338.183594\" xlink:href=\"#DejaVuSans-Bold-48\"/>\n     <use x=\"407.763672\" xlink:href=\"#DejaVuSans-Bold-48\"/>\n    </g>\n   </g>\n   <g id=\"text_17\">\n    <!-- Minimum amount earned by Brazilian DA freelancers at marketplace A -->\n    <defs>\n     <path d=\"M 9.1875 72.90625 \nL 33.109375 72.90625 \nL 49.703125 33.890625 \nL 66.40625 72.90625 \nL 90.28125 72.90625 \nL 90.28125 0 \nL 72.515625 0 \nL 72.515625 53.328125 \nL 55.71875 14.015625 \nL 43.796875 14.015625 \nL 27 53.328125 \nL 27 0 \nL 9.1875 0 \nz\n\" id=\"DejaVuSans-Bold-77\"/>\n     <path d=\"M 8.40625 54.6875 \nL 25.875 54.6875 \nL 25.875 0 \nL 8.40625 0 \nz\nM 8.40625 75.984375 \nL 25.875 75.984375 \nL 25.875 61.71875 \nL 8.40625 61.71875 \nz\n\" id=\"DejaVuSans-Bold-105\"/>\n     <path d=\"M 7.8125 21.296875 \nL 7.8125 54.6875 \nL 25.390625 54.6875 \nL 25.390625 49.21875 \nQ 25.390625 44.78125 25.34375 38.0625 \nQ 25.296875 31.34375 25.296875 29.109375 \nQ 25.296875 22.515625 25.640625 19.609375 \nQ 25.984375 16.703125 26.8125 15.375 \nQ 27.875 13.671875 29.609375 12.734375 \nQ 31.34375 11.8125 33.59375 11.8125 \nQ 39.0625 11.8125 42.1875 16.015625 \nQ 45.3125 20.21875 45.3125 27.6875 \nL 45.3125 54.6875 \nL 62.796875 54.6875 \nL 62.796875 0 \nL 45.3125 0 \nL 45.3125 7.90625 \nQ 41.359375 3.125 36.9375 0.84375 \nQ 32.515625 -1.421875 27.203125 -1.421875 \nQ 17.71875 -1.421875 12.765625 4.390625 \nQ 7.8125 10.203125 7.8125 21.296875 \nz\n\" id=\"DejaVuSans-Bold-117\"/>\n     <path d=\"M 37.5 11.28125 \nQ 43.109375 11.28125 46.0625 15.375 \nQ 49.03125 19.484375 49.03125 27.296875 \nQ 49.03125 35.109375 46.0625 39.203125 \nQ 43.109375 43.3125 37.5 43.3125 \nQ 31.890625 43.3125 28.875 39.1875 \nQ 25.875 35.0625 25.875 27.296875 \nQ 25.875 19.53125 28.875 15.40625 \nQ 31.890625 11.28125 37.5 11.28125 \nz\nM 25.875 46.6875 \nQ 29.5 51.46875 33.890625 53.734375 \nQ 38.28125 56 44 56 \nQ 54.109375 56 60.59375 47.96875 \nQ 67.09375 39.9375 67.09375 27.296875 \nQ 67.09375 14.65625 60.59375 6.609375 \nQ 54.109375 -1.421875 44 -1.421875 \nQ 38.28125 -1.421875 33.890625 0.84375 \nQ 29.5 3.125 25.875 7.90625 \nL 25.875 0 \nL 8.40625 0 \nL 8.40625 75.984375 \nL 25.875 75.984375 \nz\n\" id=\"DejaVuSans-Bold-98\"/>\n     <path d=\"M 1.21875 54.6875 \nL 18.703125 54.6875 \nL 33.40625 17.578125 \nL 45.90625 54.6875 \nL 63.375 54.6875 \nL 40.375 -5.171875 \nQ 36.921875 -14.3125 32.296875 -17.9375 \nQ 27.6875 -21.578125 20.125 -21.578125 \nL 10.015625 -21.578125 \nL 10.015625 -10.109375 \nL 15.484375 -10.109375 \nQ 19.921875 -10.109375 21.9375 -8.6875 \nQ 23.96875 -7.28125 25.09375 -3.609375 \nL 25.59375 -2.09375 \nz\n\" id=\"DejaVuSans-Bold-121\"/>\n     <path d=\"M 38.375 44.671875 \nQ 42.828125 44.671875 45.109375 46.625 \nQ 47.40625 48.578125 47.40625 52.390625 \nQ 47.40625 56.15625 45.109375 58.125 \nQ 42.828125 60.109375 38.375 60.109375 \nL 27.984375 60.109375 \nL 27.984375 44.671875 \nz\nM 39.015625 12.796875 \nQ 44.671875 12.796875 47.53125 15.1875 \nQ 50.390625 17.578125 50.390625 22.40625 \nQ 50.390625 27.15625 47.5625 29.515625 \nQ 44.734375 31.890625 39.015625 31.890625 \nL 27.984375 31.890625 \nL 27.984375 12.796875 \nz\nM 56.5 39.015625 \nQ 62.546875 37.25 65.859375 32.515625 \nQ 69.1875 27.78125 69.1875 20.90625 \nQ 69.1875 10.359375 62.0625 5.171875 \nQ 54.9375 0 40.375 0 \nL 9.1875 0 \nL 9.1875 72.90625 \nL 37.40625 72.90625 \nQ 52.59375 72.90625 59.40625 68.3125 \nQ 66.21875 63.71875 66.21875 53.609375 \nQ 66.21875 48.296875 63.71875 44.5625 \nQ 61.234375 40.828125 56.5 39.015625 \nz\n\" id=\"DejaVuSans-Bold-66\"/>\n     <path d=\"M 5.71875 54.6875 \nL 53.421875 54.6875 \nL 53.421875 42.484375 \nL 24.609375 12.5 \nL 53.421875 12.5 \nL 53.421875 0 \nL 4.5 0 \nL 4.5 12.203125 \nL 33.296875 42.1875 \nL 5.71875 42.1875 \nz\n\" id=\"DejaVuSans-Bold-122\"/>\n     <path d=\"M 53.421875 13.28125 \nL 24.03125 13.28125 \nL 19.390625 0 \nL 0.484375 0 \nL 27.484375 72.90625 \nL 49.90625 72.90625 \nL 76.90625 0 \nL 58.015625 0 \nz\nM 28.71875 26.8125 \nL 48.6875 26.8125 \nL 38.71875 55.8125 \nz\n\" id=\"DejaVuSans-Bold-65\"/>\n     <path d=\"M 44.390625 75.984375 \nL 44.390625 64.5 \nL 34.71875 64.5 \nQ 31 64.5 29.53125 63.15625 \nQ 28.078125 61.8125 28.078125 58.5 \nL 28.078125 54.6875 \nL 43.015625 54.6875 \nL 43.015625 42.1875 \nL 28.078125 42.1875 \nL 28.078125 0 \nL 10.59375 0 \nL 10.59375 42.1875 \nL 1.90625 42.1875 \nL 1.90625 54.6875 \nL 10.59375 54.6875 \nL 10.59375 58.5 \nQ 10.59375 67.4375 15.578125 71.703125 \nQ 20.5625 75.984375 31 75.984375 \nz\n\" id=\"DejaVuSans-Bold-102\"/>\n     <path d=\"M 51.125 52.984375 \nL 51.125 39.703125 \nQ 45.515625 42.046875 40.28125 43.21875 \nQ 35.0625 44.390625 30.421875 44.390625 \nQ 25.4375 44.390625 23.015625 43.140625 \nQ 20.609375 41.890625 20.609375 39.3125 \nQ 20.609375 37.203125 22.4375 36.078125 \nQ 24.265625 34.96875 29 34.421875 \nL 32.078125 33.984375 \nQ 45.515625 32.28125 50.140625 28.375 \nQ 54.78125 24.46875 54.78125 16.109375 \nQ 54.78125 7.375 48.328125 2.96875 \nQ 41.890625 -1.421875 29.109375 -1.421875 \nQ 23.6875 -1.421875 17.890625 -0.5625 \nQ 12.109375 0.296875 6 2 \nL 6 15.28125 \nQ 11.234375 12.75 16.71875 11.46875 \nQ 22.21875 10.203125 27.875 10.203125 \nQ 33.015625 10.203125 35.59375 11.609375 \nQ 38.1875 13.03125 38.1875 15.828125 \nQ 38.1875 18.171875 36.40625 19.3125 \nQ 34.625 20.453125 29.296875 21.09375 \nL 26.21875 21.484375 \nQ 14.546875 22.953125 9.859375 26.90625 \nQ 5.171875 30.859375 5.171875 38.921875 \nQ 5.171875 47.609375 11.125 51.796875 \nQ 17.09375 56 29.390625 56 \nQ 34.234375 56 39.546875 55.265625 \nQ 44.875 54.546875 51.125 52.984375 \nz\n\" id=\"DejaVuSans-Bold-115\"/>\n     <path d=\"M 8.40625 75.984375 \nL 25.875 75.984375 \nL 25.875 34.625 \nL 46 54.6875 \nL 66.3125 54.6875 \nL 39.59375 29.59375 \nL 68.40625 0 \nL 47.21875 0 \nL 25.875 22.796875 \nL 25.875 0 \nL 8.40625 0 \nz\n\" id=\"DejaVuSans-Bold-107\"/>\n    </defs>\n    <g style=\"fill:#262626;\" transform=\"translate(7.2 16.318125)scale(0.12 -0.12)\">\n     <use xlink:href=\"#DejaVuSans-Bold-77\"/>\n     <use x=\"99.511719\" xlink:href=\"#DejaVuSans-Bold-105\"/>\n     <use x=\"133.789062\" xlink:href=\"#DejaVuSans-Bold-110\"/>\n     <use x=\"204.980469\" xlink:href=\"#DejaVuSans-Bold-105\"/>\n     <use x=\"239.257812\" xlink:href=\"#DejaVuSans-Bold-109\"/>\n     <use x=\"343.457031\" xlink:href=\"#DejaVuSans-Bold-117\"/>\n     <use x=\"414.648438\" xlink:href=\"#DejaVuSans-Bold-109\"/>\n     <use x=\"518.847656\" xlink:href=\"#DejaVuSans-Bold-32\"/>\n     <use x=\"553.662109\" xlink:href=\"#DejaVuSans-Bold-97\"/>\n     <use x=\"621.142578\" xlink:href=\"#DejaVuSans-Bold-109\"/>\n     <use x=\"725.341797\" xlink:href=\"#DejaVuSans-Bold-111\"/>\n     <use x=\"794.042969\" xlink:href=\"#DejaVuSans-Bold-117\"/>\n     <use x=\"865.234375\" xlink:href=\"#DejaVuSans-Bold-110\"/>\n     <use x=\"936.425781\" xlink:href=\"#DejaVuSans-Bold-116\"/>\n     <use x=\"984.228516\" xlink:href=\"#DejaVuSans-Bold-32\"/>\n     <use x=\"1019.042969\" xlink:href=\"#DejaVuSans-Bold-101\"/>\n     <use x=\"1086.865234\" xlink:href=\"#DejaVuSans-Bold-97\"/>\n     <use x=\"1154.345703\" xlink:href=\"#DejaVuSans-Bold-114\"/>\n     <use x=\"1203.662109\" xlink:href=\"#DejaVuSans-Bold-110\"/>\n     <use x=\"1274.853516\" xlink:href=\"#DejaVuSans-Bold-101\"/>\n     <use x=\"1342.675781\" xlink:href=\"#DejaVuSans-Bold-100\"/>\n     <use x=\"1414.257812\" xlink:href=\"#DejaVuSans-Bold-32\"/>\n     <use x=\"1449.072266\" xlink:href=\"#DejaVuSans-Bold-98\"/>\n     <use x=\"1520.654297\" xlink:href=\"#DejaVuSans-Bold-121\"/>\n     <use x=\"1585.839844\" xlink:href=\"#DejaVuSans-Bold-32\"/>\n     <use x=\"1620.654297\" xlink:href=\"#DejaVuSans-Bold-66\"/>\n     <use x=\"1696.875\" xlink:href=\"#DejaVuSans-Bold-114\"/>\n     <use x=\"1746.191406\" xlink:href=\"#DejaVuSans-Bold-97\"/>\n     <use x=\"1813.671875\" xlink:href=\"#DejaVuSans-Bold-122\"/>\n     <use x=\"1871.875\" xlink:href=\"#DejaVuSans-Bold-105\"/>\n     <use x=\"1906.152344\" xlink:href=\"#DejaVuSans-Bold-108\"/>\n     <use x=\"1940.429688\" xlink:href=\"#DejaVuSans-Bold-105\"/>\n     <use x=\"1974.707031\" xlink:href=\"#DejaVuSans-Bold-97\"/>\n     <use x=\"2042.1875\" xlink:href=\"#DejaVuSans-Bold-110\"/>\n     <use x=\"2113.378906\" xlink:href=\"#DejaVuSans-Bold-32\"/>\n     <use x=\"2148.193359\" xlink:href=\"#DejaVuSans-Bold-68\"/>\n     <use x=\"2231.201172\" xlink:href=\"#DejaVuSans-Bold-65\"/>\n     <use x=\"2308.59375\" xlink:href=\"#DejaVuSans-Bold-32\"/>\n     <use x=\"2343.408203\" xlink:href=\"#DejaVuSans-Bold-102\"/>\n     <use x=\"2386.914062\" xlink:href=\"#DejaVuSans-Bold-114\"/>\n     <use x=\"2436.230469\" xlink:href=\"#DejaVuSans-Bold-101\"/>\n     <use x=\"2504.052734\" xlink:href=\"#DejaVuSans-Bold-101\"/>\n     <use x=\"2571.875\" xlink:href=\"#DejaVuSans-Bold-108\"/>\n     <use x=\"2606.152344\" xlink:href=\"#DejaVuSans-Bold-97\"/>\n     <use x=\"2673.632812\" xlink:href=\"#DejaVuSans-Bold-110\"/>\n     <use x=\"2744.824219\" xlink:href=\"#DejaVuSans-Bold-99\"/>\n     <use x=\"2804.101562\" xlink:href=\"#DejaVuSans-Bold-101\"/>\n     <use x=\"2871.923828\" xlink:href=\"#DejaVuSans-Bold-114\"/>\n     <use x=\"2921.240234\" xlink:href=\"#DejaVuSans-Bold-115\"/>\n     <use x=\"2980.761719\" xlink:href=\"#DejaVuSans-Bold-32\"/>\n     <use x=\"3015.576172\" xlink:href=\"#DejaVuSans-Bold-97\"/>\n     <use x=\"3083.056641\" xlink:href=\"#DejaVuSans-Bold-116\"/>\n     <use x=\"3130.859375\" xlink:href=\"#DejaVuSans-Bold-32\"/>\n     <use x=\"3165.673828\" xlink:href=\"#DejaVuSans-Bold-109\"/>\n     <use x=\"3269.873047\" xlink:href=\"#DejaVuSans-Bold-97\"/>\n     <use x=\"3337.353516\" xlink:href=\"#DejaVuSans-Bold-114\"/>\n     <use x=\"3386.669922\" xlink:href=\"#DejaVuSans-Bold-107\"/>\n     <use x=\"3450.548828\" xlink:href=\"#DejaVuSans-Bold-101\"/>\n     <use x=\"3518.371094\" xlink:href=\"#DejaVuSans-Bold-116\"/>\n     <use x=\"3566.173828\" xlink:href=\"#DejaVuSans-Bold-112\"/>\n     <use x=\"3637.755859\" xlink:href=\"#DejaVuSans-Bold-108\"/>\n     <use x=\"3672.033203\" xlink:href=\"#DejaVuSans-Bold-97\"/>\n     <use x=\"3739.513672\" xlink:href=\"#DejaVuSans-Bold-99\"/>\n     <use x=\"3798.791016\" xlink:href=\"#DejaVuSans-Bold-101\"/>\n     <use x=\"3866.613281\" xlink:href=\"#DejaVuSans-Bold-32\"/>\n     <use x=\"3901.427734\" xlink:href=\"#DejaVuSans-Bold-65\"/>\n    </g>\n   </g>\n  </g>\n </g>\n <defs>\n  <clipPath id=\"p2b9b3cc173\">\n   <rect height=\"271.8\" width=\"279\" x=\"106.430625\" y=\"22.318125\"/>\n  </clipPath>\n </defs>\n</svg>\n"
          },
          "metadata": {}
        }
      ]
    },
    {
      "cell_type": "code",
      "source": [
        "top_rated['Amount_earned'].max() / non_top_rated['Amount_earned'].max()"
      ],
      "metadata": {
        "colab": {
          "base_uri": "https://localhost:8080/"
        },
        "id": "I1hrOZ48oHPo",
        "outputId": "81198645-77d5-41bf-e40b-d414394f5776"
      },
      "execution_count": null,
      "outputs": [
        {
          "output_type": "execute_result",
          "data": {
            "text/plain": [
              "3.3333333333333335"
            ]
          },
          "metadata": {},
          "execution_count": 130
        }
      ]
    },
    {
      "cell_type": "code",
      "source": [
        "50000/2000"
      ],
      "metadata": {
        "colab": {
          "base_uri": "https://localhost:8080/"
        },
        "id": "dFIts_a-p2Dc",
        "outputId": "b6853e9e-d08d-4016-f46b-31a224605819"
      },
      "execution_count": null,
      "outputs": [
        {
          "output_type": "execute_result",
          "data": {
            "text/plain": [
              "25.0"
            ]
          },
          "metadata": {},
          "execution_count": 131
        }
      ]
    },
    {
      "cell_type": "markdown",
      "source": [
        "> **A non-top-rated DA freelancer can earn U$D 400**\n",
        "\n",
        "> **A top-rated DA freelancer can earn U$D 20,000**\n",
        "\n",
        "> **A top-rated DA freelancer can earn 3 folds more than a non-top-rated one**\n",
        "\n",
        "> **About 75% of top-rated DA earn 25 folds more than non-top-rated one**"
      ],
      "metadata": {
        "id": "iSmBaPH4oPeH"
      }
    },
    {
      "cell_type": "code",
      "source": [
        "sns.displot(dataset, x=\"Hourly_rate\", hue = 'Top_rated', kind=\"kde\", fill=True)\n",
        "plt"
      ],
      "metadata": {
        "colab": {
          "base_uri": "https://localhost:8080/",
          "height": 507
        },
        "id": "vWUvDPytpmWe",
        "outputId": "d6acca05-16b2-4bc0-fcdb-a5fcc0cd0ea4"
      },
      "execution_count": null,
      "outputs": [
        {
          "output_type": "execute_result",
          "data": {
            "text/plain": [
              "<seaborn.axisgrid.FacetGrid at 0x7fbe7062a510>"
            ]
          },
          "metadata": {},
          "execution_count": 170
        },
        {
          "output_type": "display_data",
          "data": {
            "text/plain": [
              "<Figure size 416.125x360 with 1 Axes>"
            ],
            "image/svg+xml": "<?xml version=\"1.0\" encoding=\"utf-8\" standalone=\"no\"?>\n<!DOCTYPE svg PUBLIC \"-//W3C//DTD SVG 1.1//EN\"\n  \"http://www.w3.org/Graphics/SVG/1.1/DTD/svg11.dtd\">\n<!-- Created with matplotlib (https://matplotlib.org/) -->\n<svg height=\"351.528125pt\" version=\"1.1\" viewBox=\"0 0 414.51875 351.528125\" width=\"414.51875pt\" xmlns=\"http://www.w3.org/2000/svg\" xmlns:xlink=\"http://www.w3.org/1999/xlink\">\n <defs>\n  <style type=\"text/css\">\n*{stroke-linecap:butt;stroke-linejoin:round;}\n  </style>\n </defs>\n <g id=\"figure_1\">\n  <g id=\"patch_1\">\n   <path d=\"M 0 351.528125 \nL 414.51875 351.528125 \nL 414.51875 0 \nL 0 0 \nz\n\" style=\"fill:#ffffff;\"/>\n  </g>\n  <g id=\"axes_1\">\n   <g id=\"patch_2\">\n    <path d=\"M 62.86875 313.69375 \nL 341.2325 313.69375 \nL 341.2325 7.2 \nL 62.86875 7.2 \nz\n\" style=\"fill:#eaeaf2;\"/>\n   </g>\n   <g id=\"matplotlib.axis_1\">\n    <g id=\"xtick_1\">\n     <g id=\"text_1\">\n      <!-- 0 -->\n      <defs>\n       <path d=\"M 31.78125 66.40625 \nQ 24.171875 66.40625 20.328125 58.90625 \nQ 16.5 51.421875 16.5 36.375 \nQ 16.5 21.390625 20.328125 13.890625 \nQ 24.171875 6.390625 31.78125 6.390625 \nQ 39.453125 6.390625 43.28125 13.890625 \nQ 47.125 21.390625 47.125 36.375 \nQ 47.125 51.421875 43.28125 58.90625 \nQ 39.453125 66.40625 31.78125 66.40625 \nz\nM 31.78125 74.21875 \nQ 44.046875 74.21875 50.515625 64.515625 \nQ 56.984375 54.828125 56.984375 36.375 \nQ 56.984375 17.96875 50.515625 8.265625 \nQ 44.046875 -1.421875 31.78125 -1.421875 \nQ 19.53125 -1.421875 13.0625 8.265625 \nQ 6.59375 17.96875 6.59375 36.375 \nQ 6.59375 54.828125 13.0625 64.515625 \nQ 19.53125 74.21875 31.78125 74.21875 \nz\n\" id=\"DejaVuSans-48\"/>\n      </defs>\n      <g style=\"fill:#262626;\" transform=\"translate(105.652354 328.292187)scale(0.1 -0.1)\">\n       <use xlink:href=\"#DejaVuSans-48\"/>\n      </g>\n     </g>\n    </g>\n    <g id=\"xtick_2\">\n     <g id=\"text_2\">\n      <!-- 50 -->\n      <defs>\n       <path d=\"M 10.796875 72.90625 \nL 49.515625 72.90625 \nL 49.515625 64.59375 \nL 19.828125 64.59375 \nL 19.828125 46.734375 \nQ 21.96875 47.46875 24.109375 47.828125 \nQ 26.265625 48.1875 28.421875 48.1875 \nQ 40.625 48.1875 47.75 41.5 \nQ 54.890625 34.8125 54.890625 23.390625 \nQ 54.890625 11.625 47.5625 5.09375 \nQ 40.234375 -1.421875 26.90625 -1.421875 \nQ 22.3125 -1.421875 17.546875 -0.640625 \nQ 12.796875 0.140625 7.71875 1.703125 \nL 7.71875 11.625 \nQ 12.109375 9.234375 16.796875 8.0625 \nQ 21.484375 6.890625 26.703125 6.890625 \nQ 35.15625 6.890625 40.078125 11.328125 \nQ 45.015625 15.765625 45.015625 23.390625 \nQ 45.015625 31 40.078125 35.4375 \nQ 35.15625 39.890625 26.703125 39.890625 \nQ 22.75 39.890625 18.8125 39.015625 \nQ 14.890625 38.140625 10.796875 36.28125 \nz\n\" id=\"DejaVuSans-53\"/>\n      </defs>\n      <g style=\"fill:#262626;\" transform=\"translate(150.267286 328.292187)scale(0.1 -0.1)\">\n       <use xlink:href=\"#DejaVuSans-53\"/>\n       <use x=\"63.623047\" xlink:href=\"#DejaVuSans-48\"/>\n      </g>\n     </g>\n    </g>\n    <g id=\"xtick_3\">\n     <g id=\"text_3\">\n      <!-- 100 -->\n      <defs>\n       <path d=\"M 12.40625 8.296875 \nL 28.515625 8.296875 \nL 28.515625 63.921875 \nL 10.984375 60.40625 \nL 10.984375 69.390625 \nL 28.421875 72.90625 \nL 38.28125 72.90625 \nL 38.28125 8.296875 \nL 54.390625 8.296875 \nL 54.390625 0 \nL 12.40625 0 \nz\n\" id=\"DejaVuSans-49\"/>\n      </defs>\n      <g style=\"fill:#262626;\" transform=\"translate(194.882219 328.292187)scale(0.1 -0.1)\">\n       <use xlink:href=\"#DejaVuSans-49\"/>\n       <use x=\"63.623047\" xlink:href=\"#DejaVuSans-48\"/>\n       <use x=\"127.246094\" xlink:href=\"#DejaVuSans-48\"/>\n      </g>\n     </g>\n    </g>\n    <g id=\"xtick_4\">\n     <g id=\"text_4\">\n      <!-- 150 -->\n      <g style=\"fill:#262626;\" transform=\"translate(242.678402 328.292187)scale(0.1 -0.1)\">\n       <use xlink:href=\"#DejaVuSans-49\"/>\n       <use x=\"63.623047\" xlink:href=\"#DejaVuSans-53\"/>\n       <use x=\"127.246094\" xlink:href=\"#DejaVuSans-48\"/>\n      </g>\n     </g>\n    </g>\n    <g id=\"xtick_5\">\n     <g id=\"text_5\">\n      <!-- 200 -->\n      <defs>\n       <path d=\"M 19.1875 8.296875 \nL 53.609375 8.296875 \nL 53.609375 0 \nL 7.328125 0 \nL 7.328125 8.296875 \nQ 12.9375 14.109375 22.625 23.890625 \nQ 32.328125 33.6875 34.8125 36.53125 \nQ 39.546875 41.84375 41.421875 45.53125 \nQ 43.3125 49.21875 43.3125 52.78125 \nQ 43.3125 58.59375 39.234375 62.25 \nQ 35.15625 65.921875 28.609375 65.921875 \nQ 23.96875 65.921875 18.8125 64.3125 \nQ 13.671875 62.703125 7.8125 59.421875 \nL 7.8125 69.390625 \nQ 13.765625 71.78125 18.9375 73 \nQ 24.125 74.21875 28.421875 74.21875 \nQ 39.75 74.21875 46.484375 68.546875 \nQ 53.21875 62.890625 53.21875 53.421875 \nQ 53.21875 48.921875 51.53125 44.890625 \nQ 49.859375 40.875 45.40625 35.40625 \nQ 44.1875 33.984375 37.640625 27.21875 \nQ 31.109375 20.453125 19.1875 8.296875 \nz\n\" id=\"DejaVuSans-50\"/>\n      </defs>\n      <g style=\"fill:#262626;\" transform=\"translate(290.474584 328.292187)scale(0.1 -0.1)\">\n       <use xlink:href=\"#DejaVuSans-50\"/>\n       <use x=\"63.623047\" xlink:href=\"#DejaVuSans-48\"/>\n       <use x=\"127.246094\" xlink:href=\"#DejaVuSans-48\"/>\n      </g>\n     </g>\n    </g>\n    <g id=\"text_6\">\n     <!-- Hourly_rate -->\n     <defs>\n      <path d=\"M 9.8125 72.90625 \nL 19.671875 72.90625 \nL 19.671875 43.015625 \nL 55.515625 43.015625 \nL 55.515625 72.90625 \nL 65.375 72.90625 \nL 65.375 0 \nL 55.515625 0 \nL 55.515625 34.71875 \nL 19.671875 34.71875 \nL 19.671875 0 \nL 9.8125 0 \nz\n\" id=\"DejaVuSans-72\"/>\n      <path d=\"M 30.609375 48.390625 \nQ 23.390625 48.390625 19.1875 42.75 \nQ 14.984375 37.109375 14.984375 27.296875 \nQ 14.984375 17.484375 19.15625 11.84375 \nQ 23.34375 6.203125 30.609375 6.203125 \nQ 37.796875 6.203125 41.984375 11.859375 \nQ 46.1875 17.53125 46.1875 27.296875 \nQ 46.1875 37.015625 41.984375 42.703125 \nQ 37.796875 48.390625 30.609375 48.390625 \nz\nM 30.609375 56 \nQ 42.328125 56 49.015625 48.375 \nQ 55.71875 40.765625 55.71875 27.296875 \nQ 55.71875 13.875 49.015625 6.21875 \nQ 42.328125 -1.421875 30.609375 -1.421875 \nQ 18.84375 -1.421875 12.171875 6.21875 \nQ 5.515625 13.875 5.515625 27.296875 \nQ 5.515625 40.765625 12.171875 48.375 \nQ 18.84375 56 30.609375 56 \nz\n\" id=\"DejaVuSans-111\"/>\n      <path d=\"M 8.5 21.578125 \nL 8.5 54.6875 \nL 17.484375 54.6875 \nL 17.484375 21.921875 \nQ 17.484375 14.15625 20.5 10.265625 \nQ 23.53125 6.390625 29.59375 6.390625 \nQ 36.859375 6.390625 41.078125 11.03125 \nQ 45.3125 15.671875 45.3125 23.6875 \nL 45.3125 54.6875 \nL 54.296875 54.6875 \nL 54.296875 0 \nL 45.3125 0 \nL 45.3125 8.40625 \nQ 42.046875 3.421875 37.71875 1 \nQ 33.40625 -1.421875 27.6875 -1.421875 \nQ 18.265625 -1.421875 13.375 4.4375 \nQ 8.5 10.296875 8.5 21.578125 \nz\nM 31.109375 56 \nz\n\" id=\"DejaVuSans-117\"/>\n      <path d=\"M 41.109375 46.296875 \nQ 39.59375 47.171875 37.8125 47.578125 \nQ 36.03125 48 33.890625 48 \nQ 26.265625 48 22.1875 43.046875 \nQ 18.109375 38.09375 18.109375 28.8125 \nL 18.109375 0 \nL 9.078125 0 \nL 9.078125 54.6875 \nL 18.109375 54.6875 \nL 18.109375 46.1875 \nQ 20.953125 51.171875 25.484375 53.578125 \nQ 30.03125 56 36.53125 56 \nQ 37.453125 56 38.578125 55.875 \nQ 39.703125 55.765625 41.0625 55.515625 \nz\n\" id=\"DejaVuSans-114\"/>\n      <path d=\"M 9.421875 75.984375 \nL 18.40625 75.984375 \nL 18.40625 0 \nL 9.421875 0 \nz\n\" id=\"DejaVuSans-108\"/>\n      <path d=\"M 32.171875 -5.078125 \nQ 28.375 -14.84375 24.75 -17.8125 \nQ 21.140625 -20.796875 15.09375 -20.796875 \nL 7.90625 -20.796875 \nL 7.90625 -13.28125 \nL 13.1875 -13.28125 \nQ 16.890625 -13.28125 18.9375 -11.515625 \nQ 21 -9.765625 23.484375 -3.21875 \nL 25.09375 0.875 \nL 2.984375 54.6875 \nL 12.5 54.6875 \nL 29.59375 11.921875 \nL 46.6875 54.6875 \nL 56.203125 54.6875 \nz\n\" id=\"DejaVuSans-121\"/>\n      <path d=\"M 50.984375 -16.609375 \nL 50.984375 -23.578125 \nL -0.984375 -23.578125 \nL -0.984375 -16.609375 \nz\n\" id=\"DejaVuSans-95\"/>\n      <path d=\"M 34.28125 27.484375 \nQ 23.390625 27.484375 19.1875 25 \nQ 14.984375 22.515625 14.984375 16.5 \nQ 14.984375 11.71875 18.140625 8.90625 \nQ 21.296875 6.109375 26.703125 6.109375 \nQ 34.1875 6.109375 38.703125 11.40625 \nQ 43.21875 16.703125 43.21875 25.484375 \nL 43.21875 27.484375 \nz\nM 52.203125 31.203125 \nL 52.203125 0 \nL 43.21875 0 \nL 43.21875 8.296875 \nQ 40.140625 3.328125 35.546875 0.953125 \nQ 30.953125 -1.421875 24.3125 -1.421875 \nQ 15.921875 -1.421875 10.953125 3.296875 \nQ 6 8.015625 6 15.921875 \nQ 6 25.140625 12.171875 29.828125 \nQ 18.359375 34.515625 30.609375 34.515625 \nL 43.21875 34.515625 \nL 43.21875 35.40625 \nQ 43.21875 41.609375 39.140625 45 \nQ 35.0625 48.390625 27.6875 48.390625 \nQ 23 48.390625 18.546875 47.265625 \nQ 14.109375 46.140625 10.015625 43.890625 \nL 10.015625 52.203125 \nQ 14.9375 54.109375 19.578125 55.046875 \nQ 24.21875 56 28.609375 56 \nQ 40.484375 56 46.34375 49.84375 \nQ 52.203125 43.703125 52.203125 31.203125 \nz\n\" id=\"DejaVuSans-97\"/>\n      <path d=\"M 18.3125 70.21875 \nL 18.3125 54.6875 \nL 36.8125 54.6875 \nL 36.8125 47.703125 \nL 18.3125 47.703125 \nL 18.3125 18.015625 \nQ 18.3125 11.328125 20.140625 9.421875 \nQ 21.96875 7.515625 27.59375 7.515625 \nL 36.8125 7.515625 \nL 36.8125 0 \nL 27.59375 0 \nQ 17.1875 0 13.234375 3.875 \nQ 9.28125 7.765625 9.28125 18.015625 \nL 9.28125 47.703125 \nL 2.6875 47.703125 \nL 2.6875 54.6875 \nL 9.28125 54.6875 \nL 9.28125 70.21875 \nz\n\" id=\"DejaVuSans-116\"/>\n      <path d=\"M 56.203125 29.59375 \nL 56.203125 25.203125 \nL 14.890625 25.203125 \nQ 15.484375 15.921875 20.484375 11.0625 \nQ 25.484375 6.203125 34.421875 6.203125 \nQ 39.59375 6.203125 44.453125 7.46875 \nQ 49.3125 8.734375 54.109375 11.28125 \nL 54.109375 2.78125 \nQ 49.265625 0.734375 44.1875 -0.34375 \nQ 39.109375 -1.421875 33.890625 -1.421875 \nQ 20.796875 -1.421875 13.15625 6.1875 \nQ 5.515625 13.8125 5.515625 26.8125 \nQ 5.515625 40.234375 12.765625 48.109375 \nQ 20.015625 56 32.328125 56 \nQ 43.359375 56 49.78125 48.890625 \nQ 56.203125 41.796875 56.203125 29.59375 \nz\nM 47.21875 32.234375 \nQ 47.125 39.59375 43.09375 43.984375 \nQ 39.0625 48.390625 32.421875 48.390625 \nQ 24.90625 48.390625 20.390625 44.140625 \nQ 15.875 39.890625 15.1875 32.171875 \nz\n\" id=\"DejaVuSans-101\"/>\n     </defs>\n     <g style=\"fill:#262626;\" transform=\"translate(173.002188 341.970312)scale(0.1 -0.1)\">\n      <use xlink:href=\"#DejaVuSans-72\"/>\n      <use x=\"75.195312\" xlink:href=\"#DejaVuSans-111\"/>\n      <use x=\"136.376953\" xlink:href=\"#DejaVuSans-117\"/>\n      <use x=\"199.755859\" xlink:href=\"#DejaVuSans-114\"/>\n      <use x=\"240.869141\" xlink:href=\"#DejaVuSans-108\"/>\n      <use x=\"268.652344\" xlink:href=\"#DejaVuSans-121\"/>\n      <use x=\"327.832031\" xlink:href=\"#DejaVuSans-95\"/>\n      <use x=\"377.832031\" xlink:href=\"#DejaVuSans-114\"/>\n      <use x=\"418.945312\" xlink:href=\"#DejaVuSans-97\"/>\n      <use x=\"480.224609\" xlink:href=\"#DejaVuSans-116\"/>\n      <use x=\"519.433594\" xlink:href=\"#DejaVuSans-101\"/>\n     </g>\n    </g>\n   </g>\n   <g id=\"matplotlib.axis_2\">\n    <g id=\"ytick_1\">\n     <g id=\"text_7\">\n      <!-- 0.0000 -->\n      <defs>\n       <path d=\"M 10.6875 12.40625 \nL 21 12.40625 \nL 21 0 \nL 10.6875 0 \nz\n\" id=\"DejaVuSans-46\"/>\n      </defs>\n      <g style=\"fill:#262626;\" transform=\"translate(20.878125 317.492969)scale(0.1 -0.1)\">\n       <use xlink:href=\"#DejaVuSans-48\"/>\n       <use x=\"63.623047\" xlink:href=\"#DejaVuSans-46\"/>\n       <use x=\"95.410156\" xlink:href=\"#DejaVuSans-48\"/>\n       <use x=\"159.033203\" xlink:href=\"#DejaVuSans-48\"/>\n       <use x=\"222.65625\" xlink:href=\"#DejaVuSans-48\"/>\n       <use x=\"286.279297\" xlink:href=\"#DejaVuSans-48\"/>\n      </g>\n     </g>\n    </g>\n    <g id=\"ytick_2\">\n     <g id=\"text_8\">\n      <!-- 0.0025 -->\n      <g style=\"fill:#262626;\" transform=\"translate(20.878125 282.730086)scale(0.1 -0.1)\">\n       <use xlink:href=\"#DejaVuSans-48\"/>\n       <use x=\"63.623047\" xlink:href=\"#DejaVuSans-46\"/>\n       <use x=\"95.410156\" xlink:href=\"#DejaVuSans-48\"/>\n       <use x=\"159.033203\" xlink:href=\"#DejaVuSans-48\"/>\n       <use x=\"222.65625\" xlink:href=\"#DejaVuSans-50\"/>\n       <use x=\"286.279297\" xlink:href=\"#DejaVuSans-53\"/>\n      </g>\n     </g>\n    </g>\n    <g id=\"ytick_3\">\n     <g id=\"text_9\">\n      <!-- 0.0050 -->\n      <g style=\"fill:#262626;\" transform=\"translate(20.878125 247.967204)scale(0.1 -0.1)\">\n       <use xlink:href=\"#DejaVuSans-48\"/>\n       <use x=\"63.623047\" xlink:href=\"#DejaVuSans-46\"/>\n       <use x=\"95.410156\" xlink:href=\"#DejaVuSans-48\"/>\n       <use x=\"159.033203\" xlink:href=\"#DejaVuSans-48\"/>\n       <use x=\"222.65625\" xlink:href=\"#DejaVuSans-53\"/>\n       <use x=\"286.279297\" xlink:href=\"#DejaVuSans-48\"/>\n      </g>\n     </g>\n    </g>\n    <g id=\"ytick_4\">\n     <g id=\"text_10\">\n      <!-- 0.0075 -->\n      <defs>\n       <path d=\"M 8.203125 72.90625 \nL 55.078125 72.90625 \nL 55.078125 68.703125 \nL 28.609375 0 \nL 18.3125 0 \nL 43.21875 64.59375 \nL 8.203125 64.59375 \nz\n\" id=\"DejaVuSans-55\"/>\n      </defs>\n      <g style=\"fill:#262626;\" transform=\"translate(20.878125 213.204321)scale(0.1 -0.1)\">\n       <use xlink:href=\"#DejaVuSans-48\"/>\n       <use x=\"63.623047\" xlink:href=\"#DejaVuSans-46\"/>\n       <use x=\"95.410156\" xlink:href=\"#DejaVuSans-48\"/>\n       <use x=\"159.033203\" xlink:href=\"#DejaVuSans-48\"/>\n       <use x=\"222.65625\" xlink:href=\"#DejaVuSans-55\"/>\n       <use x=\"286.279297\" xlink:href=\"#DejaVuSans-53\"/>\n      </g>\n     </g>\n    </g>\n    <g id=\"ytick_5\">\n     <g id=\"text_11\">\n      <!-- 0.0100 -->\n      <g style=\"fill:#262626;\" transform=\"translate(20.878125 178.441439)scale(0.1 -0.1)\">\n       <use xlink:href=\"#DejaVuSans-48\"/>\n       <use x=\"63.623047\" xlink:href=\"#DejaVuSans-46\"/>\n       <use x=\"95.410156\" xlink:href=\"#DejaVuSans-48\"/>\n       <use x=\"159.033203\" xlink:href=\"#DejaVuSans-49\"/>\n       <use x=\"222.65625\" xlink:href=\"#DejaVuSans-48\"/>\n       <use x=\"286.279297\" xlink:href=\"#DejaVuSans-48\"/>\n      </g>\n     </g>\n    </g>\n    <g id=\"ytick_6\">\n     <g id=\"text_12\">\n      <!-- 0.0125 -->\n      <g style=\"fill:#262626;\" transform=\"translate(20.878125 143.678556)scale(0.1 -0.1)\">\n       <use xlink:href=\"#DejaVuSans-48\"/>\n       <use x=\"63.623047\" xlink:href=\"#DejaVuSans-46\"/>\n       <use x=\"95.410156\" xlink:href=\"#DejaVuSans-48\"/>\n       <use x=\"159.033203\" xlink:href=\"#DejaVuSans-49\"/>\n       <use x=\"222.65625\" xlink:href=\"#DejaVuSans-50\"/>\n       <use x=\"286.279297\" xlink:href=\"#DejaVuSans-53\"/>\n      </g>\n     </g>\n    </g>\n    <g id=\"ytick_7\">\n     <g id=\"text_13\">\n      <!-- 0.0150 -->\n      <g style=\"fill:#262626;\" transform=\"translate(20.878125 108.915674)scale(0.1 -0.1)\">\n       <use xlink:href=\"#DejaVuSans-48\"/>\n       <use x=\"63.623047\" xlink:href=\"#DejaVuSans-46\"/>\n       <use x=\"95.410156\" xlink:href=\"#DejaVuSans-48\"/>\n       <use x=\"159.033203\" xlink:href=\"#DejaVuSans-49\"/>\n       <use x=\"222.65625\" xlink:href=\"#DejaVuSans-53\"/>\n       <use x=\"286.279297\" xlink:href=\"#DejaVuSans-48\"/>\n      </g>\n     </g>\n    </g>\n    <g id=\"ytick_8\">\n     <g id=\"text_14\">\n      <!-- 0.0175 -->\n      <g style=\"fill:#262626;\" transform=\"translate(20.878125 74.152791)scale(0.1 -0.1)\">\n       <use xlink:href=\"#DejaVuSans-48\"/>\n       <use x=\"63.623047\" xlink:href=\"#DejaVuSans-46\"/>\n       <use x=\"95.410156\" xlink:href=\"#DejaVuSans-48\"/>\n       <use x=\"159.033203\" xlink:href=\"#DejaVuSans-49\"/>\n       <use x=\"222.65625\" xlink:href=\"#DejaVuSans-55\"/>\n       <use x=\"286.279297\" xlink:href=\"#DejaVuSans-53\"/>\n      </g>\n     </g>\n    </g>\n    <g id=\"ytick_9\">\n     <g id=\"text_15\">\n      <!-- 0.0200 -->\n      <g style=\"fill:#262626;\" transform=\"translate(20.878125 39.389909)scale(0.1 -0.1)\">\n       <use xlink:href=\"#DejaVuSans-48\"/>\n       <use x=\"63.623047\" xlink:href=\"#DejaVuSans-46\"/>\n       <use x=\"95.410156\" xlink:href=\"#DejaVuSans-48\"/>\n       <use x=\"159.033203\" xlink:href=\"#DejaVuSans-50\"/>\n       <use x=\"222.65625\" xlink:href=\"#DejaVuSans-48\"/>\n       <use x=\"286.279297\" xlink:href=\"#DejaVuSans-48\"/>\n      </g>\n     </g>\n    </g>\n    <g id=\"text_16\">\n     <!-- Density -->\n     <defs>\n      <path d=\"M 19.671875 64.796875 \nL 19.671875 8.109375 \nL 31.59375 8.109375 \nQ 46.6875 8.109375 53.6875 14.9375 \nQ 60.6875 21.78125 60.6875 36.53125 \nQ 60.6875 51.171875 53.6875 57.984375 \nQ 46.6875 64.796875 31.59375 64.796875 \nz\nM 9.8125 72.90625 \nL 30.078125 72.90625 \nQ 51.265625 72.90625 61.171875 64.09375 \nQ 71.09375 55.28125 71.09375 36.53125 \nQ 71.09375 17.671875 61.125 8.828125 \nQ 51.171875 0 30.078125 0 \nL 9.8125 0 \nz\n\" id=\"DejaVuSans-68\"/>\n      <path d=\"M 54.890625 33.015625 \nL 54.890625 0 \nL 45.90625 0 \nL 45.90625 32.71875 \nQ 45.90625 40.484375 42.875 44.328125 \nQ 39.84375 48.1875 33.796875 48.1875 \nQ 26.515625 48.1875 22.3125 43.546875 \nQ 18.109375 38.921875 18.109375 30.90625 \nL 18.109375 0 \nL 9.078125 0 \nL 9.078125 54.6875 \nL 18.109375 54.6875 \nL 18.109375 46.1875 \nQ 21.34375 51.125 25.703125 53.5625 \nQ 30.078125 56 35.796875 56 \nQ 45.21875 56 50.046875 50.171875 \nQ 54.890625 44.34375 54.890625 33.015625 \nz\n\" id=\"DejaVuSans-110\"/>\n      <path d=\"M 44.28125 53.078125 \nL 44.28125 44.578125 \nQ 40.484375 46.53125 36.375 47.5 \nQ 32.28125 48.484375 27.875 48.484375 \nQ 21.1875 48.484375 17.84375 46.4375 \nQ 14.5 44.390625 14.5 40.28125 \nQ 14.5 37.15625 16.890625 35.375 \nQ 19.28125 33.59375 26.515625 31.984375 \nL 29.59375 31.296875 \nQ 39.15625 29.25 43.1875 25.515625 \nQ 47.21875 21.78125 47.21875 15.09375 \nQ 47.21875 7.46875 41.1875 3.015625 \nQ 35.15625 -1.421875 24.609375 -1.421875 \nQ 20.21875 -1.421875 15.453125 -0.5625 \nQ 10.6875 0.296875 5.421875 2 \nL 5.421875 11.28125 \nQ 10.40625 8.6875 15.234375 7.390625 \nQ 20.0625 6.109375 24.8125 6.109375 \nQ 31.15625 6.109375 34.5625 8.28125 \nQ 37.984375 10.453125 37.984375 14.40625 \nQ 37.984375 18.0625 35.515625 20.015625 \nQ 33.0625 21.96875 24.703125 23.78125 \nL 21.578125 24.515625 \nQ 13.234375 26.265625 9.515625 29.90625 \nQ 5.8125 33.546875 5.8125 39.890625 \nQ 5.8125 47.609375 11.28125 51.796875 \nQ 16.75 56 26.8125 56 \nQ 31.78125 56 36.171875 55.265625 \nQ 40.578125 54.546875 44.28125 53.078125 \nz\n\" id=\"DejaVuSans-115\"/>\n      <path d=\"M 9.421875 54.6875 \nL 18.40625 54.6875 \nL 18.40625 0 \nL 9.421875 0 \nz\nM 9.421875 75.984375 \nL 18.40625 75.984375 \nL 18.40625 64.59375 \nL 9.421875 64.59375 \nz\n\" id=\"DejaVuSans-105\"/>\n     </defs>\n     <g style=\"fill:#262626;\" transform=\"translate(14.798438 179.455469)rotate(-90)scale(0.1 -0.1)\">\n      <use xlink:href=\"#DejaVuSans-68\"/>\n      <use x=\"77.001953\" xlink:href=\"#DejaVuSans-101\"/>\n      <use x=\"138.525391\" xlink:href=\"#DejaVuSans-110\"/>\n      <use x=\"201.904297\" xlink:href=\"#DejaVuSans-115\"/>\n      <use x=\"254.003906\" xlink:href=\"#DejaVuSans-105\"/>\n      <use x=\"281.787109\" xlink:href=\"#DejaVuSans-116\"/>\n      <use x=\"320.996094\" xlink:href=\"#DejaVuSans-121\"/>\n     </g>\n    </g>\n   </g>\n   <g id=\"PolyCollection_1\">\n    <defs>\n     <path d=\"M 75.521648 -37.880012 \nL 75.521648 -37.834375 \nL 76.312787 -37.834375 \nL 77.103926 -37.834375 \nL 77.895065 -37.834375 \nL 78.686204 -37.834375 \nL 79.477343 -37.834375 \nL 80.268482 -37.834375 \nL 81.059621 -37.834375 \nL 81.85076 -37.834375 \nL 82.641899 -37.834375 \nL 83.433038 -37.834375 \nL 84.224177 -37.834375 \nL 85.015316 -37.834375 \nL 85.806455 -37.834375 \nL 86.597594 -37.834375 \nL 87.388733 -37.834375 \nL 88.179872 -37.834375 \nL 88.971011 -37.834375 \nL 89.76215 -37.834375 \nL 90.553289 -37.834375 \nL 91.344428 -37.834375 \nL 92.135567 -37.834375 \nL 92.926706 -37.834375 \nL 93.717845 -37.834375 \nL 94.508983 -37.834375 \nL 95.300122 -37.834375 \nL 96.091261 -37.834375 \nL 96.8824 -37.834375 \nL 97.673539 -37.834375 \nL 98.464678 -37.834375 \nL 99.255817 -37.834375 \nL 100.046956 -37.834375 \nL 100.838095 -37.834375 \nL 101.629234 -37.834375 \nL 102.420373 -37.834375 \nL 103.211512 -37.834375 \nL 104.002651 -37.834375 \nL 104.79379 -37.834375 \nL 105.584929 -37.834375 \nL 106.376068 -37.834375 \nL 107.167207 -37.834375 \nL 107.958346 -37.834375 \nL 108.749485 -37.834375 \nL 109.540624 -37.834375 \nL 110.331763 -37.834375 \nL 111.122902 -37.834375 \nL 111.914041 -37.834375 \nL 112.70518 -37.834375 \nL 113.496319 -37.834375 \nL 114.287458 -37.834375 \nL 115.078597 -37.834375 \nL 115.869736 -37.834375 \nL 116.660875 -37.834375 \nL 117.452014 -37.834375 \nL 118.243153 -37.834375 \nL 119.034292 -37.834375 \nL 119.825431 -37.834375 \nL 120.61657 -37.834375 \nL 121.407709 -37.834375 \nL 122.198848 -37.834375 \nL 122.989987 -37.834375 \nL 123.781126 -37.834375 \nL 124.572265 -37.834375 \nL 125.363404 -37.834375 \nL 126.154543 -37.834375 \nL 126.945682 -37.834375 \nL 127.736821 -37.834375 \nL 128.52796 -37.834375 \nL 129.319099 -37.834375 \nL 130.110238 -37.834375 \nL 130.901377 -37.834375 \nL 131.692516 -37.834375 \nL 132.483655 -37.834375 \nL 133.274794 -37.834375 \nL 134.065933 -37.834375 \nL 134.857072 -37.834375 \nL 135.648211 -37.834375 \nL 136.43935 -37.834375 \nL 137.230489 -37.834375 \nL 138.021628 -37.834375 \nL 138.812767 -37.834375 \nL 139.603906 -37.834375 \nL 140.395045 -37.834375 \nL 141.186184 -37.834375 \nL 141.977323 -37.834375 \nL 142.768462 -37.834375 \nL 143.559601 -37.834375 \nL 144.35074 -37.834375 \nL 145.141879 -37.834375 \nL 145.933018 -37.834375 \nL 146.724157 -37.834375 \nL 147.515296 -37.834375 \nL 148.306435 -37.834375 \nL 149.097574 -37.834375 \nL 149.888713 -37.834375 \nL 150.679852 -37.834375 \nL 151.470991 -37.834375 \nL 152.26213 -37.834375 \nL 153.053269 -37.834375 \nL 153.844408 -37.834375 \nL 154.635547 -37.834375 \nL 155.426686 -37.834375 \nL 156.217825 -37.834375 \nL 157.008964 -37.834375 \nL 157.800103 -37.834375 \nL 158.591242 -37.834375 \nL 159.382381 -37.834375 \nL 160.17352 -37.834375 \nL 160.964659 -37.834375 \nL 161.755798 -37.834375 \nL 162.546937 -37.834375 \nL 163.338076 -37.834375 \nL 164.129215 -37.834375 \nL 164.920354 -37.834375 \nL 165.711493 -37.834375 \nL 166.502632 -37.834375 \nL 167.293771 -37.834375 \nL 168.08491 -37.834375 \nL 168.876049 -37.834375 \nL 169.667188 -37.834375 \nL 170.458327 -37.834375 \nL 171.249466 -37.834375 \nL 172.040605 -37.834375 \nL 172.831744 -37.834375 \nL 173.622883 -37.834375 \nL 174.414022 -37.834375 \nL 175.205161 -37.834375 \nL 175.9963 -37.834375 \nL 176.787439 -37.834375 \nL 177.578578 -37.834375 \nL 178.369716 -37.834375 \nL 179.160855 -37.834375 \nL 179.951994 -37.834375 \nL 180.743133 -37.834375 \nL 181.534272 -37.834375 \nL 182.325411 -37.834375 \nL 183.11655 -37.834375 \nL 183.907689 -37.834375 \nL 184.698828 -37.834375 \nL 185.489967 -37.834375 \nL 186.281106 -37.834375 \nL 187.072245 -37.834375 \nL 187.863384 -37.834375 \nL 188.654523 -37.834375 \nL 189.445662 -37.834375 \nL 190.236801 -37.834375 \nL 191.02794 -37.834375 \nL 191.819079 -37.834375 \nL 192.610218 -37.834375 \nL 193.401357 -37.834375 \nL 194.192496 -37.834375 \nL 194.983635 -37.834375 \nL 195.774774 -37.834375 \nL 196.565913 -37.834375 \nL 197.357052 -37.834375 \nL 198.148191 -37.834375 \nL 198.93933 -37.834375 \nL 199.730469 -37.834375 \nL 200.521608 -37.834375 \nL 201.312747 -37.834375 \nL 202.103886 -37.834375 \nL 202.895025 -37.834375 \nL 203.686164 -37.834375 \nL 204.477303 -37.834375 \nL 205.268442 -37.834375 \nL 206.059581 -37.834375 \nL 206.85072 -37.834375 \nL 207.641859 -37.834375 \nL 208.432998 -37.834375 \nL 209.224137 -37.834375 \nL 210.015276 -37.834375 \nL 210.806415 -37.834375 \nL 211.597554 -37.834375 \nL 212.388693 -37.834375 \nL 213.179832 -37.834375 \nL 213.970971 -37.834375 \nL 214.76211 -37.834375 \nL 215.553249 -37.834375 \nL 216.344388 -37.834375 \nL 217.135527 -37.834375 \nL 217.926666 -37.834375 \nL 218.717805 -37.834375 \nL 219.508944 -37.834375 \nL 220.300083 -37.834375 \nL 221.091222 -37.834375 \nL 221.882361 -37.834375 \nL 222.6735 -37.834375 \nL 223.464639 -37.834375 \nL 224.255778 -37.834375 \nL 225.046917 -37.834375 \nL 225.838056 -37.834375 \nL 226.629195 -37.834375 \nL 227.420334 -37.834375 \nL 228.211473 -37.834375 \nL 229.002612 -37.834375 \nL 229.793751 -37.834375 \nL 230.58489 -37.834375 \nL 231.376029 -37.834375 \nL 232.167168 -37.834375 \nL 232.958307 -37.834375 \nL 232.958307 -37.875326 \nL 232.958307 -37.875326 \nL 232.167168 -37.882666 \nL 231.376029 -37.89115 \nL 230.58489 -37.900922 \nL 229.793751 -37.91214 \nL 229.002612 -37.924975 \nL 228.211473 -37.93961 \nL 227.420334 -37.956242 \nL 226.629195 -37.975078 \nL 225.838056 -37.996338 \nL 225.046917 -38.020252 \nL 224.255778 -38.04706 \nL 223.464639 -38.077009 \nL 222.6735 -38.110352 \nL 221.882361 -38.147348 \nL 221.091222 -38.188254 \nL 220.300083 -38.233328 \nL 219.508944 -38.282825 \nL 218.717805 -38.33699 \nL 217.926666 -38.39606 \nL 217.135527 -38.460256 \nL 216.344388 -38.529782 \nL 215.553249 -38.604824 \nL 214.76211 -38.685539 \nL 213.970971 -38.772059 \nL 213.179832 -38.864486 \nL 212.388693 -38.962886 \nL 211.597554 -39.067294 \nL 210.806415 -39.177704 \nL 210.015276 -39.294074 \nL 209.224137 -39.416325 \nL 208.432998 -39.544338 \nL 207.641859 -39.677958 \nL 206.85072 -39.816999 \nL 206.059581 -39.961239 \nL 205.268442 -40.110431 \nL 204.477303 -40.264307 \nL 203.686164 -40.422577 \nL 202.895025 -40.584945 \nL 202.103886 -40.751105 \nL 201.312747 -40.920755 \nL 200.521608 -41.093604 \nL 199.730469 -41.269375 \nL 198.93933 -41.447814 \nL 198.148191 -41.628698 \nL 197.357052 -41.81184 \nL 196.565913 -41.997095 \nL 195.774774 -42.184361 \nL 194.983635 -42.373589 \nL 194.192496 -42.564779 \nL 193.401357 -42.757984 \nL 192.610218 -42.953306 \nL 191.819079 -43.150898 \nL 191.02794 -43.350957 \nL 190.236801 -43.553719 \nL 189.445662 -43.759452 \nL 188.654523 -43.968449 \nL 187.863384 -44.181019 \nL 187.072245 -44.397475 \nL 186.281106 -44.618124 \nL 185.489967 -44.843255 \nL 184.698828 -45.073133 \nL 183.907689 -45.307979 \nL 183.11655 -45.547968 \nL 182.325411 -45.793215 \nL 181.534272 -46.043768 \nL 180.743133 -46.299601 \nL 179.951994 -46.560609 \nL 179.160855 -46.826605 \nL 178.369716 -47.097318 \nL 177.578578 -47.372396 \nL 176.787439 -47.651405 \nL 175.9963 -47.933837 \nL 175.205161 -48.219116 \nL 174.414022 -48.506608 \nL 173.622883 -48.795627 \nL 172.831744 -49.085452 \nL 172.040605 -49.375334 \nL 171.249466 -49.664512 \nL 170.458327 -49.952225 \nL 169.667188 -50.237724 \nL 168.876049 -50.520284 \nL 168.08491 -50.799217 \nL 167.293771 -51.073879 \nL 166.502632 -51.343679 \nL 165.711493 -51.608087 \nL 164.920354 -51.866633 \nL 164.129215 -52.118916 \nL 163.338076 -52.364598 \nL 162.546937 -52.603404 \nL 161.755798 -52.835118 \nL 160.964659 -53.059574 \nL 160.17352 -53.276651 \nL 159.382381 -53.48626 \nL 158.591242 -53.688336 \nL 157.800103 -53.882826 \nL 157.008964 -54.069676 \nL 156.217825 -54.248821 \nL 155.426686 -54.420172 \nL 154.635547 -54.583609 \nL 153.844408 -54.738967 \nL 153.053269 -54.886034 \nL 152.26213 -55.024539 \nL 151.470991 -55.154155 \nL 150.679852 -55.274491 \nL 149.888713 -55.385097 \nL 149.097574 -55.485465 \nL 148.306435 -55.575032 \nL 147.515296 -55.65319 \nL 146.724157 -55.719292 \nL 145.933018 -55.772664 \nL 145.141879 -55.812614 \nL 144.35074 -55.838447 \nL 143.559601 -55.849475 \nL 142.768462 -55.845032 \nL 141.977323 -55.824487 \nL 141.186184 -55.787254 \nL 140.395045 -55.732808 \nL 139.603906 -55.660692 \nL 138.812767 -55.57053 \nL 138.021628 -55.46203 \nL 137.230489 -55.334999 \nL 136.43935 -55.189337 \nL 135.648211 -55.025049 \nL 134.857072 -54.842244 \nL 134.065933 -54.641133 \nL 133.274794 -54.422027 \nL 132.483655 -54.185339 \nL 131.692516 -53.931574 \nL 130.901377 -53.661326 \nL 130.110238 -53.375272 \nL 129.319099 -53.074162 \nL 128.52796 -52.758819 \nL 127.736821 -52.430123 \nL 126.945682 -52.089006 \nL 126.154543 -51.736449 \nL 125.363404 -51.373466 \nL 124.572265 -51.001104 \nL 123.781126 -50.620431 \nL 122.989987 -50.232535 \nL 122.198848 -49.838509 \nL 121.407709 -49.439457 \nL 120.61657 -49.036478 \nL 119.825431 -48.630668 \nL 119.034292 -48.223112 \nL 118.243153 -47.814882 \nL 117.452014 -47.40703 \nL 116.660875 -47.000589 \nL 115.869736 -46.596565 \nL 115.078597 -46.195934 \nL 114.287458 -45.79964 \nL 113.496319 -45.408591 \nL 112.70518 -45.023656 \nL 111.914041 -44.645661 \nL 111.122902 -44.275384 \nL 110.331763 -43.913555 \nL 109.540624 -43.560852 \nL 108.749485 -43.217896 \nL 107.958346 -42.88525 \nL 107.167207 -42.563417 \nL 106.376068 -42.252838 \nL 105.584929 -41.953889 \nL 104.79379 -41.666881 \nL 104.002651 -41.39206 \nL 103.211512 -41.129604 \nL 102.420373 -40.879628 \nL 101.629234 -40.642183 \nL 100.838095 -40.417254 \nL 100.046956 -40.20477 \nL 99.255817 -40.004599 \nL 98.464678 -39.816556 \nL 97.673539 -39.640407 \nL 96.8824 -39.475869 \nL 96.091261 -39.322618 \nL 95.300122 -39.180292 \nL 94.508983 -39.048497 \nL 93.717845 -38.926811 \nL 92.926706 -38.81479 \nL 92.135567 -38.711971 \nL 91.344428 -38.617879 \nL 90.553289 -38.532032 \nL 89.76215 -38.453942 \nL 88.971011 -38.383122 \nL 88.179872 -38.31909 \nL 87.388733 -38.261371 \nL 86.597594 -38.209502 \nL 85.806455 -38.163032 \nL 85.015316 -38.121526 \nL 84.224177 -38.084569 \nL 83.433038 -38.051762 \nL 82.641899 -38.022731 \nL 81.85076 -37.997119 \nL 81.059621 -37.974595 \nL 80.268482 -37.954847 \nL 79.477343 -37.937586 \nL 78.686204 -37.922548 \nL 77.895065 -37.909485 \nL 77.103926 -37.898175 \nL 76.312787 -37.888412 \nL 75.521648 -37.880012 \nz\n\" id=\"m58f9d53623\" style=\"stroke:#ff7f0e;\"/>\n    </defs>\n    <g clip-path=\"url(#pa9e227e2ed)\">\n     <use style=\"fill:#ff7f0e;fill-opacity:0.25;stroke:#ff7f0e;\" x=\"0\" xlink:href=\"#m58f9d53623\" y=\"351.528125\"/>\n    </g>\n   </g>\n   <g id=\"PolyCollection_2\">\n    <defs>\n     <path d=\"M 83.140107 -38.138997 \nL 83.140107 -37.834375 \nL 84.373471 -37.834375 \nL 85.606835 -37.834375 \nL 86.8402 -37.834375 \nL 88.073564 -37.834375 \nL 89.306928 -37.834375 \nL 90.540292 -37.834375 \nL 91.773657 -37.834375 \nL 93.007021 -37.834375 \nL 94.240385 -37.834375 \nL 95.47375 -37.834375 \nL 96.707114 -37.834375 \nL 97.940478 -37.834375 \nL 99.173843 -37.834375 \nL 100.407207 -37.834375 \nL 101.640571 -37.834375 \nL 102.873935 -37.834375 \nL 104.1073 -37.834375 \nL 105.340664 -37.834375 \nL 106.574028 -37.834375 \nL 107.807393 -37.834375 \nL 109.040757 -37.834375 \nL 110.274121 -37.834375 \nL 111.507486 -37.834375 \nL 112.74085 -37.834375 \nL 113.974214 -37.834375 \nL 115.207578 -37.834375 \nL 116.440943 -37.834375 \nL 117.674307 -37.834375 \nL 118.907671 -37.834375 \nL 120.141036 -37.834375 \nL 121.3744 -37.834375 \nL 122.607764 -37.834375 \nL 123.841129 -37.834375 \nL 125.074493 -37.834375 \nL 126.307857 -37.834375 \nL 127.541221 -37.834375 \nL 128.774586 -37.834375 \nL 130.00795 -37.834375 \nL 131.241314 -37.834375 \nL 132.474679 -37.834375 \nL 133.708043 -37.834375 \nL 134.941407 -37.834375 \nL 136.174772 -37.834375 \nL 137.408136 -37.834375 \nL 138.6415 -37.834375 \nL 139.874864 -37.834375 \nL 141.108229 -37.834375 \nL 142.341593 -37.834375 \nL 143.574957 -37.834375 \nL 144.808322 -37.834375 \nL 146.041686 -37.834375 \nL 147.27505 -37.834375 \nL 148.508415 -37.834375 \nL 149.741779 -37.834375 \nL 150.975143 -37.834375 \nL 152.208507 -37.834375 \nL 153.441872 -37.834375 \nL 154.675236 -37.834375 \nL 155.9086 -37.834375 \nL 157.141965 -37.834375 \nL 158.375329 -37.834375 \nL 159.608693 -37.834375 \nL 160.842058 -37.834375 \nL 162.075422 -37.834375 \nL 163.308786 -37.834375 \nL 164.54215 -37.834375 \nL 165.775515 -37.834375 \nL 167.008879 -37.834375 \nL 168.242243 -37.834375 \nL 169.475608 -37.834375 \nL 170.708972 -37.834375 \nL 171.942336 -37.834375 \nL 173.175701 -37.834375 \nL 174.409065 -37.834375 \nL 175.642429 -37.834375 \nL 176.875793 -37.834375 \nL 178.109158 -37.834375 \nL 179.342522 -37.834375 \nL 180.575886 -37.834375 \nL 181.809251 -37.834375 \nL 183.042615 -37.834375 \nL 184.275979 -37.834375 \nL 185.509344 -37.834375 \nL 186.742708 -37.834375 \nL 187.976072 -37.834375 \nL 189.209436 -37.834375 \nL 190.442801 -37.834375 \nL 191.676165 -37.834375 \nL 192.909529 -37.834375 \nL 194.142894 -37.834375 \nL 195.376258 -37.834375 \nL 196.609622 -37.834375 \nL 197.842987 -37.834375 \nL 199.076351 -37.834375 \nL 200.309715 -37.834375 \nL 201.543079 -37.834375 \nL 202.776444 -37.834375 \nL 204.009808 -37.834375 \nL 205.243172 -37.834375 \nL 206.476537 -37.834375 \nL 207.709901 -37.834375 \nL 208.943265 -37.834375 \nL 210.17663 -37.834375 \nL 211.409994 -37.834375 \nL 212.643358 -37.834375 \nL 213.876722 -37.834375 \nL 215.110087 -37.834375 \nL 216.343451 -37.834375 \nL 217.576815 -37.834375 \nL 218.81018 -37.834375 \nL 220.043544 -37.834375 \nL 221.276908 -37.834375 \nL 222.510273 -37.834375 \nL 223.743637 -37.834375 \nL 224.977001 -37.834375 \nL 226.210365 -37.834375 \nL 227.44373 -37.834375 \nL 228.677094 -37.834375 \nL 229.910458 -37.834375 \nL 231.143823 -37.834375 \nL 232.377187 -37.834375 \nL 233.610551 -37.834375 \nL 234.843916 -37.834375 \nL 236.07728 -37.834375 \nL 237.310644 -37.834375 \nL 238.544008 -37.834375 \nL 239.777373 -37.834375 \nL 241.010737 -37.834375 \nL 242.244101 -37.834375 \nL 243.477466 -37.834375 \nL 244.71083 -37.834375 \nL 245.944194 -37.834375 \nL 247.177559 -37.834375 \nL 248.410923 -37.834375 \nL 249.644287 -37.834375 \nL 250.877651 -37.834375 \nL 252.111016 -37.834375 \nL 253.34438 -37.834375 \nL 254.577744 -37.834375 \nL 255.811109 -37.834375 \nL 257.044473 -37.834375 \nL 258.277837 -37.834375 \nL 259.511201 -37.834375 \nL 260.744566 -37.834375 \nL 261.97793 -37.834375 \nL 263.211294 -37.834375 \nL 264.444659 -37.834375 \nL 265.678023 -37.834375 \nL 266.911387 -37.834375 \nL 268.144752 -37.834375 \nL 269.378116 -37.834375 \nL 270.61148 -37.834375 \nL 271.844844 -37.834375 \nL 273.078209 -37.834375 \nL 274.311573 -37.834375 \nL 275.544937 -37.834375 \nL 276.778302 -37.834375 \nL 278.011666 -37.834375 \nL 279.24503 -37.834375 \nL 280.478395 -37.834375 \nL 281.711759 -37.834375 \nL 282.945123 -37.834375 \nL 284.178487 -37.834375 \nL 285.411852 -37.834375 \nL 286.645216 -37.834375 \nL 287.87858 -37.834375 \nL 289.111945 -37.834375 \nL 290.345309 -37.834375 \nL 291.578673 -37.834375 \nL 292.812038 -37.834375 \nL 294.045402 -37.834375 \nL 295.278766 -37.834375 \nL 296.51213 -37.834375 \nL 297.745495 -37.834375 \nL 298.978859 -37.834375 \nL 300.212223 -37.834375 \nL 301.445588 -37.834375 \nL 302.678952 -37.834375 \nL 303.912316 -37.834375 \nL 305.145681 -37.834375 \nL 306.379045 -37.834375 \nL 307.612409 -37.834375 \nL 308.845773 -37.834375 \nL 310.079138 -37.834375 \nL 311.312502 -37.834375 \nL 312.545866 -37.834375 \nL 313.779231 -37.834375 \nL 315.012595 -37.834375 \nL 316.245959 -37.834375 \nL 317.479324 -37.834375 \nL 318.712688 -37.834375 \nL 319.946052 -37.834375 \nL 321.179416 -37.834375 \nL 322.412781 -37.834375 \nL 323.646145 -37.834375 \nL 324.879509 -37.834375 \nL 326.112874 -37.834375 \nL 327.346238 -37.834375 \nL 328.579602 -37.834375 \nL 328.579602 -37.895639 \nL 328.579602 -37.895639 \nL 327.346238 -37.923984 \nL 326.112874 -37.96326 \nL 324.879509 -38.016668 \nL 323.646145 -38.087915 \nL 322.412781 -38.18114 \nL 321.179416 -38.300749 \nL 319.946052 -38.451176 \nL 318.712688 -38.636546 \nL 317.479324 -38.860263 \nL 316.245959 -39.124537 \nL 315.012595 -39.429885 \nL 313.779231 -39.774664 \nL 312.545866 -40.154676 \nL 311.312502 -40.562935 \nL 310.079138 -40.989626 \nL 308.845773 -41.422319 \nL 307.612409 -41.846445 \nL 306.379045 -42.24604 \nL 305.145681 -42.604699 \nL 303.912316 -42.906669 \nL 302.678952 -43.137992 \nL 301.445588 -43.287572 \nL 300.212223 -43.348053 \nL 298.978859 -43.316423 \nL 297.745495 -43.19426 \nL 296.51213 -42.987603 \nL 295.278766 -42.706455 \nL 294.045402 -42.363985 \nL 292.812038 -41.9755 \nL 291.578673 -41.557324 \nL 290.345309 -41.125672 \nL 289.111945 -40.695642 \nL 287.87858 -40.280399 \nL 286.645216 -39.890618 \nL 285.411852 -39.534181 \nL 284.178487 -39.216144 \nL 282.945123 -38.938919 \nL 281.711759 -38.702618 \nL 280.478395 -38.505512 \nL 279.24503 -38.344518 \nL 278.011666 -38.215691 \nL 276.778302 -38.114652 \nL 275.544937 -38.036958 \nL 274.311573 -37.978364 \nL 273.078209 -37.935014 \nL 271.844844 -37.903544 \nL 270.61148 -37.881124 \nL 269.378116 -37.865445 \nL 268.144752 -37.854681 \nL 266.911387 -37.847425 \nL 265.678023 -37.842623 \nL 264.444659 -37.839501 \nL 263.211294 -37.837507 \nL 261.97793 -37.836257 \nL 260.744566 -37.835487 \nL 259.511201 -37.835021 \nL 258.277837 -37.834744 \nL 257.044473 -37.834583 \nL 255.811109 -37.83449 \nL 254.577744 -37.834437 \nL 253.34438 -37.834408 \nL 252.111016 -37.834392 \nL 250.877651 -37.834384 \nL 249.644287 -37.83438 \nL 248.410923 -37.834377 \nL 247.177559 -37.834376 \nL 245.944194 -37.834376 \nL 244.71083 -37.834375 \nL 243.477466 -37.834375 \nL 242.244101 -37.834375 \nL 241.010737 -37.834375 \nL 239.777373 -37.834375 \nL 238.544008 -37.834376 \nL 237.310644 -37.834377 \nL 236.07728 -37.834379 \nL 234.843916 -37.834383 \nL 233.610551 -37.83439 \nL 232.377187 -37.834404 \nL 231.143823 -37.83443 \nL 229.910458 -37.834478 \nL 228.677094 -37.834563 \nL 227.44373 -37.834714 \nL 226.210365 -37.834976 \nL 224.977001 -37.835422 \nL 223.743637 -37.83617 \nL 222.510273 -37.837403 \nL 221.276908 -37.8394 \nL 220.043544 -37.842581 \nL 218.81018 -37.847562 \nL 217.576815 -37.855229 \nL 216.343451 -37.866829 \nL 215.110087 -37.884081 \nL 213.876722 -37.909305 \nL 212.643358 -37.945554 \nL 211.409994 -37.996761 \nL 210.17663 -38.067864 \nL 208.943265 -38.164911 \nL 207.709901 -38.295103 \nL 206.476537 -38.466777 \nL 205.243172 -38.689282 \nL 204.009808 -38.972738 \nL 202.776444 -39.327676 \nL 201.543079 -39.764546 \nL 200.309715 -40.29313 \nL 199.076351 -40.921882 \nL 197.842987 -41.657274 \nL 196.609622 -42.50321 \nL 195.376258 -43.460601 \nL 194.142894 -44.527194 \nL 192.909529 -45.697724 \nL 191.676165 -46.964452 \nL 190.442801 -48.318094 \nL 189.209436 -49.749123 \nL 187.976072 -51.249348 \nL 186.742708 -52.813648 \nL 185.509344 -54.441671 \nL 184.275979 -56.139308 \nL 183.042615 -57.91973 \nL 181.809251 -59.803793 \nL 180.575886 -61.819683 \nL 179.342522 -64.00172 \nL 178.109158 -66.388328 \nL 176.875793 -69.019295 \nL 175.642429 -71.932506 \nL 174.409065 -75.160434 \nL 173.175701 -78.726714 \nL 171.942336 -82.643173 \nL 170.708972 -86.907635 \nL 169.475608 -91.502826 \nL 168.242243 -96.396557 \nL 167.008879 -101.543303 \nL 165.775515 -106.887135 \nL 164.54215 -112.365821 \nL 163.308786 -117.915816 \nL 162.075422 -123.477734 \nL 160.842058 -129.001843 \nL 159.608693 -134.453114 \nL 158.375329 -139.815394 \nL 157.141965 -145.094336 \nL 155.9086 -150.318829 \nL 154.675236 -155.540817 \nL 153.441872 -160.833474 \nL 152.208507 -166.287817 \nL 150.975143 -172.007906 \nL 149.741779 -178.104775 \nL 148.508415 -184.689301 \nL 147.27505 -191.864154 \nL 146.041686 -199.71506 \nL 144.808322 -208.301619 \nL 143.574957 -217.648053 \nL 142.341593 -227.734411 \nL 141.108229 -238.488908 \nL 139.874864 -249.782248 \nL 138.6415 -261.424841 \nL 137.408136 -273.167805 \nL 136.174772 -284.708444 \nL 134.941407 -295.700571 \nL 133.708043 -305.769545 \nL 132.474679 -314.531332 \nL 131.241314 -321.614351 \nL 130.00795 -326.682349 \nL 128.774586 -329.45629 \nL 127.541221 -329.733185 \nL 126.307857 -327.399985 \nL 125.074493 -322.441196 \nL 123.841129 -314.939504 \nL 122.607764 -305.069495 \nL 121.3744 -293.085308 \nL 120.141036 -279.303642 \nL 118.907671 -264.083973 \nL 117.674307 -247.807924 \nL 116.440943 -230.859615 \nL 115.207578 -213.60845 \nL 113.974214 -196.395334 \nL 112.74085 -179.522746 \nL 111.507486 -163.248627 \nL 110.274121 -147.783659 \nL 109.040757 -133.291289 \nL 107.807393 -119.889756 \nL 106.574028 -107.655444 \nL 105.340664 -96.627001 \nL 104.1073 -86.809845 \nL 102.873935 -78.180794 \nL 101.640571 -70.692733 \nL 100.407207 -64.279237 \nL 99.173843 -58.859142 \nL 97.940478 -54.34099 \nL 96.707114 -50.627286 \nL 95.47375 -47.618455 \nL 94.240385 -45.216356 \nL 93.007021 -43.32726 \nL 91.773657 -41.864188 \nL 90.540292 -40.748566 \nL 89.306928 -39.911209 \nL 88.073564 -39.292675 \nL 86.8402 -38.843102 \nL 85.606835 -38.521617 \nL 84.373471 -38.295471 \nL 83.140107 -38.138997 \nz\n\" id=\"m84858526a3\" style=\"stroke:#1f77b4;\"/>\n    </defs>\n    <g clip-path=\"url(#pa9e227e2ed)\">\n     <use style=\"fill:#1f77b4;fill-opacity:0.25;stroke:#1f77b4;\" x=\"0\" xlink:href=\"#m84858526a3\" y=\"351.528125\"/>\n    </g>\n   </g>\n   <g id=\"patch_3\">\n    <path d=\"M 62.86875 313.69375 \nL 62.86875 7.2 \n\" style=\"fill:none;stroke:#ffffff;stroke-linecap:square;stroke-linejoin:miter;stroke-width:1.5;\"/>\n   </g>\n   <g id=\"patch_4\">\n    <path d=\"M 62.86875 313.69375 \nL 341.2325 313.69375 \n\" style=\"fill:none;stroke:#ffffff;stroke-linecap:square;stroke-linejoin:miter;stroke-width:1.5;\"/>\n   </g>\n  </g>\n  <g id=\"legend_1\">\n   <g id=\"text_17\">\n    <!-- Top_rated -->\n    <defs>\n     <path d=\"M -0.296875 72.90625 \nL 61.375 72.90625 \nL 61.375 64.59375 \nL 35.5 64.59375 \nL 35.5 0 \nL 25.59375 0 \nL 25.59375 64.59375 \nL -0.296875 64.59375 \nz\n\" id=\"DejaVuSans-84\"/>\n     <path d=\"M 18.109375 8.203125 \nL 18.109375 -20.796875 \nL 9.078125 -20.796875 \nL 9.078125 54.6875 \nL 18.109375 54.6875 \nL 18.109375 46.390625 \nQ 20.953125 51.265625 25.265625 53.625 \nQ 29.59375 56 35.59375 56 \nQ 45.5625 56 51.78125 48.09375 \nQ 58.015625 40.1875 58.015625 27.296875 \nQ 58.015625 14.40625 51.78125 6.484375 \nQ 45.5625 -1.421875 35.59375 -1.421875 \nQ 29.59375 -1.421875 25.265625 0.953125 \nQ 20.953125 3.328125 18.109375 8.203125 \nz\nM 48.6875 27.296875 \nQ 48.6875 37.203125 44.609375 42.84375 \nQ 40.53125 48.484375 33.40625 48.484375 \nQ 26.265625 48.484375 22.1875 42.84375 \nQ 18.109375 37.203125 18.109375 27.296875 \nQ 18.109375 17.390625 22.1875 11.75 \nQ 26.265625 6.109375 33.40625 6.109375 \nQ 40.53125 6.109375 44.609375 11.75 \nQ 48.6875 17.390625 48.6875 27.296875 \nz\n\" id=\"DejaVuSans-112\"/>\n     <path d=\"M 45.40625 46.390625 \nL 45.40625 75.984375 \nL 54.390625 75.984375 \nL 54.390625 0 \nL 45.40625 0 \nL 45.40625 8.203125 \nQ 42.578125 3.328125 38.25 0.953125 \nQ 33.9375 -1.421875 27.875 -1.421875 \nQ 17.96875 -1.421875 11.734375 6.484375 \nQ 5.515625 14.40625 5.515625 27.296875 \nQ 5.515625 40.1875 11.734375 48.09375 \nQ 17.96875 56 27.875 56 \nQ 33.9375 56 38.25 53.625 \nQ 42.578125 51.265625 45.40625 46.390625 \nz\nM 14.796875 27.296875 \nQ 14.796875 17.390625 18.875 11.75 \nQ 22.953125 6.109375 30.078125 6.109375 \nQ 37.203125 6.109375 41.296875 11.75 \nQ 45.40625 17.390625 45.40625 27.296875 \nQ 45.40625 37.203125 41.296875 42.84375 \nQ 37.203125 48.484375 30.078125 48.484375 \nQ 22.953125 48.484375 18.875 42.84375 \nQ 14.796875 37.203125 14.796875 27.296875 \nz\n\" id=\"DejaVuSans-100\"/>\n    </defs>\n    <g style=\"fill:#262626;\" transform=\"translate(356.982812 163.70625)scale(0.1 -0.1)\">\n     <use xlink:href=\"#DejaVuSans-84\"/>\n     <use x=\"44.083984\" xlink:href=\"#DejaVuSans-111\"/>\n     <use x=\"105.265625\" xlink:href=\"#DejaVuSans-112\"/>\n     <use x=\"168.742188\" xlink:href=\"#DejaVuSans-95\"/>\n     <use x=\"218.742188\" xlink:href=\"#DejaVuSans-114\"/>\n     <use x=\"259.855469\" xlink:href=\"#DejaVuSans-97\"/>\n     <use x=\"321.134766\" xlink:href=\"#DejaVuSans-116\"/>\n     <use x=\"360.34375\" xlink:href=\"#DejaVuSans-101\"/>\n     <use x=\"421.867188\" xlink:href=\"#DejaVuSans-100\"/>\n    </g>\n   </g>\n   <g id=\"patch_5\">\n    <path d=\"M 359.178125 178.6625 \nL 379.178125 178.6625 \nL 379.178125 171.6625 \nL 359.178125 171.6625 \nz\n\" style=\"fill:#1f77b4;fill-opacity:0.25;stroke:#1f77b4;stroke-linejoin:miter;\"/>\n   </g>\n   <g id=\"text_18\">\n    <!-- No -->\n    <defs>\n     <path d=\"M 9.8125 72.90625 \nL 23.09375 72.90625 \nL 55.421875 11.921875 \nL 55.421875 72.90625 \nL 64.984375 72.90625 \nL 64.984375 0 \nL 51.703125 0 \nL 19.390625 60.984375 \nL 19.390625 0 \nL 9.8125 0 \nz\n\" id=\"DejaVuSans-78\"/>\n    </defs>\n    <g style=\"fill:#262626;\" transform=\"translate(387.178125 178.6625)scale(0.1 -0.1)\">\n     <use xlink:href=\"#DejaVuSans-78\"/>\n     <use x=\"74.804688\" xlink:href=\"#DejaVuSans-111\"/>\n    </g>\n   </g>\n   <g id=\"patch_6\">\n    <path d=\"M 359.178125 193.340625 \nL 379.178125 193.340625 \nL 379.178125 186.340625 \nL 359.178125 186.340625 \nz\n\" style=\"fill:#ff7f0e;fill-opacity:0.25;stroke:#ff7f0e;stroke-linejoin:miter;\"/>\n   </g>\n   <g id=\"text_19\">\n    <!-- Yes -->\n    <defs>\n     <path d=\"M -0.203125 72.90625 \nL 10.40625 72.90625 \nL 30.609375 42.921875 \nL 50.6875 72.90625 \nL 61.28125 72.90625 \nL 35.5 34.71875 \nL 35.5 0 \nL 25.59375 0 \nL 25.59375 34.71875 \nz\n\" id=\"DejaVuSans-89\"/>\n    </defs>\n    <g style=\"fill:#262626;\" transform=\"translate(387.178125 193.340625)scale(0.1 -0.1)\">\n     <use xlink:href=\"#DejaVuSans-89\"/>\n     <use x=\"47.833984\" xlink:href=\"#DejaVuSans-101\"/>\n     <use x=\"109.357422\" xlink:href=\"#DejaVuSans-115\"/>\n    </g>\n   </g>\n  </g>\n </g>\n <defs>\n  <clipPath id=\"pa9e227e2ed\">\n   <rect height=\"306.49375\" width=\"278.36375\" x=\"62.86875\" y=\"7.2\"/>\n  </clipPath>\n </defs>\n</svg>\n"
          },
          "metadata": {}
        }
      ]
    },
    {
      "cell_type": "code",
      "source": [
        "dataset['Hourly_rate'].describe()"
      ],
      "metadata": {
        "colab": {
          "base_uri": "https://localhost:8080/"
        },
        "id": "zjQUNmm2Fdq7",
        "outputId": "da957ab9-1121-4809-b132-6ee7f8b8194e"
      },
      "execution_count": null,
      "outputs": [
        {
          "output_type": "execute_result",
          "data": {
            "text/plain": [
              "count    101.000000\n",
              "mean      30.888614\n",
              "std       24.654778\n",
              "min        3.000000\n",
              "25%       18.000000\n",
              "50%       20.000000\n",
              "75%       40.000000\n",
              "max      200.000000\n",
              "Name: Hourly_rate, dtype: float64"
            ]
          },
          "metadata": {},
          "execution_count": 133
        }
      ]
    },
    {
      "cell_type": "code",
      "source": [
        "dataset.groupby('Top_rated')[['Hourly_rate']].describe()"
      ],
      "metadata": {
        "colab": {
          "base_uri": "https://localhost:8080/",
          "height": 175
        },
        "id": "Fk_t7yWHqK6Y",
        "outputId": "25015fce-3337-4d2b-9dbc-ebe955b25b2d"
      },
      "execution_count": null,
      "outputs": [
        {
          "output_type": "execute_result",
          "data": {
            "text/plain": [
              "          Hourly_rate                                                     \n",
              "                count       mean        std   min   25%   50%   75%    max\n",
              "Top_rated                                                                 \n",
              "no               92.0  29.725543  24.603143   3.0  16.0  20.0  40.0  200.0\n",
              "yes               9.0  42.777778  23.199018  10.0  30.0  35.0  60.0   85.0"
            ],
            "text/html": [
              "\n",
              "  <div id=\"df-a194b9f7-5c51-4f22-9e72-80e81f6febb0\">\n",
              "    <div class=\"colab-df-container\">\n",
              "      <div>\n",
              "<style scoped>\n",
              "    .dataframe tbody tr th:only-of-type {\n",
              "        vertical-align: middle;\n",
              "    }\n",
              "\n",
              "    .dataframe tbody tr th {\n",
              "        vertical-align: top;\n",
              "    }\n",
              "\n",
              "    .dataframe thead tr th {\n",
              "        text-align: left;\n",
              "    }\n",
              "\n",
              "    .dataframe thead tr:last-of-type th {\n",
              "        text-align: right;\n",
              "    }\n",
              "</style>\n",
              "<table border=\"1\" class=\"dataframe\">\n",
              "  <thead>\n",
              "    <tr>\n",
              "      <th></th>\n",
              "      <th colspan=\"8\" halign=\"left\">Hourly_rate</th>\n",
              "    </tr>\n",
              "    <tr>\n",
              "      <th></th>\n",
              "      <th>count</th>\n",
              "      <th>mean</th>\n",
              "      <th>std</th>\n",
              "      <th>min</th>\n",
              "      <th>25%</th>\n",
              "      <th>50%</th>\n",
              "      <th>75%</th>\n",
              "      <th>max</th>\n",
              "    </tr>\n",
              "    <tr>\n",
              "      <th>Top_rated</th>\n",
              "      <th></th>\n",
              "      <th></th>\n",
              "      <th></th>\n",
              "      <th></th>\n",
              "      <th></th>\n",
              "      <th></th>\n",
              "      <th></th>\n",
              "      <th></th>\n",
              "    </tr>\n",
              "  </thead>\n",
              "  <tbody>\n",
              "    <tr>\n",
              "      <th>no</th>\n",
              "      <td>92.0</td>\n",
              "      <td>29.725543</td>\n",
              "      <td>24.603143</td>\n",
              "      <td>3.0</td>\n",
              "      <td>16.0</td>\n",
              "      <td>20.0</td>\n",
              "      <td>40.0</td>\n",
              "      <td>200.0</td>\n",
              "    </tr>\n",
              "    <tr>\n",
              "      <th>yes</th>\n",
              "      <td>9.0</td>\n",
              "      <td>42.777778</td>\n",
              "      <td>23.199018</td>\n",
              "      <td>10.0</td>\n",
              "      <td>30.0</td>\n",
              "      <td>35.0</td>\n",
              "      <td>60.0</td>\n",
              "      <td>85.0</td>\n",
              "    </tr>\n",
              "  </tbody>\n",
              "</table>\n",
              "</div>\n",
              "      <button class=\"colab-df-convert\" onclick=\"convertToInteractive('df-a194b9f7-5c51-4f22-9e72-80e81f6febb0')\"\n",
              "              title=\"Convert this dataframe to an interactive table.\"\n",
              "              style=\"display:none;\">\n",
              "        \n",
              "  <svg xmlns=\"http://www.w3.org/2000/svg\" height=\"24px\"viewBox=\"0 0 24 24\"\n",
              "       width=\"24px\">\n",
              "    <path d=\"M0 0h24v24H0V0z\" fill=\"none\"/>\n",
              "    <path d=\"M18.56 5.44l.94 2.06.94-2.06 2.06-.94-2.06-.94-.94-2.06-.94 2.06-2.06.94zm-11 1L8.5 8.5l.94-2.06 2.06-.94-2.06-.94L8.5 2.5l-.94 2.06-2.06.94zm10 10l.94 2.06.94-2.06 2.06-.94-2.06-.94-.94-2.06-.94 2.06-2.06.94z\"/><path d=\"M17.41 7.96l-1.37-1.37c-.4-.4-.92-.59-1.43-.59-.52 0-1.04.2-1.43.59L10.3 9.45l-7.72 7.72c-.78.78-.78 2.05 0 2.83L4 21.41c.39.39.9.59 1.41.59.51 0 1.02-.2 1.41-.59l7.78-7.78 2.81-2.81c.8-.78.8-2.07 0-2.86zM5.41 20L4 18.59l7.72-7.72 1.47 1.35L5.41 20z\"/>\n",
              "  </svg>\n",
              "      </button>\n",
              "      \n",
              "  <style>\n",
              "    .colab-df-container {\n",
              "      display:flex;\n",
              "      flex-wrap:wrap;\n",
              "      gap: 12px;\n",
              "    }\n",
              "\n",
              "    .colab-df-convert {\n",
              "      background-color: #E8F0FE;\n",
              "      border: none;\n",
              "      border-radius: 50%;\n",
              "      cursor: pointer;\n",
              "      display: none;\n",
              "      fill: #1967D2;\n",
              "      height: 32px;\n",
              "      padding: 0 0 0 0;\n",
              "      width: 32px;\n",
              "    }\n",
              "\n",
              "    .colab-df-convert:hover {\n",
              "      background-color: #E2EBFA;\n",
              "      box-shadow: 0px 1px 2px rgba(60, 64, 67, 0.3), 0px 1px 3px 1px rgba(60, 64, 67, 0.15);\n",
              "      fill: #174EA6;\n",
              "    }\n",
              "\n",
              "    [theme=dark] .colab-df-convert {\n",
              "      background-color: #3B4455;\n",
              "      fill: #D2E3FC;\n",
              "    }\n",
              "\n",
              "    [theme=dark] .colab-df-convert:hover {\n",
              "      background-color: #434B5C;\n",
              "      box-shadow: 0px 1px 3px 1px rgba(0, 0, 0, 0.15);\n",
              "      filter: drop-shadow(0px 1px 2px rgba(0, 0, 0, 0.3));\n",
              "      fill: #FFFFFF;\n",
              "    }\n",
              "  </style>\n",
              "\n",
              "      <script>\n",
              "        const buttonEl =\n",
              "          document.querySelector('#df-a194b9f7-5c51-4f22-9e72-80e81f6febb0 button.colab-df-convert');\n",
              "        buttonEl.style.display =\n",
              "          google.colab.kernel.accessAllowed ? 'block' : 'none';\n",
              "\n",
              "        async function convertToInteractive(key) {\n",
              "          const element = document.querySelector('#df-a194b9f7-5c51-4f22-9e72-80e81f6febb0');\n",
              "          const dataTable =\n",
              "            await google.colab.kernel.invokeFunction('convertToInteractive',\n",
              "                                                     [key], {});\n",
              "          if (!dataTable) return;\n",
              "\n",
              "          const docLinkHtml = 'Like what you see? Visit the ' +\n",
              "            '<a target=\"_blank\" href=https://colab.research.google.com/notebooks/data_table.ipynb>data table notebook</a>'\n",
              "            + ' to learn more about interactive tables.';\n",
              "          element.innerHTML = '';\n",
              "          dataTable['output_type'] = 'display_data';\n",
              "          await google.colab.output.renderOutput(dataTable, element);\n",
              "          const docLink = document.createElement('div');\n",
              "          docLink.innerHTML = docLinkHtml;\n",
              "          element.appendChild(docLink);\n",
              "        }\n",
              "      </script>\n",
              "    </div>\n",
              "  </div>\n",
              "  "
            ]
          },
          "metadata": {},
          "execution_count": 134
        }
      ]
    },
    {
      "cell_type": "markdown",
      "source": [
        "> **The maximum Hourly Rate ot Top rated freelancers are 57.5% lower than non-top-rated ones, which might means that top-rated freelancers outlier recepits are due business scaling**"
      ],
      "metadata": {
        "id": "RkYNL2nMqn-j"
      }
    },
    {
      "cell_type": "code",
      "source": [
        "1 - 85/200"
      ],
      "metadata": {
        "colab": {
          "base_uri": "https://localhost:8080/"
        },
        "id": "nvhi2yPDqt_-",
        "outputId": "66c51c97-a00f-455b-f0e6-c2b12ee3fcfd"
      },
      "execution_count": null,
      "outputs": [
        {
          "output_type": "execute_result",
          "data": {
            "text/plain": [
              "0.575"
            ]
          },
          "metadata": {},
          "execution_count": 135
        }
      ]
    },
    {
      "cell_type": "code",
      "source": [
        "dataset['Top_rated'] = dataset['Top_rated'].apply(lambda x: x.replace('yes','Yes'))\n",
        "dataset['Top_rated'] = dataset['Top_rated'].apply(lambda x: x.replace('no','No'))"
      ],
      "metadata": {
        "id": "3HuvIm1pL0Bc"
      },
      "execution_count": null,
      "outputs": []
    },
    {
      "cell_type": "code",
      "source": [
        "sns.set_style('dark')\n",
        "sns.boxplot(x='Hourly_rate', y='Top_rated', data=dataset, width=0.3, palette='Dark2_r')\n",
        "plt.xlabel('Hourly Rate ($)', weight='bold')\n",
        "plt.ylabel('Top Rated?', weight='bold')\n",
        "plt.tight_layout()\n",
        "plt.savefig('Boxplot_HR.png', dpi=600)"
      ],
      "metadata": {
        "colab": {
          "base_uri": "https://localhost:8080/",
          "height": 395
        },
        "id": "Nl9HZZYxrtj6",
        "outputId": "02bf4170-1518-4764-80b7-e48d62cedf1a"
      },
      "execution_count": null,
      "outputs": [
        {
          "output_type": "display_data",
          "data": {
            "text/plain": [
              "<Figure size 432x288 with 1 Axes>"
            ],
            "image/svg+xml": "<?xml version=\"1.0\" encoding=\"utf-8\" standalone=\"no\"?>\n<!DOCTYPE svg PUBLIC \"-//W3C//DTD SVG 1.1//EN\"\n  \"http://www.w3.org/Graphics/SVG/1.1/DTD/svg11.dtd\">\n<!-- Created with matplotlib (https://matplotlib.org/) -->\n<svg height=\"280.234375pt\" version=\"1.1\" viewBox=\"0 0 424.623437 280.234375\" width=\"424.623437pt\" xmlns=\"http://www.w3.org/2000/svg\" xmlns:xlink=\"http://www.w3.org/1999/xlink\">\n <defs>\n  <style type=\"text/css\">\n*{stroke-linecap:butt;stroke-linejoin:round;}\n  </style>\n </defs>\n <g id=\"figure_1\">\n  <g id=\"patch_1\">\n   <path d=\"M -0 280.234375 \nL 424.623437 280.234375 \nL 424.623437 0 \nL -0 0 \nz\n\" style=\"fill:#ffffff;\"/>\n  </g>\n  <g id=\"axes_1\">\n   <g id=\"patch_2\">\n    <path d=\"M 44.023438 242.6 \nL 417.423437 242.6 \nL 417.423437 7.2 \nL 44.023438 7.2 \nz\n\" style=\"fill:#eaeaf2;\"/>\n   </g>\n   <g id=\"matplotlib.axis_1\">\n    <g id=\"xtick_1\">\n     <g id=\"text_1\">\n      <!-- 0 -->\n      <defs>\n       <path d=\"M 31.78125 66.40625 \nQ 24.171875 66.40625 20.328125 58.90625 \nQ 16.5 51.421875 16.5 36.375 \nQ 16.5 21.390625 20.328125 13.890625 \nQ 24.171875 6.390625 31.78125 6.390625 \nQ 39.453125 6.390625 43.28125 13.890625 \nQ 47.125 21.390625 47.125 36.375 \nQ 47.125 51.421875 43.28125 58.90625 \nQ 39.453125 66.40625 31.78125 66.40625 \nz\nM 31.78125 74.21875 \nQ 44.046875 74.21875 50.515625 64.515625 \nQ 56.984375 54.828125 56.984375 36.375 \nQ 56.984375 17.96875 50.515625 8.265625 \nQ 44.046875 -1.421875 31.78125 -1.421875 \nQ 19.53125 -1.421875 13.0625 8.265625 \nQ 6.59375 17.96875 6.59375 36.375 \nQ 6.59375 54.828125 13.0625 64.515625 \nQ 19.53125 74.21875 31.78125 74.21875 \nz\n\" id=\"DejaVuSans-48\"/>\n      </defs>\n      <g style=\"fill:#262626;\" transform=\"translate(52.645556 257.198438)scale(0.1 -0.1)\">\n       <use xlink:href=\"#DejaVuSans-48\"/>\n      </g>\n     </g>\n    </g>\n    <g id=\"xtick_2\">\n     <g id=\"text_2\">\n      <!-- 25 -->\n      <defs>\n       <path d=\"M 19.1875 8.296875 \nL 53.609375 8.296875 \nL 53.609375 0 \nL 7.328125 0 \nL 7.328125 8.296875 \nQ 12.9375 14.109375 22.625 23.890625 \nQ 32.328125 33.6875 34.8125 36.53125 \nQ 39.546875 41.84375 41.421875 45.53125 \nQ 43.3125 49.21875 43.3125 52.78125 \nQ 43.3125 58.59375 39.234375 62.25 \nQ 35.15625 65.921875 28.609375 65.921875 \nQ 23.96875 65.921875 18.8125 64.3125 \nQ 13.671875 62.703125 7.8125 59.421875 \nL 7.8125 69.390625 \nQ 13.765625 71.78125 18.9375 73 \nQ 24.125 74.21875 28.421875 74.21875 \nQ 39.75 74.21875 46.484375 68.546875 \nQ 53.21875 62.890625 53.21875 53.421875 \nQ 53.21875 48.921875 51.53125 44.890625 \nQ 49.859375 40.875 45.40625 35.40625 \nQ 44.1875 33.984375 37.640625 27.21875 \nQ 31.109375 20.453125 19.1875 8.296875 \nz\n\" id=\"DejaVuSans-50\"/>\n       <path d=\"M 10.796875 72.90625 \nL 49.515625 72.90625 \nL 49.515625 64.59375 \nL 19.828125 64.59375 \nL 19.828125 46.734375 \nQ 21.96875 47.46875 24.109375 47.828125 \nQ 26.265625 48.1875 28.421875 48.1875 \nQ 40.625 48.1875 47.75 41.5 \nQ 54.890625 34.8125 54.890625 23.390625 \nQ 54.890625 11.625 47.5625 5.09375 \nQ 40.234375 -1.421875 26.90625 -1.421875 \nQ 22.3125 -1.421875 17.546875 -0.640625 \nQ 12.796875 0.140625 7.71875 1.703125 \nL 7.71875 11.625 \nQ 12.109375 9.234375 16.796875 8.0625 \nQ 21.484375 6.890625 26.703125 6.890625 \nQ 35.15625 6.890625 40.078125 11.328125 \nQ 45.015625 15.765625 45.015625 23.390625 \nQ 45.015625 31 40.078125 35.4375 \nQ 35.15625 39.890625 26.703125 39.890625 \nQ 22.75 39.890625 18.8125 39.015625 \nQ 14.890625 38.140625 10.796875 36.28125 \nz\n\" id=\"DejaVuSans-53\"/>\n      </defs>\n      <g style=\"fill:#262626;\" transform=\"translate(92.542294 257.198438)scale(0.1 -0.1)\">\n       <use xlink:href=\"#DejaVuSans-50\"/>\n       <use x=\"63.623047\" xlink:href=\"#DejaVuSans-53\"/>\n      </g>\n     </g>\n    </g>\n    <g id=\"xtick_3\">\n     <g id=\"text_3\">\n      <!-- 50 -->\n      <g style=\"fill:#262626;\" transform=\"translate(135.620282 257.198438)scale(0.1 -0.1)\">\n       <use xlink:href=\"#DejaVuSans-53\"/>\n       <use x=\"63.623047\" xlink:href=\"#DejaVuSans-48\"/>\n      </g>\n     </g>\n    </g>\n    <g id=\"xtick_4\">\n     <g id=\"text_4\">\n      <!-- 75 -->\n      <defs>\n       <path d=\"M 8.203125 72.90625 \nL 55.078125 72.90625 \nL 55.078125 68.703125 \nL 28.609375 0 \nL 18.3125 0 \nL 43.21875 64.59375 \nL 8.203125 64.59375 \nz\n\" id=\"DejaVuSans-55\"/>\n      </defs>\n      <g style=\"fill:#262626;\" transform=\"translate(178.69827 257.198438)scale(0.1 -0.1)\">\n       <use xlink:href=\"#DejaVuSans-55\"/>\n       <use x=\"63.623047\" xlink:href=\"#DejaVuSans-53\"/>\n      </g>\n     </g>\n    </g>\n    <g id=\"xtick_5\">\n     <g id=\"text_5\">\n      <!-- 100 -->\n      <defs>\n       <path d=\"M 12.40625 8.296875 \nL 28.515625 8.296875 \nL 28.515625 63.921875 \nL 10.984375 60.40625 \nL 10.984375 69.390625 \nL 28.421875 72.90625 \nL 38.28125 72.90625 \nL 38.28125 8.296875 \nL 54.390625 8.296875 \nL 54.390625 0 \nL 12.40625 0 \nz\n\" id=\"DejaVuSans-49\"/>\n      </defs>\n      <g style=\"fill:#262626;\" transform=\"translate(218.595008 257.198438)scale(0.1 -0.1)\">\n       <use xlink:href=\"#DejaVuSans-49\"/>\n       <use x=\"63.623047\" xlink:href=\"#DejaVuSans-48\"/>\n       <use x=\"127.246094\" xlink:href=\"#DejaVuSans-48\"/>\n      </g>\n     </g>\n    </g>\n    <g id=\"xtick_6\">\n     <g id=\"text_6\">\n      <!-- 125 -->\n      <g style=\"fill:#262626;\" transform=\"translate(261.672996 257.198438)scale(0.1 -0.1)\">\n       <use xlink:href=\"#DejaVuSans-49\"/>\n       <use x=\"63.623047\" xlink:href=\"#DejaVuSans-50\"/>\n       <use x=\"127.246094\" xlink:href=\"#DejaVuSans-53\"/>\n      </g>\n     </g>\n    </g>\n    <g id=\"xtick_7\">\n     <g id=\"text_7\">\n      <!-- 150 -->\n      <g style=\"fill:#262626;\" transform=\"translate(304.750984 257.198438)scale(0.1 -0.1)\">\n       <use xlink:href=\"#DejaVuSans-49\"/>\n       <use x=\"63.623047\" xlink:href=\"#DejaVuSans-53\"/>\n       <use x=\"127.246094\" xlink:href=\"#DejaVuSans-48\"/>\n      </g>\n     </g>\n    </g>\n    <g id=\"xtick_8\">\n     <g id=\"text_8\">\n      <!-- 175 -->\n      <g style=\"fill:#262626;\" transform=\"translate(347.828972 257.198438)scale(0.1 -0.1)\">\n       <use xlink:href=\"#DejaVuSans-49\"/>\n       <use x=\"63.623047\" xlink:href=\"#DejaVuSans-55\"/>\n       <use x=\"127.246094\" xlink:href=\"#DejaVuSans-53\"/>\n      </g>\n     </g>\n    </g>\n    <g id=\"xtick_9\">\n     <g id=\"text_9\">\n      <!-- 200 -->\n      <g style=\"fill:#262626;\" transform=\"translate(390.90696 257.198438)scale(0.1 -0.1)\">\n       <use xlink:href=\"#DejaVuSans-50\"/>\n       <use x=\"63.623047\" xlink:href=\"#DejaVuSans-48\"/>\n       <use x=\"127.246094\" xlink:href=\"#DejaVuSans-48\"/>\n      </g>\n     </g>\n    </g>\n    <g id=\"text_10\">\n     <!-- Hourly Rate ($) -->\n     <defs>\n      <path d=\"M 9.1875 72.90625 \nL 27.984375 72.90625 \nL 27.984375 45.125 \nL 55.71875 45.125 \nL 55.71875 72.90625 \nL 74.515625 72.90625 \nL 74.515625 0 \nL 55.71875 0 \nL 55.71875 30.90625 \nL 27.984375 30.90625 \nL 27.984375 0 \nL 9.1875 0 \nz\n\" id=\"DejaVuSans-Bold-72\"/>\n      <path d=\"M 34.421875 43.5 \nQ 28.609375 43.5 25.5625 39.328125 \nQ 22.515625 35.15625 22.515625 27.296875 \nQ 22.515625 19.4375 25.5625 15.25 \nQ 28.609375 11.078125 34.421875 11.078125 \nQ 40.140625 11.078125 43.15625 15.25 \nQ 46.1875 19.4375 46.1875 27.296875 \nQ 46.1875 35.15625 43.15625 39.328125 \nQ 40.140625 43.5 34.421875 43.5 \nz\nM 34.421875 56 \nQ 48.53125 56 56.46875 48.375 \nQ 64.40625 40.765625 64.40625 27.296875 \nQ 64.40625 13.8125 56.46875 6.1875 \nQ 48.53125 -1.421875 34.421875 -1.421875 \nQ 20.265625 -1.421875 12.28125 6.1875 \nQ 4.296875 13.8125 4.296875 27.296875 \nQ 4.296875 40.765625 12.28125 48.375 \nQ 20.265625 56 34.421875 56 \nz\n\" id=\"DejaVuSans-Bold-111\"/>\n      <path d=\"M 7.8125 21.296875 \nL 7.8125 54.6875 \nL 25.390625 54.6875 \nL 25.390625 49.21875 \nQ 25.390625 44.78125 25.34375 38.0625 \nQ 25.296875 31.34375 25.296875 29.109375 \nQ 25.296875 22.515625 25.640625 19.609375 \nQ 25.984375 16.703125 26.8125 15.375 \nQ 27.875 13.671875 29.609375 12.734375 \nQ 31.34375 11.8125 33.59375 11.8125 \nQ 39.0625 11.8125 42.1875 16.015625 \nQ 45.3125 20.21875 45.3125 27.6875 \nL 45.3125 54.6875 \nL 62.796875 54.6875 \nL 62.796875 0 \nL 45.3125 0 \nL 45.3125 7.90625 \nQ 41.359375 3.125 36.9375 0.84375 \nQ 32.515625 -1.421875 27.203125 -1.421875 \nQ 17.71875 -1.421875 12.765625 4.390625 \nQ 7.8125 10.203125 7.8125 21.296875 \nz\n\" id=\"DejaVuSans-Bold-117\"/>\n      <path d=\"M 49.03125 39.796875 \nQ 46.734375 40.875 44.453125 41.375 \nQ 42.1875 41.890625 39.890625 41.890625 \nQ 33.15625 41.890625 29.515625 37.5625 \nQ 25.875 33.25 25.875 25.203125 \nL 25.875 0 \nL 8.40625 0 \nL 8.40625 54.6875 \nL 25.875 54.6875 \nL 25.875 45.703125 \nQ 29.25 51.078125 33.609375 53.53125 \nQ 37.984375 56 44.09375 56 \nQ 44.96875 56 45.984375 55.921875 \nQ 47.015625 55.859375 48.96875 55.609375 \nz\n\" id=\"DejaVuSans-Bold-114\"/>\n      <path d=\"M 8.40625 75.984375 \nL 25.875 75.984375 \nL 25.875 0 \nL 8.40625 0 \nz\n\" id=\"DejaVuSans-Bold-108\"/>\n      <path d=\"M 1.21875 54.6875 \nL 18.703125 54.6875 \nL 33.40625 17.578125 \nL 45.90625 54.6875 \nL 63.375 54.6875 \nL 40.375 -5.171875 \nQ 36.921875 -14.3125 32.296875 -17.9375 \nQ 27.6875 -21.578125 20.125 -21.578125 \nL 10.015625 -21.578125 \nL 10.015625 -10.109375 \nL 15.484375 -10.109375 \nQ 19.921875 -10.109375 21.9375 -8.6875 \nQ 23.96875 -7.28125 25.09375 -3.609375 \nL 25.59375 -2.09375 \nz\n\" id=\"DejaVuSans-Bold-121\"/>\n      <path id=\"DejaVuSans-Bold-32\"/>\n      <path d=\"M 35.890625 40.578125 \nQ 41.796875 40.578125 44.359375 42.765625 \nQ 46.921875 44.96875 46.921875 50 \nQ 46.921875 54.984375 44.359375 57.125 \nQ 41.796875 59.28125 35.890625 59.28125 \nL 27.984375 59.28125 \nL 27.984375 40.578125 \nz\nM 27.984375 27.59375 \nL 27.984375 0 \nL 9.1875 0 \nL 9.1875 72.90625 \nL 37.890625 72.90625 \nQ 52.296875 72.90625 59 68.0625 \nQ 65.71875 63.234375 65.71875 52.78125 \nQ 65.71875 45.5625 62.21875 40.921875 \nQ 58.734375 36.28125 51.703125 34.078125 \nQ 55.5625 33.203125 58.609375 30.09375 \nQ 61.671875 27 64.796875 20.703125 \nL 75 0 \nL 54.984375 0 \nL 46.09375 18.109375 \nQ 43.40625 23.578125 40.640625 25.578125 \nQ 37.890625 27.59375 33.296875 27.59375 \nz\n\" id=\"DejaVuSans-Bold-82\"/>\n      <path d=\"M 32.90625 24.609375 \nQ 27.4375 24.609375 24.671875 22.75 \nQ 21.921875 20.90625 21.921875 17.28125 \nQ 21.921875 13.96875 24.140625 12.078125 \nQ 26.375 10.203125 30.328125 10.203125 \nQ 35.25 10.203125 38.625 13.734375 \nQ 42 17.28125 42 22.609375 \nL 42 24.609375 \nz\nM 59.625 31.203125 \nL 59.625 0 \nL 42 0 \nL 42 8.109375 \nQ 38.484375 3.125 34.078125 0.84375 \nQ 29.6875 -1.421875 23.390625 -1.421875 \nQ 14.890625 -1.421875 9.59375 3.53125 \nQ 4.296875 8.5 4.296875 16.40625 \nQ 4.296875 26.03125 10.90625 30.515625 \nQ 17.53125 35.015625 31.6875 35.015625 \nL 42 35.015625 \nL 42 36.375 \nQ 42 40.53125 38.71875 42.453125 \nQ 35.453125 44.390625 28.515625 44.390625 \nQ 22.90625 44.390625 18.0625 43.265625 \nQ 13.234375 42.140625 9.078125 39.890625 \nL 9.078125 53.21875 \nQ 14.703125 54.59375 20.359375 55.296875 \nQ 26.03125 56 31.6875 56 \nQ 46.484375 56 53.046875 50.171875 \nQ 59.625 44.34375 59.625 31.203125 \nz\n\" id=\"DejaVuSans-Bold-97\"/>\n      <path d=\"M 27.484375 70.21875 \nL 27.484375 54.6875 \nL 45.515625 54.6875 \nL 45.515625 42.1875 \nL 27.484375 42.1875 \nL 27.484375 19 \nQ 27.484375 15.1875 29 13.84375 \nQ 30.515625 12.5 35.015625 12.5 \nL 44 12.5 \nL 44 0 \nL 29 0 \nQ 18.65625 0 14.328125 4.3125 \nQ 10.015625 8.640625 10.015625 19 \nL 10.015625 42.1875 \nL 1.3125 42.1875 \nL 1.3125 54.6875 \nL 10.015625 54.6875 \nL 10.015625 70.21875 \nz\n\" id=\"DejaVuSans-Bold-116\"/>\n      <path d=\"M 62.984375 27.484375 \nL 62.984375 22.515625 \nL 22.125 22.515625 \nQ 22.75 16.359375 26.5625 13.28125 \nQ 30.375 10.203125 37.203125 10.203125 \nQ 42.71875 10.203125 48.5 11.84375 \nQ 54.296875 13.484375 60.40625 16.796875 \nL 60.40625 3.328125 \nQ 54.203125 0.984375 48 -0.21875 \nQ 41.796875 -1.421875 35.59375 -1.421875 \nQ 20.75 -1.421875 12.515625 6.125 \nQ 4.296875 13.671875 4.296875 27.296875 \nQ 4.296875 40.671875 12.375 48.328125 \nQ 20.453125 56 34.625 56 \nQ 47.515625 56 55.25 48.234375 \nQ 62.984375 40.484375 62.984375 27.484375 \nz\nM 45.015625 33.296875 \nQ 45.015625 38.28125 42.109375 41.328125 \nQ 39.203125 44.390625 34.515625 44.390625 \nQ 29.4375 44.390625 26.265625 41.53125 \nQ 23.09375 38.671875 22.3125 33.296875 \nz\n\" id=\"DejaVuSans-Bold-101\"/>\n      <path d=\"M 37.703125 -13.1875 \nL 23.1875 -13.1875 \nQ 15.71875 -1.125 12.15625 9.734375 \nQ 8.59375 20.609375 8.59375 31.296875 \nQ 8.59375 42 12.171875 52.953125 \nQ 15.765625 63.921875 23.1875 75.875 \nL 37.703125 75.875 \nQ 31.453125 64.3125 28.328125 53.25 \nQ 25.203125 42.1875 25.203125 31.390625 \nQ 25.203125 20.609375 28.296875 9.515625 \nQ 31.390625 -1.5625 37.703125 -13.1875 \nz\n\" id=\"DejaVuSans-Bold-40\"/>\n      <path d=\"M 38.8125 -14.703125 \nL 30.90625 -14.703125 \nL 30.859375 0 \nQ 24.75 0.25 19.03125 1.359375 \nQ 13.328125 2.484375 7.90625 4.5 \nL 7.90625 17.28125 \nQ 13.53125 14.40625 19.265625 12.859375 \nQ 25 11.328125 30.90625 11.140625 \nL 30.90625 26.3125 \nL 29.296875 26.609375 \nQ 17.625 28.65625 12.71875 33.046875 \nQ 7.8125 37.453125 7.8125 45.703125 \nQ 7.8125 54.4375 13.796875 59.34375 \nQ 19.78125 64.265625 30.859375 64.703125 \nL 30.90625 75.984375 \nL 38.8125 75.984375 \nL 38.8125 64.890625 \nQ 43.703125 64.5 48.578125 63.671875 \nQ 53.46875 62.84375 58.40625 61.53125 \nL 58.40625 49.125 \nQ 53.515625 51.171875 48.625 52.3125 \nQ 43.75 53.46875 38.8125 53.71875 \nL 38.8125 39.703125 \nL 40.375 39.40625 \nQ 52.78125 37.453125 57.78125 32.890625 \nQ 62.796875 28.328125 62.796875 19.390625 \nQ 62.796875 10.40625 56.828125 5.59375 \nQ 50.875 0.78125 38.8125 0.09375 \nz\nM 30.90625 40.828125 \nL 30.90625 53.5625 \nQ 27.4375 53.375 25.359375 51.6875 \nQ 23.296875 50 23.296875 47.40625 \nQ 23.296875 44.53125 25.1875 42.890625 \nQ 27.09375 41.265625 30.90625 40.828125 \nz\nM 38.8125 24.90625 \nL 38.8125 11.328125 \nQ 43.0625 11.375 45.1875 12.984375 \nQ 47.3125 14.59375 47.3125 17.828125 \nQ 47.3125 21.140625 45.359375 22.78125 \nQ 43.40625 24.421875 38.8125 24.90625 \nz\n\" id=\"DejaVuSans-Bold-36\"/>\n      <path d=\"M 8.015625 -13.1875 \nQ 14.265625 -1.5625 17.390625 9.515625 \nQ 20.515625 20.609375 20.515625 31.390625 \nQ 20.515625 42.1875 17.390625 53.25 \nQ 14.265625 64.3125 8.015625 75.875 \nL 22.515625 75.875 \nQ 29.9375 63.921875 33.515625 52.953125 \nQ 37.109375 42 37.109375 31.296875 \nQ 37.109375 20.609375 33.546875 9.734375 \nQ 29.984375 -1.125 22.515625 -13.1875 \nz\n\" id=\"DejaVuSans-Bold-41\"/>\n     </defs>\n     <g style=\"fill:#262626;\" transform=\"translate(187.569531 270.876562)scale(0.1 -0.1)\">\n      <use xlink:href=\"#DejaVuSans-Bold-72\"/>\n      <use x=\"83.691406\" xlink:href=\"#DejaVuSans-Bold-111\"/>\n      <use x=\"152.392578\" xlink:href=\"#DejaVuSans-Bold-117\"/>\n      <use x=\"223.583984\" xlink:href=\"#DejaVuSans-Bold-114\"/>\n      <use x=\"272.900391\" xlink:href=\"#DejaVuSans-Bold-108\"/>\n      <use x=\"307.177734\" xlink:href=\"#DejaVuSans-Bold-121\"/>\n      <use x=\"372.363281\" xlink:href=\"#DejaVuSans-Bold-32\"/>\n      <use x=\"407.177734\" xlink:href=\"#DejaVuSans-Bold-82\"/>\n      <use x=\"484.179688\" xlink:href=\"#DejaVuSans-Bold-97\"/>\n      <use x=\"551.660156\" xlink:href=\"#DejaVuSans-Bold-116\"/>\n      <use x=\"599.462891\" xlink:href=\"#DejaVuSans-Bold-101\"/>\n      <use x=\"667.285156\" xlink:href=\"#DejaVuSans-Bold-32\"/>\n      <use x=\"702.099609\" xlink:href=\"#DejaVuSans-Bold-40\"/>\n      <use x=\"747.802734\" xlink:href=\"#DejaVuSans-Bold-36\"/>\n      <use x=\"817.382812\" xlink:href=\"#DejaVuSans-Bold-41\"/>\n     </g>\n    </g>\n   </g>\n   <g id=\"matplotlib.axis_2\">\n    <g id=\"ytick_1\">\n     <g id=\"text_11\">\n      <!-- No -->\n      <defs>\n       <path d=\"M 9.8125 72.90625 \nL 23.09375 72.90625 \nL 55.421875 11.921875 \nL 55.421875 72.90625 \nL 64.984375 72.90625 \nL 64.984375 0 \nL 51.703125 0 \nL 19.390625 60.984375 \nL 19.390625 0 \nL 9.8125 0 \nz\n\" id=\"DejaVuSans-78\"/>\n       <path d=\"M 30.609375 48.390625 \nQ 23.390625 48.390625 19.1875 42.75 \nQ 14.984375 37.109375 14.984375 27.296875 \nQ 14.984375 17.484375 19.15625 11.84375 \nQ 23.34375 6.203125 30.609375 6.203125 \nQ 37.796875 6.203125 41.984375 11.859375 \nQ 46.1875 17.53125 46.1875 27.296875 \nQ 46.1875 37.015625 41.984375 42.703125 \nQ 37.796875 48.390625 30.609375 48.390625 \nz\nM 30.609375 56 \nQ 42.328125 56 49.015625 48.375 \nQ 55.71875 40.765625 55.71875 27.296875 \nQ 55.71875 13.875 49.015625 6.21875 \nQ 42.328125 -1.421875 30.609375 -1.421875 \nQ 18.84375 -1.421875 12.171875 6.21875 \nQ 5.515625 13.875 5.515625 27.296875 \nQ 5.515625 40.765625 12.171875 48.375 \nQ 18.84375 56 30.609375 56 \nz\n\" id=\"DejaVuSans-111\"/>\n      </defs>\n      <g style=\"fill:#262626;\" transform=\"translate(23.423438 69.849219)scale(0.1 -0.1)\">\n       <use xlink:href=\"#DejaVuSans-78\"/>\n       <use x=\"74.804688\" xlink:href=\"#DejaVuSans-111\"/>\n      </g>\n     </g>\n    </g>\n    <g id=\"ytick_2\">\n     <g id=\"text_12\">\n      <!-- Yes -->\n      <defs>\n       <path d=\"M -0.203125 72.90625 \nL 10.40625 72.90625 \nL 30.609375 42.921875 \nL 50.6875 72.90625 \nL 61.28125 72.90625 \nL 35.5 34.71875 \nL 35.5 0 \nL 25.59375 0 \nL 25.59375 34.71875 \nz\n\" id=\"DejaVuSans-89\"/>\n       <path d=\"M 56.203125 29.59375 \nL 56.203125 25.203125 \nL 14.890625 25.203125 \nQ 15.484375 15.921875 20.484375 11.0625 \nQ 25.484375 6.203125 34.421875 6.203125 \nQ 39.59375 6.203125 44.453125 7.46875 \nQ 49.3125 8.734375 54.109375 11.28125 \nL 54.109375 2.78125 \nQ 49.265625 0.734375 44.1875 -0.34375 \nQ 39.109375 -1.421875 33.890625 -1.421875 \nQ 20.796875 -1.421875 13.15625 6.1875 \nQ 5.515625 13.8125 5.515625 26.8125 \nQ 5.515625 40.234375 12.765625 48.109375 \nQ 20.015625 56 32.328125 56 \nQ 43.359375 56 49.78125 48.890625 \nQ 56.203125 41.796875 56.203125 29.59375 \nz\nM 47.21875 32.234375 \nQ 47.125 39.59375 43.09375 43.984375 \nQ 39.0625 48.390625 32.421875 48.390625 \nQ 24.90625 48.390625 20.390625 44.140625 \nQ 15.875 39.890625 15.1875 32.171875 \nz\n\" id=\"DejaVuSans-101\"/>\n       <path d=\"M 44.28125 53.078125 \nL 44.28125 44.578125 \nQ 40.484375 46.53125 36.375 47.5 \nQ 32.28125 48.484375 27.875 48.484375 \nQ 21.1875 48.484375 17.84375 46.4375 \nQ 14.5 44.390625 14.5 40.28125 \nQ 14.5 37.15625 16.890625 35.375 \nQ 19.28125 33.59375 26.515625 31.984375 \nL 29.59375 31.296875 \nQ 39.15625 29.25 43.1875 25.515625 \nQ 47.21875 21.78125 47.21875 15.09375 \nQ 47.21875 7.46875 41.1875 3.015625 \nQ 35.15625 -1.421875 24.609375 -1.421875 \nQ 20.21875 -1.421875 15.453125 -0.5625 \nQ 10.6875 0.296875 5.421875 2 \nL 5.421875 11.28125 \nQ 10.40625 8.6875 15.234375 7.390625 \nQ 20.0625 6.109375 24.8125 6.109375 \nQ 31.15625 6.109375 34.5625 8.28125 \nQ 37.984375 10.453125 37.984375 14.40625 \nQ 37.984375 18.0625 35.515625 20.015625 \nQ 33.0625 21.96875 24.703125 23.78125 \nL 21.578125 24.515625 \nQ 13.234375 26.265625 9.515625 29.90625 \nQ 5.8125 33.546875 5.8125 39.890625 \nQ 5.8125 47.609375 11.28125 51.796875 \nQ 16.75 56 26.8125 56 \nQ 31.78125 56 36.171875 55.265625 \nQ 40.578125 54.546875 44.28125 53.078125 \nz\n\" id=\"DejaVuSans-115\"/>\n      </defs>\n      <g style=\"fill:#262626;\" transform=\"translate(20.878125 187.549219)scale(0.1 -0.1)\">\n       <use xlink:href=\"#DejaVuSans-89\"/>\n       <use x=\"47.833984\" xlink:href=\"#DejaVuSans-101\"/>\n       <use x=\"109.357422\" xlink:href=\"#DejaVuSans-115\"/>\n      </g>\n     </g>\n    </g>\n    <g id=\"text_13\">\n     <!-- Top Rated? -->\n     <defs>\n      <path d=\"M 0.484375 72.90625 \nL 67.671875 72.90625 \nL 67.671875 58.6875 \nL 43.5 58.6875 \nL 43.5 0 \nL 24.703125 0 \nL 24.703125 58.6875 \nL 0.484375 58.6875 \nz\n\" id=\"DejaVuSans-Bold-84\"/>\n      <path d=\"M 25.875 7.90625 \nL 25.875 -20.796875 \nL 8.40625 -20.796875 \nL 8.40625 54.6875 \nL 25.875 54.6875 \nL 25.875 46.6875 \nQ 29.5 51.46875 33.890625 53.734375 \nQ 38.28125 56 44 56 \nQ 54.109375 56 60.59375 47.96875 \nQ 67.09375 39.9375 67.09375 27.296875 \nQ 67.09375 14.65625 60.59375 6.609375 \nQ 54.109375 -1.421875 44 -1.421875 \nQ 38.28125 -1.421875 33.890625 0.84375 \nQ 29.5 3.125 25.875 7.90625 \nz\nM 37.5 43.3125 \nQ 31.890625 43.3125 28.875 39.1875 \nQ 25.875 35.0625 25.875 27.296875 \nQ 25.875 19.53125 28.875 15.40625 \nQ 31.890625 11.28125 37.5 11.28125 \nQ 43.109375 11.28125 46.0625 15.375 \nQ 49.03125 19.484375 49.03125 27.296875 \nQ 49.03125 35.109375 46.0625 39.203125 \nQ 43.109375 43.3125 37.5 43.3125 \nz\n\" id=\"DejaVuSans-Bold-112\"/>\n      <path d=\"M 45.609375 46.6875 \nL 45.609375 75.984375 \nL 63.1875 75.984375 \nL 63.1875 0 \nL 45.609375 0 \nL 45.609375 7.90625 \nQ 42 3.078125 37.640625 0.828125 \nQ 33.296875 -1.421875 27.59375 -1.421875 \nQ 17.484375 -1.421875 10.984375 6.609375 \nQ 4.5 14.65625 4.5 27.296875 \nQ 4.5 39.9375 10.984375 47.96875 \nQ 17.484375 56 27.59375 56 \nQ 33.25 56 37.625 53.734375 \nQ 42 51.46875 45.609375 46.6875 \nz\nM 34.078125 11.28125 \nQ 39.703125 11.28125 42.65625 15.375 \nQ 45.609375 19.484375 45.609375 27.296875 \nQ 45.609375 35.109375 42.65625 39.203125 \nQ 39.703125 43.3125 34.078125 43.3125 \nQ 28.515625 43.3125 25.5625 39.203125 \nQ 22.609375 35.109375 22.609375 27.296875 \nQ 22.609375 19.484375 25.5625 15.375 \nQ 28.515625 11.28125 34.078125 11.28125 \nz\n\" id=\"DejaVuSans-Bold-100\"/>\n      <path d=\"M 34.625 24.609375 \nL 17 24.609375 \nL 17 27 \nQ 17 31 18.609375 34.09375 \nQ 20.21875 37.203125 25.390625 42 \nL 28.515625 44.828125 \nQ 31.296875 47.359375 32.59375 49.609375 \nQ 33.890625 51.859375 33.890625 54.109375 \nQ 33.890625 57.515625 31.546875 59.4375 \nQ 29.203125 61.375 25 61.375 \nQ 21.046875 61.375 16.453125 59.734375 \nQ 11.859375 58.109375 6.890625 54.890625 \nL 6.890625 70.21875 \nQ 12.796875 72.265625 17.671875 73.234375 \nQ 22.5625 74.21875 27.09375 74.21875 \nQ 39.015625 74.21875 45.265625 69.359375 \nQ 51.515625 64.5 51.515625 55.171875 \nQ 51.515625 50.390625 49.609375 46.609375 \nQ 47.703125 42.828125 43.109375 38.484375 \nL 39.984375 35.6875 \nQ 36.671875 32.671875 35.640625 30.828125 \nQ 34.625 29 34.625 26.8125 \nz\nM 17 17.390625 \nL 34.625 17.390625 \nL 34.625 0 \nL 17 0 \nz\n\" id=\"DejaVuSans-Bold-63\"/>\n     </defs>\n     <g style=\"fill:#262626;\" transform=\"translate(14.798438 155.888281)rotate(-90)scale(0.1 -0.1)\">\n      <use xlink:href=\"#DejaVuSans-Bold-84\"/>\n      <use x=\"54.962891\" xlink:href=\"#DejaVuSans-Bold-111\"/>\n      <use x=\"123.664062\" xlink:href=\"#DejaVuSans-Bold-112\"/>\n      <use x=\"195.246094\" xlink:href=\"#DejaVuSans-Bold-32\"/>\n      <use x=\"230.060547\" xlink:href=\"#DejaVuSans-Bold-82\"/>\n      <use x=\"307.0625\" xlink:href=\"#DejaVuSans-Bold-97\"/>\n      <use x=\"374.542969\" xlink:href=\"#DejaVuSans-Bold-116\"/>\n      <use x=\"422.345703\" xlink:href=\"#DejaVuSans-Bold-101\"/>\n      <use x=\"490.167969\" xlink:href=\"#DejaVuSans-Bold-100\"/>\n      <use x=\"561.75\" xlink:href=\"#DejaVuSans-Bold-63\"/>\n     </g>\n    </g>\n   </g>\n   <g id=\"patch_3\">\n    <path clip-path=\"url(#p7e271f4dca)\" d=\"M 83.396719 48.395 \nL 83.396719 83.705 \nL 124.751587 83.705 \nL 124.751587 48.395 \nL 83.396719 48.395 \nz\n\" style=\"fill:#ca9d1e;stroke:#464646;stroke-linejoin:miter;stroke-width:1.5;\"/>\n   </g>\n   <g id=\"patch_4\">\n    <path clip-path=\"url(#p7e271f4dca)\" d=\"M 107.520392 166.095 \nL 107.520392 201.405 \nL 159.213977 201.405 \nL 159.213977 166.095 \nL 107.520392 166.095 \nz\n\" style=\"fill:#7c78ab;stroke:#464646;stroke-linejoin:miter;stroke-width:1.5;\"/>\n   </g>\n   <g id=\"line2d_1\">\n    <path clip-path=\"url(#p7e271f4dca)\" d=\"M 83.396719 66.05 \nL 60.996165 66.05 \n\" style=\"fill:none;stroke:#464646;stroke-linecap:round;stroke-width:1.5;\"/>\n   </g>\n   <g id=\"line2d_2\">\n    <path clip-path=\"url(#p7e271f4dca)\" d=\"M 124.751587 66.05 \nL 185.06077 66.05 \n\" style=\"fill:none;stroke:#464646;stroke-linecap:round;stroke-width:1.5;\"/>\n   </g>\n   <g id=\"line2d_3\">\n    <path clip-path=\"url(#p7e271f4dca)\" d=\"M 60.996165 57.2225 \nL 60.996165 74.8775 \n\" style=\"fill:none;stroke:#464646;stroke-linecap:round;stroke-width:1.5;\"/>\n   </g>\n   <g id=\"line2d_4\">\n    <path clip-path=\"url(#p7e271f4dca)\" d=\"M 185.06077 57.2225 \nL 185.06077 74.8775 \n\" style=\"fill:none;stroke:#464646;stroke-linecap:round;stroke-width:1.5;\"/>\n   </g>\n   <g id=\"line2d_5\">\n    <defs>\n     <path d=\"M -0 3.535534 \nL 2.12132 0 \nL -0 -3.535534 \nL -2.12132 -0 \nz\n\" id=\"m28fefc791e\" style=\"stroke:#464646;stroke-linejoin:miter;\"/>\n    </defs>\n    <g clip-path=\"url(#p7e271f4dca)\">\n     <use style=\"fill:#464646;stroke:#464646;stroke-linejoin:miter;\" x=\"193.676368\" xlink:href=\"#m28fefc791e\" y=\"66.05\"/>\n     <use style=\"fill:#464646;stroke:#464646;stroke-linejoin:miter;\" x=\"400.45071\" xlink:href=\"#m28fefc791e\" y=\"66.05\"/>\n    </g>\n   </g>\n   <g id=\"line2d_6\">\n    <path clip-path=\"url(#p7e271f4dca)\" d=\"M 107.520392 183.75 \nL 73.058001 183.75 \n\" style=\"fill:none;stroke:#464646;stroke-linecap:round;stroke-width:1.5;\"/>\n   </g>\n   <g id=\"line2d_7\">\n    <path clip-path=\"url(#p7e271f4dca)\" d=\"M 159.213977 183.75 \nL 202.291965 183.75 \n\" style=\"fill:none;stroke:#464646;stroke-linecap:round;stroke-width:1.5;\"/>\n   </g>\n   <g id=\"line2d_8\">\n    <path clip-path=\"url(#p7e271f4dca)\" d=\"M 73.058001 174.9225 \nL 73.058001 192.5775 \n\" style=\"fill:none;stroke:#464646;stroke-linecap:round;stroke-width:1.5;\"/>\n   </g>\n   <g id=\"line2d_9\">\n    <path clip-path=\"url(#p7e271f4dca)\" d=\"M 202.291965 174.9225 \nL 202.291965 192.5775 \n\" style=\"fill:none;stroke:#464646;stroke-linecap:round;stroke-width:1.5;\"/>\n   </g>\n   <g id=\"line2d_10\"/>\n   <g id=\"line2d_11\">\n    <path clip-path=\"url(#p7e271f4dca)\" d=\"M 90.289197 48.395 \nL 90.289197 83.705 \n\" style=\"fill:none;stroke:#464646;stroke-linecap:round;stroke-width:1.5;\"/>\n   </g>\n   <g id=\"line2d_12\">\n    <path clip-path=\"url(#p7e271f4dca)\" d=\"M 116.135989 166.095 \nL 116.135989 201.405 \n\" style=\"fill:none;stroke:#464646;stroke-linecap:round;stroke-width:1.5;\"/>\n   </g>\n   <g id=\"patch_5\">\n    <path d=\"M 44.023438 242.6 \nL 44.023438 7.2 \n\" style=\"fill:none;stroke:#ffffff;stroke-linecap:square;stroke-linejoin:miter;stroke-width:1.5;\"/>\n   </g>\n   <g id=\"patch_6\">\n    <path d=\"M 417.423437 242.6 \nL 417.423437 7.2 \n\" style=\"fill:none;stroke:#ffffff;stroke-linecap:square;stroke-linejoin:miter;stroke-width:1.5;\"/>\n   </g>\n   <g id=\"patch_7\">\n    <path d=\"M 44.023438 242.6 \nL 417.423438 242.6 \n\" style=\"fill:none;stroke:#ffffff;stroke-linecap:square;stroke-linejoin:miter;stroke-width:1.5;\"/>\n   </g>\n   <g id=\"patch_8\">\n    <path d=\"M 44.023438 7.2 \nL 417.423438 7.2 \n\" style=\"fill:none;stroke:#ffffff;stroke-linecap:square;stroke-linejoin:miter;stroke-width:1.5;\"/>\n   </g>\n  </g>\n </g>\n <defs>\n  <clipPath id=\"p7e271f4dca\">\n   <rect height=\"235.4\" width=\"373.4\" x=\"44.023438\" y=\"7.2\"/>\n  </clipPath>\n </defs>\n</svg>\n"
          },
          "metadata": {}
        }
      ]
    },
    {
      "cell_type": "markdown",
      "source": [
        "**4. How many are top rated freelancers?**\n",
        "\n",
        "9 Top Rated x 92 Non Top Rated\n",
        "Top rated correspond to **8.91% of Brazilian DAs**"
      ],
      "metadata": {
        "id": "DuK5j8DQrHxS"
      }
    },
    {
      "cell_type": "code",
      "source": [
        "9/101*100"
      ],
      "metadata": {
        "colab": {
          "base_uri": "https://localhost:8080/"
        },
        "id": "hluMH8SErU9D",
        "outputId": "6a829d5f-f560-40cd-d5d7-9e33fe333d63"
      },
      "execution_count": null,
      "outputs": [
        {
          "output_type": "execute_result",
          "data": {
            "text/plain": [
              "8.91089108910891"
            ]
          },
          "metadata": {},
          "execution_count": 137
        }
      ]
    },
    {
      "cell_type": "markdown",
      "source": [
        "**Based on Hourly Rates outliers, being a Top-Rated DA freelancer does not depending on experience**"
      ],
      "metadata": {
        "id": "K68ikVO8r_JU"
      }
    },
    {
      "cell_type": "markdown",
      "source": [
        "**5. What is the level of satisfaction of Brazilian DAs in the marketplace?**\n",
        "\n",
        "There is no sufficient data to answer this question. However, is possible to the impact of being a Top Rated Data Analyst."
      ],
      "metadata": {
        "id": "YP0J3HerrgUv"
      }
    },
    {
      "cell_type": "code",
      "source": [
        "dataset_copy = dataset.copy()\n",
        "dataset_copy['Top_rated'] = dataset_copy['Top_rated'].apply(lambda valor: 1 if valor == 'yes' else 0)\n",
        "dataset_copy['Hourly_rate'] = dataset_copy['Hourly_rate'].apply(lambda valor: (valor-dataset_copy['Hourly_rate'].mean())/dataset_copy['Hourly_rate'].std())\n",
        "dataset_copy['Amount_earned'] = dataset_copy['Amount_earned'].apply(lambda valor: (valor-dataset_copy['Amount_earned'].mean())/dataset_copy['Amount_earned'].std())"
      ],
      "metadata": {
        "id": "DGr93f5IGhLQ"
      },
      "execution_count": null,
      "outputs": []
    },
    {
      "cell_type": "code",
      "source": [
        "sns.heatmap(dataset_copy.corr(), annot=True, ec='w', lw=1.5)"
      ],
      "metadata": {
        "colab": {
          "base_uri": "https://localhost:8080/",
          "height": 376
        },
        "id": "TeYOTCu_I1jL",
        "outputId": "ed760be0-afcd-4414-ee63-f9538af72598"
      },
      "execution_count": null,
      "outputs": [
        {
          "output_type": "execute_result",
          "data": {
            "text/plain": [
              "<matplotlib.axes._subplots.AxesSubplot at 0x7fbe724af190>"
            ]
          },
          "metadata": {},
          "execution_count": 139
        },
        {
          "output_type": "display_data",
          "data": {
            "text/plain": [
              "<Figure size 432x288 with 2 Axes>"
            ],
            "image/svg+xml": "<?xml version=\"1.0\" encoding=\"utf-8\" standalone=\"no\"?>\n<!DOCTYPE svg PUBLIC \"-//W3C//DTD SVG 1.1//EN\"\n  \"http://www.w3.org/Graphics/SVG/1.1/DTD/svg11.dtd\">\n<!-- Created with matplotlib (https://matplotlib.org/) -->\n<svg height=\"252.595469pt\" version=\"1.1\" viewBox=\"0 0 349.711375 252.595469\" width=\"349.711375pt\" xmlns=\"http://www.w3.org/2000/svg\" xmlns:xlink=\"http://www.w3.org/1999/xlink\">\n <defs>\n  <style type=\"text/css\">\n*{stroke-linecap:butt;stroke-linejoin:round;}\n  </style>\n </defs>\n <g id=\"figure_1\">\n  <g id=\"patch_1\">\n   <path d=\"M -0 252.595469 \nL 349.711375 252.595469 \nL 349.711375 0 \nL -0 0 \nz\n\" style=\"fill:#ffffff;\"/>\n  </g>\n  <g id=\"axes_1\">\n   <g id=\"patch_2\">\n    <path d=\"M 24.15625 228.439219 \nL 291.99625 228.439219 \nL 291.99625 10.999219 \nL 24.15625 10.999219 \nz\n\" style=\"fill:#eaeaf2;\"/>\n   </g>\n   <g id=\"matplotlib.axis_1\">\n    <g id=\"xtick_1\">\n     <g id=\"text_1\">\n      <!-- Hourly_rate -->\n      <defs>\n       <path d=\"M 9.8125 72.90625 \nL 19.671875 72.90625 \nL 19.671875 43.015625 \nL 55.515625 43.015625 \nL 55.515625 72.90625 \nL 65.375 72.90625 \nL 65.375 0 \nL 55.515625 0 \nL 55.515625 34.71875 \nL 19.671875 34.71875 \nL 19.671875 0 \nL 9.8125 0 \nz\n\" id=\"DejaVuSans-72\"/>\n       <path d=\"M 30.609375 48.390625 \nQ 23.390625 48.390625 19.1875 42.75 \nQ 14.984375 37.109375 14.984375 27.296875 \nQ 14.984375 17.484375 19.15625 11.84375 \nQ 23.34375 6.203125 30.609375 6.203125 \nQ 37.796875 6.203125 41.984375 11.859375 \nQ 46.1875 17.53125 46.1875 27.296875 \nQ 46.1875 37.015625 41.984375 42.703125 \nQ 37.796875 48.390625 30.609375 48.390625 \nz\nM 30.609375 56 \nQ 42.328125 56 49.015625 48.375 \nQ 55.71875 40.765625 55.71875 27.296875 \nQ 55.71875 13.875 49.015625 6.21875 \nQ 42.328125 -1.421875 30.609375 -1.421875 \nQ 18.84375 -1.421875 12.171875 6.21875 \nQ 5.515625 13.875 5.515625 27.296875 \nQ 5.515625 40.765625 12.171875 48.375 \nQ 18.84375 56 30.609375 56 \nz\n\" id=\"DejaVuSans-111\"/>\n       <path d=\"M 8.5 21.578125 \nL 8.5 54.6875 \nL 17.484375 54.6875 \nL 17.484375 21.921875 \nQ 17.484375 14.15625 20.5 10.265625 \nQ 23.53125 6.390625 29.59375 6.390625 \nQ 36.859375 6.390625 41.078125 11.03125 \nQ 45.3125 15.671875 45.3125 23.6875 \nL 45.3125 54.6875 \nL 54.296875 54.6875 \nL 54.296875 0 \nL 45.3125 0 \nL 45.3125 8.40625 \nQ 42.046875 3.421875 37.71875 1 \nQ 33.40625 -1.421875 27.6875 -1.421875 \nQ 18.265625 -1.421875 13.375 4.4375 \nQ 8.5 10.296875 8.5 21.578125 \nz\nM 31.109375 56 \nz\n\" id=\"DejaVuSans-117\"/>\n       <path d=\"M 41.109375 46.296875 \nQ 39.59375 47.171875 37.8125 47.578125 \nQ 36.03125 48 33.890625 48 \nQ 26.265625 48 22.1875 43.046875 \nQ 18.109375 38.09375 18.109375 28.8125 \nL 18.109375 0 \nL 9.078125 0 \nL 9.078125 54.6875 \nL 18.109375 54.6875 \nL 18.109375 46.1875 \nQ 20.953125 51.171875 25.484375 53.578125 \nQ 30.03125 56 36.53125 56 \nQ 37.453125 56 38.578125 55.875 \nQ 39.703125 55.765625 41.0625 55.515625 \nz\n\" id=\"DejaVuSans-114\"/>\n       <path d=\"M 9.421875 75.984375 \nL 18.40625 75.984375 \nL 18.40625 0 \nL 9.421875 0 \nz\n\" id=\"DejaVuSans-108\"/>\n       <path d=\"M 32.171875 -5.078125 \nQ 28.375 -14.84375 24.75 -17.8125 \nQ 21.140625 -20.796875 15.09375 -20.796875 \nL 7.90625 -20.796875 \nL 7.90625 -13.28125 \nL 13.1875 -13.28125 \nQ 16.890625 -13.28125 18.9375 -11.515625 \nQ 21 -9.765625 23.484375 -3.21875 \nL 25.09375 0.875 \nL 2.984375 54.6875 \nL 12.5 54.6875 \nL 29.59375 11.921875 \nL 46.6875 54.6875 \nL 56.203125 54.6875 \nz\n\" id=\"DejaVuSans-121\"/>\n       <path d=\"M 50.984375 -16.609375 \nL 50.984375 -23.578125 \nL -0.984375 -23.578125 \nL -0.984375 -16.609375 \nz\n\" id=\"DejaVuSans-95\"/>\n       <path d=\"M 34.28125 27.484375 \nQ 23.390625 27.484375 19.1875 25 \nQ 14.984375 22.515625 14.984375 16.5 \nQ 14.984375 11.71875 18.140625 8.90625 \nQ 21.296875 6.109375 26.703125 6.109375 \nQ 34.1875 6.109375 38.703125 11.40625 \nQ 43.21875 16.703125 43.21875 25.484375 \nL 43.21875 27.484375 \nz\nM 52.203125 31.203125 \nL 52.203125 0 \nL 43.21875 0 \nL 43.21875 8.296875 \nQ 40.140625 3.328125 35.546875 0.953125 \nQ 30.953125 -1.421875 24.3125 -1.421875 \nQ 15.921875 -1.421875 10.953125 3.296875 \nQ 6 8.015625 6 15.921875 \nQ 6 25.140625 12.171875 29.828125 \nQ 18.359375 34.515625 30.609375 34.515625 \nL 43.21875 34.515625 \nL 43.21875 35.40625 \nQ 43.21875 41.609375 39.140625 45 \nQ 35.0625 48.390625 27.6875 48.390625 \nQ 23 48.390625 18.546875 47.265625 \nQ 14.109375 46.140625 10.015625 43.890625 \nL 10.015625 52.203125 \nQ 14.9375 54.109375 19.578125 55.046875 \nQ 24.21875 56 28.609375 56 \nQ 40.484375 56 46.34375 49.84375 \nQ 52.203125 43.703125 52.203125 31.203125 \nz\n\" id=\"DejaVuSans-97\"/>\n       <path d=\"M 18.3125 70.21875 \nL 18.3125 54.6875 \nL 36.8125 54.6875 \nL 36.8125 47.703125 \nL 18.3125 47.703125 \nL 18.3125 18.015625 \nQ 18.3125 11.328125 20.140625 9.421875 \nQ 21.96875 7.515625 27.59375 7.515625 \nL 36.8125 7.515625 \nL 36.8125 0 \nL 27.59375 0 \nQ 17.1875 0 13.234375 3.875 \nQ 9.28125 7.765625 9.28125 18.015625 \nL 9.28125 47.703125 \nL 2.6875 47.703125 \nL 2.6875 54.6875 \nL 9.28125 54.6875 \nL 9.28125 70.21875 \nz\n\" id=\"DejaVuSans-116\"/>\n       <path d=\"M 56.203125 29.59375 \nL 56.203125 25.203125 \nL 14.890625 25.203125 \nQ 15.484375 15.921875 20.484375 11.0625 \nQ 25.484375 6.203125 34.421875 6.203125 \nQ 39.59375 6.203125 44.453125 7.46875 \nQ 49.3125 8.734375 54.109375 11.28125 \nL 54.109375 2.78125 \nQ 49.265625 0.734375 44.1875 -0.34375 \nQ 39.109375 -1.421875 33.890625 -1.421875 \nQ 20.796875 -1.421875 13.15625 6.1875 \nQ 5.515625 13.8125 5.515625 26.8125 \nQ 5.515625 40.234375 12.765625 48.109375 \nQ 20.015625 56 32.328125 56 \nQ 43.359375 56 49.78125 48.890625 \nQ 56.203125 41.796875 56.203125 29.59375 \nz\nM 47.21875 32.234375 \nQ 47.125 39.59375 43.09375 43.984375 \nQ 39.0625 48.390625 32.421875 48.390625 \nQ 24.90625 48.390625 20.390625 44.140625 \nQ 15.875 39.890625 15.1875 32.171875 \nz\n\" id=\"DejaVuSans-101\"/>\n      </defs>\n      <g style=\"fill:#262626;\" transform=\"translate(39.747813 243.037656)scale(0.1 -0.1)\">\n       <use xlink:href=\"#DejaVuSans-72\"/>\n       <use x=\"75.195312\" xlink:href=\"#DejaVuSans-111\"/>\n       <use x=\"136.376953\" xlink:href=\"#DejaVuSans-117\"/>\n       <use x=\"199.755859\" xlink:href=\"#DejaVuSans-114\"/>\n       <use x=\"240.869141\" xlink:href=\"#DejaVuSans-108\"/>\n       <use x=\"268.652344\" xlink:href=\"#DejaVuSans-121\"/>\n       <use x=\"327.832031\" xlink:href=\"#DejaVuSans-95\"/>\n       <use x=\"377.832031\" xlink:href=\"#DejaVuSans-114\"/>\n       <use x=\"418.945312\" xlink:href=\"#DejaVuSans-97\"/>\n       <use x=\"480.224609\" xlink:href=\"#DejaVuSans-116\"/>\n       <use x=\"519.433594\" xlink:href=\"#DejaVuSans-101\"/>\n      </g>\n     </g>\n    </g>\n    <g id=\"xtick_2\">\n     <g id=\"text_2\">\n      <!-- Amount_earned -->\n      <defs>\n       <path d=\"M 34.1875 63.1875 \nL 20.796875 26.90625 \nL 47.609375 26.90625 \nz\nM 28.609375 72.90625 \nL 39.796875 72.90625 \nL 67.578125 0 \nL 57.328125 0 \nL 50.6875 18.703125 \nL 17.828125 18.703125 \nL 11.1875 0 \nL 0.78125 0 \nz\n\" id=\"DejaVuSans-65\"/>\n       <path d=\"M 52 44.1875 \nQ 55.375 50.25 60.0625 53.125 \nQ 64.75 56 71.09375 56 \nQ 79.640625 56 84.28125 50.015625 \nQ 88.921875 44.046875 88.921875 33.015625 \nL 88.921875 0 \nL 79.890625 0 \nL 79.890625 32.71875 \nQ 79.890625 40.578125 77.09375 44.375 \nQ 74.3125 48.1875 68.609375 48.1875 \nQ 61.625 48.1875 57.5625 43.546875 \nQ 53.515625 38.921875 53.515625 30.90625 \nL 53.515625 0 \nL 44.484375 0 \nL 44.484375 32.71875 \nQ 44.484375 40.625 41.703125 44.40625 \nQ 38.921875 48.1875 33.109375 48.1875 \nQ 26.21875 48.1875 22.15625 43.53125 \nQ 18.109375 38.875 18.109375 30.90625 \nL 18.109375 0 \nL 9.078125 0 \nL 9.078125 54.6875 \nL 18.109375 54.6875 \nL 18.109375 46.1875 \nQ 21.1875 51.21875 25.484375 53.609375 \nQ 29.78125 56 35.6875 56 \nQ 41.65625 56 45.828125 52.96875 \nQ 50 49.953125 52 44.1875 \nz\n\" id=\"DejaVuSans-109\"/>\n       <path d=\"M 54.890625 33.015625 \nL 54.890625 0 \nL 45.90625 0 \nL 45.90625 32.71875 \nQ 45.90625 40.484375 42.875 44.328125 \nQ 39.84375 48.1875 33.796875 48.1875 \nQ 26.515625 48.1875 22.3125 43.546875 \nQ 18.109375 38.921875 18.109375 30.90625 \nL 18.109375 0 \nL 9.078125 0 \nL 9.078125 54.6875 \nL 18.109375 54.6875 \nL 18.109375 46.1875 \nQ 21.34375 51.125 25.703125 53.5625 \nQ 30.078125 56 35.796875 56 \nQ 45.21875 56 50.046875 50.171875 \nQ 54.890625 44.34375 54.890625 33.015625 \nz\n\" id=\"DejaVuSans-110\"/>\n       <path d=\"M 45.40625 46.390625 \nL 45.40625 75.984375 \nL 54.390625 75.984375 \nL 54.390625 0 \nL 45.40625 0 \nL 45.40625 8.203125 \nQ 42.578125 3.328125 38.25 0.953125 \nQ 33.9375 -1.421875 27.875 -1.421875 \nQ 17.96875 -1.421875 11.734375 6.484375 \nQ 5.515625 14.40625 5.515625 27.296875 \nQ 5.515625 40.1875 11.734375 48.09375 \nQ 17.96875 56 27.875 56 \nQ 33.9375 56 38.25 53.625 \nQ 42.578125 51.265625 45.40625 46.390625 \nz\nM 14.796875 27.296875 \nQ 14.796875 17.390625 18.875 11.75 \nQ 22.953125 6.109375 30.078125 6.109375 \nQ 37.203125 6.109375 41.296875 11.75 \nQ 45.40625 17.390625 45.40625 27.296875 \nQ 45.40625 37.203125 41.296875 42.84375 \nQ 37.203125 48.484375 30.078125 48.484375 \nQ 22.953125 48.484375 18.875 42.84375 \nQ 14.796875 37.203125 14.796875 27.296875 \nz\n\" id=\"DejaVuSans-100\"/>\n      </defs>\n      <g style=\"fill:#262626;\" transform=\"translate(118.400469 243.037656)scale(0.1 -0.1)\">\n       <use xlink:href=\"#DejaVuSans-65\"/>\n       <use x=\"68.408203\" xlink:href=\"#DejaVuSans-109\"/>\n       <use x=\"165.820312\" xlink:href=\"#DejaVuSans-111\"/>\n       <use x=\"227.001953\" xlink:href=\"#DejaVuSans-117\"/>\n       <use x=\"290.380859\" xlink:href=\"#DejaVuSans-110\"/>\n       <use x=\"353.759766\" xlink:href=\"#DejaVuSans-116\"/>\n       <use x=\"392.96875\" xlink:href=\"#DejaVuSans-95\"/>\n       <use x=\"442.96875\" xlink:href=\"#DejaVuSans-101\"/>\n       <use x=\"504.492188\" xlink:href=\"#DejaVuSans-97\"/>\n       <use x=\"565.771484\" xlink:href=\"#DejaVuSans-114\"/>\n       <use x=\"605.134766\" xlink:href=\"#DejaVuSans-110\"/>\n       <use x=\"668.513672\" xlink:href=\"#DejaVuSans-101\"/>\n       <use x=\"730.037109\" xlink:href=\"#DejaVuSans-100\"/>\n      </g>\n     </g>\n    </g>\n    <g id=\"xtick_3\">\n     <g id=\"text_3\">\n      <!-- Top_rated -->\n      <defs>\n       <path d=\"M -0.296875 72.90625 \nL 61.375 72.90625 \nL 61.375 64.59375 \nL 35.5 64.59375 \nL 35.5 0 \nL 25.59375 0 \nL 25.59375 64.59375 \nL -0.296875 64.59375 \nz\n\" id=\"DejaVuSans-84\"/>\n       <path d=\"M 18.109375 8.203125 \nL 18.109375 -20.796875 \nL 9.078125 -20.796875 \nL 9.078125 54.6875 \nL 18.109375 54.6875 \nL 18.109375 46.390625 \nQ 20.953125 51.265625 25.265625 53.625 \nQ 29.59375 56 35.59375 56 \nQ 45.5625 56 51.78125 48.09375 \nQ 58.015625 40.1875 58.015625 27.296875 \nQ 58.015625 14.40625 51.78125 6.484375 \nQ 45.5625 -1.421875 35.59375 -1.421875 \nQ 29.59375 -1.421875 25.265625 0.953125 \nQ 20.953125 3.328125 18.109375 8.203125 \nz\nM 48.6875 27.296875 \nQ 48.6875 37.203125 44.609375 42.84375 \nQ 40.53125 48.484375 33.40625 48.484375 \nQ 26.265625 48.484375 22.1875 42.84375 \nQ 18.109375 37.203125 18.109375 27.296875 \nQ 18.109375 17.390625 22.1875 11.75 \nQ 26.265625 6.109375 33.40625 6.109375 \nQ 40.53125 6.109375 44.609375 11.75 \nQ 48.6875 17.390625 48.6875 27.296875 \nz\n\" id=\"DejaVuSans-112\"/>\n      </defs>\n      <g style=\"fill:#262626;\" transform=\"translate(223.088281 243.037656)scale(0.1 -0.1)\">\n       <use xlink:href=\"#DejaVuSans-84\"/>\n       <use x=\"44.083984\" xlink:href=\"#DejaVuSans-111\"/>\n       <use x=\"105.265625\" xlink:href=\"#DejaVuSans-112\"/>\n       <use x=\"168.742188\" xlink:href=\"#DejaVuSans-95\"/>\n       <use x=\"218.742188\" xlink:href=\"#DejaVuSans-114\"/>\n       <use x=\"259.855469\" xlink:href=\"#DejaVuSans-97\"/>\n       <use x=\"321.134766\" xlink:href=\"#DejaVuSans-116\"/>\n       <use x=\"360.34375\" xlink:href=\"#DejaVuSans-101\"/>\n       <use x=\"421.867188\" xlink:href=\"#DejaVuSans-100\"/>\n      </g>\n     </g>\n    </g>\n   </g>\n   <g id=\"matplotlib.axis_2\">\n    <g id=\"ytick_1\">\n     <g id=\"text_4\">\n      <!-- Hourly_rate -->\n      <g style=\"fill:#262626;\" transform=\"translate(14.798438 76.287656)rotate(-90)scale(0.1 -0.1)\">\n       <use xlink:href=\"#DejaVuSans-72\"/>\n       <use x=\"75.195312\" xlink:href=\"#DejaVuSans-111\"/>\n       <use x=\"136.376953\" xlink:href=\"#DejaVuSans-117\"/>\n       <use x=\"199.755859\" xlink:href=\"#DejaVuSans-114\"/>\n       <use x=\"240.869141\" xlink:href=\"#DejaVuSans-108\"/>\n       <use x=\"268.652344\" xlink:href=\"#DejaVuSans-121\"/>\n       <use x=\"327.832031\" xlink:href=\"#DejaVuSans-95\"/>\n       <use x=\"377.832031\" xlink:href=\"#DejaVuSans-114\"/>\n       <use x=\"418.945312\" xlink:href=\"#DejaVuSans-97\"/>\n       <use x=\"480.224609\" xlink:href=\"#DejaVuSans-116\"/>\n       <use x=\"519.433594\" xlink:href=\"#DejaVuSans-101\"/>\n      </g>\n     </g>\n    </g>\n    <g id=\"ytick_2\">\n     <g id=\"text_5\">\n      <!-- Amount_earned -->\n      <g style=\"fill:#262626;\" transform=\"translate(14.798438 159.395)rotate(-90)scale(0.1 -0.1)\">\n       <use xlink:href=\"#DejaVuSans-65\"/>\n       <use x=\"68.408203\" xlink:href=\"#DejaVuSans-109\"/>\n       <use x=\"165.820312\" xlink:href=\"#DejaVuSans-111\"/>\n       <use x=\"227.001953\" xlink:href=\"#DejaVuSans-117\"/>\n       <use x=\"290.380859\" xlink:href=\"#DejaVuSans-110\"/>\n       <use x=\"353.759766\" xlink:href=\"#DejaVuSans-116\"/>\n       <use x=\"392.96875\" xlink:href=\"#DejaVuSans-95\"/>\n       <use x=\"442.96875\" xlink:href=\"#DejaVuSans-101\"/>\n       <use x=\"504.492188\" xlink:href=\"#DejaVuSans-97\"/>\n       <use x=\"565.771484\" xlink:href=\"#DejaVuSans-114\"/>\n       <use x=\"605.134766\" xlink:href=\"#DejaVuSans-110\"/>\n       <use x=\"668.513672\" xlink:href=\"#DejaVuSans-101\"/>\n       <use x=\"730.037109\" xlink:href=\"#DejaVuSans-100\"/>\n      </g>\n     </g>\n    </g>\n    <g id=\"ytick_3\">\n     <g id=\"text_6\">\n      <!-- Top_rated -->\n      <g style=\"fill:#262626;\" transform=\"translate(14.798438 216.467187)rotate(-90)scale(0.1 -0.1)\">\n       <use xlink:href=\"#DejaVuSans-84\"/>\n       <use x=\"44.083984\" xlink:href=\"#DejaVuSans-111\"/>\n       <use x=\"105.265625\" xlink:href=\"#DejaVuSans-112\"/>\n       <use x=\"168.742188\" xlink:href=\"#DejaVuSans-95\"/>\n       <use x=\"218.742188\" xlink:href=\"#DejaVuSans-114\"/>\n       <use x=\"259.855469\" xlink:href=\"#DejaVuSans-97\"/>\n       <use x=\"321.134766\" xlink:href=\"#DejaVuSans-116\"/>\n       <use x=\"360.34375\" xlink:href=\"#DejaVuSans-101\"/>\n       <use x=\"421.867188\" xlink:href=\"#DejaVuSans-100\"/>\n      </g>\n     </g>\n    </g>\n   </g>\n   <g id=\"QuadMesh_1\">\n    <path clip-path=\"url(#pbc0374a96c)\" d=\"M 24.15625 10.999219 \nL 113.43625 10.999219 \nL 113.43625 83.479219 \nL 24.15625 83.479219 \nL 24.15625 10.999219 \n\" style=\"fill:#faebdd;stroke:#ffffff;stroke-width:1.5;\"/>\n    <path clip-path=\"url(#pbc0374a96c)\" d=\"M 113.43625 10.999219 \nL 202.71625 10.999219 \nL 202.71625 83.479219 \nL 113.43625 83.479219 \nL 113.43625 10.999219 \n\" style=\"fill:#661f54;stroke:#ffffff;stroke-width:1.5;\"/>\n    <path clip-path=\"url(#pbc0374a96c)\" d=\"M 202.71625 10.999219 \nL 291.99625 10.999219 \nL 291.99625 83.479219 \nL 202.71625 83.479219 \nL 202.71625 10.999219 \n\" style=\"fill:#03051a;stroke:#ffffff;stroke-width:1.5;\"/>\n    <path clip-path=\"url(#pbc0374a96c)\" d=\"M 24.15625 83.479219 \nL 113.43625 83.479219 \nL 113.43625 155.959219 \nL 24.15625 155.959219 \nL 24.15625 83.479219 \n\" style=\"fill:#661f54;stroke:#ffffff;stroke-width:1.5;\"/>\n    <path clip-path=\"url(#pbc0374a96c)\" d=\"M 113.43625 83.479219 \nL 202.71625 83.479219 \nL 202.71625 155.959219 \nL 113.43625 155.959219 \nL 113.43625 83.479219 \n\" style=\"fill:#faebdd;stroke:#ffffff;stroke-width:1.5;\"/>\n    <path clip-path=\"url(#pbc0374a96c)\" d=\"M 202.71625 83.479219 \nL 291.99625 83.479219 \nL 291.99625 155.959219 \nL 202.71625 155.959219 \nL 202.71625 83.479219 \n\" style=\"fill:#ba1656;stroke:#ffffff;stroke-width:1.5;\"/>\n    <path clip-path=\"url(#pbc0374a96c)\" d=\"M 24.15625 155.959219 \nL 113.43625 155.959219 \nL 113.43625 228.439219 \nL 24.15625 228.439219 \nL 24.15625 155.959219 \n\" style=\"fill:#03051a;stroke:#ffffff;stroke-width:1.5;\"/>\n    <path clip-path=\"url(#pbc0374a96c)\" d=\"M 113.43625 155.959219 \nL 202.71625 155.959219 \nL 202.71625 228.439219 \nL 113.43625 228.439219 \nL 113.43625 155.959219 \n\" style=\"fill:#ba1656;stroke:#ffffff;stroke-width:1.5;\"/>\n    <path clip-path=\"url(#pbc0374a96c)\" d=\"M 202.71625 155.959219 \nL 291.99625 155.959219 \nL 291.99625 228.439219 \nL 202.71625 228.439219 \nL 202.71625 155.959219 \n\" style=\"fill:#faebdd;stroke:#ffffff;stroke-width:1.5;\"/>\n   </g>\n   <g id=\"text_7\">\n    <!-- 1 -->\n    <defs>\n     <path d=\"M 12.40625 8.296875 \nL 28.515625 8.296875 \nL 28.515625 63.921875 \nL 10.984375 60.40625 \nL 10.984375 69.390625 \nL 28.421875 72.90625 \nL 38.28125 72.90625 \nL 38.28125 8.296875 \nL 54.390625 8.296875 \nL 54.390625 0 \nL 12.40625 0 \nz\n\" id=\"DejaVuSans-49\"/>\n    </defs>\n    <g style=\"fill:#262626;\" transform=\"translate(65.615 49.998594)scale(0.1 -0.1)\">\n     <use xlink:href=\"#DejaVuSans-49\"/>\n    </g>\n   </g>\n   <g id=\"text_8\">\n    <!-- 0.37 -->\n    <defs>\n     <path d=\"M 31.78125 66.40625 \nQ 24.171875 66.40625 20.328125 58.90625 \nQ 16.5 51.421875 16.5 36.375 \nQ 16.5 21.390625 20.328125 13.890625 \nQ 24.171875 6.390625 31.78125 6.390625 \nQ 39.453125 6.390625 43.28125 13.890625 \nQ 47.125 21.390625 47.125 36.375 \nQ 47.125 51.421875 43.28125 58.90625 \nQ 39.453125 66.40625 31.78125 66.40625 \nz\nM 31.78125 74.21875 \nQ 44.046875 74.21875 50.515625 64.515625 \nQ 56.984375 54.828125 56.984375 36.375 \nQ 56.984375 17.96875 50.515625 8.265625 \nQ 44.046875 -1.421875 31.78125 -1.421875 \nQ 19.53125 -1.421875 13.0625 8.265625 \nQ 6.59375 17.96875 6.59375 36.375 \nQ 6.59375 54.828125 13.0625 64.515625 \nQ 19.53125 74.21875 31.78125 74.21875 \nz\n\" id=\"DejaVuSans-48\"/>\n     <path d=\"M 10.6875 12.40625 \nL 21 12.40625 \nL 21 0 \nL 10.6875 0 \nz\n\" id=\"DejaVuSans-46\"/>\n     <path d=\"M 40.578125 39.3125 \nQ 47.65625 37.796875 51.625 33 \nQ 55.609375 28.21875 55.609375 21.1875 \nQ 55.609375 10.40625 48.1875 4.484375 \nQ 40.765625 -1.421875 27.09375 -1.421875 \nQ 22.515625 -1.421875 17.65625 -0.515625 \nQ 12.796875 0.390625 7.625 2.203125 \nL 7.625 11.71875 \nQ 11.71875 9.328125 16.59375 8.109375 \nQ 21.484375 6.890625 26.8125 6.890625 \nQ 36.078125 6.890625 40.9375 10.546875 \nQ 45.796875 14.203125 45.796875 21.1875 \nQ 45.796875 27.640625 41.28125 31.265625 \nQ 36.765625 34.90625 28.71875 34.90625 \nL 20.21875 34.90625 \nL 20.21875 43.015625 \nL 29.109375 43.015625 \nQ 36.375 43.015625 40.234375 45.921875 \nQ 44.09375 48.828125 44.09375 54.296875 \nQ 44.09375 59.90625 40.109375 62.90625 \nQ 36.140625 65.921875 28.71875 65.921875 \nQ 24.65625 65.921875 20.015625 65.03125 \nQ 15.375 64.15625 9.8125 62.3125 \nL 9.8125 71.09375 \nQ 15.4375 72.65625 20.34375 73.4375 \nQ 25.25 74.21875 29.59375 74.21875 \nQ 40.828125 74.21875 47.359375 69.109375 \nQ 53.90625 64.015625 53.90625 55.328125 \nQ 53.90625 49.265625 50.4375 45.09375 \nQ 46.96875 40.921875 40.578125 39.3125 \nz\n\" id=\"DejaVuSans-51\"/>\n     <path d=\"M 8.203125 72.90625 \nL 55.078125 72.90625 \nL 55.078125 68.703125 \nL 28.609375 0 \nL 18.3125 0 \nL 43.21875 64.59375 \nL 8.203125 64.59375 \nz\n\" id=\"DejaVuSans-55\"/>\n    </defs>\n    <g style=\"fill:#ffffff;\" transform=\"translate(146.943438 49.998594)scale(0.1 -0.1)\">\n     <use xlink:href=\"#DejaVuSans-48\"/>\n     <use x=\"63.623047\" xlink:href=\"#DejaVuSans-46\"/>\n     <use x=\"95.410156\" xlink:href=\"#DejaVuSans-51\"/>\n     <use x=\"159.033203\" xlink:href=\"#DejaVuSans-55\"/>\n    </g>\n   </g>\n   <g id=\"text_9\">\n    <!-- 0.15 -->\n    <defs>\n     <path d=\"M 10.796875 72.90625 \nL 49.515625 72.90625 \nL 49.515625 64.59375 \nL 19.828125 64.59375 \nL 19.828125 46.734375 \nQ 21.96875 47.46875 24.109375 47.828125 \nQ 26.265625 48.1875 28.421875 48.1875 \nQ 40.625 48.1875 47.75 41.5 \nQ 54.890625 34.8125 54.890625 23.390625 \nQ 54.890625 11.625 47.5625 5.09375 \nQ 40.234375 -1.421875 26.90625 -1.421875 \nQ 22.3125 -1.421875 17.546875 -0.640625 \nQ 12.796875 0.140625 7.71875 1.703125 \nL 7.71875 11.625 \nQ 12.109375 9.234375 16.796875 8.0625 \nQ 21.484375 6.890625 26.703125 6.890625 \nQ 35.15625 6.890625 40.078125 11.328125 \nQ 45.015625 15.765625 45.015625 23.390625 \nQ 45.015625 31 40.078125 35.4375 \nQ 35.15625 39.890625 26.703125 39.890625 \nQ 22.75 39.890625 18.8125 39.015625 \nQ 14.890625 38.140625 10.796875 36.28125 \nz\n\" id=\"DejaVuSans-53\"/>\n    </defs>\n    <g style=\"fill:#ffffff;\" transform=\"translate(236.223437 49.998594)scale(0.1 -0.1)\">\n     <use xlink:href=\"#DejaVuSans-48\"/>\n     <use x=\"63.623047\" xlink:href=\"#DejaVuSans-46\"/>\n     <use x=\"95.410156\" xlink:href=\"#DejaVuSans-49\"/>\n     <use x=\"159.033203\" xlink:href=\"#DejaVuSans-53\"/>\n    </g>\n   </g>\n   <g id=\"text_10\">\n    <!-- 0.37 -->\n    <g style=\"fill:#ffffff;\" transform=\"translate(57.663438 122.478594)scale(0.1 -0.1)\">\n     <use xlink:href=\"#DejaVuSans-48\"/>\n     <use x=\"63.623047\" xlink:href=\"#DejaVuSans-46\"/>\n     <use x=\"95.410156\" xlink:href=\"#DejaVuSans-51\"/>\n     <use x=\"159.033203\" xlink:href=\"#DejaVuSans-55\"/>\n    </g>\n   </g>\n   <g id=\"text_11\">\n    <!-- 1 -->\n    <g style=\"fill:#262626;\" transform=\"translate(154.895 122.478594)scale(0.1 -0.1)\">\n     <use xlink:href=\"#DejaVuSans-49\"/>\n    </g>\n   </g>\n   <g id=\"text_12\">\n    <!-- 0.54 -->\n    <defs>\n     <path d=\"M 37.796875 64.3125 \nL 12.890625 25.390625 \nL 37.796875 25.390625 \nz\nM 35.203125 72.90625 \nL 47.609375 72.90625 \nL 47.609375 25.390625 \nL 58.015625 25.390625 \nL 58.015625 17.1875 \nL 47.609375 17.1875 \nL 47.609375 0 \nL 37.796875 0 \nL 37.796875 17.1875 \nL 4.890625 17.1875 \nL 4.890625 26.703125 \nz\n\" id=\"DejaVuSans-52\"/>\n    </defs>\n    <g style=\"fill:#ffffff;\" transform=\"translate(236.223437 122.478594)scale(0.1 -0.1)\">\n     <use xlink:href=\"#DejaVuSans-48\"/>\n     <use x=\"63.623047\" xlink:href=\"#DejaVuSans-46\"/>\n     <use x=\"95.410156\" xlink:href=\"#DejaVuSans-53\"/>\n     <use x=\"159.033203\" xlink:href=\"#DejaVuSans-52\"/>\n    </g>\n   </g>\n   <g id=\"text_13\">\n    <!-- 0.15 -->\n    <g style=\"fill:#ffffff;\" transform=\"translate(57.663438 194.958594)scale(0.1 -0.1)\">\n     <use xlink:href=\"#DejaVuSans-48\"/>\n     <use x=\"63.623047\" xlink:href=\"#DejaVuSans-46\"/>\n     <use x=\"95.410156\" xlink:href=\"#DejaVuSans-49\"/>\n     <use x=\"159.033203\" xlink:href=\"#DejaVuSans-53\"/>\n    </g>\n   </g>\n   <g id=\"text_14\">\n    <!-- 0.54 -->\n    <g style=\"fill:#ffffff;\" transform=\"translate(146.943438 194.958594)scale(0.1 -0.1)\">\n     <use xlink:href=\"#DejaVuSans-48\"/>\n     <use x=\"63.623047\" xlink:href=\"#DejaVuSans-46\"/>\n     <use x=\"95.410156\" xlink:href=\"#DejaVuSans-53\"/>\n     <use x=\"159.033203\" xlink:href=\"#DejaVuSans-52\"/>\n    </g>\n   </g>\n   <g id=\"text_15\">\n    <!-- 1 -->\n    <g style=\"fill:#262626;\" transform=\"translate(244.175 194.958594)scale(0.1 -0.1)\">\n     <use xlink:href=\"#DejaVuSans-49\"/>\n    </g>\n   </g>\n  </g>\n  <g id=\"axes_2\">\n   <g id=\"patch_3\">\n    <path clip-path=\"url(#p2fe1a41cff)\" d=\"M 308.73625 228.439219 \nL 308.73625 227.589844 \nL 308.73625 11.848594 \nL 308.73625 10.999219 \nL 319.60825 10.999219 \nL 319.60825 11.848594 \nL 319.60825 227.589844 \nL 319.60825 228.439219 \nz\n\" style=\"fill:#eaeaf2;stroke:#eaeaf2;stroke-linejoin:miter;stroke-width:0.01;\"/>\n   </g>\n   <g id=\"matplotlib.axis_3\"/>\n   <g id=\"matplotlib.axis_4\">\n    <g id=\"ytick_4\">\n     <g id=\"line2d_1\">\n      <defs>\n       <path d=\"M 0 0 \nL 3.5 0 \n\" id=\"mf2a2a0992a\" style=\"stroke:#262626;stroke-width:0.8;\"/>\n      </defs>\n      <g>\n       <use style=\"fill:#262626;stroke:#262626;stroke-width:0.8;\" x=\"319.60825\" xlink:href=\"#mf2a2a0992a\" y=\"216.029437\"/>\n      </g>\n     </g>\n     <g id=\"text_16\">\n      <!-- 0.2 -->\n      <defs>\n       <path d=\"M 19.1875 8.296875 \nL 53.609375 8.296875 \nL 53.609375 0 \nL 7.328125 0 \nL 7.328125 8.296875 \nQ 12.9375 14.109375 22.625 23.890625 \nQ 32.328125 33.6875 34.8125 36.53125 \nQ 39.546875 41.84375 41.421875 45.53125 \nQ 43.3125 49.21875 43.3125 52.78125 \nQ 43.3125 58.59375 39.234375 62.25 \nQ 35.15625 65.921875 28.609375 65.921875 \nQ 23.96875 65.921875 18.8125 64.3125 \nQ 13.671875 62.703125 7.8125 59.421875 \nL 7.8125 69.390625 \nQ 13.765625 71.78125 18.9375 73 \nQ 24.125 74.21875 28.421875 74.21875 \nQ 39.75 74.21875 46.484375 68.546875 \nQ 53.21875 62.890625 53.21875 53.421875 \nQ 53.21875 48.921875 51.53125 44.890625 \nQ 49.859375 40.875 45.40625 35.40625 \nQ 44.1875 33.984375 37.640625 27.21875 \nQ 31.109375 20.453125 19.1875 8.296875 \nz\n\" id=\"DejaVuSans-50\"/>\n      </defs>\n      <g style=\"fill:#262626;\" transform=\"translate(326.60825 219.828656)scale(0.1 -0.1)\">\n       <use xlink:href=\"#DejaVuSans-48\"/>\n       <use x=\"63.623047\" xlink:href=\"#DejaVuSans-46\"/>\n       <use x=\"95.410156\" xlink:href=\"#DejaVuSans-50\"/>\n      </g>\n     </g>\n    </g>\n    <g id=\"ytick_5\">\n     <g id=\"line2d_2\">\n      <g>\n       <use style=\"fill:#262626;stroke:#262626;stroke-width:0.8;\" x=\"319.60825\" xlink:href=\"#mf2a2a0992a\" y=\"190.40066\"/>\n      </g>\n     </g>\n     <g id=\"text_17\">\n      <!-- 0.3 -->\n      <g style=\"fill:#262626;\" transform=\"translate(326.60825 194.199879)scale(0.1 -0.1)\">\n       <use xlink:href=\"#DejaVuSans-48\"/>\n       <use x=\"63.623047\" xlink:href=\"#DejaVuSans-46\"/>\n       <use x=\"95.410156\" xlink:href=\"#DejaVuSans-51\"/>\n      </g>\n     </g>\n    </g>\n    <g id=\"ytick_6\">\n     <g id=\"line2d_3\">\n      <g>\n       <use style=\"fill:#262626;stroke:#262626;stroke-width:0.8;\" x=\"319.60825\" xlink:href=\"#mf2a2a0992a\" y=\"164.771883\"/>\n      </g>\n     </g>\n     <g id=\"text_18\">\n      <!-- 0.4 -->\n      <g style=\"fill:#262626;\" transform=\"translate(326.60825 168.571101)scale(0.1 -0.1)\">\n       <use xlink:href=\"#DejaVuSans-48\"/>\n       <use x=\"63.623047\" xlink:href=\"#DejaVuSans-46\"/>\n       <use x=\"95.410156\" xlink:href=\"#DejaVuSans-52\"/>\n      </g>\n     </g>\n    </g>\n    <g id=\"ytick_7\">\n     <g id=\"line2d_4\">\n      <g>\n       <use style=\"fill:#262626;stroke:#262626;stroke-width:0.8;\" x=\"319.60825\" xlink:href=\"#mf2a2a0992a\" y=\"139.143105\"/>\n      </g>\n     </g>\n     <g id=\"text_19\">\n      <!-- 0.5 -->\n      <g style=\"fill:#262626;\" transform=\"translate(326.60825 142.942324)scale(0.1 -0.1)\">\n       <use xlink:href=\"#DejaVuSans-48\"/>\n       <use x=\"63.623047\" xlink:href=\"#DejaVuSans-46\"/>\n       <use x=\"95.410156\" xlink:href=\"#DejaVuSans-53\"/>\n      </g>\n     </g>\n    </g>\n    <g id=\"ytick_8\">\n     <g id=\"line2d_5\">\n      <g>\n       <use style=\"fill:#262626;stroke:#262626;stroke-width:0.8;\" x=\"319.60825\" xlink:href=\"#mf2a2a0992a\" y=\"113.514328\"/>\n      </g>\n     </g>\n     <g id=\"text_20\">\n      <!-- 0.6 -->\n      <defs>\n       <path d=\"M 33.015625 40.375 \nQ 26.375 40.375 22.484375 35.828125 \nQ 18.609375 31.296875 18.609375 23.390625 \nQ 18.609375 15.53125 22.484375 10.953125 \nQ 26.375 6.390625 33.015625 6.390625 \nQ 39.65625 6.390625 43.53125 10.953125 \nQ 47.40625 15.53125 47.40625 23.390625 \nQ 47.40625 31.296875 43.53125 35.828125 \nQ 39.65625 40.375 33.015625 40.375 \nz\nM 52.59375 71.296875 \nL 52.59375 62.3125 \nQ 48.875 64.0625 45.09375 64.984375 \nQ 41.3125 65.921875 37.59375 65.921875 \nQ 27.828125 65.921875 22.671875 59.328125 \nQ 17.53125 52.734375 16.796875 39.40625 \nQ 19.671875 43.65625 24.015625 45.921875 \nQ 28.375 48.1875 33.59375 48.1875 \nQ 44.578125 48.1875 50.953125 41.515625 \nQ 57.328125 34.859375 57.328125 23.390625 \nQ 57.328125 12.15625 50.6875 5.359375 \nQ 44.046875 -1.421875 33.015625 -1.421875 \nQ 20.359375 -1.421875 13.671875 8.265625 \nQ 6.984375 17.96875 6.984375 36.375 \nQ 6.984375 53.65625 15.1875 63.9375 \nQ 23.390625 74.21875 37.203125 74.21875 \nQ 40.921875 74.21875 44.703125 73.484375 \nQ 48.484375 72.75 52.59375 71.296875 \nz\n\" id=\"DejaVuSans-54\"/>\n      </defs>\n      <g style=\"fill:#262626;\" transform=\"translate(326.60825 117.313547)scale(0.1 -0.1)\">\n       <use xlink:href=\"#DejaVuSans-48\"/>\n       <use x=\"63.623047\" xlink:href=\"#DejaVuSans-46\"/>\n       <use x=\"95.410156\" xlink:href=\"#DejaVuSans-54\"/>\n      </g>\n     </g>\n    </g>\n    <g id=\"ytick_9\">\n     <g id=\"line2d_6\">\n      <g>\n       <use style=\"fill:#262626;stroke:#262626;stroke-width:0.8;\" x=\"319.60825\" xlink:href=\"#mf2a2a0992a\" y=\"87.885551\"/>\n      </g>\n     </g>\n     <g id=\"text_21\">\n      <!-- 0.7 -->\n      <g style=\"fill:#262626;\" transform=\"translate(326.60825 91.684769)scale(0.1 -0.1)\">\n       <use xlink:href=\"#DejaVuSans-48\"/>\n       <use x=\"63.623047\" xlink:href=\"#DejaVuSans-46\"/>\n       <use x=\"95.410156\" xlink:href=\"#DejaVuSans-55\"/>\n      </g>\n     </g>\n    </g>\n    <g id=\"ytick_10\">\n     <g id=\"line2d_7\">\n      <g>\n       <use style=\"fill:#262626;stroke:#262626;stroke-width:0.8;\" x=\"319.60825\" xlink:href=\"#mf2a2a0992a\" y=\"62.256773\"/>\n      </g>\n     </g>\n     <g id=\"text_22\">\n      <!-- 0.8 -->\n      <defs>\n       <path d=\"M 31.78125 34.625 \nQ 24.75 34.625 20.71875 30.859375 \nQ 16.703125 27.09375 16.703125 20.515625 \nQ 16.703125 13.921875 20.71875 10.15625 \nQ 24.75 6.390625 31.78125 6.390625 \nQ 38.8125 6.390625 42.859375 10.171875 \nQ 46.921875 13.96875 46.921875 20.515625 \nQ 46.921875 27.09375 42.890625 30.859375 \nQ 38.875 34.625 31.78125 34.625 \nz\nM 21.921875 38.8125 \nQ 15.578125 40.375 12.03125 44.71875 \nQ 8.5 49.078125 8.5 55.328125 \nQ 8.5 64.0625 14.71875 69.140625 \nQ 20.953125 74.21875 31.78125 74.21875 \nQ 42.671875 74.21875 48.875 69.140625 \nQ 55.078125 64.0625 55.078125 55.328125 \nQ 55.078125 49.078125 51.53125 44.71875 \nQ 48 40.375 41.703125 38.8125 \nQ 48.828125 37.15625 52.796875 32.3125 \nQ 56.78125 27.484375 56.78125 20.515625 \nQ 56.78125 9.90625 50.3125 4.234375 \nQ 43.84375 -1.421875 31.78125 -1.421875 \nQ 19.734375 -1.421875 13.25 4.234375 \nQ 6.78125 9.90625 6.78125 20.515625 \nQ 6.78125 27.484375 10.78125 32.3125 \nQ 14.796875 37.15625 21.921875 38.8125 \nz\nM 18.3125 54.390625 \nQ 18.3125 48.734375 21.84375 45.5625 \nQ 25.390625 42.390625 31.78125 42.390625 \nQ 38.140625 42.390625 41.71875 45.5625 \nQ 45.3125 48.734375 45.3125 54.390625 \nQ 45.3125 60.0625 41.71875 63.234375 \nQ 38.140625 66.40625 31.78125 66.40625 \nQ 25.390625 66.40625 21.84375 63.234375 \nQ 18.3125 60.0625 18.3125 54.390625 \nz\n\" id=\"DejaVuSans-56\"/>\n      </defs>\n      <g style=\"fill:#262626;\" transform=\"translate(326.60825 66.055992)scale(0.1 -0.1)\">\n       <use xlink:href=\"#DejaVuSans-48\"/>\n       <use x=\"63.623047\" xlink:href=\"#DejaVuSans-46\"/>\n       <use x=\"95.410156\" xlink:href=\"#DejaVuSans-56\"/>\n      </g>\n     </g>\n    </g>\n    <g id=\"ytick_11\">\n     <g id=\"line2d_8\">\n      <g>\n       <use style=\"fill:#262626;stroke:#262626;stroke-width:0.8;\" x=\"319.60825\" xlink:href=\"#mf2a2a0992a\" y=\"36.627996\"/>\n      </g>\n     </g>\n     <g id=\"text_23\">\n      <!-- 0.9 -->\n      <defs>\n       <path d=\"M 10.984375 1.515625 \nL 10.984375 10.5 \nQ 14.703125 8.734375 18.5 7.8125 \nQ 22.3125 6.890625 25.984375 6.890625 \nQ 35.75 6.890625 40.890625 13.453125 \nQ 46.046875 20.015625 46.78125 33.40625 \nQ 43.953125 29.203125 39.59375 26.953125 \nQ 35.25 24.703125 29.984375 24.703125 \nQ 19.046875 24.703125 12.671875 31.3125 \nQ 6.296875 37.9375 6.296875 49.421875 \nQ 6.296875 60.640625 12.9375 67.421875 \nQ 19.578125 74.21875 30.609375 74.21875 \nQ 43.265625 74.21875 49.921875 64.515625 \nQ 56.59375 54.828125 56.59375 36.375 \nQ 56.59375 19.140625 48.40625 8.859375 \nQ 40.234375 -1.421875 26.421875 -1.421875 \nQ 22.703125 -1.421875 18.890625 -0.6875 \nQ 15.09375 0.046875 10.984375 1.515625 \nz\nM 30.609375 32.421875 \nQ 37.25 32.421875 41.125 36.953125 \nQ 45.015625 41.5 45.015625 49.421875 \nQ 45.015625 57.28125 41.125 61.84375 \nQ 37.25 66.40625 30.609375 66.40625 \nQ 23.96875 66.40625 20.09375 61.84375 \nQ 16.21875 57.28125 16.21875 49.421875 \nQ 16.21875 41.5 20.09375 36.953125 \nQ 23.96875 32.421875 30.609375 32.421875 \nz\n\" id=\"DejaVuSans-57\"/>\n      </defs>\n      <g style=\"fill:#262626;\" transform=\"translate(326.60825 40.427215)scale(0.1 -0.1)\">\n       <use xlink:href=\"#DejaVuSans-48\"/>\n       <use x=\"63.623047\" xlink:href=\"#DejaVuSans-46\"/>\n       <use x=\"95.410156\" xlink:href=\"#DejaVuSans-57\"/>\n      </g>\n     </g>\n    </g>\n    <g id=\"ytick_12\">\n     <g id=\"line2d_9\">\n      <g>\n       <use style=\"fill:#262626;stroke:#262626;stroke-width:0.8;\" x=\"319.60825\" xlink:href=\"#mf2a2a0992a\" y=\"10.999219\"/>\n      </g>\n     </g>\n     <g id=\"text_24\">\n      <!-- 1.0 -->\n      <g style=\"fill:#262626;\" transform=\"translate(326.60825 14.798437)scale(0.1 -0.1)\">\n       <use xlink:href=\"#DejaVuSans-49\"/>\n       <use x=\"63.623047\" xlink:href=\"#DejaVuSans-46\"/>\n       <use x=\"95.410156\" xlink:href=\"#DejaVuSans-48\"/>\n      </g>\n     </g>\n    </g>\n   </g>\n   <image height=\"218\" id=\"image75019a642f\" transform=\"scale(1 -1)translate(0 -218)\" width=\"11\" x=\"309\" xlink:href=\"data:image/png;base64,\niVBORw0KGgoAAAANSUhEUgAAAAsAAADaCAYAAABwzrisAAAABHNCSVQICAgIfAhkiAAAAU1JREFUaIHd2sGNwzAMRFHJcprY/uvc3Rb0Dh8g4rMwmPmkKEfxPp+fv3X5vM/et2vXu2nxqpTJ89lPZWNGQFI2GhKw80ycsdwzaGTKU8pNytm2Cml0o4Ca/9sr2NEIJ7+hu390MI4oNwUkG13zd5475ddaFGwMKTcpW2+I8hB0FvD650FMgxbTKBBloVEGhMUnq6CVe4aNkEbYG/fSZgObX2yIckfjZJ4xYIcOlGUTlp7FxmOewcZ5fisb4COk8cAswICibDRMWUYBjH5TnkKDyk00YHsrOlEmGl3AbPHqbLydDXjZnqIM55UpL/GMAUX5UMDKxnoqG4bu3L/nhjR2RgMDZjbkzjxEF5ZbbMi1IRaloyH/eoS9MSJg6LlrpPf+pC8DDlH+ehoHAu7dHRNDaHxG2LDvCrKiSG8gDfGccd5fH5CUiQYElLu99Q956iwlZC7ugQAAAABJRU5ErkJggg==\" y=\"-10\"/>\n   <g id=\"patch_4\">\n    <path d=\"M 308.73625 228.439219 \nL 308.73625 227.589844 \nL 308.73625 11.848594 \nL 308.73625 10.999219 \nL 319.60825 10.999219 \nL 319.60825 11.848594 \nL 319.60825 227.589844 \nL 319.60825 228.439219 \nz\n\" style=\"fill:none;\"/>\n   </g>\n  </g>\n </g>\n <defs>\n  <clipPath id=\"pbc0374a96c\">\n   <rect height=\"217.44\" width=\"267.84\" x=\"24.15625\" y=\"10.999219\"/>\n  </clipPath>\n  <clipPath id=\"p2fe1a41cff\">\n   <rect height=\"217.44\" width=\"10.872\" x=\"308.73625\" y=\"10.999219\"/>\n  </clipPath>\n </defs>\n</svg>\n"
          },
          "metadata": {}
        }
      ]
    },
    {
      "cell_type": "code",
      "source": [
        "dataset.to_excel('Processed_data.xlsx', index=False)"
      ],
      "metadata": {
        "id": "TDmfROYe8ybs"
      },
      "execution_count": null,
      "outputs": []
    }
  ]
}