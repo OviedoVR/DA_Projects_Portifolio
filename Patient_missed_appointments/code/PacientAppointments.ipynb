{
  "nbformat": 4,
  "nbformat_minor": 0,
  "metadata": {
    "colab": {
      "name": "PacientAppointments.ipynb",
      "provenance": [],
      "collapsed_sections": [],
      "toc_visible": true
    },
    "kernelspec": {
      "name": "python3",
      "display_name": "Python 3"
    },
    "language_info": {
      "name": "python"
    }
  },
  "cells": [
    {
      "cell_type": "markdown",
      "source": [
        "# **Clinic Utilization & Patient Missed Appointments** \n",
        "\n",
        "Kaggle dataset: https://www.kaggle.com/datasets/drjfalk/clinic-utilization-patient-missed-appointments"
      ],
      "metadata": {
        "id": "NxGEzlayORLN"
      }
    },
    {
      "cell_type": "markdown",
      "source": [
        "# **Business problem**\n",
        "\n",
        "A network of clinics specialized in Podiatry (medicine field associated with foot, ankle, and lower extremity) wishes to decrease the rate of missed appointments on its clinic locations. To make strategic decisions, the group needs to know which are the clinics in which this issue is more problematic and why patients are missing the appointments.\n",
        "The possible outcomes for appointments are:\n",
        "\n",
        "*   Completed\n",
        "*   Rescheduled\n",
        "*   Canceled\n",
        "*   No-Show (patient did not appear and not contacted the clinic)"
      ],
      "metadata": {
        "id": "fuhl4vmAjOwK"
      }
    },
    {
      "cell_type": "markdown",
      "source": [
        "# **Imports**"
      ],
      "metadata": {
        "id": "sT8YHje3jlVZ"
      }
    },
    {
      "cell_type": "code",
      "source": [
        "import numpy as np\n",
        "import pandas as pd\n",
        "import matplotlib.pyplot as plt\n",
        "import seaborn as sns"
      ],
      "metadata": {
        "id": "3XZqO6PejOXh"
      },
      "execution_count": null,
      "outputs": []
    },
    {
      "cell_type": "code",
      "source": [
        "data = pd.read_excel('Clinic_utilization.xlsx')\n",
        "data.head()"
      ],
      "metadata": {
        "colab": {
          "base_uri": "https://localhost:8080/",
          "height": 372
        },
        "id": "qiCyHs74LpOs",
        "outputId": "eb30e23a-cca4-43b3-c9a5-7da8f7da5c4e"
      },
      "execution_count": null,
      "outputs": [
        {
          "output_type": "execute_result",
          "data": {
            "text/plain": [
              "   Encounter ID  Doctor ID Clinic Location Department  Patient ID  \\\n",
              "0         10001     881452  Marina Del Rey   Podiatry       19334   \n",
              "1         10002     881452  Marina Del Rey   Podiatry       18913   \n",
              "2         10003     881452  Marina Del Rey   Podiatry       13799   \n",
              "3         10004     881452  Marina Del Rey   Podiatry       10926   \n",
              "4         10005     881452  Marina Del Rey   Podiatry       14044   \n",
              "\n",
              "  Appointment Date/Time Appointment Type  Appointment Length  \\\n",
              "0   2022-01-03 08:00:00      New Patient                  30   \n",
              "1   2022-01-03 08:30:00  Follow-up Visit                  15   \n",
              "2   2022-01-03 08:45:00  Follow-up Visit                  15   \n",
              "3   2022-01-03 09:00:00  Follow-up Visit                  15   \n",
              "4   2022-01-03 09:15:00      New Patient                  30   \n",
              "\n",
              "    Reason For Visit Insurance Visit Status  \n",
              "0          Foot pain  Cash pay      No-Show  \n",
              "1  Plantar fasciitis   Private    Completed  \n",
              "2    Achilles tendon   Private    Completed  \n",
              "3       Big toe pain   Private    Completed  \n",
              "4          Heel pain   Private    Completed  "
            ],
            "text/html": [
              "\n",
              "  <div id=\"df-af60c410-01d0-4b6f-8973-a4d1867ffed3\">\n",
              "    <div class=\"colab-df-container\">\n",
              "      <div>\n",
              "<style scoped>\n",
              "    .dataframe tbody tr th:only-of-type {\n",
              "        vertical-align: middle;\n",
              "    }\n",
              "\n",
              "    .dataframe tbody tr th {\n",
              "        vertical-align: top;\n",
              "    }\n",
              "\n",
              "    .dataframe thead th {\n",
              "        text-align: right;\n",
              "    }\n",
              "</style>\n",
              "<table border=\"1\" class=\"dataframe\">\n",
              "  <thead>\n",
              "    <tr style=\"text-align: right;\">\n",
              "      <th></th>\n",
              "      <th>Encounter ID</th>\n",
              "      <th>Doctor ID</th>\n",
              "      <th>Clinic Location</th>\n",
              "      <th>Department</th>\n",
              "      <th>Patient ID</th>\n",
              "      <th>Appointment Date/Time</th>\n",
              "      <th>Appointment Type</th>\n",
              "      <th>Appointment Length</th>\n",
              "      <th>Reason For Visit</th>\n",
              "      <th>Insurance</th>\n",
              "      <th>Visit Status</th>\n",
              "    </tr>\n",
              "  </thead>\n",
              "  <tbody>\n",
              "    <tr>\n",
              "      <th>0</th>\n",
              "      <td>10001</td>\n",
              "      <td>881452</td>\n",
              "      <td>Marina Del Rey</td>\n",
              "      <td>Podiatry</td>\n",
              "      <td>19334</td>\n",
              "      <td>2022-01-03 08:00:00</td>\n",
              "      <td>New Patient</td>\n",
              "      <td>30</td>\n",
              "      <td>Foot pain</td>\n",
              "      <td>Cash pay</td>\n",
              "      <td>No-Show</td>\n",
              "    </tr>\n",
              "    <tr>\n",
              "      <th>1</th>\n",
              "      <td>10002</td>\n",
              "      <td>881452</td>\n",
              "      <td>Marina Del Rey</td>\n",
              "      <td>Podiatry</td>\n",
              "      <td>18913</td>\n",
              "      <td>2022-01-03 08:30:00</td>\n",
              "      <td>Follow-up Visit</td>\n",
              "      <td>15</td>\n",
              "      <td>Plantar fasciitis</td>\n",
              "      <td>Private</td>\n",
              "      <td>Completed</td>\n",
              "    </tr>\n",
              "    <tr>\n",
              "      <th>2</th>\n",
              "      <td>10003</td>\n",
              "      <td>881452</td>\n",
              "      <td>Marina Del Rey</td>\n",
              "      <td>Podiatry</td>\n",
              "      <td>13799</td>\n",
              "      <td>2022-01-03 08:45:00</td>\n",
              "      <td>Follow-up Visit</td>\n",
              "      <td>15</td>\n",
              "      <td>Achilles tendon</td>\n",
              "      <td>Private</td>\n",
              "      <td>Completed</td>\n",
              "    </tr>\n",
              "    <tr>\n",
              "      <th>3</th>\n",
              "      <td>10004</td>\n",
              "      <td>881452</td>\n",
              "      <td>Marina Del Rey</td>\n",
              "      <td>Podiatry</td>\n",
              "      <td>10926</td>\n",
              "      <td>2022-01-03 09:00:00</td>\n",
              "      <td>Follow-up Visit</td>\n",
              "      <td>15</td>\n",
              "      <td>Big toe pain</td>\n",
              "      <td>Private</td>\n",
              "      <td>Completed</td>\n",
              "    </tr>\n",
              "    <tr>\n",
              "      <th>4</th>\n",
              "      <td>10005</td>\n",
              "      <td>881452</td>\n",
              "      <td>Marina Del Rey</td>\n",
              "      <td>Podiatry</td>\n",
              "      <td>14044</td>\n",
              "      <td>2022-01-03 09:15:00</td>\n",
              "      <td>New Patient</td>\n",
              "      <td>30</td>\n",
              "      <td>Heel pain</td>\n",
              "      <td>Private</td>\n",
              "      <td>Completed</td>\n",
              "    </tr>\n",
              "  </tbody>\n",
              "</table>\n",
              "</div>\n",
              "      <button class=\"colab-df-convert\" onclick=\"convertToInteractive('df-af60c410-01d0-4b6f-8973-a4d1867ffed3')\"\n",
              "              title=\"Convert this dataframe to an interactive table.\"\n",
              "              style=\"display:none;\">\n",
              "        \n",
              "  <svg xmlns=\"http://www.w3.org/2000/svg\" height=\"24px\"viewBox=\"0 0 24 24\"\n",
              "       width=\"24px\">\n",
              "    <path d=\"M0 0h24v24H0V0z\" fill=\"none\"/>\n",
              "    <path d=\"M18.56 5.44l.94 2.06.94-2.06 2.06-.94-2.06-.94-.94-2.06-.94 2.06-2.06.94zm-11 1L8.5 8.5l.94-2.06 2.06-.94-2.06-.94L8.5 2.5l-.94 2.06-2.06.94zm10 10l.94 2.06.94-2.06 2.06-.94-2.06-.94-.94-2.06-.94 2.06-2.06.94z\"/><path d=\"M17.41 7.96l-1.37-1.37c-.4-.4-.92-.59-1.43-.59-.52 0-1.04.2-1.43.59L10.3 9.45l-7.72 7.72c-.78.78-.78 2.05 0 2.83L4 21.41c.39.39.9.59 1.41.59.51 0 1.02-.2 1.41-.59l7.78-7.78 2.81-2.81c.8-.78.8-2.07 0-2.86zM5.41 20L4 18.59l7.72-7.72 1.47 1.35L5.41 20z\"/>\n",
              "  </svg>\n",
              "      </button>\n",
              "      \n",
              "  <style>\n",
              "    .colab-df-container {\n",
              "      display:flex;\n",
              "      flex-wrap:wrap;\n",
              "      gap: 12px;\n",
              "    }\n",
              "\n",
              "    .colab-df-convert {\n",
              "      background-color: #E8F0FE;\n",
              "      border: none;\n",
              "      border-radius: 50%;\n",
              "      cursor: pointer;\n",
              "      display: none;\n",
              "      fill: #1967D2;\n",
              "      height: 32px;\n",
              "      padding: 0 0 0 0;\n",
              "      width: 32px;\n",
              "    }\n",
              "\n",
              "    .colab-df-convert:hover {\n",
              "      background-color: #E2EBFA;\n",
              "      box-shadow: 0px 1px 2px rgba(60, 64, 67, 0.3), 0px 1px 3px 1px rgba(60, 64, 67, 0.15);\n",
              "      fill: #174EA6;\n",
              "    }\n",
              "\n",
              "    [theme=dark] .colab-df-convert {\n",
              "      background-color: #3B4455;\n",
              "      fill: #D2E3FC;\n",
              "    }\n",
              "\n",
              "    [theme=dark] .colab-df-convert:hover {\n",
              "      background-color: #434B5C;\n",
              "      box-shadow: 0px 1px 3px 1px rgba(0, 0, 0, 0.15);\n",
              "      filter: drop-shadow(0px 1px 2px rgba(0, 0, 0, 0.3));\n",
              "      fill: #FFFFFF;\n",
              "    }\n",
              "  </style>\n",
              "\n",
              "      <script>\n",
              "        const buttonEl =\n",
              "          document.querySelector('#df-af60c410-01d0-4b6f-8973-a4d1867ffed3 button.colab-df-convert');\n",
              "        buttonEl.style.display =\n",
              "          google.colab.kernel.accessAllowed ? 'block' : 'none';\n",
              "\n",
              "        async function convertToInteractive(key) {\n",
              "          const element = document.querySelector('#df-af60c410-01d0-4b6f-8973-a4d1867ffed3');\n",
              "          const dataTable =\n",
              "            await google.colab.kernel.invokeFunction('convertToInteractive',\n",
              "                                                     [key], {});\n",
              "          if (!dataTable) return;\n",
              "\n",
              "          const docLinkHtml = 'Like what you see? Visit the ' +\n",
              "            '<a target=\"_blank\" href=https://colab.research.google.com/notebooks/data_table.ipynb>data table notebook</a>'\n",
              "            + ' to learn more about interactive tables.';\n",
              "          element.innerHTML = '';\n",
              "          dataTable['output_type'] = 'display_data';\n",
              "          await google.colab.output.renderOutput(dataTable, element);\n",
              "          const docLink = document.createElement('div');\n",
              "          docLink.innerHTML = docLinkHtml;\n",
              "          element.appendChild(docLink);\n",
              "        }\n",
              "      </script>\n",
              "    </div>\n",
              "  </div>\n",
              "  "
            ]
          },
          "metadata": {},
          "execution_count": 93
        }
      ]
    },
    {
      "cell_type": "markdown",
      "source": [
        "> **Data dictionary:**\n",
        "\n",
        "\n",
        "\n",
        "*   `Encounter ID`: Unique identifier assigned to each clinic visit encounter\n",
        "\n",
        "*  `Doctor ID`: Unique identifier for each doctor\n",
        "\n",
        "*  `Clinic Location`: The location (city/neighborhood) of the clinic\n",
        "\n",
        "*  `Department`: The medical specialty the doctor works within\n",
        "\n",
        "* `Patient ID`: Unique identifier for each patient\n",
        "\n",
        "*  `Appointment Date / Time`: The date and time the visit is scheduled for\n",
        "\n",
        "*  `Appointment Type`: The type of appointment that the patient is scheduled for (e.g. new patient, follow-up visit, procedure)\n",
        "\n",
        "*  `Appointment Length`: The amount of time (in minutes) that the appointment is scheduled for\n",
        "\n",
        "*  `Reason for Visit`: The reason the patient is being seen, based on patient's complaint, EHR documentation, or patient chart\n",
        "\n",
        "*  `Insurance`: Patient's insurance coverage category (e.g. Medicare, private insurance, self/cash-pay)\n",
        "\n",
        "*  `Visit Status`: Details whether the visit was completed or the patient no-showed, cancelled, or rescheduled\n",
        "\n"
      ],
      "metadata": {
        "id": "gb49c9HwL30m"
      }
    },
    {
      "cell_type": "markdown",
      "source": [
        "# **Exploratory Data Analysis (EDA)**"
      ],
      "metadata": {
        "id": "-pd7B0PKk4e7"
      }
    },
    {
      "cell_type": "markdown",
      "source": [
        "> **Finding the time-span for the dataset**"
      ],
      "metadata": {
        "id": "t-JFtLetRfsm"
      }
    },
    {
      "cell_type": "code",
      "source": [
        "data['Appointment Date/Time'].max() - data['Appointment Date/Time'].min()"
      ],
      "metadata": {
        "colab": {
          "base_uri": "https://localhost:8080/"
        },
        "id": "jyQmhbYMROjX",
        "outputId": "4927b1b0-52b9-436a-d3f3-95f985be157f"
      },
      "execution_count": null,
      "outputs": [
        {
          "output_type": "execute_result",
          "data": {
            "text/plain": [
              "Timedelta('28 days 07:30:00')"
            ]
          },
          "metadata": {},
          "execution_count": 94
        }
      ]
    },
    {
      "cell_type": "markdown",
      "source": [
        "> **Renaming the columns**"
      ],
      "metadata": {
        "id": "7ufqlrmllKQh"
      }
    },
    {
      "cell_type": "code",
      "source": [
        "renamed_columns = [\n",
        "    'Visit_id',\n",
        "    'Doctor_id',\n",
        "    'Clinic_location',\n",
        "    'Department',\n",
        "    'Patient_id',\n",
        "    'Appointment_datetime',\n",
        "    'Appointment_type',\n",
        "    'Appointment_length',\n",
        "    'Reason',\n",
        "    'Insurance',\n",
        "    'Visit_status'\n",
        "]\n",
        "\n",
        "data.columns = renamed_columns"
      ],
      "metadata": {
        "id": "0Y639EsGlQpR"
      },
      "execution_count": null,
      "outputs": []
    },
    {
      "cell_type": "code",
      "source": [
        "data.head(2)"
      ],
      "metadata": {
        "colab": {
          "base_uri": "https://localhost:8080/",
          "height": 211
        },
        "id": "X5Pi9NrtuLT2",
        "outputId": "7fabcd81-1007-449b-dbed-6ff7c4e0e6f7"
      },
      "execution_count": null,
      "outputs": [
        {
          "output_type": "execute_result",
          "data": {
            "text/plain": [
              "   Visit_id  Doctor_id Clinic_location Department  Patient_id  \\\n",
              "0     10001     881452  Marina Del Rey   Podiatry       19334   \n",
              "1     10002     881452  Marina Del Rey   Podiatry       18913   \n",
              "\n",
              "  Appointment_datetime Appointment_type  Appointment_length  \\\n",
              "0  2022-01-03 08:00:00      New Patient                  30   \n",
              "1  2022-01-03 08:30:00  Follow-up Visit                  15   \n",
              "\n",
              "              Reason Insurance Visit_status  \n",
              "0          Foot pain  Cash pay      No-Show  \n",
              "1  Plantar fasciitis   Private    Completed  "
            ],
            "text/html": [
              "\n",
              "  <div id=\"df-e2129f4b-5805-4c7f-9c92-89f80125a187\">\n",
              "    <div class=\"colab-df-container\">\n",
              "      <div>\n",
              "<style scoped>\n",
              "    .dataframe tbody tr th:only-of-type {\n",
              "        vertical-align: middle;\n",
              "    }\n",
              "\n",
              "    .dataframe tbody tr th {\n",
              "        vertical-align: top;\n",
              "    }\n",
              "\n",
              "    .dataframe thead th {\n",
              "        text-align: right;\n",
              "    }\n",
              "</style>\n",
              "<table border=\"1\" class=\"dataframe\">\n",
              "  <thead>\n",
              "    <tr style=\"text-align: right;\">\n",
              "      <th></th>\n",
              "      <th>Visit_id</th>\n",
              "      <th>Doctor_id</th>\n",
              "      <th>Clinic_location</th>\n",
              "      <th>Department</th>\n",
              "      <th>Patient_id</th>\n",
              "      <th>Appointment_datetime</th>\n",
              "      <th>Appointment_type</th>\n",
              "      <th>Appointment_length</th>\n",
              "      <th>Reason</th>\n",
              "      <th>Insurance</th>\n",
              "      <th>Visit_status</th>\n",
              "    </tr>\n",
              "  </thead>\n",
              "  <tbody>\n",
              "    <tr>\n",
              "      <th>0</th>\n",
              "      <td>10001</td>\n",
              "      <td>881452</td>\n",
              "      <td>Marina Del Rey</td>\n",
              "      <td>Podiatry</td>\n",
              "      <td>19334</td>\n",
              "      <td>2022-01-03 08:00:00</td>\n",
              "      <td>New Patient</td>\n",
              "      <td>30</td>\n",
              "      <td>Foot pain</td>\n",
              "      <td>Cash pay</td>\n",
              "      <td>No-Show</td>\n",
              "    </tr>\n",
              "    <tr>\n",
              "      <th>1</th>\n",
              "      <td>10002</td>\n",
              "      <td>881452</td>\n",
              "      <td>Marina Del Rey</td>\n",
              "      <td>Podiatry</td>\n",
              "      <td>18913</td>\n",
              "      <td>2022-01-03 08:30:00</td>\n",
              "      <td>Follow-up Visit</td>\n",
              "      <td>15</td>\n",
              "      <td>Plantar fasciitis</td>\n",
              "      <td>Private</td>\n",
              "      <td>Completed</td>\n",
              "    </tr>\n",
              "  </tbody>\n",
              "</table>\n",
              "</div>\n",
              "      <button class=\"colab-df-convert\" onclick=\"convertToInteractive('df-e2129f4b-5805-4c7f-9c92-89f80125a187')\"\n",
              "              title=\"Convert this dataframe to an interactive table.\"\n",
              "              style=\"display:none;\">\n",
              "        \n",
              "  <svg xmlns=\"http://www.w3.org/2000/svg\" height=\"24px\"viewBox=\"0 0 24 24\"\n",
              "       width=\"24px\">\n",
              "    <path d=\"M0 0h24v24H0V0z\" fill=\"none\"/>\n",
              "    <path d=\"M18.56 5.44l.94 2.06.94-2.06 2.06-.94-2.06-.94-.94-2.06-.94 2.06-2.06.94zm-11 1L8.5 8.5l.94-2.06 2.06-.94-2.06-.94L8.5 2.5l-.94 2.06-2.06.94zm10 10l.94 2.06.94-2.06 2.06-.94-2.06-.94-.94-2.06-.94 2.06-2.06.94z\"/><path d=\"M17.41 7.96l-1.37-1.37c-.4-.4-.92-.59-1.43-.59-.52 0-1.04.2-1.43.59L10.3 9.45l-7.72 7.72c-.78.78-.78 2.05 0 2.83L4 21.41c.39.39.9.59 1.41.59.51 0 1.02-.2 1.41-.59l7.78-7.78 2.81-2.81c.8-.78.8-2.07 0-2.86zM5.41 20L4 18.59l7.72-7.72 1.47 1.35L5.41 20z\"/>\n",
              "  </svg>\n",
              "      </button>\n",
              "      \n",
              "  <style>\n",
              "    .colab-df-container {\n",
              "      display:flex;\n",
              "      flex-wrap:wrap;\n",
              "      gap: 12px;\n",
              "    }\n",
              "\n",
              "    .colab-df-convert {\n",
              "      background-color: #E8F0FE;\n",
              "      border: none;\n",
              "      border-radius: 50%;\n",
              "      cursor: pointer;\n",
              "      display: none;\n",
              "      fill: #1967D2;\n",
              "      height: 32px;\n",
              "      padding: 0 0 0 0;\n",
              "      width: 32px;\n",
              "    }\n",
              "\n",
              "    .colab-df-convert:hover {\n",
              "      background-color: #E2EBFA;\n",
              "      box-shadow: 0px 1px 2px rgba(60, 64, 67, 0.3), 0px 1px 3px 1px rgba(60, 64, 67, 0.15);\n",
              "      fill: #174EA6;\n",
              "    }\n",
              "\n",
              "    [theme=dark] .colab-df-convert {\n",
              "      background-color: #3B4455;\n",
              "      fill: #D2E3FC;\n",
              "    }\n",
              "\n",
              "    [theme=dark] .colab-df-convert:hover {\n",
              "      background-color: #434B5C;\n",
              "      box-shadow: 0px 1px 3px 1px rgba(0, 0, 0, 0.15);\n",
              "      filter: drop-shadow(0px 1px 2px rgba(0, 0, 0, 0.3));\n",
              "      fill: #FFFFFF;\n",
              "    }\n",
              "  </style>\n",
              "\n",
              "      <script>\n",
              "        const buttonEl =\n",
              "          document.querySelector('#df-e2129f4b-5805-4c7f-9c92-89f80125a187 button.colab-df-convert');\n",
              "        buttonEl.style.display =\n",
              "          google.colab.kernel.accessAllowed ? 'block' : 'none';\n",
              "\n",
              "        async function convertToInteractive(key) {\n",
              "          const element = document.querySelector('#df-e2129f4b-5805-4c7f-9c92-89f80125a187');\n",
              "          const dataTable =\n",
              "            await google.colab.kernel.invokeFunction('convertToInteractive',\n",
              "                                                     [key], {});\n",
              "          if (!dataTable) return;\n",
              "\n",
              "          const docLinkHtml = 'Like what you see? Visit the ' +\n",
              "            '<a target=\"_blank\" href=https://colab.research.google.com/notebooks/data_table.ipynb>data table notebook</a>'\n",
              "            + ' to learn more about interactive tables.';\n",
              "          element.innerHTML = '';\n",
              "          dataTable['output_type'] = 'display_data';\n",
              "          await google.colab.output.renderOutput(dataTable, element);\n",
              "          const docLink = document.createElement('div');\n",
              "          docLink.innerHTML = docLinkHtml;\n",
              "          element.appendChild(docLink);\n",
              "        }\n",
              "      </script>\n",
              "    </div>\n",
              "  </div>\n",
              "  "
            ]
          },
          "metadata": {},
          "execution_count": 96
        }
      ]
    },
    {
      "cell_type": "code",
      "source": [
        "data.tail(2)"
      ],
      "metadata": {
        "colab": {
          "base_uri": "https://localhost:8080/",
          "height": 211
        },
        "id": "ciIzlPTeQb4z",
        "outputId": "4e7bad15-8037-439b-f12e-d42cb49d2ffb"
      },
      "execution_count": null,
      "outputs": [
        {
          "output_type": "execute_result",
          "data": {
            "text/plain": [
              "      Visit_id  Doctor_id Clinic_location Department  Patient_id  \\\n",
              "1643     11644     871346          Venice   Podiatry       19320   \n",
              "1644     11645     871346          Venice   Podiatry       19011   \n",
              "\n",
              "     Appointment_datetime Appointment_type  Appointment_length  \\\n",
              "1643  2022-01-31 15:00:00  Follow-up Visit                  15   \n",
              "1644  2022-01-31 15:30:00  Follow-up Visit                  15   \n",
              "\n",
              "                 Reason Insurance Visit_status  \n",
              "1643      Plantar warts   Private      No-Show  \n",
              "1644  Plantar fasciitis   Private  Rescheduled  "
            ],
            "text/html": [
              "\n",
              "  <div id=\"df-a0551ef7-68ef-44a5-8788-bfc7d42621fd\">\n",
              "    <div class=\"colab-df-container\">\n",
              "      <div>\n",
              "<style scoped>\n",
              "    .dataframe tbody tr th:only-of-type {\n",
              "        vertical-align: middle;\n",
              "    }\n",
              "\n",
              "    .dataframe tbody tr th {\n",
              "        vertical-align: top;\n",
              "    }\n",
              "\n",
              "    .dataframe thead th {\n",
              "        text-align: right;\n",
              "    }\n",
              "</style>\n",
              "<table border=\"1\" class=\"dataframe\">\n",
              "  <thead>\n",
              "    <tr style=\"text-align: right;\">\n",
              "      <th></th>\n",
              "      <th>Visit_id</th>\n",
              "      <th>Doctor_id</th>\n",
              "      <th>Clinic_location</th>\n",
              "      <th>Department</th>\n",
              "      <th>Patient_id</th>\n",
              "      <th>Appointment_datetime</th>\n",
              "      <th>Appointment_type</th>\n",
              "      <th>Appointment_length</th>\n",
              "      <th>Reason</th>\n",
              "      <th>Insurance</th>\n",
              "      <th>Visit_status</th>\n",
              "    </tr>\n",
              "  </thead>\n",
              "  <tbody>\n",
              "    <tr>\n",
              "      <th>1643</th>\n",
              "      <td>11644</td>\n",
              "      <td>871346</td>\n",
              "      <td>Venice</td>\n",
              "      <td>Podiatry</td>\n",
              "      <td>19320</td>\n",
              "      <td>2022-01-31 15:00:00</td>\n",
              "      <td>Follow-up Visit</td>\n",
              "      <td>15</td>\n",
              "      <td>Plantar warts</td>\n",
              "      <td>Private</td>\n",
              "      <td>No-Show</td>\n",
              "    </tr>\n",
              "    <tr>\n",
              "      <th>1644</th>\n",
              "      <td>11645</td>\n",
              "      <td>871346</td>\n",
              "      <td>Venice</td>\n",
              "      <td>Podiatry</td>\n",
              "      <td>19011</td>\n",
              "      <td>2022-01-31 15:30:00</td>\n",
              "      <td>Follow-up Visit</td>\n",
              "      <td>15</td>\n",
              "      <td>Plantar fasciitis</td>\n",
              "      <td>Private</td>\n",
              "      <td>Rescheduled</td>\n",
              "    </tr>\n",
              "  </tbody>\n",
              "</table>\n",
              "</div>\n",
              "      <button class=\"colab-df-convert\" onclick=\"convertToInteractive('df-a0551ef7-68ef-44a5-8788-bfc7d42621fd')\"\n",
              "              title=\"Convert this dataframe to an interactive table.\"\n",
              "              style=\"display:none;\">\n",
              "        \n",
              "  <svg xmlns=\"http://www.w3.org/2000/svg\" height=\"24px\"viewBox=\"0 0 24 24\"\n",
              "       width=\"24px\">\n",
              "    <path d=\"M0 0h24v24H0V0z\" fill=\"none\"/>\n",
              "    <path d=\"M18.56 5.44l.94 2.06.94-2.06 2.06-.94-2.06-.94-.94-2.06-.94 2.06-2.06.94zm-11 1L8.5 8.5l.94-2.06 2.06-.94-2.06-.94L8.5 2.5l-.94 2.06-2.06.94zm10 10l.94 2.06.94-2.06 2.06-.94-2.06-.94-.94-2.06-.94 2.06-2.06.94z\"/><path d=\"M17.41 7.96l-1.37-1.37c-.4-.4-.92-.59-1.43-.59-.52 0-1.04.2-1.43.59L10.3 9.45l-7.72 7.72c-.78.78-.78 2.05 0 2.83L4 21.41c.39.39.9.59 1.41.59.51 0 1.02-.2 1.41-.59l7.78-7.78 2.81-2.81c.8-.78.8-2.07 0-2.86zM5.41 20L4 18.59l7.72-7.72 1.47 1.35L5.41 20z\"/>\n",
              "  </svg>\n",
              "      </button>\n",
              "      \n",
              "  <style>\n",
              "    .colab-df-container {\n",
              "      display:flex;\n",
              "      flex-wrap:wrap;\n",
              "      gap: 12px;\n",
              "    }\n",
              "\n",
              "    .colab-df-convert {\n",
              "      background-color: #E8F0FE;\n",
              "      border: none;\n",
              "      border-radius: 50%;\n",
              "      cursor: pointer;\n",
              "      display: none;\n",
              "      fill: #1967D2;\n",
              "      height: 32px;\n",
              "      padding: 0 0 0 0;\n",
              "      width: 32px;\n",
              "    }\n",
              "\n",
              "    .colab-df-convert:hover {\n",
              "      background-color: #E2EBFA;\n",
              "      box-shadow: 0px 1px 2px rgba(60, 64, 67, 0.3), 0px 1px 3px 1px rgba(60, 64, 67, 0.15);\n",
              "      fill: #174EA6;\n",
              "    }\n",
              "\n",
              "    [theme=dark] .colab-df-convert {\n",
              "      background-color: #3B4455;\n",
              "      fill: #D2E3FC;\n",
              "    }\n",
              "\n",
              "    [theme=dark] .colab-df-convert:hover {\n",
              "      background-color: #434B5C;\n",
              "      box-shadow: 0px 1px 3px 1px rgba(0, 0, 0, 0.15);\n",
              "      filter: drop-shadow(0px 1px 2px rgba(0, 0, 0, 0.3));\n",
              "      fill: #FFFFFF;\n",
              "    }\n",
              "  </style>\n",
              "\n",
              "      <script>\n",
              "        const buttonEl =\n",
              "          document.querySelector('#df-a0551ef7-68ef-44a5-8788-bfc7d42621fd button.colab-df-convert');\n",
              "        buttonEl.style.display =\n",
              "          google.colab.kernel.accessAllowed ? 'block' : 'none';\n",
              "\n",
              "        async function convertToInteractive(key) {\n",
              "          const element = document.querySelector('#df-a0551ef7-68ef-44a5-8788-bfc7d42621fd');\n",
              "          const dataTable =\n",
              "            await google.colab.kernel.invokeFunction('convertToInteractive',\n",
              "                                                     [key], {});\n",
              "          if (!dataTable) return;\n",
              "\n",
              "          const docLinkHtml = 'Like what you see? Visit the ' +\n",
              "            '<a target=\"_blank\" href=https://colab.research.google.com/notebooks/data_table.ipynb>data table notebook</a>'\n",
              "            + ' to learn more about interactive tables.';\n",
              "          element.innerHTML = '';\n",
              "          dataTable['output_type'] = 'display_data';\n",
              "          await google.colab.output.renderOutput(dataTable, element);\n",
              "          const docLink = document.createElement('div');\n",
              "          docLink.innerHTML = docLinkHtml;\n",
              "          element.appendChild(docLink);\n",
              "        }\n",
              "      </script>\n",
              "    </div>\n",
              "  </div>\n",
              "  "
            ]
          },
          "metadata": {},
          "execution_count": 97
        }
      ]
    },
    {
      "cell_type": "markdown",
      "source": [
        "> **CREATING A BACKUP DATAFRAME**"
      ],
      "metadata": {
        "id": "0V1-cR2OuOk_"
      }
    },
    {
      "cell_type": "code",
      "source": [
        "data_raw = data.copy()"
      ],
      "metadata": {
        "id": "M_eP_6XZuE2y"
      },
      "execution_count": null,
      "outputs": []
    },
    {
      "cell_type": "markdown",
      "source": [
        "> **CHECKING FOR NULL VALUES**"
      ],
      "metadata": {
        "id": "vsm1X6rlk9s4"
      }
    },
    {
      "cell_type": "code",
      "source": [
        "data.isna().sum()"
      ],
      "metadata": {
        "colab": {
          "base_uri": "https://localhost:8080/"
        },
        "id": "sTV09qZOlEaZ",
        "outputId": "d39453a6-075e-47b6-b0ab-737861d64759"
      },
      "execution_count": null,
      "outputs": [
        {
          "output_type": "execute_result",
          "data": {
            "text/plain": [
              "Visit_id                0\n",
              "Doctor_id               0\n",
              "Clinic_location         0\n",
              "Department              0\n",
              "Patient_id              0\n",
              "Appointment_datetime    0\n",
              "Appointment_type        0\n",
              "Appointment_length      0\n",
              "Reason                  0\n",
              "Insurance               0\n",
              "Visit_status            0\n",
              "dtype: int64"
            ]
          },
          "metadata": {},
          "execution_count": 99
        }
      ]
    },
    {
      "cell_type": "markdown",
      "source": [
        "**Comment** The dataset has no null values."
      ],
      "metadata": {
        "id": "grkv2q_5mCGY"
      }
    },
    {
      "cell_type": "markdown",
      "source": [
        "> **CHECKING FOR DATA TYPES**"
      ],
      "metadata": {
        "id": "ujbEaEMomMcj"
      }
    },
    {
      "cell_type": "code",
      "source": [
        "data.info()"
      ],
      "metadata": {
        "colab": {
          "base_uri": "https://localhost:8080/"
        },
        "id": "senpVb3omTpp",
        "outputId": "ff1da99b-f942-4b66-8d7b-3bcbe3f65d53"
      },
      "execution_count": null,
      "outputs": [
        {
          "output_type": "stream",
          "name": "stdout",
          "text": [
            "<class 'pandas.core.frame.DataFrame'>\n",
            "RangeIndex: 1645 entries, 0 to 1644\n",
            "Data columns (total 11 columns):\n",
            " #   Column                Non-Null Count  Dtype         \n",
            "---  ------                --------------  -----         \n",
            " 0   Visit_id              1645 non-null   int64         \n",
            " 1   Doctor_id             1645 non-null   int64         \n",
            " 2   Clinic_location       1645 non-null   object        \n",
            " 3   Department            1645 non-null   object        \n",
            " 4   Patient_id            1645 non-null   int64         \n",
            " 5   Appointment_datetime  1645 non-null   datetime64[ns]\n",
            " 6   Appointment_type      1645 non-null   object        \n",
            " 7   Appointment_length    1645 non-null   int64         \n",
            " 8   Reason                1645 non-null   object        \n",
            " 9   Insurance             1645 non-null   object        \n",
            " 10  Visit_status          1645 non-null   object        \n",
            "dtypes: datetime64[ns](1), int64(4), object(6)\n",
            "memory usage: 141.5+ KB\n"
          ]
        }
      ]
    },
    {
      "cell_type": "markdown",
      "source": [
        "**Comment**:\n",
        "\n",
        "*   The columns `Visit_id`, `Doctor_id`, and `Patient_id` could aso be expressed as **strings**. However, they will be left as **integers**.\n",
        "*   The dataset is composed by **1645 observations** and **11 features**.\n",
        "\n"
      ],
      "metadata": {
        "id": "XWTWOOvumV9h"
      }
    },
    {
      "cell_type": "code",
      "source": [
        "print(f'Observations: {data.shape[0]}')\n",
        "print(f'Features: {data.shape[1]}')"
      ],
      "metadata": {
        "colab": {
          "base_uri": "https://localhost:8080/"
        },
        "id": "COaUguNunshA",
        "outputId": "4fcd667f-def0-4247-d258-ad8458fae65a"
      },
      "execution_count": null,
      "outputs": [
        {
          "output_type": "stream",
          "name": "stdout",
          "text": [
            "Observations: 1645\n",
            "Features: 11\n"
          ]
        }
      ]
    },
    {
      "cell_type": "code",
      "source": [
        "data.info()"
      ],
      "metadata": {
        "colab": {
          "base_uri": "https://localhost:8080/"
        },
        "id": "C8ZJea-4pFcc",
        "outputId": "3b921ba9-7c29-4f7a-f0c9-b2e28447e456"
      },
      "execution_count": null,
      "outputs": [
        {
          "output_type": "stream",
          "name": "stdout",
          "text": [
            "<class 'pandas.core.frame.DataFrame'>\n",
            "RangeIndex: 1645 entries, 0 to 1644\n",
            "Data columns (total 11 columns):\n",
            " #   Column                Non-Null Count  Dtype         \n",
            "---  ------                --------------  -----         \n",
            " 0   Visit_id              1645 non-null   int64         \n",
            " 1   Doctor_id             1645 non-null   int64         \n",
            " 2   Clinic_location       1645 non-null   object        \n",
            " 3   Department            1645 non-null   object        \n",
            " 4   Patient_id            1645 non-null   int64         \n",
            " 5   Appointment_datetime  1645 non-null   datetime64[ns]\n",
            " 6   Appointment_type      1645 non-null   object        \n",
            " 7   Appointment_length    1645 non-null   int64         \n",
            " 8   Reason                1645 non-null   object        \n",
            " 9   Insurance             1645 non-null   object        \n",
            " 10  Visit_status          1645 non-null   object        \n",
            "dtypes: datetime64[ns](1), int64(4), object(6)\n",
            "memory usage: 141.5+ KB\n"
          ]
        }
      ]
    },
    {
      "cell_type": "markdown",
      "source": [
        "> **FEATURE ENGINEERING**"
      ],
      "metadata": {
        "id": "QUJnDragpZMj"
      }
    },
    {
      "cell_type": "code",
      "source": [
        "data['Doctor_id'].drop_duplicates()"
      ],
      "metadata": {
        "colab": {
          "base_uri": "https://localhost:8080/"
        },
        "id": "g471qUzUpVTg",
        "outputId": "acddd72d-790a-4384-8a56-0a272a6402ca"
      },
      "execution_count": null,
      "outputs": [
        {
          "output_type": "execute_result",
          "data": {
            "text/plain": [
              "0       881452\n",
              "326     745113\n",
              "634     813668\n",
              "953     696455\n",
              "1321    871346\n",
              "Name: Doctor_id, dtype: int64"
            ]
          },
          "metadata": {},
          "execution_count": 103
        }
      ]
    },
    {
      "cell_type": "markdown",
      "source": [
        "> **ATTRIBUTING EACH ID TO A DOCTOR**"
      ],
      "metadata": {
        "id": "aaZQES3tphvK"
      }
    },
    {
      "cell_type": "code",
      "source": [
        "data['Doctor'] = data['Doctor_id']\n",
        "\n",
        "data['Doctor'] = data['Doctor'].apply(lambda value: 'Doctor 1' if value == 881452 else value)\n",
        "data['Doctor'] = data['Doctor'].apply(lambda value: 'Doctor 2' if value == 745113 else value)\n",
        "data['Doctor'] = data['Doctor'].apply(lambda value: 'Doctor 3' if value == 813668 else value)\n",
        "data['Doctor'] = data['Doctor'].apply(lambda value: 'Doctor 4' if value == 696455 else value)\n",
        "data['Doctor'] = data['Doctor'].apply(lambda value: 'Doctor 5' if value == 871346 else value)"
      ],
      "metadata": {
        "id": "SdRtHGqnpg_1"
      },
      "execution_count": null,
      "outputs": []
    },
    {
      "cell_type": "code",
      "source": [
        "data['Doctor'].drop_duplicates()"
      ],
      "metadata": {
        "colab": {
          "base_uri": "https://localhost:8080/"
        },
        "id": "YATDRmhctQ3o",
        "outputId": "5b78218f-c028-4f25-de40-14eeac10b45f"
      },
      "execution_count": null,
      "outputs": [
        {
          "output_type": "execute_result",
          "data": {
            "text/plain": [
              "0       Doctor 1\n",
              "326     Doctor 2\n",
              "634     Doctor 3\n",
              "953     Doctor 4\n",
              "1321    Doctor 5\n",
              "Name: Doctor, dtype: object"
            ]
          },
          "metadata": {},
          "execution_count": 105
        }
      ]
    },
    {
      "cell_type": "markdown",
      "source": [
        "> **DROPPING THE UNNECESSARY COLUMNS**"
      ],
      "metadata": {
        "id": "3ZMCbf_zx3Xq"
      }
    },
    {
      "cell_type": "code",
      "source": [
        "data.drop([\n",
        "  'Doctor_id',\n",
        "  'Patient_id',\n",
        "  'Appointment_datetime'\n",
        "   ],\n",
        "  axis = 1, \n",
        "  inplace = True\n",
        ")"
      ],
      "metadata": {
        "id": "JXNNStbRx21j"
      },
      "execution_count": null,
      "outputs": []
    },
    {
      "cell_type": "markdown",
      "source": [
        "> **UNDERSTANDING THE CLINIC NETWORK**"
      ],
      "metadata": {
        "id": "tN2RZh01eruN"
      }
    },
    {
      "cell_type": "code",
      "source": [
        "data.describe(include='all').T"
      ],
      "metadata": {
        "colab": {
          "base_uri": "https://localhost:8080/",
          "height": 376
        },
        "id": "ZOZQknJjdJuG",
        "outputId": "5427dd28-4f66-4629-d553-dd08c0863231"
      },
      "execution_count": null,
      "outputs": [
        {
          "output_type": "execute_result",
          "data": {
            "text/plain": [
              "                     count unique                top  freq      mean  \\\n",
              "Visit_id            1645.0    NaN                NaN   NaN   10823.0   \n",
              "Clinic_location       1645      5          Brentwood   368       NaN   \n",
              "Department            1645      1           Podiatry  1645       NaN   \n",
              "Appointment_type      1645      3    Follow-up Visit  1121       NaN   \n",
              "Appointment_length  1645.0    NaN                NaN   NaN  22.31307   \n",
              "Reason                1645     37  Routine foot care   299       NaN   \n",
              "Insurance             1645      3            Private  1108       NaN   \n",
              "Visit_status          1645      4          Completed  1471       NaN   \n",
              "Doctor                1645      5           Doctor 4   368       NaN   \n",
              "\n",
              "                           std      min      25%      50%      75%      max  \n",
              "Visit_id            475.014912  10001.0  10412.0  10823.0  11234.0  11645.0  \n",
              "Clinic_location            NaN      NaN      NaN      NaN      NaN      NaN  \n",
              "Department                 NaN      NaN      NaN      NaN      NaN      NaN  \n",
              "Appointment_type           NaN      NaN      NaN      NaN      NaN      NaN  \n",
              "Appointment_length   10.391479     15.0     15.0     15.0     30.0     60.0  \n",
              "Reason                     NaN      NaN      NaN      NaN      NaN      NaN  \n",
              "Insurance                  NaN      NaN      NaN      NaN      NaN      NaN  \n",
              "Visit_status               NaN      NaN      NaN      NaN      NaN      NaN  \n",
              "Doctor                     NaN      NaN      NaN      NaN      NaN      NaN  "
            ],
            "text/html": [
              "\n",
              "  <div id=\"df-60d827fe-b892-480c-b938-b9850e97a975\">\n",
              "    <div class=\"colab-df-container\">\n",
              "      <div>\n",
              "<style scoped>\n",
              "    .dataframe tbody tr th:only-of-type {\n",
              "        vertical-align: middle;\n",
              "    }\n",
              "\n",
              "    .dataframe tbody tr th {\n",
              "        vertical-align: top;\n",
              "    }\n",
              "\n",
              "    .dataframe thead th {\n",
              "        text-align: right;\n",
              "    }\n",
              "</style>\n",
              "<table border=\"1\" class=\"dataframe\">\n",
              "  <thead>\n",
              "    <tr style=\"text-align: right;\">\n",
              "      <th></th>\n",
              "      <th>count</th>\n",
              "      <th>unique</th>\n",
              "      <th>top</th>\n",
              "      <th>freq</th>\n",
              "      <th>mean</th>\n",
              "      <th>std</th>\n",
              "      <th>min</th>\n",
              "      <th>25%</th>\n",
              "      <th>50%</th>\n",
              "      <th>75%</th>\n",
              "      <th>max</th>\n",
              "    </tr>\n",
              "  </thead>\n",
              "  <tbody>\n",
              "    <tr>\n",
              "      <th>Visit_id</th>\n",
              "      <td>1645.0</td>\n",
              "      <td>NaN</td>\n",
              "      <td>NaN</td>\n",
              "      <td>NaN</td>\n",
              "      <td>10823.0</td>\n",
              "      <td>475.014912</td>\n",
              "      <td>10001.0</td>\n",
              "      <td>10412.0</td>\n",
              "      <td>10823.0</td>\n",
              "      <td>11234.0</td>\n",
              "      <td>11645.0</td>\n",
              "    </tr>\n",
              "    <tr>\n",
              "      <th>Clinic_location</th>\n",
              "      <td>1645</td>\n",
              "      <td>5</td>\n",
              "      <td>Brentwood</td>\n",
              "      <td>368</td>\n",
              "      <td>NaN</td>\n",
              "      <td>NaN</td>\n",
              "      <td>NaN</td>\n",
              "      <td>NaN</td>\n",
              "      <td>NaN</td>\n",
              "      <td>NaN</td>\n",
              "      <td>NaN</td>\n",
              "    </tr>\n",
              "    <tr>\n",
              "      <th>Department</th>\n",
              "      <td>1645</td>\n",
              "      <td>1</td>\n",
              "      <td>Podiatry</td>\n",
              "      <td>1645</td>\n",
              "      <td>NaN</td>\n",
              "      <td>NaN</td>\n",
              "      <td>NaN</td>\n",
              "      <td>NaN</td>\n",
              "      <td>NaN</td>\n",
              "      <td>NaN</td>\n",
              "      <td>NaN</td>\n",
              "    </tr>\n",
              "    <tr>\n",
              "      <th>Appointment_type</th>\n",
              "      <td>1645</td>\n",
              "      <td>3</td>\n",
              "      <td>Follow-up Visit</td>\n",
              "      <td>1121</td>\n",
              "      <td>NaN</td>\n",
              "      <td>NaN</td>\n",
              "      <td>NaN</td>\n",
              "      <td>NaN</td>\n",
              "      <td>NaN</td>\n",
              "      <td>NaN</td>\n",
              "      <td>NaN</td>\n",
              "    </tr>\n",
              "    <tr>\n",
              "      <th>Appointment_length</th>\n",
              "      <td>1645.0</td>\n",
              "      <td>NaN</td>\n",
              "      <td>NaN</td>\n",
              "      <td>NaN</td>\n",
              "      <td>22.31307</td>\n",
              "      <td>10.391479</td>\n",
              "      <td>15.0</td>\n",
              "      <td>15.0</td>\n",
              "      <td>15.0</td>\n",
              "      <td>30.0</td>\n",
              "      <td>60.0</td>\n",
              "    </tr>\n",
              "    <tr>\n",
              "      <th>Reason</th>\n",
              "      <td>1645</td>\n",
              "      <td>37</td>\n",
              "      <td>Routine foot care</td>\n",
              "      <td>299</td>\n",
              "      <td>NaN</td>\n",
              "      <td>NaN</td>\n",
              "      <td>NaN</td>\n",
              "      <td>NaN</td>\n",
              "      <td>NaN</td>\n",
              "      <td>NaN</td>\n",
              "      <td>NaN</td>\n",
              "    </tr>\n",
              "    <tr>\n",
              "      <th>Insurance</th>\n",
              "      <td>1645</td>\n",
              "      <td>3</td>\n",
              "      <td>Private</td>\n",
              "      <td>1108</td>\n",
              "      <td>NaN</td>\n",
              "      <td>NaN</td>\n",
              "      <td>NaN</td>\n",
              "      <td>NaN</td>\n",
              "      <td>NaN</td>\n",
              "      <td>NaN</td>\n",
              "      <td>NaN</td>\n",
              "    </tr>\n",
              "    <tr>\n",
              "      <th>Visit_status</th>\n",
              "      <td>1645</td>\n",
              "      <td>4</td>\n",
              "      <td>Completed</td>\n",
              "      <td>1471</td>\n",
              "      <td>NaN</td>\n",
              "      <td>NaN</td>\n",
              "      <td>NaN</td>\n",
              "      <td>NaN</td>\n",
              "      <td>NaN</td>\n",
              "      <td>NaN</td>\n",
              "      <td>NaN</td>\n",
              "    </tr>\n",
              "    <tr>\n",
              "      <th>Doctor</th>\n",
              "      <td>1645</td>\n",
              "      <td>5</td>\n",
              "      <td>Doctor 4</td>\n",
              "      <td>368</td>\n",
              "      <td>NaN</td>\n",
              "      <td>NaN</td>\n",
              "      <td>NaN</td>\n",
              "      <td>NaN</td>\n",
              "      <td>NaN</td>\n",
              "      <td>NaN</td>\n",
              "      <td>NaN</td>\n",
              "    </tr>\n",
              "  </tbody>\n",
              "</table>\n",
              "</div>\n",
              "      <button class=\"colab-df-convert\" onclick=\"convertToInteractive('df-60d827fe-b892-480c-b938-b9850e97a975')\"\n",
              "              title=\"Convert this dataframe to an interactive table.\"\n",
              "              style=\"display:none;\">\n",
              "        \n",
              "  <svg xmlns=\"http://www.w3.org/2000/svg\" height=\"24px\"viewBox=\"0 0 24 24\"\n",
              "       width=\"24px\">\n",
              "    <path d=\"M0 0h24v24H0V0z\" fill=\"none\"/>\n",
              "    <path d=\"M18.56 5.44l.94 2.06.94-2.06 2.06-.94-2.06-.94-.94-2.06-.94 2.06-2.06.94zm-11 1L8.5 8.5l.94-2.06 2.06-.94-2.06-.94L8.5 2.5l-.94 2.06-2.06.94zm10 10l.94 2.06.94-2.06 2.06-.94-2.06-.94-.94-2.06-.94 2.06-2.06.94z\"/><path d=\"M17.41 7.96l-1.37-1.37c-.4-.4-.92-.59-1.43-.59-.52 0-1.04.2-1.43.59L10.3 9.45l-7.72 7.72c-.78.78-.78 2.05 0 2.83L4 21.41c.39.39.9.59 1.41.59.51 0 1.02-.2 1.41-.59l7.78-7.78 2.81-2.81c.8-.78.8-2.07 0-2.86zM5.41 20L4 18.59l7.72-7.72 1.47 1.35L5.41 20z\"/>\n",
              "  </svg>\n",
              "      </button>\n",
              "      \n",
              "  <style>\n",
              "    .colab-df-container {\n",
              "      display:flex;\n",
              "      flex-wrap:wrap;\n",
              "      gap: 12px;\n",
              "    }\n",
              "\n",
              "    .colab-df-convert {\n",
              "      background-color: #E8F0FE;\n",
              "      border: none;\n",
              "      border-radius: 50%;\n",
              "      cursor: pointer;\n",
              "      display: none;\n",
              "      fill: #1967D2;\n",
              "      height: 32px;\n",
              "      padding: 0 0 0 0;\n",
              "      width: 32px;\n",
              "    }\n",
              "\n",
              "    .colab-df-convert:hover {\n",
              "      background-color: #E2EBFA;\n",
              "      box-shadow: 0px 1px 2px rgba(60, 64, 67, 0.3), 0px 1px 3px 1px rgba(60, 64, 67, 0.15);\n",
              "      fill: #174EA6;\n",
              "    }\n",
              "\n",
              "    [theme=dark] .colab-df-convert {\n",
              "      background-color: #3B4455;\n",
              "      fill: #D2E3FC;\n",
              "    }\n",
              "\n",
              "    [theme=dark] .colab-df-convert:hover {\n",
              "      background-color: #434B5C;\n",
              "      box-shadow: 0px 1px 3px 1px rgba(0, 0, 0, 0.15);\n",
              "      filter: drop-shadow(0px 1px 2px rgba(0, 0, 0, 0.3));\n",
              "      fill: #FFFFFF;\n",
              "    }\n",
              "  </style>\n",
              "\n",
              "      <script>\n",
              "        const buttonEl =\n",
              "          document.querySelector('#df-60d827fe-b892-480c-b938-b9850e97a975 button.colab-df-convert');\n",
              "        buttonEl.style.display =\n",
              "          google.colab.kernel.accessAllowed ? 'block' : 'none';\n",
              "\n",
              "        async function convertToInteractive(key) {\n",
              "          const element = document.querySelector('#df-60d827fe-b892-480c-b938-b9850e97a975');\n",
              "          const dataTable =\n",
              "            await google.colab.kernel.invokeFunction('convertToInteractive',\n",
              "                                                     [key], {});\n",
              "          if (!dataTable) return;\n",
              "\n",
              "          const docLinkHtml = 'Like what you see? Visit the ' +\n",
              "            '<a target=\"_blank\" href=https://colab.research.google.com/notebooks/data_table.ipynb>data table notebook</a>'\n",
              "            + ' to learn more about interactive tables.';\n",
              "          element.innerHTML = '';\n",
              "          dataTable['output_type'] = 'display_data';\n",
              "          await google.colab.output.renderOutput(dataTable, element);\n",
              "          const docLink = document.createElement('div');\n",
              "          docLink.innerHTML = docLinkHtml;\n",
              "          element.appendChild(docLink);\n",
              "        }\n",
              "      </script>\n",
              "    </div>\n",
              "  </div>\n",
              "  "
            ]
          },
          "metadata": {},
          "execution_count": 107
        }
      ]
    },
    {
      "cell_type": "markdown",
      "source": [
        "> **Clinic visits:** 1645\n",
        "\n",
        "> **Clinic locations:** 5\n",
        "\n",
        "> **Appointment type:** 3\n",
        "\n",
        "> **Appointment length:** 15-60 min\n",
        "\n",
        "> **Insurance:** 3\n",
        "\n",
        "> **Doctors** 5 \n"
      ],
      "metadata": {
        "id": "qooGp4pke1IR"
      }
    },
    {
      "cell_type": "markdown",
      "source": [
        "**Comment:** Each clinic has a single doctor. There is two possibilites: each clinic location has its own doctor or the doctors are interchanges over the clinic locations.\n",
        "\n",
        "\n",
        "\n",
        "\n",
        "\n",
        "\n",
        "\n",
        "\n",
        "\n"
      ],
      "metadata": {
        "id": "y4T_Xetuzn5l"
      }
    },
    {
      "cell_type": "markdown",
      "source": [
        "> **FIRST-LOOK QUESTIONS**:\n",
        "\n",
        "1. Which are the clinical locations of the network?\n",
        "2. Which are the possible appointment types?\n",
        "3. What insurance plans do the patients possess?\n",
        "4. What is the most frequent appointment length?"
      ],
      "metadata": {
        "id": "eMzpXI6dvSL0"
      }
    },
    {
      "cell_type": "markdown",
      "source": [
        "**1. Which are the clinical locations of the network?**"
      ],
      "metadata": {
        "id": "cvQcmlv_yF26"
      }
    },
    {
      "cell_type": "code",
      "source": [
        "clinic_locations = data['Clinic_location'].drop_duplicates().value_counts().sum()\n",
        "print(f'Number of clinic locations: {clinic_locations}\\n')\n",
        "data['Clinic_location'].drop_duplicates()"
      ],
      "metadata": {
        "colab": {
          "base_uri": "https://localhost:8080/"
        },
        "id": "L9vZLnTtx23-",
        "outputId": "e4decee5-dbf4-467b-8b38-faf707bdd8d5"
      },
      "execution_count": null,
      "outputs": [
        {
          "output_type": "stream",
          "name": "stdout",
          "text": [
            "Number of clinic locations: 5\n",
            "\n"
          ]
        },
        {
          "output_type": "execute_result",
          "data": {
            "text/plain": [
              "0       Marina Del Rey\n",
              "326        Culver City\n",
              "634       Santa Monica\n",
              "953          Brentwood\n",
              "1321            Venice\n",
              "Name: Clinic_location, dtype: object"
            ]
          },
          "metadata": {},
          "execution_count": 108
        }
      ]
    },
    {
      "cell_type": "markdown",
      "source": [
        "**2. Which are the possible appointment types?**"
      ],
      "metadata": {
        "id": "N-QOmjTOyON7"
      }
    },
    {
      "cell_type": "code",
      "source": [
        "data['Appointment_type'].drop_duplicates()"
      ],
      "metadata": {
        "colab": {
          "base_uri": "https://localhost:8080/"
        },
        "id": "_on4waG9yXbV",
        "outputId": "43d335b5-92b4-4374-f0a1-0373c6e974c9"
      },
      "execution_count": null,
      "outputs": [
        {
          "output_type": "execute_result",
          "data": {
            "text/plain": [
              "0         New Patient\n",
              "1     Follow-up Visit\n",
              "33          Procedure\n",
              "Name: Appointment_type, dtype: object"
            ]
          },
          "metadata": {},
          "execution_count": 109
        }
      ]
    },
    {
      "cell_type": "code",
      "source": [
        "data['Appointment_type'].value_counts()/len(data['Appointment_type'])*100"
      ],
      "metadata": {
        "colab": {
          "base_uri": "https://localhost:8080/"
        },
        "id": "tzg4HmppzeWi",
        "outputId": "e0e158df-dbee-465c-9775-a3ba3bcc7f6d"
      },
      "execution_count": null,
      "outputs": [
        {
          "output_type": "execute_result",
          "data": {
            "text/plain": [
              "Follow-up Visit    68.145897\n",
              "New Patient        28.024316\n",
              "Procedure           3.829787\n",
              "Name: Appointment_type, dtype: float64"
            ]
          },
          "metadata": {},
          "execution_count": 110
        }
      ]
    },
    {
      "cell_type": "markdown",
      "source": [
        "Visualizing the results"
      ],
      "metadata": {
        "id": "ZTPprhP2ykEt"
      }
    },
    {
      "cell_type": "code",
      "source": [
        "sns.catplot(kind='count',y='Appointment_type', data=data, \n",
        "            order = data['Appointment_type'].value_counts().index)"
      ],
      "metadata": {
        "colab": {
          "base_uri": "https://localhost:8080/",
          "height": 386
        },
        "id": "NrYwtHdKyjVL",
        "outputId": "7cb5ecef-68f8-4b47-d2b8-b45f4fec88ae"
      },
      "execution_count": null,
      "outputs": [
        {
          "output_type": "execute_result",
          "data": {
            "text/plain": [
              "<seaborn.axisgrid.FacetGrid at 0x7f681d73add0>"
            ]
          },
          "metadata": {},
          "execution_count": 111
        },
        {
          "output_type": "display_data",
          "data": {
            "text/plain": [
              "<Figure size 360x360 with 1 Axes>"
            ],
            "image/png": "[encoded data removed]"
          },
          "metadata": {}
        }
      ]
    },
    {
      "cell_type": "markdown",
      "source": [
        "**3. What insurance plans do the patients possess?**"
      ],
      "metadata": {
        "id": "Jx-AS2hiyZ4M"
      }
    },
    {
      "cell_type": "code",
      "source": [
        "data['Insurance'].value_counts()/len(data['Insurance'])*100"
      ],
      "metadata": {
        "colab": {
          "base_uri": "https://localhost:8080/"
        },
        "id": "M0Vtz6wcycaE",
        "outputId": "438a0cdd-5967-49e2-ebac-9a0af9056bd2"
      },
      "execution_count": null,
      "outputs": [
        {
          "output_type": "execute_result",
          "data": {
            "text/plain": [
              "Private     67.355623\n",
              "Medicare    30.638298\n",
              "Cash pay     2.006079\n",
              "Name: Insurance, dtype: float64"
            ]
          },
          "metadata": {},
          "execution_count": 112
        }
      ]
    },
    {
      "cell_type": "markdown",
      "source": [
        "**4. What is the most frequent appointment length?**"
      ],
      "metadata": {
        "id": "IfejY1y16-R5"
      }
    },
    {
      "cell_type": "code",
      "source": [
        "data['Appointment_length'].value_counts()/len(data['Appointment_length'])*100"
      ],
      "metadata": {
        "colab": {
          "base_uri": "https://localhost:8080/"
        },
        "id": "DB2HBNA37Bp-",
        "outputId": "e551e01f-61ca-43b8-d451-759c911be5ad"
      },
      "execution_count": null,
      "outputs": [
        {
          "output_type": "execute_result",
          "data": {
            "text/plain": [
              "15    58.905775\n",
              "30    37.264438\n",
              "60     3.829787\n",
              "Name: Appointment_length, dtype: float64"
            ]
          },
          "metadata": {},
          "execution_count": 113
        }
      ]
    },
    {
      "cell_type": "markdown",
      "source": [
        "**Comment** 97.2% of clinical visits fall within 15-30 min lenght. Also, a larger part of appointments length fall within 15 min."
      ],
      "metadata": {
        "id": "qFVe28Tx7Ulf"
      }
    },
    {
      "cell_type": "markdown",
      "source": [
        "> **BUSINESS QUESTIONS**:\n",
        "\n",
        "1. What is the percentage of \"canceled\" and \"no-show\" appointments of the clinical network?\n",
        "2. What is the impact of missed appointments on the business for the clinical network?"
      ],
      "metadata": {
        "id": "ZjrWK60Qz9Z4"
      }
    },
    {
      "cell_type": "markdown",
      "source": [
        "**1. What is the percentage of \"canceled\" and \"no-show\" appointments of the clinical network?**"
      ],
      "metadata": {
        "id": "UbnHkwK1xJiX"
      }
    },
    {
      "cell_type": "code",
      "source": [
        "failed_appointments = data.query('Visit_status == \"Cancelled\" | Visit_status == \"No-Show\"')\n",
        "all_appointments = len(data['Visit_status'])\n",
        "missed_appointments = (len(failed_appointments)/all_appointments) * 100\n",
        "print(f'Missed appointments (%): {missed_appointments}')"
      ],
      "metadata": {
        "colab": {
          "base_uri": "https://localhost:8080/"
        },
        "id": "pEbKkrMPwgVj",
        "outputId": "19e9ce48-a5a0-4f87-d0d1-d8935ca0e0c6"
      },
      "execution_count": null,
      "outputs": [
        {
          "output_type": "stream",
          "name": "stdout",
          "text": [
            "Missed appointments (%): 7.841945288753799\n"
          ]
        }
      ]
    },
    {
      "cell_type": "code",
      "source": [
        "names = ['Sucessfull (92.%)', 'Missed (7.8%)']\n",
        "values = [\n",
        "  (all_appointments-len(failed_appointments)),\n",
        "  len(failed_appointments)\n",
        "]\n",
        "\n",
        "# Create a circle at the center of the plot\n",
        "my_circle = plt.Circle( (0,0), 0.7, color='white')\n",
        "\n",
        "# Custom wedges\n",
        "plt.pie(values, labels=names, wedgeprops = { 'linewidth' : 5, 'edgecolor' : 'white'},\n",
        "        colors = ['#140b34', '#f6d746'])\n",
        "p = plt.gcf()\n",
        "p.gca().add_artist(my_circle)\n",
        "plt.show()"
      ],
      "metadata": {
        "colab": {
          "base_uri": "https://localhost:8080/",
          "height": 248
        },
        "id": "pgOZLGxf0Twk",
        "outputId": "8433765b-a01e-4080-b9a8-9817ab833c20"
      },
      "execution_count": null,
      "outputs": [
        {
          "output_type": "display_data",
          "data": {
            "text/plain": [
              "<Figure size 432x288 with 1 Axes>"
            ],
            "image/png": "[encoded data removed]"
          },
          "metadata": {}
        }
      ]
    },
    {
      "cell_type": "markdown",
      "source": [
        "**2. What is the impact of missed appointments on the business for the clinical network?**\n",
        "\n",
        "Let's suppose the mean charge of a clinical visit is $60.00. Thus, the financial impact of missed appointments are:"
      ],
      "metadata": {
        "id": "ekB3II4HBZ6V"
      }
    },
    {
      "cell_type": "code",
      "source": [
        "succesful_appointments = data.query('Visit_status != \"Cancelled\" | Visit_status != \"No-Show\"')"
      ],
      "metadata": {
        "id": "tkh7QjFnCA8a"
      },
      "execution_count": null,
      "outputs": []
    },
    {
      "cell_type": "markdown",
      "source": [
        "**Financial Impact ($)**\n",
        "\n",
        "Let's consider a hypothetical decreaseing on missed appointments by 2%:"
      ],
      "metadata": {
        "id": "VljDZlRfFwBL"
      }
    },
    {
      "cell_type": "code",
      "source": [
        "impact_today = (missed_appointments/100)*all_appointments*(-60)\n",
        "\n",
        "# supposing we could decrease the % of missed appointments by 2%\n",
        "better_scenario = ( (missed_appointments-2) / 100)*all_appointments*(-60)\n",
        "difference = abs(impact_today) - abs(better_scenario)\n",
        "\n",
        "print(f'Today: ${impact_today}')\n",
        "print(f'Better scenario: ${better_scenario}')\n",
        "print(f'Difference: ${difference}')"
      ],
      "metadata": {
        "colab": {
          "base_uri": "https://localhost:8080/"
        },
        "id": "gim-ZwqMBiAW",
        "outputId": "150ef2a3-90ca-4360-a18f-fccbfb9d63b8"
      },
      "execution_count": null,
      "outputs": [
        {
          "output_type": "stream",
          "name": "stdout",
          "text": [
            "Today: $-7740.0\n",
            "Better scenario: $-5765.999999999999\n",
            "Difference: $1974.000000000001\n"
          ]
        }
      ]
    },
    {
      "cell_type": "markdown",
      "source": [
        "**Reduction (%)**"
      ],
      "metadata": {
        "id": "ArJ3IWQJFsbZ"
      }
    },
    {
      "cell_type": "code",
      "source": [
        "1-better_scenario/impact_today"
      ],
      "metadata": {
        "colab": {
          "base_uri": "https://localhost:8080/"
        },
        "id": "DQlmSRMjFfhG",
        "outputId": "46fd08d0-2c49-4839-8963-ac34dfea4c67"
      },
      "execution_count": null,
      "outputs": [
        {
          "output_type": "execute_result",
          "data": {
            "text/plain": [
              "0.2550387596899226"
            ]
          },
          "metadata": {},
          "execution_count": 118
        }
      ]
    },
    {
      "cell_type": "markdown",
      "source": [
        "**Comment:** decreasing the missed appointments by 2% would represent a 25% decrease on Clinical Network costs."
      ],
      "metadata": {
        "id": "3QSrW-v605IL"
      }
    },
    {
      "cell_type": "markdown",
      "source": [
        "## **Hypothesis testing**"
      ],
      "metadata": {
        "id": "DFV88j_Eu8D5"
      }
    },
    {
      "cell_type": "markdown",
      "source": [
        "### **Hypothesis 1:** All clinic locations are similar regarding missed appointments\n",
        "\n",
        "FALSE"
      ],
      "metadata": {
        "id": "HDOoK7aomo62"
      }
    },
    {
      "cell_type": "code",
      "source": [
        "interesting_data = data.query('Visit_status != \"Completed\" & Visit_status != \"Rescheduled\"')\n",
        "canceled = data.query('Visit_status == \"Cancelled\"')\n",
        "not_show = data.query('Visit_status == \"No-Show\"')"
      ],
      "metadata": {
        "id": "-Y9wVHLTmue1"
      },
      "execution_count": null,
      "outputs": []
    },
    {
      "cell_type": "code",
      "source": [
        "canceled.groupby('Clinic_location')['Visit_status'].value_counts()/len(canceled)*100"
      ],
      "metadata": {
        "colab": {
          "base_uri": "https://localhost:8080/"
        },
        "id": "KmA5r5eVo1ML",
        "outputId": "631e9c04-24c8-4482-b76f-50228c2a392f"
      },
      "execution_count": null,
      "outputs": [
        {
          "output_type": "execute_result",
          "data": {
            "text/plain": [
              "Clinic_location  Visit_status\n",
              "Brentwood        Cancelled       18.604651\n",
              "Culver City      Cancelled       18.604651\n",
              "Marina Del Rey   Cancelled       25.581395\n",
              "Santa Monica     Cancelled        9.302326\n",
              "Venice           Cancelled       27.906977\n",
              "Name: Visit_status, dtype: float64"
            ]
          },
          "metadata": {},
          "execution_count": 120
        }
      ]
    },
    {
      "cell_type": "code",
      "source": [
        "not_show.groupby('Clinic_location')['Visit_status'].value_counts()/len(not_show)*100"
      ],
      "metadata": {
        "colab": {
          "base_uri": "https://localhost:8080/"
        },
        "id": "wlMa2N9Co0va",
        "outputId": "f7126e07-1cfb-4c3f-91fc-85d18e59816e"
      },
      "execution_count": null,
      "outputs": [
        {
          "output_type": "execute_result",
          "data": {
            "text/plain": [
              "Clinic_location  Visit_status\n",
              "Brentwood        No-Show         17.441860\n",
              "Culver City      No-Show         22.093023\n",
              "Marina Del Rey   No-Show         29.069767\n",
              "Santa Monica     No-Show         16.279070\n",
              "Venice           No-Show         15.116279\n",
              "Name: Visit_status, dtype: float64"
            ]
          },
          "metadata": {},
          "execution_count": 121
        }
      ]
    },
    {
      "cell_type": "code",
      "source": [
        "total_missed_by_location = pd.DataFrame({\n",
        "  'Location': [\n",
        "      'Brentwood', \n",
        "      'Culver City',\n",
        "      'Marina Del Rey',\n",
        "      'Santa Monica',\n",
        "      'Venice'\n",
        "  ],\n",
        "    'Missed': [\n",
        "       18.6+17.4,\n",
        "       18.6+22.1,\n",
        "       25.6+29.1,\n",
        "       9.3+16.3,\n",
        "       27.9+15.1\n",
        "  ]\n",
        "})"
      ],
      "metadata": {
        "id": "VLfbqy_VUi9A"
      },
      "execution_count": null,
      "outputs": []
    },
    {
      "cell_type": "code",
      "source": [
        "total_missed_by_location = total_missed_by_location.sort_values(by='Missed', ascending=False)"
      ],
      "metadata": {
        "id": "C3x_q7uHVa_D"
      },
      "execution_count": null,
      "outputs": []
    },
    {
      "cell_type": "code",
      "source": [
        "total_missed_by_location"
      ],
      "metadata": {
        "colab": {
          "base_uri": "https://localhost:8080/",
          "height": 206
        },
        "id": "Qa5gtr3-XhoA",
        "outputId": "8c083c7d-b81b-4ce6-ad8b-346440017460"
      },
      "execution_count": null,
      "outputs": [
        {
          "output_type": "execute_result",
          "data": {
            "text/plain": [
              "         Location  Missed\n",
              "2  Marina Del Rey    54.7\n",
              "4          Venice    43.0\n",
              "1     Culver City    40.7\n",
              "0       Brentwood    36.0\n",
              "3    Santa Monica    25.6"
            ],
            "text/html": [
              "\n",
              "  <div id=\"df-5de958ac-1652-415b-a5f9-622711b6fb71\">\n",
              "    <div class=\"colab-df-container\">\n",
              "      <div>\n",
              "<style scoped>\n",
              "    .dataframe tbody tr th:only-of-type {\n",
              "        vertical-align: middle;\n",
              "    }\n",
              "\n",
              "    .dataframe tbody tr th {\n",
              "        vertical-align: top;\n",
              "    }\n",
              "\n",
              "    .dataframe thead th {\n",
              "        text-align: right;\n",
              "    }\n",
              "</style>\n",
              "<table border=\"1\" class=\"dataframe\">\n",
              "  <thead>\n",
              "    <tr style=\"text-align: right;\">\n",
              "      <th></th>\n",
              "      <th>Location</th>\n",
              "      <th>Missed</th>\n",
              "    </tr>\n",
              "  </thead>\n",
              "  <tbody>\n",
              "    <tr>\n",
              "      <th>2</th>\n",
              "      <td>Marina Del Rey</td>\n",
              "      <td>54.7</td>\n",
              "    </tr>\n",
              "    <tr>\n",
              "      <th>4</th>\n",
              "      <td>Venice</td>\n",
              "      <td>43.0</td>\n",
              "    </tr>\n",
              "    <tr>\n",
              "      <th>1</th>\n",
              "      <td>Culver City</td>\n",
              "      <td>40.7</td>\n",
              "    </tr>\n",
              "    <tr>\n",
              "      <th>0</th>\n",
              "      <td>Brentwood</td>\n",
              "      <td>36.0</td>\n",
              "    </tr>\n",
              "    <tr>\n",
              "      <th>3</th>\n",
              "      <td>Santa Monica</td>\n",
              "      <td>25.6</td>\n",
              "    </tr>\n",
              "  </tbody>\n",
              "</table>\n",
              "</div>\n",
              "      <button class=\"colab-df-convert\" onclick=\"convertToInteractive('df-5de958ac-1652-415b-a5f9-622711b6fb71')\"\n",
              "              title=\"Convert this dataframe to an interactive table.\"\n",
              "              style=\"display:none;\">\n",
              "        \n",
              "  <svg xmlns=\"http://www.w3.org/2000/svg\" height=\"24px\"viewBox=\"0 0 24 24\"\n",
              "       width=\"24px\">\n",
              "    <path d=\"M0 0h24v24H0V0z\" fill=\"none\"/>\n",
              "    <path d=\"M18.56 5.44l.94 2.06.94-2.06 2.06-.94-2.06-.94-.94-2.06-.94 2.06-2.06.94zm-11 1L8.5 8.5l.94-2.06 2.06-.94-2.06-.94L8.5 2.5l-.94 2.06-2.06.94zm10 10l.94 2.06.94-2.06 2.06-.94-2.06-.94-.94-2.06-.94 2.06-2.06.94z\"/><path d=\"M17.41 7.96l-1.37-1.37c-.4-.4-.92-.59-1.43-.59-.52 0-1.04.2-1.43.59L10.3 9.45l-7.72 7.72c-.78.78-.78 2.05 0 2.83L4 21.41c.39.39.9.59 1.41.59.51 0 1.02-.2 1.41-.59l7.78-7.78 2.81-2.81c.8-.78.8-2.07 0-2.86zM5.41 20L4 18.59l7.72-7.72 1.47 1.35L5.41 20z\"/>\n",
              "  </svg>\n",
              "      </button>\n",
              "      \n",
              "  <style>\n",
              "    .colab-df-container {\n",
              "      display:flex;\n",
              "      flex-wrap:wrap;\n",
              "      gap: 12px;\n",
              "    }\n",
              "\n",
              "    .colab-df-convert {\n",
              "      background-color: #E8F0FE;\n",
              "      border: none;\n",
              "      border-radius: 50%;\n",
              "      cursor: pointer;\n",
              "      display: none;\n",
              "      fill: #1967D2;\n",
              "      height: 32px;\n",
              "      padding: 0 0 0 0;\n",
              "      width: 32px;\n",
              "    }\n",
              "\n",
              "    .colab-df-convert:hover {\n",
              "      background-color: #E2EBFA;\n",
              "      box-shadow: 0px 1px 2px rgba(60, 64, 67, 0.3), 0px 1px 3px 1px rgba(60, 64, 67, 0.15);\n",
              "      fill: #174EA6;\n",
              "    }\n",
              "\n",
              "    [theme=dark] .colab-df-convert {\n",
              "      background-color: #3B4455;\n",
              "      fill: #D2E3FC;\n",
              "    }\n",
              "\n",
              "    [theme=dark] .colab-df-convert:hover {\n",
              "      background-color: #434B5C;\n",
              "      box-shadow: 0px 1px 3px 1px rgba(0, 0, 0, 0.15);\n",
              "      filter: drop-shadow(0px 1px 2px rgba(0, 0, 0, 0.3));\n",
              "      fill: #FFFFFF;\n",
              "    }\n",
              "  </style>\n",
              "\n",
              "      <script>\n",
              "        const buttonEl =\n",
              "          document.querySelector('#df-5de958ac-1652-415b-a5f9-622711b6fb71 button.colab-df-convert');\n",
              "        buttonEl.style.display =\n",
              "          google.colab.kernel.accessAllowed ? 'block' : 'none';\n",
              "\n",
              "        async function convertToInteractive(key) {\n",
              "          const element = document.querySelector('#df-5de958ac-1652-415b-a5f9-622711b6fb71');\n",
              "          const dataTable =\n",
              "            await google.colab.kernel.invokeFunction('convertToInteractive',\n",
              "                                                     [key], {});\n",
              "          if (!dataTable) return;\n",
              "\n",
              "          const docLinkHtml = 'Like what you see? Visit the ' +\n",
              "            '<a target=\"_blank\" href=https://colab.research.google.com/notebooks/data_table.ipynb>data table notebook</a>'\n",
              "            + ' to learn more about interactive tables.';\n",
              "          element.innerHTML = '';\n",
              "          dataTable['output_type'] = 'display_data';\n",
              "          await google.colab.output.renderOutput(dataTable, element);\n",
              "          const docLink = document.createElement('div');\n",
              "          docLink.innerHTML = docLinkHtml;\n",
              "          element.appendChild(docLink);\n",
              "        }\n",
              "      </script>\n",
              "    </div>\n",
              "  </div>\n",
              "  "
            ]
          },
          "metadata": {},
          "execution_count": 124
        }
      ]
    },
    {
      "cell_type": "markdown",
      "source": [
        "**Comment:** the problem is happening in all clinic locations. Morevoer, Marina Del Rey is the more problematic clinic location regarding missed appointments, while Santa Monica is the less problematic one."
      ],
      "metadata": {
        "id": "mAYNa8NUuScp"
      }
    },
    {
      "cell_type": "code",
      "source": [
        "sns.set_style('darkgrid')\n",
        "plt.figure(figsize=(8,4))\n",
        "sns.barplot(y='Missed', \n",
        "              x='Location',\n",
        "              data=total_missed_by_location,\n",
        "              palette='inferno_r')\n",
        "plt.xticks(weight='bold')\n",
        "plt.yticks(weight='bold')\n",
        "plt.xlabel('')\n",
        "plt.ylabel('# Appointments missed', weight='bold')\n",
        "plt.title('Missed appointments by location',weight='bold',size=16)\n",
        "plt.tight_layout()\n",
        "plt.savefig('missed_by_location.png', dpi=600)"
      ],
      "metadata": {
        "colab": {
          "base_uri": "https://localhost:8080/",
          "height": 297
        },
        "id": "yRna4xnLgyAw",
        "outputId": "05124503-2980-41ad-a5ad-5e87e8585e58"
      },
      "execution_count": null,
      "outputs": [
        {
          "output_type": "display_data",
          "data": {
            "text/plain": [
              "<Figure size 576x288 with 1 Axes>"
            ],
            "image/png": "[encoded data removed]"
          },
          "metadata": {}
        }
      ]
    },
    {
      "cell_type": "markdown",
      "source": [
        "**Comment:** Clinics of Marina Del Rey and Culver City are the locations where there are more patients that did not appear. Clinics of Venice and Marine Del Rey have a great amount of canceled appointments. However, some locations could have more appointments scheduled. Thus, it is interesting to standardize the missed appointments to scheduled appointments. "
      ],
      "metadata": {
        "id": "ioyrNj54lVXn"
      }
    },
    {
      "cell_type": "code",
      "source": [
        "total_visits_by_location = data.groupby('Clinic_location')['Visit_id'].sum().sort_values(ascending=False)\n",
        "total_visits_by_location"
      ],
      "metadata": {
        "colab": {
          "base_uri": "https://localhost:8080/"
        },
        "id": "OUhhwJWYT2Vn",
        "outputId": "4f03f055-9f75-4f80-cbdc-40eb6e164067"
      },
      "execution_count": null,
      "outputs": [
        {
          "output_type": "execute_result",
          "data": {
            "text/plain": [
              "Clinic_location\n",
              "Brentwood         4098600\n",
              "Venice            3720654\n",
              "Santa Monica      3443286\n",
              "Marina Del Rey    3313301\n",
              "Culver City       3227994\n",
              "Name: Visit_id, dtype: int64"
            ]
          },
          "metadata": {},
          "execution_count": 127
        }
      ]
    },
    {
      "cell_type": "code",
      "source": [
        "std_missed_appointments = pd.DataFrame({\n",
        "    'Location': ['Brentwood',\n",
        "                 'Venice',\n",
        "                 'Santa Monica',\n",
        "                 'Marina Del Rey',\n",
        "                 'Culver City'          \n",
        "    ],\n",
        "    'Missed_standardized': [\n",
        "        total_missed_by_location.iloc[0,1] / total_visits_by_location[0]*100,\n",
        "        total_missed_by_location.iloc[4,1] / total_visits_by_location[1]*100,\n",
        "        total_missed_by_location.iloc[3,1] / total_visits_by_location[2]*100,\n",
        "        total_missed_by_location.iloc[2,1] / total_visits_by_location[3]*100,\n",
        "        total_missed_by_location.iloc[1,1] / total_visits_by_location[4]*100                            \n",
        "    ]\n",
        "})"
      ],
      "metadata": {
        "id": "0XPXOKp1WBbC"
      },
      "execution_count": null,
      "outputs": []
    },
    {
      "cell_type": "code",
      "source": [
        "sns.set_style('darkgrid')\n",
        "plt.figure(figsize=(8,4))\n",
        "sns.barplot(y='Missed_standardized', \n",
        "            x='Location',\n",
        "            data=std_missed_appointments,\n",
        "            palette='inferno_r',\n",
        "            order=['Brentwood', \n",
        "                   'Culver City',\n",
        "                   'Marina Del Rey',\n",
        "                   'Santa Monica',\n",
        "                   'Venice'])\n",
        "plt.xticks(weight='bold')\n",
        "plt.yticks([], weight='bold')\n",
        "plt.xlabel('')\n",
        "plt.ylabel('# Appointments missed (a.u.)', weight='bold')\n",
        "plt.title('Missed appointments by location (standardized)',weight='bold',size=16)\n",
        "plt.tight_layout()\n",
        "plt.savefig('missed_by_location_STD.png', dpi=600)"
      ],
      "metadata": {
        "colab": {
          "base_uri": "https://localhost:8080/",
          "height": 297
        },
        "id": "qtNZ7snCYwQf",
        "outputId": "c197a87f-d39e-484b-af60-53494c4efffb"
      },
      "execution_count": null,
      "outputs": [
        {
          "output_type": "display_data",
          "data": {
            "text/plain": [
              "<Figure size 576x288 with 1 Axes>"
            ],
            "image/png": "[encoded data removed]"
          },
          "metadata": {}
        }
      ]
    },
    {
      "cell_type": "markdown",
      "source": [
        "**Comment:** If we look at missed apointments without considering the scheduled appointments, it could result in misinterpretations. As we can see, Venice is the second location with more appointments, however, it is the location with lowest number of missed appointments."
      ],
      "metadata": {
        "id": "3XM2tVLe3WPm"
      }
    },
    {
      "cell_type": "markdown",
      "source": [
        "### **Hypothesis 2:** The insurance interferes on missed appointments.\n",
        "\n",
        "FALSE"
      ],
      "metadata": {
        "id": "xNVL0xz8vBAi"
      }
    },
    {
      "cell_type": "code",
      "source": [
        "!pip install pywaffle"
      ],
      "metadata": {
        "id": "qp925KU5xj7a",
        "colab": {
          "base_uri": "https://localhost:8080/"
        },
        "outputId": "2e086db1-f682-493e-ef6f-41ccfa852651"
      },
      "execution_count": null,
      "outputs": [
        {
          "output_type": "stream",
          "name": "stdout",
          "text": [
            "Looking in indexes: https://pypi.org/simple, https://us-python.pkg.dev/colab-wheels/public/simple/\n",
            "Requirement already satisfied: pywaffle in /usr/local/lib/python3.7/dist-packages (1.1.0)\n",
            "Requirement already satisfied: matplotlib in /usr/local/lib/python3.7/dist-packages (from pywaffle) (3.2.2)\n",
            "Requirement already satisfied: fontawesomefree in /usr/local/lib/python3.7/dist-packages (from pywaffle) (6.1.1)\n",
            "Requirement already satisfied: python-dateutil>=2.1 in /usr/local/lib/python3.7/dist-packages (from matplotlib->pywaffle) (2.8.2)\n",
            "Requirement already satisfied: pyparsing!=2.0.4,!=2.1.2,!=2.1.6,>=2.0.1 in /usr/local/lib/python3.7/dist-packages (from matplotlib->pywaffle) (3.0.9)\n",
            "Requirement already satisfied: kiwisolver>=1.0.1 in /usr/local/lib/python3.7/dist-packages (from matplotlib->pywaffle) (1.4.3)\n",
            "Requirement already satisfied: numpy>=1.11 in /usr/local/lib/python3.7/dist-packages (from matplotlib->pywaffle) (1.21.6)\n",
            "Requirement already satisfied: cycler>=0.10 in /usr/local/lib/python3.7/dist-packages (from matplotlib->pywaffle) (0.11.0)\n",
            "Requirement already satisfied: typing-extensions in /usr/local/lib/python3.7/dist-packages (from kiwisolver>=1.0.1->matplotlib->pywaffle) (4.1.1)\n",
            "Requirement already satisfied: six>=1.5 in /usr/local/lib/python3.7/dist-packages (from python-dateutil>=2.1->matplotlib->pywaffle) (1.15.0)\n"
          ]
        }
      ]
    },
    {
      "cell_type": "code",
      "source": [
        "from pywaffle import Waffle"
      ],
      "metadata": {
        "id": "_Ru7ZydGxgBP"
      },
      "execution_count": null,
      "outputs": []
    },
    {
      "cell_type": "code",
      "source": [
        "data.groupby('Insurance')['Visit_status'].value_counts()\n",
        "sns.catplot(kind='count', y='Insurance', data=data,\n",
        "            order = ['Private', 'Medicare', 'Cash pay'],\n",
        "            palette='inferno_r')\n",
        "plt.xlabel('Cont');\n",
        "plt.tight_layout()\n",
        "plt.savefig('Insurances.png', dpi=900)"
      ],
      "metadata": {
        "colab": {
          "base_uri": "https://localhost:8080/",
          "height": 369
        },
        "id": "RJGCkflyIaE_",
        "outputId": "d9840d5b-eeef-4ae2-b254-1a096e023568"
      },
      "execution_count": null,
      "outputs": [
        {
          "output_type": "display_data",
          "data": {
            "text/plain": [
              "<Figure size 360x360 with 1 Axes>"
            ],
            "image/png": "[encoded data removed]"
          },
          "metadata": {}
        }
      ]
    },
    {
      "cell_type": "code",
      "source": [
        "canceled.groupby('Insurance')['Visit_status'].value_counts()"
      ],
      "metadata": {
        "id": "_kZ0Addjwtwu",
        "colab": {
          "base_uri": "https://localhost:8080/"
        },
        "outputId": "cf9babd1-6d3c-4953-8b08-c073f319789a"
      },
      "execution_count": null,
      "outputs": [
        {
          "output_type": "execute_result",
          "data": {
            "text/plain": [
              "Insurance  Visit_status\n",
              "Cash pay   Cancelled        2\n",
              "Medicare   Cancelled       23\n",
              "Private    Cancelled       18\n",
              "Name: Visit_status, dtype: int64"
            ]
          },
          "metadata": {},
          "execution_count": 132
        }
      ]
    },
    {
      "cell_type": "code",
      "source": [
        "canceled_df = pd.DataFrame({\n",
        "    'Insurance': ['Cash pay', 'Medicare', 'Private'],\n",
        "    'cancelled': [2, 23, 18]\n",
        "})"
      ],
      "metadata": {
        "id": "zruk4M02yBs_"
      },
      "execution_count": null,
      "outputs": []
    },
    {
      "cell_type": "code",
      "source": [
        "fig = plt.figure(\n",
        "    FigureClass=Waffle, \n",
        "    rows=2,\n",
        "    columns=10,\n",
        "    values=canceled_df.cancelled,\n",
        "    labels=list(canceled_df.Insurance),\n",
        "    figsize=(8, 5),\n",
        "    legend={'loc': 'upper left', 'bbox_to_anchor': (1., 1)},\n",
        "    colors = ['#84206b', '#f6d746','#140b34']\n",
        ")\n",
        "plt.title('Canceled appointments', weight='bold', size=15);\n",
        "plt.tight_layout()\n",
        "plt.savefig('Canceled_appointments.png', dpi=900)"
      ],
      "metadata": {
        "id": "83yJYNP8yXv2",
        "colab": {
          "base_uri": "https://localhost:8080/",
          "height": 136
        },
        "outputId": "edf1fbab-ddce-4917-813f-425ab62d439b"
      },
      "execution_count": null,
      "outputs": [
        {
          "output_type": "display_data",
          "data": {
            "text/plain": [
              "<Waffle size 576x360 with 1 Axes>"
            ],
            "image/png": "[encoded data removed]"
          },
          "metadata": {}
        }
      ]
    },
    {
      "cell_type": "code",
      "source": [
        "not_show.groupby('Insurance')['Visit_status'].value_counts()"
      ],
      "metadata": {
        "id": "itytFsGbaqOg",
        "colab": {
          "base_uri": "https://localhost:8080/"
        },
        "outputId": "fb8b9522-5cb5-43a2-b3c9-baf9692818ba"
      },
      "execution_count": null,
      "outputs": [
        {
          "output_type": "execute_result",
          "data": {
            "text/plain": [
              "Insurance  Visit_status\n",
              "Cash pay   No-Show         17\n",
              "Medicare   No-Show         32\n",
              "Private    No-Show         37\n",
              "Name: Visit_status, dtype: int64"
            ]
          },
          "metadata": {},
          "execution_count": 135
        }
      ]
    },
    {
      "cell_type": "code",
      "source": [
        "not_show_df = pd.DataFrame({\n",
        "    'Insurance': ['Cash pay', 'Medicare', 'Private'],\n",
        "    'no_show': [17, 32, 37]\n",
        "})"
      ],
      "metadata": {
        "id": "lVxRQwh0bjsm"
      },
      "execution_count": null,
      "outputs": []
    },
    {
      "cell_type": "code",
      "source": [
        "fig = plt.figure(\n",
        "    FigureClass=Waffle, \n",
        "    rows=2,\n",
        "    columns=10,\n",
        "    values=not_show_df.no_show,\n",
        "    labels=list(not_show_df.Insurance),\n",
        "    figsize=(8, 5),\n",
        "    legend={'loc': 'upper left', 'bbox_to_anchor': (1., 1)},\n",
        "    colors = ['#84206b', '#f6d746','#140b34']\n",
        ")\n",
        "plt.title('No-Show appointments', weight='bold', size=15);"
      ],
      "metadata": {
        "id": "8Bg1lRK1b-l_",
        "colab": {
          "base_uri": "https://localhost:8080/",
          "height": 136
        },
        "outputId": "96865553-8493-44a0-9773-6b195b972b01"
      },
      "execution_count": null,
      "outputs": [
        {
          "output_type": "display_data",
          "data": {
            "text/plain": [
              "<Waffle size 576x360 with 1 Axes>"
            ],
            "image/png": "[encoded data removed]"
          },
          "metadata": {}
        }
      ]
    },
    {
      "cell_type": "code",
      "source": [
        "total_missed_df = pd.DataFrame({\n",
        "    'Insurance': ['Cash pay', 'Medicare', 'Private'],\n",
        "    'Missed': [19, 32+23, 18+37]\n",
        "})"
      ],
      "metadata": {
        "id": "UuoVpx59YCqk"
      },
      "execution_count": null,
      "outputs": []
    },
    {
      "cell_type": "code",
      "source": [
        "fig = plt.figure(\n",
        "    FigureClass=Waffle, \n",
        "    rows=2,\n",
        "    columns=10,\n",
        "    values=total_missed_df.Missed,\n",
        "    labels=list(not_show_df.Insurance),\n",
        "    figsize=(8, 5),\n",
        "    legend={'loc': 'upper left', 'bbox_to_anchor': (1., 1)},\n",
        "    colors = ['#84206b', '#f6d746','#140b34']\n",
        ")\n",
        "plt.title('Missed appointments', weight='bold', size=15);\n",
        "plt.savefig('m.PNG', dpi=900)"
      ],
      "metadata": {
        "id": "NQQ4OAvDYbeT",
        "colab": {
          "base_uri": "https://localhost:8080/",
          "height": 136
        },
        "outputId": "d12e5741-c65b-4dbd-cd0c-d3e958d00b15"
      },
      "execution_count": null,
      "outputs": [
        {
          "output_type": "display_data",
          "data": {
            "text/plain": [
              "<Waffle size 576x360 with 1 Axes>"
            ],
            "image/png": "[encoded data removed]"
          },
          "metadata": {}
        }
      ]
    },
    {
      "cell_type": "markdown",
      "source": [
        "**Comment:** as we can see, the missed appointments seem to be proportional to the amount of patients of the three insurance types.In other words, `canceled` or `no-show`appointments are proportional to the percentage of patients with each insurance."
      ],
      "metadata": {
        "id": "kgJo28A55K_t"
      }
    },
    {
      "cell_type": "markdown",
      "source": [
        "### **Hypothesis 3:** There is a relationship between the appointment reason and missed appointments.\n",
        "\n",
        "TRUE"
      ],
      "metadata": {
        "id": "IQ3LWc3EfR77"
      }
    },
    {
      "cell_type": "code",
      "source": [
        "canceled.groupby('Reason')['Visit_status'].value_counts().sort_values(ascending=False)"
      ],
      "metadata": {
        "id": "WhpGJZOJfbGe",
        "colab": {
          "base_uri": "https://localhost:8080/"
        },
        "outputId": "d03e215a-fdff-4ba1-f48c-a2e24b5b7c00"
      },
      "execution_count": null,
      "outputs": [
        {
          "output_type": "execute_result",
          "data": {
            "text/plain": [
              "Reason             Visit_status\n",
              "Routine foot care  Cancelled       15\n",
              "Ingrown toenail    Cancelled        7\n",
              "Plantar fasciitis  Cancelled        7\n",
              "Achilles tendon    Cancelled        5\n",
              "Wound care         Cancelled        5\n",
              "Calluses           Cancelled        4\n",
              "Name: Visit_status, dtype: int64"
            ]
          },
          "metadata": {},
          "execution_count": 208
        }
      ]
    },
    {
      "cell_type": "code",
      "source": [
        "not_show.groupby('Reason')['Visit_status'].value_counts().sort_values(ascending=False)"
      ],
      "metadata": {
        "id": "TgICsiEGf3XC",
        "colab": {
          "base_uri": "https://localhost:8080/"
        },
        "outputId": "dc2cee11-4837-4dba-8954-ea681f8d4bee"
      },
      "execution_count": null,
      "outputs": [
        {
          "output_type": "execute_result",
          "data": {
            "text/plain": [
              "Reason             Visit_status\n",
              "Routine foot care  No-Show         24\n",
              "Plantar fasciitis  No-Show         11\n",
              "Ingrown toenail    No-Show         10\n",
              "Achilles tendon    No-Show          7\n",
              "Nail care          No-Show          6\n",
              "Injection          No-Show          5\n",
              "Wound care         No-Show          5\n",
              "Ankle sprain       No-Show          4\n",
              "Rash               No-Show          3\n",
              "Foot pain          No-Show          2\n",
              "Wound              No-Show          2\n",
              "Heel pain          No-Show          1\n",
              "Flat feet          No-Show          1\n",
              "Calluses           No-Show          1\n",
              "Plantar warts      No-Show          1\n",
              "Big toe pain       No-Show          1\n",
              "Surgical consult   No-Show          1\n",
              "Toe pain           No-Show          1\n",
              "Name: Visit_status, dtype: int64"
            ]
          },
          "metadata": {},
          "execution_count": 207
        }
      ]
    },
    {
      "cell_type": "markdown",
      "source": [
        "**Comment:** The reason for appointments seems to interfere on missed appointments. Routine foot care seems to present a higher tendency for missed appointments (including `canceled` or `no-show` ones)"
      ],
      "metadata": {
        "id": "PLvweYY7gPhu"
      }
    },
    {
      "cell_type": "markdown",
      "source": [
        "### **Hypothesis 4:** The missed appointments depend on appointment length.\n",
        "\n",
        "TRUE"
      ],
      "metadata": {
        "id": "TWY98tzohAVL"
      }
    },
    {
      "cell_type": "code",
      "source": [
        "interesting_data.groupby('Appointment_length')['Visit_status'].value_counts()"
      ],
      "metadata": {
        "id": "O1sMLH9LhJoH",
        "colab": {
          "base_uri": "https://localhost:8080/"
        },
        "outputId": "532a1d48-d895-49c2-9aef-5256eb949442"
      },
      "execution_count": null,
      "outputs": [
        {
          "output_type": "execute_result",
          "data": {
            "text/plain": [
              "Appointment_length  Visit_status\n",
              "15                  No-Show         58\n",
              "                    Cancelled       27\n",
              "30                  No-Show         22\n",
              "                    Cancelled       12\n",
              "60                  No-Show          6\n",
              "                    Cancelled        4\n",
              "Name: Visit_status, dtype: int64"
            ]
          },
          "metadata": {},
          "execution_count": 142
        }
      ]
    },
    {
      "cell_type": "markdown",
      "source": [
        "**Comment:** 15 Minute appointments seem to have higher `no-show`cases and considerable `canceled` ones. 30 Minute appointments also have a considerable number of \"No-Show\". Hence, it is possible that some patients would not like to dislocate considerable distances to have a 15-min clinical visit."
      ],
      "metadata": {
        "id": "l7DKiAHEhn9w"
      }
    },
    {
      "cell_type": "markdown",
      "source": [
        "### **Hypothesis 5:** There are doctors who are more problematic regarding missed appointments.\n",
        "\n",
        "TRUE\n"
      ],
      "metadata": {
        "id": "VsefixBQ_PNV"
      }
    },
    {
      "cell_type": "code",
      "source": [
        "total_visits_doc = data.groupby('Doctor')['Visit_status'].value_counts()\n",
        "total_visits_doc1 = total_visits_doc[0]+total_visits_doc[1]+total_visits_doc[2]+total_visits_doc[3]\n",
        "total_visits_doc2 = total_visits_doc[4]+total_visits_doc[5]+total_visits_doc[6]+total_visits_doc[7]\n",
        "total_visits_doc3 = total_visits_doc[8]+total_visits_doc[9]+total_visits_doc[10]+total_visits_doc[11]\n",
        "total_visits_doc4 = total_visits_doc[12]+total_visits_doc[13]+total_visits_doc[14]+total_visits_doc[15]\n",
        "total_visits_doc5 = total_visits_doc[16]+total_visits_doc[17]+total_visits_doc[18]+total_visits_doc[19]"
      ],
      "metadata": {
        "id": "ZuVeZZVH6joW"
      },
      "execution_count": null,
      "outputs": []
    },
    {
      "cell_type": "code",
      "source": [
        "not_show_doc = not_show.groupby('Doctor')['Visit_status'].value_counts() "
      ],
      "metadata": {
        "id": "e8SNhvSm_y3R"
      },
      "execution_count": null,
      "outputs": []
    },
    {
      "cell_type": "code",
      "source": [
        "canceled_doc = canceled.groupby('Doctor')['Visit_status'].value_counts()"
      ],
      "metadata": {
        "id": "wTOeNFWPAJGF"
      },
      "execution_count": null,
      "outputs": []
    },
    {
      "cell_type": "code",
      "source": [
        "missed_doc_std = pd.DataFrame(\n",
        "    {'Doctor': ['Doctor 1',\n",
        "               'Doctor 2',\n",
        "               'Doctor 3',\n",
        "               'Doctor 4',\n",
        "               'Doctor 5'],\n",
        "    'Missed_std': [\n",
        "       (not_show_doc[0] + canceled_doc[0])/total_visits_doc1 * 100,\n",
        "       (not_show_doc[1] + canceled_doc[1])/total_visits_doc2 * 100,\n",
        "       (not_show_doc[2] + canceled_doc[2])/total_visits_doc3 * 100,\n",
        "       (not_show_doc[3] + canceled_doc[3])/total_visits_doc4 * 100,\n",
        "       (not_show_doc[4] + canceled_doc[4])/total_visits_doc5 * 100]\n",
        "    }\n",
        ")\n",
        "\n",
        "missed_doc_std = missed_doc_std.sort_values('Missed_std', ascending=False)\n",
        "missed_doc_std"
      ],
      "metadata": {
        "colab": {
          "base_uri": "https://localhost:8080/",
          "height": 206
        },
        "id": "eYdEmq4_8s1q",
        "outputId": "1b850cc7-5017-4c6e-fed5-675f432b257b"
      },
      "execution_count": null,
      "outputs": [
        {
          "output_type": "execute_result",
          "data": {
            "text/plain": [
              "     Doctor  Missed_std\n",
              "0  Doctor 1   11.042945\n",
              "1  Doctor 2    8.766234\n",
              "4  Doctor 5    7.716049\n",
              "3  Doctor 4    6.250000\n",
              "2  Doctor 3    5.642633"
            ],
            "text/html": [
              "\n",
              "  <div id=\"df-9e113a3a-ae0c-4e72-9d14-dd902d55e31c\">\n",
              "    <div class=\"colab-df-container\">\n",
              "      <div>\n",
              "<style scoped>\n",
              "    .dataframe tbody tr th:only-of-type {\n",
              "        vertical-align: middle;\n",
              "    }\n",
              "\n",
              "    .dataframe tbody tr th {\n",
              "        vertical-align: top;\n",
              "    }\n",
              "\n",
              "    .dataframe thead th {\n",
              "        text-align: right;\n",
              "    }\n",
              "</style>\n",
              "<table border=\"1\" class=\"dataframe\">\n",
              "  <thead>\n",
              "    <tr style=\"text-align: right;\">\n",
              "      <th></th>\n",
              "      <th>Doctor</th>\n",
              "      <th>Missed_std</th>\n",
              "    </tr>\n",
              "  </thead>\n",
              "  <tbody>\n",
              "    <tr>\n",
              "      <th>0</th>\n",
              "      <td>Doctor 1</td>\n",
              "      <td>11.042945</td>\n",
              "    </tr>\n",
              "    <tr>\n",
              "      <th>1</th>\n",
              "      <td>Doctor 2</td>\n",
              "      <td>8.766234</td>\n",
              "    </tr>\n",
              "    <tr>\n",
              "      <th>4</th>\n",
              "      <td>Doctor 5</td>\n",
              "      <td>7.716049</td>\n",
              "    </tr>\n",
              "    <tr>\n",
              "      <th>3</th>\n",
              "      <td>Doctor 4</td>\n",
              "      <td>6.250000</td>\n",
              "    </tr>\n",
              "    <tr>\n",
              "      <th>2</th>\n",
              "      <td>Doctor 3</td>\n",
              "      <td>5.642633</td>\n",
              "    </tr>\n",
              "  </tbody>\n",
              "</table>\n",
              "</div>\n",
              "      <button class=\"colab-df-convert\" onclick=\"convertToInteractive('df-9e113a3a-ae0c-4e72-9d14-dd902d55e31c')\"\n",
              "              title=\"Convert this dataframe to an interactive table.\"\n",
              "              style=\"display:none;\">\n",
              "        \n",
              "  <svg xmlns=\"http://www.w3.org/2000/svg\" height=\"24px\"viewBox=\"0 0 24 24\"\n",
              "       width=\"24px\">\n",
              "    <path d=\"M0 0h24v24H0V0z\" fill=\"none\"/>\n",
              "    <path d=\"M18.56 5.44l.94 2.06.94-2.06 2.06-.94-2.06-.94-.94-2.06-.94 2.06-2.06.94zm-11 1L8.5 8.5l.94-2.06 2.06-.94-2.06-.94L8.5 2.5l-.94 2.06-2.06.94zm10 10l.94 2.06.94-2.06 2.06-.94-2.06-.94-.94-2.06-.94 2.06-2.06.94z\"/><path d=\"M17.41 7.96l-1.37-1.37c-.4-.4-.92-.59-1.43-.59-.52 0-1.04.2-1.43.59L10.3 9.45l-7.72 7.72c-.78.78-.78 2.05 0 2.83L4 21.41c.39.39.9.59 1.41.59.51 0 1.02-.2 1.41-.59l7.78-7.78 2.81-2.81c.8-.78.8-2.07 0-2.86zM5.41 20L4 18.59l7.72-7.72 1.47 1.35L5.41 20z\"/>\n",
              "  </svg>\n",
              "      </button>\n",
              "      \n",
              "  <style>\n",
              "    .colab-df-container {\n",
              "      display:flex;\n",
              "      flex-wrap:wrap;\n",
              "      gap: 12px;\n",
              "    }\n",
              "\n",
              "    .colab-df-convert {\n",
              "      background-color: #E8F0FE;\n",
              "      border: none;\n",
              "      border-radius: 50%;\n",
              "      cursor: pointer;\n",
              "      display: none;\n",
              "      fill: #1967D2;\n",
              "      height: 32px;\n",
              "      padding: 0 0 0 0;\n",
              "      width: 32px;\n",
              "    }\n",
              "\n",
              "    .colab-df-convert:hover {\n",
              "      background-color: #E2EBFA;\n",
              "      box-shadow: 0px 1px 2px rgba(60, 64, 67, 0.3), 0px 1px 3px 1px rgba(60, 64, 67, 0.15);\n",
              "      fill: #174EA6;\n",
              "    }\n",
              "\n",
              "    [theme=dark] .colab-df-convert {\n",
              "      background-color: #3B4455;\n",
              "      fill: #D2E3FC;\n",
              "    }\n",
              "\n",
              "    [theme=dark] .colab-df-convert:hover {\n",
              "      background-color: #434B5C;\n",
              "      box-shadow: 0px 1px 3px 1px rgba(0, 0, 0, 0.15);\n",
              "      filter: drop-shadow(0px 1px 2px rgba(0, 0, 0, 0.3));\n",
              "      fill: #FFFFFF;\n",
              "    }\n",
              "  </style>\n",
              "\n",
              "      <script>\n",
              "        const buttonEl =\n",
              "          document.querySelector('#df-9e113a3a-ae0c-4e72-9d14-dd902d55e31c button.colab-df-convert');\n",
              "        buttonEl.style.display =\n",
              "          google.colab.kernel.accessAllowed ? 'block' : 'none';\n",
              "\n",
              "        async function convertToInteractive(key) {\n",
              "          const element = document.querySelector('#df-9e113a3a-ae0c-4e72-9d14-dd902d55e31c');\n",
              "          const dataTable =\n",
              "            await google.colab.kernel.invokeFunction('convertToInteractive',\n",
              "                                                     [key], {});\n",
              "          if (!dataTable) return;\n",
              "\n",
              "          const docLinkHtml = 'Like what you see? Visit the ' +\n",
              "            '<a target=\"_blank\" href=https://colab.research.google.com/notebooks/data_table.ipynb>data table notebook</a>'\n",
              "            + ' to learn more about interactive tables.';\n",
              "          element.innerHTML = '';\n",
              "          dataTable['output_type'] = 'display_data';\n",
              "          await google.colab.output.renderOutput(dataTable, element);\n",
              "          const docLink = document.createElement('div');\n",
              "          docLink.innerHTML = docLinkHtml;\n",
              "          element.appendChild(docLink);\n",
              "        }\n",
              "      </script>\n",
              "    </div>\n",
              "  </div>\n",
              "  "
            ]
          },
          "metadata": {},
          "execution_count": 209
        }
      ]
    },
    {
      "cell_type": "markdown",
      "source": [
        "**Comment:** the doctors seem to have a similar rate of missed appointments (standardized to all scheduled appointments each one received). However, *Doctor 1* is more problematic than the others concerning the rate of missed appointments. It is interesting to check it if he could be considered an `outlier` before making any decision that might affect his confidence."
      ],
      "metadata": {
        "id": "gQDsiwWX-o-K"
      }
    },
    {
      "cell_type": "markdown",
      "source": [
        "**Checking for descriptive statistics**"
      ],
      "metadata": {
        "id": "PCMQTGBp_SbB"
      }
    },
    {
      "cell_type": "code",
      "source": [
        "missed_doc_std.describe().T"
      ],
      "metadata": {
        "colab": {
          "base_uri": "https://localhost:8080/",
          "height": 81
        },
        "id": "_o3Bd7po-Rkd",
        "outputId": "a303dfd2-91f0-44a7-d485-b2ed55aa5064"
      },
      "execution_count": null,
      "outputs": [
        {
          "output_type": "execute_result",
          "data": {
            "text/plain": [
              "            count      mean       std       min   25%       50%       75%  \\\n",
              "Missed_std    5.0  7.883572  2.149369  5.642633  6.25  7.716049  8.766234   \n",
              "\n",
              "                  max  \n",
              "Missed_std  11.042945  "
            ],
            "text/html": [
              "\n",
              "  <div id=\"df-50a02ae1-7123-453f-bcc8-2298bbe74d1c\">\n",
              "    <div class=\"colab-df-container\">\n",
              "      <div>\n",
              "<style scoped>\n",
              "    .dataframe tbody tr th:only-of-type {\n",
              "        vertical-align: middle;\n",
              "    }\n",
              "\n",
              "    .dataframe tbody tr th {\n",
              "        vertical-align: top;\n",
              "    }\n",
              "\n",
              "    .dataframe thead th {\n",
              "        text-align: right;\n",
              "    }\n",
              "</style>\n",
              "<table border=\"1\" class=\"dataframe\">\n",
              "  <thead>\n",
              "    <tr style=\"text-align: right;\">\n",
              "      <th></th>\n",
              "      <th>count</th>\n",
              "      <th>mean</th>\n",
              "      <th>std</th>\n",
              "      <th>min</th>\n",
              "      <th>25%</th>\n",
              "      <th>50%</th>\n",
              "      <th>75%</th>\n",
              "      <th>max</th>\n",
              "    </tr>\n",
              "  </thead>\n",
              "  <tbody>\n",
              "    <tr>\n",
              "      <th>Missed_std</th>\n",
              "      <td>5.0</td>\n",
              "      <td>7.883572</td>\n",
              "      <td>2.149369</td>\n",
              "      <td>5.642633</td>\n",
              "      <td>6.25</td>\n",
              "      <td>7.716049</td>\n",
              "      <td>8.766234</td>\n",
              "      <td>11.042945</td>\n",
              "    </tr>\n",
              "  </tbody>\n",
              "</table>\n",
              "</div>\n",
              "      <button class=\"colab-df-convert\" onclick=\"convertToInteractive('df-50a02ae1-7123-453f-bcc8-2298bbe74d1c')\"\n",
              "              title=\"Convert this dataframe to an interactive table.\"\n",
              "              style=\"display:none;\">\n",
              "        \n",
              "  <svg xmlns=\"http://www.w3.org/2000/svg\" height=\"24px\"viewBox=\"0 0 24 24\"\n",
              "       width=\"24px\">\n",
              "    <path d=\"M0 0h24v24H0V0z\" fill=\"none\"/>\n",
              "    <path d=\"M18.56 5.44l.94 2.06.94-2.06 2.06-.94-2.06-.94-.94-2.06-.94 2.06-2.06.94zm-11 1L8.5 8.5l.94-2.06 2.06-.94-2.06-.94L8.5 2.5l-.94 2.06-2.06.94zm10 10l.94 2.06.94-2.06 2.06-.94-2.06-.94-.94-2.06-.94 2.06-2.06.94z\"/><path d=\"M17.41 7.96l-1.37-1.37c-.4-.4-.92-.59-1.43-.59-.52 0-1.04.2-1.43.59L10.3 9.45l-7.72 7.72c-.78.78-.78 2.05 0 2.83L4 21.41c.39.39.9.59 1.41.59.51 0 1.02-.2 1.41-.59l7.78-7.78 2.81-2.81c.8-.78.8-2.07 0-2.86zM5.41 20L4 18.59l7.72-7.72 1.47 1.35L5.41 20z\"/>\n",
              "  </svg>\n",
              "      </button>\n",
              "      \n",
              "  <style>\n",
              "    .colab-df-container {\n",
              "      display:flex;\n",
              "      flex-wrap:wrap;\n",
              "      gap: 12px;\n",
              "    }\n",
              "\n",
              "    .colab-df-convert {\n",
              "      background-color: #E8F0FE;\n",
              "      border: none;\n",
              "      border-radius: 50%;\n",
              "      cursor: pointer;\n",
              "      display: none;\n",
              "      fill: #1967D2;\n",
              "      height: 32px;\n",
              "      padding: 0 0 0 0;\n",
              "      width: 32px;\n",
              "    }\n",
              "\n",
              "    .colab-df-convert:hover {\n",
              "      background-color: #E2EBFA;\n",
              "      box-shadow: 0px 1px 2px rgba(60, 64, 67, 0.3), 0px 1px 3px 1px rgba(60, 64, 67, 0.15);\n",
              "      fill: #174EA6;\n",
              "    }\n",
              "\n",
              "    [theme=dark] .colab-df-convert {\n",
              "      background-color: #3B4455;\n",
              "      fill: #D2E3FC;\n",
              "    }\n",
              "\n",
              "    [theme=dark] .colab-df-convert:hover {\n",
              "      background-color: #434B5C;\n",
              "      box-shadow: 0px 1px 3px 1px rgba(0, 0, 0, 0.15);\n",
              "      filter: drop-shadow(0px 1px 2px rgba(0, 0, 0, 0.3));\n",
              "      fill: #FFFFFF;\n",
              "    }\n",
              "  </style>\n",
              "\n",
              "      <script>\n",
              "        const buttonEl =\n",
              "          document.querySelector('#df-50a02ae1-7123-453f-bcc8-2298bbe74d1c button.colab-df-convert');\n",
              "        buttonEl.style.display =\n",
              "          google.colab.kernel.accessAllowed ? 'block' : 'none';\n",
              "\n",
              "        async function convertToInteractive(key) {\n",
              "          const element = document.querySelector('#df-50a02ae1-7123-453f-bcc8-2298bbe74d1c');\n",
              "          const dataTable =\n",
              "            await google.colab.kernel.invokeFunction('convertToInteractive',\n",
              "                                                     [key], {});\n",
              "          if (!dataTable) return;\n",
              "\n",
              "          const docLinkHtml = 'Like what you see? Visit the ' +\n",
              "            '<a target=\"_blank\" href=https://colab.research.google.com/notebooks/data_table.ipynb>data table notebook</a>'\n",
              "            + ' to learn more about interactive tables.';\n",
              "          element.innerHTML = '';\n",
              "          dataTable['output_type'] = 'display_data';\n",
              "          await google.colab.output.renderOutput(dataTable, element);\n",
              "          const docLink = document.createElement('div');\n",
              "          docLink.innerHTML = docLinkHtml;\n",
              "          element.appendChild(docLink);\n",
              "        }\n",
              "      </script>\n",
              "    </div>\n",
              "  </div>\n",
              "  "
            ]
          },
          "metadata": {},
          "execution_count": 187
        }
      ]
    },
    {
      "cell_type": "markdown",
      "source": [
        "**Comment:** The mean rate of missed appointments is **7.9%** of all scheduled appointments, with a standard deviation of **2.1%**. Thus, some care should be taken with doctors who present a rate of missed appointments higher than **10%**."
      ],
      "metadata": {
        "id": "S-qmY0TP_XcU"
      }
    },
    {
      "cell_type": "code",
      "source": [
        "sns.boxplot(y='Missed_std', data=missed_doc_std, width=0.2)\n",
        "plt.title('Missed appointments', weight='bold');\n",
        "plt.ylabel('Rate (%)', weight='bold');\n",
        "plt.tight_layout()\n",
        "plt.savefig('boxplot.png', dpi=900)"
      ],
      "metadata": {
        "colab": {
          "base_uri": "https://localhost:8080/",
          "height": 297
        },
        "id": "eMNauHdW-bwD",
        "outputId": "5603f513-73ed-4002-b2f6-812383a08fcc"
      },
      "execution_count": null,
      "outputs": [
        {
          "output_type": "display_data",
          "data": {
            "text/plain": [
              "<Figure size 432x288 with 1 Axes>"
            ],
            "image/png": "[encoded data removed]"
          },
          "metadata": {}
        }
      ]
    },
    {
      "cell_type": "markdown",
      "source": [
        "**Comment:** as could be seen on Boxplot, Doctor 1 is **not** an `outlier`, which means that such a high rate of missed appointments could happen to any other doctor in the network. Furthermore, no additional and drastic decision should be taken (e.g., demission)."
      ],
      "metadata": {
        "id": "_45vsKTyAIHa"
      }
    },
    {
      "cell_type": "markdown",
      "source": [
        "### **Hypothesis 6:** The rate of missed appointments is dependent the appointment type.\n",
        "\n",
        "TRUE\n"
      ],
      "metadata": {
        "id": "u1TQEkIt4pGB"
      }
    },
    {
      "cell_type": "code",
      "source": [
        "interesting_data.groupby('Appointment_type')['Visit_status'].value_counts()"
      ],
      "metadata": {
        "id": "JICpR-sE4wHR",
        "colab": {
          "base_uri": "https://localhost:8080/"
        },
        "outputId": "ece4ae19-4a01-4d34-b255-4b233628cc05"
      },
      "execution_count": null,
      "outputs": [
        {
          "output_type": "execute_result",
          "data": {
            "text/plain": [
              "Appointment_type  Visit_status\n",
              "Follow-up Visit   No-Show         63\n",
              "                  Cancelled       32\n",
              "New Patient       No-Show         17\n",
              "                  Cancelled        7\n",
              "Procedure         No-Show          6\n",
              "                  Cancelled        4\n",
              "Name: Visit_status, dtype: int64"
            ]
          },
          "metadata": {},
          "execution_count": 234
        }
      ]
    },
    {
      "cell_type": "code",
      "source": [
        "missed_appointment_type = pd.DataFrame(\n",
        "    {'Appointment type': ['Follow-up Visit',\n",
        "                          'New Patient',\n",
        "                          'Procedure'\n",
        "                         ],\n",
        "     'Missed appointments': [63+32,\n",
        "                             17+7,\n",
        "                             6+4]\n",
        "    }\n",
        ")"
      ],
      "metadata": {
        "id": "i5G_yd-LUupH"
      },
      "execution_count": null,
      "outputs": []
    },
    {
      "cell_type": "code",
      "source": [
        "# Create a circle at the center of the plot\n",
        "my_circle = plt.Circle( (0,0), 0.7, color='white')\n",
        "\n",
        "# Custom wedges\n",
        "plt.pie(missed_appointment_type['Missed appointments'], \n",
        "        labels=missed_appointment_type['Appointment type'],         \n",
        "        wedgeprops = { 'linewidth' : 5, 'edgecolor' : 'white'},\n",
        "        colors = ['#140b34', '#f6d746', '#84206b'])\n",
        "p = plt.gcf()\n",
        "p.gca().add_artist(my_circle)\n",
        "plt.show()"
      ],
      "metadata": {
        "colab": {
          "base_uri": "https://localhost:8080/",
          "height": 248
        },
        "id": "aswDqBnkVr7o",
        "outputId": "a439b7ea-02aa-4dd1-8f6e-1a6ffb8cfabc"
      },
      "execution_count": null,
      "outputs": [
        {
          "output_type": "display_data",
          "data": {
            "text/plain": [
              "<Figure size 432x288 with 1 Axes>"
            ],
            "image/png": "[encoded data removed]"
          },
          "metadata": {}
        }
      ]
    },
    {
      "cell_type": "markdown",
      "source": [
        "**Comment:** Follow-up Visit have a significantly higher missed appointment rate than New Patients. As patients might consider Procedures-related visits more impactful in their lives, they might tend to noT miss the appointment."
      ],
      "metadata": {
        "id": "1iQfMs375Xua"
      }
    },
    {
      "cell_type": "markdown",
      "source": [
        "# **Conclusions**\n",
        "\n",
        "By EDA, it was possible to see some key points associated with missed appointments. Hence, by making decisions and conducting experiments on those points, it might be possible to decrease the percentage of missed appointments at the Podiatry Clinical Network.\n",
        "\n",
        "Some findings/suggestions were:\n",
        "* Despite the rate of missed appointments being low for the Clinical Network, a minor decrease at this rate could have a great financial impact on the Network.\n",
        "* The insurance seemed to not interfere with missed appointments.\n",
        "* The Routine foot care-related appointments could be used to design A/B tests and experiments, as clinic visits associated to Routine foot care are the ones with more missed appointments.\n",
        "* Visits with a 15-minute length are higher associated with missed appointments, thus some care should be taken in these cases. For example, the clinic network could provide a closer contact or a free-tax drive service to these patients, as there is the possibility of crossing long distances to get a short clinical visit. To track past patients' history concerning missed appointments could be implemented and used as valuable data.\n",
        "* Doctors did not interfere with missing appointments, thus, this could be exposed to them to maintain their confidence.\n",
        "* The follow-up visits importance should be exposed to patients through a campaign."
      ],
      "metadata": {
        "id": "Ta_GXgs-I1gg"
      }
    }
  ]
}